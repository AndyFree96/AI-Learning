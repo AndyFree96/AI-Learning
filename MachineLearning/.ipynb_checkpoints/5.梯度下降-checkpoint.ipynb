{
 "cells": [
  {
   "cell_type": "markdown",
   "metadata": {},
   "source": [
    "在[回归](3.回归.md)一文中谈到了梯度下降法，忘记的同学可以去回顾一下。\n",
    "\n",
    "也推荐感兴趣的同学看看这个视频:\n",
    "\n",
    "![Gradients and Paritial Derivatives](./Images/5/1.png)\n",
    "\n",
    "**Gradients and Paritial Derivatives:** https://www.youtube.com/watch?v=GkB4vW16QHI\n",
    "\n",
    "本节我们将学习梯度下降法中可以使用的几个技巧：\n",
    "\n",
    "- Tuning your learning rates\n",
    "- Stochastic Gradient Descent \n",
    "- Feature Scaling\n",
    "\n",
    "可以使我们更加方便地训练模型。"
   ]
  },
  {
   "cell_type": "markdown",
   "metadata": {},
   "source": [
    "## Tuning your learning rates"
   ]
  },
  {
   "cell_type": "markdown",
   "metadata": {},
   "source": [
    "[回归](3.回归.md)一文中我们实现了梯度下降算法，主要代码如下所示："
   ]
  },
  {
   "cell_type": "code",
   "execution_count": 2,
   "metadata": {},
   "outputs": [],
   "source": [
    "import numpy as np\n",
    "import pandas as pd\n",
    "import matplotlib.pyplot as plt\n",
    "\n",
    "df = pd.read_csv(\"Codes/3/pokemon.csv\")\n",
    "data = df[['cp', 'cp_new']].values\n",
    "test_size = 0.33\n",
    "epsilon = 0.001\n",
    "\n",
    "\n",
    "def compute_error(b, w, points):\n",
    "    \"\"\"\n",
    "    计算平均损失\n",
    "    \"\"\"\n",
    "    x = points[:, 0]\n",
    "    y = points[:, 1]\n",
    "    return np.mean((y - (w * x + b))**2)\n",
    "\n",
    "\n",
    "def step_gradient(b, w, points, learning_rate):\n",
    "    \"\"\"\n",
    "    计算新的w和b的值\n",
    "    \"\"\"\n",
    "    x = points[:, 0]\n",
    "    y = points[:, 1]\n",
    "    error = y - (w * x + b)\n",
    "    b_gradient = 2 * np.mean(error)\n",
    "    w_gradient = 2 * np.mean(error * (-x))\n",
    "    b_new = b - (learning_rate * b_gradient)\n",
    "    w_new = w - (learning_rate * w_gradient)\n",
    "    return b_new, w_new"
   ]
  },
  {
   "cell_type": "markdown",
   "metadata": {},
   "source": [
    "文中我们将学习速率$\\eta$的值设置为了0.00001，为什么要设置成这个值？别的值不行吗？为了探究一下这个问题，我们可以新增如下函数："
   ]
  },
  {
   "cell_type": "code",
   "execution_count": 9,
   "metadata": {},
   "outputs": [],
   "source": [
    "def train_with_learning_rate(learning_rate, epochs=200):\n",
    "    history = []\n",
    "    w = 0.0\n",
    "    b = 0.0\n",
    "    for i in range(epochs):\n",
    "        train_data_ = data[:-int(0.1 * len(data))]\n",
    "        train_error = compute_error(b, w, train_data_)\n",
    "        history.append(train_error)\n",
    "        if (train_error > epsilon):\n",
    "            b, w = step_gradient(b, w, train_data_, learning_rate)\n",
    "    return history"
   ]
  },
  {
   "cell_type": "markdown",
   "metadata": {},
   "source": [
    "`train_with_learning_rate`函数允许我们设置不同的学习速率，并返回训练过程中的损失。例如："
   ]
  },
  {
   "cell_type": "code",
   "execution_count": 11,
   "metadata": {},
   "outputs": [
    {
     "data": {
      "text/plain": [
       "[112861.39705882352,\n",
       " 10437.800893442514,\n",
       " 4832.378196271827,\n",
       " 4525.609835538308,\n",
       " 4508.825645914743,\n",
       " 4507.911678125248,\n",
       " 4507.866254138058,\n",
       " 4507.868363769758,\n",
       " 4507.873074865442,\n",
       " 4507.87792838308,\n",
       " 4507.882789744494,\n",
       " 4507.887651584507,\n",
       " 4507.892513500035,\n",
       " 4507.8973754690205,\n",
       " 4507.902237490254]"
      ]
     },
     "execution_count": 11,
     "metadata": {},
     "output_type": "execute_result"
    }
   ],
   "source": [
    "train_with_learning_rate(0.00001)[:15]"
   ]
  },
  {
   "cell_type": "markdown",
   "metadata": {},
   "source": [
    "现在我们用3个不同的学习速率，看看效果有什么不同"
   ]
  },
  {
   "cell_type": "code",
   "execution_count": 53,
   "metadata": {},
   "outputs": [],
   "source": [
    "l2 = 0.00001\n",
    "l1 = 0.00005\n",
    "l3 = l2 / 10"
   ]
  },
  {
   "cell_type": "code",
   "execution_count": 55,
   "metadata": {},
   "outputs": [],
   "source": [
    "loss2 = train_with_learning_rate(l2)\n",
    "loss1 = train_with_learning_rate(l1)\n",
    "loss3 = train_with_learning_rate(l3)"
   ]
  },
  {
   "cell_type": "code",
   "execution_count": 56,
   "metadata": {},
   "outputs": [
    {
     "name": "stdout",
     "output_type": "stream",
     "text": [
      "loss2: \n",
      " [112861.39705882352, 10437.800893442514, 4832.378196271827, 4525.609835538308, 4508.825645914743, 4507.911678125248, 4507.866254138058, 4507.868363769758, 4507.873074865442, 4507.87792838308, 4507.882789744494, 4507.887651584507, 4507.892513500035, 4507.8973754690205, 4507.902237490254] \n",
      " [4508.73441096409, 4508.739281968716, 4508.744153025619, 4508.7490241348005, 4508.75389529626, 4508.758766509999, 4508.763637776021, 4508.76850909432, 4508.773380464899, 4508.778251887761, 4508.783123362906, 4508.787994890334, 4508.792866470041, 4508.7977381020355, 4508.802609786311]\n",
      "**************************************************\n",
      "loss1: \n",
      " [112861.39705882352, 872484.9233602845, 6957525.071130448, 55702348.296565615, 446177635.3691414, 3574119020.3958325, 28630806684.24469, 229349912129.3922, 1837230404204.8428, 14717318082273.627, 117894550104413.42, 944406098304267.4, 7565259613362086.0, 6.060226963860344e+16, 4.854605490160453e+17] \n",
      " [1.632593483367345e+172, 1.3078053569312577e+173, 1.047630576161777e+174, 8.392149629088468e+174, 6.722615490570987e+175, 5.385218451946722e+176, 4.3138831628646715e+177, 3.4556793023168935e+178, 2.7682065066712123e+179, 2.217499540087279e+180, 1.7763502103029104e+181, 1.4229631224721688e+182, 1.1398788573174794e+183, 9.131113722062147e+183, 7.314570076459397e+184]\n",
      "**************************************************\n",
      "loss3: \n",
      " [112861.39705882352, 96896.20066020777, 83283.37279274638, 71676.30716361944, 61779.46767612266, 53340.86356648611, 46145.63328062711, 40010.5737251778, 34779.47559799998, 30319.1460275875, 26516.01725083503, 23273.2549802099, 20508.292834323816, 18150.730054217755, 16140.538977559097] \n",
      " [4507.9241174657, 4507.924603692863, 4507.925089920909, 4507.925576149793, 4507.9260623794635, 4507.926548609886, 4507.927034841021, 4507.9275210728465, 4507.928007305331, 4507.928493538462, 4507.928979772217, 4507.929466006579, 4507.92995224154, 4507.930438477084, 4507.930924713202]\n"
     ]
    }
   ],
   "source": [
    "print(\"loss2: \\n\", loss2[:15], \"\\n\", loss2[-15:])\n",
    "print(\"*\" * 50)\n",
    "print(\"loss1: \\n\", loss1[:15], \"\\n\", loss1[-15:])\n",
    "print(\"*\" * 50)\n",
    "print(\"loss3: \\n\", loss3[:15], \"\\n\", loss3[-15:])"
   ]
  },
  {
   "cell_type": "markdown",
   "metadata": {},
   "source": [
    "将不同学习速率的训练误差绘制成图"
   ]
  },
  {
   "cell_type": "code",
   "execution_count": 57,
   "metadata": {},
   "outputs": [
    {
     "data": {
      "text/plain": [
       "<matplotlib.legend.Legend at 0x1eb347e2c40>"
      ]
     },
     "execution_count": 57,
     "metadata": {},
     "output_type": "execute_result"
    },
    {
     "data": {
      "image/png": "[encoded data removed]",
      "text/plain": [
       "<Figure size 432x288 with 1 Axes>"
      ]
     },
     "metadata": {
      "needs_background": "light"
     },
     "output_type": "display_data"
    }
   ],
   "source": [
    "x = np.arange(200) + 1\n",
    "\n",
    "plt.plot(x, loss2, label='l2')\n",
    "plt.plot(x, loss3, label='l3')\n",
    "plt.plot(x, loss1, label='l1')\n",
    "\n",
    "plt.ylim([4000, 1e6])\n",
    "plt.xlim([0, 50])\n",
    "plt.xlabel('epoch')\n",
    "plt.ylabel('loss')\n",
    "plt.legend()"
   ]
  },
  {
   "cell_type": "markdown",
   "metadata": {},
   "source": [
    "从上图可以看到不同的学习速率会使损失的下降速度不同。"
   ]
  },
  {
   "cell_type": "code",
   "execution_count": 62,
   "metadata": {},
   "outputs": [
    {
     "data": {
      "text/plain": [
       "<matplotlib.legend.Legend at 0x1eb34a5bee0>"
      ]
     },
     "execution_count": 62,
     "metadata": {},
     "output_type": "execute_result"
    },
    {
     "data": {
      "image/png": "[encoded data removed]",
      "text/plain": [
       "<Figure size 432x288 with 1 Axes>"
      ]
     },
     "metadata": {
      "needs_background": "light"
     },
     "output_type": "display_data"
    }
   ],
   "source": [
    "plt.plot(x, loss2, label='l2')\n",
    "plt.plot(x, loss3, label='l3')\n",
    "plt.plot(x, loss1, label='l1')\n",
    "\n",
    "plt.xlim([100, 200])\n",
    "plt.xlabel('epoch')\n",
    "plt.ylabel('loss')\n",
    "plt.legend()"
   ]
  },
  {
   "cell_type": "markdown",
   "metadata": {},
   "source": [
    "由此，我们知道必须要小心设置学习速率$\\eta$的值,\n",
    "\n",
    "![](./Images/5/2.png)\n",
    "\n",
    "如果学习速率过小的话，损失的下降的速度非常慢；如果学习速率过大的话，可能会造成损失最后不降反增。\n",
    "\n",
    "这样如果靠我们自己去设置速率的话，就显得很麻烦了，毕竟一开始我们怎么知道学习速率是大还是小。\n",
    "\n",
    "这个时候，我们就可以考虑 **Adaptive Learning Rates**:\n",
    "\n",
    "![](./Images/5/3.png)\n",
    "\n",
    "正如上图所说的，我们不光可以根据当前训练的轮次（epoch）调整学习速率，还可以给不同的参数设置不同的学习速率。"
   ]
  },
  {
   "cell_type": "markdown",
   "metadata": {},
   "source": [
    "**Adagrad**就是一种实现上述想法的梯度下降优化算法。\n",
    "\n",
    "![](./Images/5/4.png)\n"
   ]
  },
  {
   "cell_type": "markdown",
   "metadata": {},
   "source": [
    "具体来说，整个过程如下所示：\n",
    "\n",
    "![](./Images/5/5.png)"
   ]
  },
  {
   "cell_type": "markdown",
   "metadata": {},
   "source": [
    "由于$\\eta^t$和$\\sigma^t$两项都包含$t+1$，我们可以对公式进一步化简。\n",
    "\n",
    "![](./Images/5/7.png)"
   ]
  },
  {
   "cell_type": "markdown",
   "metadata": {},
   "source": [
    "我们对上式的右边部分做进一步的整理：\n",
    "\n",
    "$$\n",
    "\\frac{g^t}{\\sqrt{\\sum_{i=0}^{t}{\\left( g^i\\right)^2}}} = \\frac{1}{\\sqrt{\\frac{\\sum_{i=0}^{t-1}{\\left( g^i\\right)^2}}{g^t} + 1}} \n",
    "$$\n",
    "\n",
    "$\\frac{\\sum_{i=0}^{t-1}{\\left( g^i\\right)^2}}{g^t}$ 可以看成当前梯度平方与之前梯度平方累加和的反差。如果当前梯度平方突然变得很大，而之前的梯度平方都比较小的话，二者的相除会让整个式子变小，\n",
    "$$\\frac{1}{\\sqrt{\\frac{\\sum_{i=0}^{t-1}{\\left( g^i\\right)^2}}{g^t} + 1}}$$式变大，参数更新加大力度，符合我们的直观想法。\n",
    "\n",
    "反之，如果当前梯度平方突然变得很小，而之前的梯度平方都比较大的话，二者的相除会让整个式子变大，\n",
    "$$\\frac{1}{\\sqrt{\\frac{\\sum_{i=0}^{t-1}{\\left( g^i\\right)^2}}{g^t} + 1}}$$式变小，参数更新减小力度，也符合我们的直观想法。\n",
    "\n",
    "![](./Images/5/8.png)"
   ]
  },
  {
   "cell_type": "markdown",
   "metadata": {},
   "source": [
    "## Stochastic Gradient Descent"
   ]
  },
  {
   "cell_type": "markdown",
   "metadata": {},
   "source": [
    "之前我们计算训练损失的时候将所有训练样本的损失相加，如果训练集中的样本量非常大的话，可能会导致耗时非常大或者内存不够等情况。\n",
    "\n",
    "这个时候我们可以考虑使用 **Stochastic Graident Descent**法："
   ]
  },
  {
   "cell_type": "markdown",
   "metadata": {},
   "source": [
    "![](./Images/5/9.png)"
   ]
  },
  {
   "cell_type": "markdown",
   "metadata": {},
   "source": [
    "如上图所示，我们计算训练损失时不再计算整个训练集的损失，而是从训练集选一个样本计算损失再更新参数。\n",
    "\n",
    "![](./Images/5/10.png)"
   ]
  },
  {
   "cell_type": "markdown",
   "metadata": {},
   "source": [
    "## Feature Scaling"
   ]
  },
  {
   "cell_type": "markdown",
   "metadata": {},
   "source": [
    "最后一个技巧就是 **Feature Scaling**。\n",
    "\n",
    "![](./Images/5/11.png)\n",
    "\n",
    "将特征进行缩放，所有的特征都将在类似的尺度下，可以加速训练过程。\n",
    "\n",
    "![](./Images/5/12.png)"
   ]
  },
  {
   "cell_type": "markdown",
   "metadata": {},
   "source": [
    "那么具体该怎么做呢？如下图所示：\n",
    "\n",
    "![](./Images/5/13.png)"
   ]
  },
  {
   "cell_type": "markdown",
   "metadata": {},
   "source": [
    "$x^r$表示样本，$x^r_i$表示样本的第i个特征，$m_i$表示第i个特征的均值，$\\sigma_i$表示第i个特征的标准差。\n",
    "\n",
    "以宝可梦数据为例："
   ]
  },
  {
   "cell_type": "code",
   "execution_count": 65,
   "metadata": {},
   "outputs": [
    {
     "data": {
      "text/html": [
       "<div>\n",
       "<style scoped>\n",
       "    .dataframe tbody tr th:only-of-type {\n",
       "        vertical-align: middle;\n",
       "    }\n",
       "\n",
       "    .dataframe tbody tr th {\n",
       "        vertical-align: top;\n",
       "    }\n",
       "\n",
       "    .dataframe thead th {\n",
       "        text-align: right;\n",
       "    }\n",
       "</style>\n",
       "<table border=\"1\" class=\"dataframe\">\n",
       "  <thead>\n",
       "    <tr style=\"text-align: right;\">\n",
       "      <th></th>\n",
       "      <th>name</th>\n",
       "      <th>species</th>\n",
       "      <th>cp</th>\n",
       "      <th>hp</th>\n",
       "      <th>weight</th>\n",
       "      <th>height</th>\n",
       "      <th>power_up_stardust</th>\n",
       "      <th>power_up_candy</th>\n",
       "      <th>attack_weak</th>\n",
       "      <th>attack_weak_type</th>\n",
       "      <th>...</th>\n",
       "      <th>height_new</th>\n",
       "      <th>power_up_stardust_new</th>\n",
       "      <th>power_up_candy_new</th>\n",
       "      <th>attack_weak_new</th>\n",
       "      <th>attack_weak_type_new</th>\n",
       "      <th>attack_weak_value_new</th>\n",
       "      <th>attack_strong_new</th>\n",
       "      <th>attack_strong_type_new</th>\n",
       "      <th>attack_strong_value_new</th>\n",
       "      <th>notes</th>\n",
       "    </tr>\n",
       "  </thead>\n",
       "  <tbody>\n",
       "    <tr>\n",
       "      <th>0</th>\n",
       "      <td>Pidgey1</td>\n",
       "      <td>Pidgey</td>\n",
       "      <td>384</td>\n",
       "      <td>56</td>\n",
       "      <td>2.31</td>\n",
       "      <td>0.34</td>\n",
       "      <td>2500</td>\n",
       "      <td>2</td>\n",
       "      <td>Tackle</td>\n",
       "      <td>Normal</td>\n",
       "      <td>...</td>\n",
       "      <td>1.24</td>\n",
       "      <td>2500</td>\n",
       "      <td>2</td>\n",
       "      <td>Steel Wing</td>\n",
       "      <td>Steel</td>\n",
       "      <td>15</td>\n",
       "      <td>Air Cutter</td>\n",
       "      <td>Flying</td>\n",
       "      <td>30</td>\n",
       "      <td>NaN</td>\n",
       "    </tr>\n",
       "    <tr>\n",
       "      <th>1</th>\n",
       "      <td>Pidgey2</td>\n",
       "      <td>Pidgey</td>\n",
       "      <td>366</td>\n",
       "      <td>54</td>\n",
       "      <td>1.67</td>\n",
       "      <td>0.29</td>\n",
       "      <td>2500</td>\n",
       "      <td>2</td>\n",
       "      <td>Quick Attack</td>\n",
       "      <td>Normal</td>\n",
       "      <td>...</td>\n",
       "      <td>1.05</td>\n",
       "      <td>2500</td>\n",
       "      <td>2</td>\n",
       "      <td>Wing Attack</td>\n",
       "      <td>Flying</td>\n",
       "      <td>9</td>\n",
       "      <td>Air Cutter</td>\n",
       "      <td>Flying</td>\n",
       "      <td>30</td>\n",
       "      <td>NaN</td>\n",
       "    </tr>\n",
       "    <tr>\n",
       "      <th>2</th>\n",
       "      <td>Pidgey3</td>\n",
       "      <td>Pidgey</td>\n",
       "      <td>353</td>\n",
       "      <td>55</td>\n",
       "      <td>1.94</td>\n",
       "      <td>0.30</td>\n",
       "      <td>3000</td>\n",
       "      <td>3</td>\n",
       "      <td>Quick Attack</td>\n",
       "      <td>Normal</td>\n",
       "      <td>...</td>\n",
       "      <td>1.11</td>\n",
       "      <td>3000</td>\n",
       "      <td>3</td>\n",
       "      <td>Wing Attack</td>\n",
       "      <td>Flying</td>\n",
       "      <td>9</td>\n",
       "      <td>Air Cutter</td>\n",
       "      <td>Flying</td>\n",
       "      <td>30</td>\n",
       "      <td>NaN</td>\n",
       "    </tr>\n",
       "    <tr>\n",
       "      <th>3</th>\n",
       "      <td>Pidgey4</td>\n",
       "      <td>Pidgey</td>\n",
       "      <td>338</td>\n",
       "      <td>51</td>\n",
       "      <td>1.73</td>\n",
       "      <td>0.31</td>\n",
       "      <td>3000</td>\n",
       "      <td>3</td>\n",
       "      <td>Tackle</td>\n",
       "      <td>Normal</td>\n",
       "      <td>...</td>\n",
       "      <td>1.12</td>\n",
       "      <td>3000</td>\n",
       "      <td>3</td>\n",
       "      <td>Steel Wing</td>\n",
       "      <td>Steel</td>\n",
       "      <td>15</td>\n",
       "      <td>Air Cutter</td>\n",
       "      <td>Flying</td>\n",
       "      <td>30</td>\n",
       "      <td>NaN</td>\n",
       "    </tr>\n",
       "    <tr>\n",
       "      <th>4</th>\n",
       "      <td>Pidgey5</td>\n",
       "      <td>Pidgey</td>\n",
       "      <td>242</td>\n",
       "      <td>45</td>\n",
       "      <td>1.44</td>\n",
       "      <td>0.27</td>\n",
       "      <td>1900</td>\n",
       "      <td>2</td>\n",
       "      <td>Quick Attack</td>\n",
       "      <td>Normal</td>\n",
       "      <td>...</td>\n",
       "      <td>0.98</td>\n",
       "      <td>1900</td>\n",
       "      <td>2</td>\n",
       "      <td>Wing Attack</td>\n",
       "      <td>Flying</td>\n",
       "      <td>9</td>\n",
       "      <td>Twister</td>\n",
       "      <td>Dragon</td>\n",
       "      <td>25</td>\n",
       "      <td>NaN</td>\n",
       "    </tr>\n",
       "  </tbody>\n",
       "</table>\n",
       "<p>5 rows × 27 columns</p>\n",
       "</div>"
      ],
      "text/plain": [
       "      name species   cp  hp  weight  height  power_up_stardust  \\\n",
       "0  Pidgey1  Pidgey  384  56    2.31    0.34               2500   \n",
       "1  Pidgey2  Pidgey  366  54    1.67    0.29               2500   \n",
       "2  Pidgey3  Pidgey  353  55    1.94    0.30               3000   \n",
       "3  Pidgey4  Pidgey  338  51    1.73    0.31               3000   \n",
       "4  Pidgey5  Pidgey  242  45    1.44    0.27               1900   \n",
       "\n",
       "   power_up_candy   attack_weak attack_weak_type  ...  height_new  \\\n",
       "0               2        Tackle           Normal  ...        1.24   \n",
       "1               2  Quick Attack           Normal  ...        1.05   \n",
       "2               3  Quick Attack           Normal  ...        1.11   \n",
       "3               3        Tackle           Normal  ...        1.12   \n",
       "4               2  Quick Attack           Normal  ...        0.98   \n",
       "\n",
       "  power_up_stardust_new power_up_candy_new  attack_weak_new  \\\n",
       "0                  2500                  2       Steel Wing   \n",
       "1                  2500                  2      Wing Attack   \n",
       "2                  3000                  3      Wing Attack   \n",
       "3                  3000                  3       Steel Wing   \n",
       "4                  1900                  2      Wing Attack   \n",
       "\n",
       "   attack_weak_type_new  attack_weak_value_new  attack_strong_new  \\\n",
       "0                 Steel                     15         Air Cutter   \n",
       "1                Flying                      9         Air Cutter   \n",
       "2                Flying                      9         Air Cutter   \n",
       "3                 Steel                     15         Air Cutter   \n",
       "4                Flying                      9            Twister   \n",
       "\n",
       "   attack_strong_type_new  attack_strong_value_new  notes  \n",
       "0                  Flying                       30    NaN  \n",
       "1                  Flying                       30    NaN  \n",
       "2                  Flying                       30    NaN  \n",
       "3                  Flying                       30    NaN  \n",
       "4                  Dragon                       25    NaN  \n",
       "\n",
       "[5 rows x 27 columns]"
      ]
     },
     "execution_count": 65,
     "metadata": {},
     "output_type": "execute_result"
    }
   ],
   "source": [
    "df.head()"
   ]
  },
  {
   "cell_type": "code",
   "execution_count": 66,
   "metadata": {},
   "outputs": [],
   "source": [
    "train_data = df[['cp', 'hp', 'weight', 'height']]"
   ]
  },
  {
   "cell_type": "code",
   "execution_count": 68,
   "metadata": {},
   "outputs": [
    {
     "data": {
      "text/html": [
       "<div>\n",
       "<style scoped>\n",
       "    .dataframe tbody tr th:only-of-type {\n",
       "        vertical-align: middle;\n",
       "    }\n",
       "\n",
       "    .dataframe tbody tr th {\n",
       "        vertical-align: top;\n",
       "    }\n",
       "\n",
       "    .dataframe thead th {\n",
       "        text-align: right;\n",
       "    }\n",
       "</style>\n",
       "<table border=\"1\" class=\"dataframe\">\n",
       "  <thead>\n",
       "    <tr style=\"text-align: right;\">\n",
       "      <th></th>\n",
       "      <th>cp</th>\n",
       "      <th>hp</th>\n",
       "      <th>weight</th>\n",
       "      <th>height</th>\n",
       "    </tr>\n",
       "  </thead>\n",
       "  <tbody>\n",
       "    <tr>\n",
       "      <th>0</th>\n",
       "      <td>384</td>\n",
       "      <td>56</td>\n",
       "      <td>2.31</td>\n",
       "      <td>0.34</td>\n",
       "    </tr>\n",
       "    <tr>\n",
       "      <th>1</th>\n",
       "      <td>366</td>\n",
       "      <td>54</td>\n",
       "      <td>1.67</td>\n",
       "      <td>0.29</td>\n",
       "    </tr>\n",
       "    <tr>\n",
       "      <th>2</th>\n",
       "      <td>353</td>\n",
       "      <td>55</td>\n",
       "      <td>1.94</td>\n",
       "      <td>0.30</td>\n",
       "    </tr>\n",
       "    <tr>\n",
       "      <th>3</th>\n",
       "      <td>338</td>\n",
       "      <td>51</td>\n",
       "      <td>1.73</td>\n",
       "      <td>0.31</td>\n",
       "    </tr>\n",
       "    <tr>\n",
       "      <th>4</th>\n",
       "      <td>242</td>\n",
       "      <td>45</td>\n",
       "      <td>1.44</td>\n",
       "      <td>0.27</td>\n",
       "    </tr>\n",
       "    <tr>\n",
       "      <th>...</th>\n",
       "      <td>...</td>\n",
       "      <td>...</td>\n",
       "      <td>...</td>\n",
       "      <td>...</td>\n",
       "    </tr>\n",
       "    <tr>\n",
       "      <th>70</th>\n",
       "      <td>500</td>\n",
       "      <td>64</td>\n",
       "      <td>5.11</td>\n",
       "      <td>0.26</td>\n",
       "    </tr>\n",
       "    <tr>\n",
       "      <th>71</th>\n",
       "      <td>606</td>\n",
       "      <td>74</td>\n",
       "      <td>10.42</td>\n",
       "      <td>0.38</td>\n",
       "    </tr>\n",
       "    <tr>\n",
       "      <th>72</th>\n",
       "      <td>548</td>\n",
       "      <td>66</td>\n",
       "      <td>6.87</td>\n",
       "      <td>0.32</td>\n",
       "    </tr>\n",
       "    <tr>\n",
       "      <th>73</th>\n",
       "      <td>528</td>\n",
       "      <td>66</td>\n",
       "      <td>7.43</td>\n",
       "      <td>0.31</td>\n",
       "    </tr>\n",
       "    <tr>\n",
       "      <th>74</th>\n",
       "      <td>517</td>\n",
       "      <td>72</td>\n",
       "      <td>6.63</td>\n",
       "      <td>0.29</td>\n",
       "    </tr>\n",
       "  </tbody>\n",
       "</table>\n",
       "<p>75 rows × 4 columns</p>\n",
       "</div>"
      ],
      "text/plain": [
       "     cp  hp  weight  height\n",
       "0   384  56    2.31    0.34\n",
       "1   366  54    1.67    0.29\n",
       "2   353  55    1.94    0.30\n",
       "3   338  51    1.73    0.31\n",
       "4   242  45    1.44    0.27\n",
       "..  ...  ..     ...     ...\n",
       "70  500  64    5.11    0.26\n",
       "71  606  74   10.42    0.38\n",
       "72  548  66    6.87    0.32\n",
       "73  528  66    7.43    0.31\n",
       "74  517  72    6.63    0.29\n",
       "\n",
       "[75 rows x 4 columns]"
      ]
     },
     "execution_count": 68,
     "metadata": {},
     "output_type": "execute_result"
    }
   ],
   "source": [
    "train_data"
   ]
  },
  {
   "cell_type": "code",
   "execution_count": 69,
   "metadata": {},
   "outputs": [
    {
     "data": {
      "text/plain": [
       "cp        197.173333\n",
       "hp         40.693333\n",
       "weight      2.750000\n",
       "height      0.301733\n",
       "dtype: float64"
      ]
     },
     "execution_count": 69,
     "metadata": {},
     "output_type": "execute_result"
    }
   ],
   "source": [
    "train_data.mean()"
   ]
  },
  {
   "cell_type": "code",
   "execution_count": 70,
   "metadata": {},
   "outputs": [
    {
     "data": {
      "text/plain": [
       "cp        144.401128\n",
       "hp         15.583232\n",
       "weight      1.612898\n",
       "height      0.035806\n",
       "dtype: float64"
      ]
     },
     "execution_count": 70,
     "metadata": {},
     "output_type": "execute_result"
    }
   ],
   "source": [
    "train_data.std()"
   ]
  },
  {
   "cell_type": "code",
   "execution_count": 71,
   "metadata": {},
   "outputs": [
    {
     "data": {
      "text/html": [
       "<div>\n",
       "<style scoped>\n",
       "    .dataframe tbody tr th:only-of-type {\n",
       "        vertical-align: middle;\n",
       "    }\n",
       "\n",
       "    .dataframe tbody tr th {\n",
       "        vertical-align: top;\n",
       "    }\n",
       "\n",
       "    .dataframe thead th {\n",
       "        text-align: right;\n",
       "    }\n",
       "</style>\n",
       "<table border=\"1\" class=\"dataframe\">\n",
       "  <thead>\n",
       "    <tr style=\"text-align: right;\">\n",
       "      <th></th>\n",
       "      <th>cp</th>\n",
       "      <th>hp</th>\n",
       "      <th>weight</th>\n",
       "      <th>height</th>\n",
       "    </tr>\n",
       "  </thead>\n",
       "  <tbody>\n",
       "    <tr>\n",
       "      <th>0</th>\n",
       "      <td>1.293803</td>\n",
       "      <td>0.982252</td>\n",
       "      <td>-0.272801</td>\n",
       "      <td>1.068714</td>\n",
       "    </tr>\n",
       "    <tr>\n",
       "      <th>1</th>\n",
       "      <td>1.169151</td>\n",
       "      <td>0.853909</td>\n",
       "      <td>-0.669602</td>\n",
       "      <td>-0.327689</td>\n",
       "    </tr>\n",
       "    <tr>\n",
       "      <th>2</th>\n",
       "      <td>1.079124</td>\n",
       "      <td>0.918081</td>\n",
       "      <td>-0.502202</td>\n",
       "      <td>-0.048409</td>\n",
       "    </tr>\n",
       "    <tr>\n",
       "      <th>3</th>\n",
       "      <td>0.975246</td>\n",
       "      <td>0.661395</td>\n",
       "      <td>-0.632402</td>\n",
       "      <td>0.230872</td>\n",
       "    </tr>\n",
       "    <tr>\n",
       "      <th>4</th>\n",
       "      <td>0.310432</td>\n",
       "      <td>0.276365</td>\n",
       "      <td>-0.812203</td>\n",
       "      <td>-0.886250</td>\n",
       "    </tr>\n",
       "    <tr>\n",
       "      <th>...</th>\n",
       "      <td>...</td>\n",
       "      <td>...</td>\n",
       "      <td>...</td>\n",
       "      <td>...</td>\n",
       "    </tr>\n",
       "    <tr>\n",
       "      <th>70</th>\n",
       "      <td>2.097121</td>\n",
       "      <td>1.495625</td>\n",
       "      <td>1.463205</td>\n",
       "      <td>-1.165531</td>\n",
       "    </tr>\n",
       "    <tr>\n",
       "      <th>71</th>\n",
       "      <td>2.831187</td>\n",
       "      <td>2.137340</td>\n",
       "      <td>4.755415</td>\n",
       "      <td>2.185836</td>\n",
       "    </tr>\n",
       "    <tr>\n",
       "      <th>72</th>\n",
       "      <td>2.429529</td>\n",
       "      <td>1.623968</td>\n",
       "      <td>2.554408</td>\n",
       "      <td>0.510153</td>\n",
       "    </tr>\n",
       "    <tr>\n",
       "      <th>73</th>\n",
       "      <td>2.291026</td>\n",
       "      <td>1.623968</td>\n",
       "      <td>2.901609</td>\n",
       "      <td>0.230872</td>\n",
       "    </tr>\n",
       "    <tr>\n",
       "      <th>74</th>\n",
       "      <td>2.214849</td>\n",
       "      <td>2.008997</td>\n",
       "      <td>2.405608</td>\n",
       "      <td>-0.327689</td>\n",
       "    </tr>\n",
       "  </tbody>\n",
       "</table>\n",
       "<p>75 rows × 4 columns</p>\n",
       "</div>"
      ],
      "text/plain": [
       "          cp        hp    weight    height\n",
       "0   1.293803  0.982252 -0.272801  1.068714\n",
       "1   1.169151  0.853909 -0.669602 -0.327689\n",
       "2   1.079124  0.918081 -0.502202 -0.048409\n",
       "3   0.975246  0.661395 -0.632402  0.230872\n",
       "4   0.310432  0.276365 -0.812203 -0.886250\n",
       "..       ...       ...       ...       ...\n",
       "70  2.097121  1.495625  1.463205 -1.165531\n",
       "71  2.831187  2.137340  4.755415  2.185836\n",
       "72  2.429529  1.623968  2.554408  0.510153\n",
       "73  2.291026  1.623968  2.901609  0.230872\n",
       "74  2.214849  2.008997  2.405608 -0.327689\n",
       "\n",
       "[75 rows x 4 columns]"
      ]
     },
     "execution_count": 71,
     "metadata": {},
     "output_type": "execute_result"
    }
   ],
   "source": [
    "(train_data - train_data.mean()) / train_data.std()"
   ]
  },
  {
   "cell_type": "markdown",
   "metadata": {},
   "source": [
    "最后，如果你比较喜欢视频的话，推荐瞅瞅来自[StatQuest with Josh Starmer](https://www.youtube.com/channel/UCtYLUTtgS3k1Fg4y5tAhLbw)频道的以下两个视频：\n",
    "\n",
    "[Gradient Descent, Step-by-Step](https://www.youtube.com/watch?v=sDv4f4s2SB8)\n",
    "\n",
    "[Stochastic Gradient Descent, Clearly Explained!!!](https://www.youtube.com/watch?v=vMh0zPT0tLI)\n",
    "\n",
    "觉得视频不错的话，就订阅一下呗！"
   ]
  },
  {
   "cell_type": "markdown",
   "metadata": {},
   "source": [
    "## 推荐阅读\n",
    "\n",
    "[An overview of gradient descent optimization algorithms](https://ruder.io/optimizing-gradient-descent/index.html)\n",
    "\n",
    "[CSC321 Lecture 7: Optimization](http://www.cs.toronto.edu/~rgrosse/courses/csc321_2017/slides/lec7.pdf)\n",
    "\n",
    "![](./Images/5/14.png)\n",
    "\n",
    "[Why Gradient descent isn’t enough: A comprehensive introduction to optimization algorithms in neural networks](https://towardsdatascience.com/why-gradient-descent-isnt-enough-a-comprehensive-introduction-to-optimization-algorithms-in-59670fd5c096)\n"
   ]
  }
 ],
 "metadata": {
  "kernelspec": {
   "display_name": "Python 3",
   "language": "python",
   "name": "python3"
  },
  "language_info": {
   "codemirror_mode": {
    "name": "ipython",
    "version": 3
   },
   "file_extension": ".py",
   "mimetype": "text/x-python",
   "name": "python",
   "nbconvert_exporter": "python",
   "pygments_lexer": "ipython3",
   "version": "3.8.2"
  }
 },
 "nbformat": 4,
 "nbformat_minor": 4
}
