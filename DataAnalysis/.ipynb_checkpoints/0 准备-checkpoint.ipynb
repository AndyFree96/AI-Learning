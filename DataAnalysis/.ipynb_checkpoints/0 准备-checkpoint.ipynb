{
 "cells": [
  {
   "cell_type": "markdown",
   "metadata": {},
   "source": [
    "## 学习资料"
   ]
  },
  {
   "cell_type": "markdown",
   "metadata": {},
   "source": [
    "以下系列内容来自[數據分析那些事](https://allaboutdataanalysis.medium.com/):"
   ]
  },
  {
   "cell_type": "markdown",
   "metadata": {},
   "source": [
    "1. [學習計劃｜帶你10週入門資料分析](https://medium.com/%E6%95%B8%E6%93%9A%E5%88%86%E6%9E%90%E4%B8%8D%E6%98%AF%E5%80%8B%E4%BA%8B/%E5%AD%B8%E7%BF%92%E8%A8%88%E5%8A%83-%E5%B8%B6%E4%BD%A010%E5%91%A8%E5%85%A5%E9%96%80%E8%B3%87%E6%96%99%E5%88%86%E6%9E%90-66a48503e1b2)\n",
    "2. [4招教你煉就資料分析的思維](https://medium.com/%E6%95%B8%E6%93%9A%E5%88%86%E6%9E%90%E4%B8%8D%E6%98%AF%E5%80%8B%E4%BA%8B/4%E6%8B%9B%E6%95%99%E4%BD%A0%E7%85%89%E5%B0%B1%E8%B3%87%E6%96%99%E5%88%86%E6%9E%90%E7%9A%84%E6%80%9D%E7%B6%AD-107aa67a897a)\n",
    "3. [數據分析慣用的5種思維方法](https://medium.com/%E6%95%B8%E6%93%9A%E5%88%86%E6%9E%90%E4%B8%8D%E6%98%AF%E5%80%8B%E4%BA%8B/%E6%95%B8%E6%93%9A%E5%88%86%E6%9E%90%E6%85%A3%E7%94%A8%E7%9A%845%E7%A8%AE%E6%80%9D%E7%B6%AD%E6%96%B9%E6%B3%95-ae5e823a3a3f)\n",
    "4. [資料分析必備的43个Excel函式，史上最全！](https://medium.com/%E6%95%B8%E6%93%9A%E5%88%86%E6%9E%90%E4%B8%8D%E6%98%AF%E5%80%8B%E4%BA%8B/%E8%B3%87%E6%96%99%E5%88%86%E6%9E%90%E5%BF%85%E5%82%99%E7%9A%8443%E4%B8%AAexcel%E5%87%BD%E5%BC%8F-%E5%8F%B2%E4%B8%8A%E6%9C%80%E5%85%A8-2675b59f3068)\n",
    "5. [實戰：如何用Excel做一次完整的資料分析](https://medium.com/%E6%95%B8%E6%93%9A%E5%88%86%E6%9E%90%E4%B8%8D%E6%98%AF%E5%80%8B%E4%BA%8B/%E5%AF%A6%E6%93%8D-%E5%A6%82%E4%BD%95%E7%94%A8excel%E5%81%9A%E4%B8%80%E6%AC%A1%E5%AE%8C%E6%95%B4%E7%9A%84%E8%B3%87%E6%96%99%E5%88%86%E6%9E%90-d8fe411dbabf)\n",
    "6. [寫給新人的資料庫入門指南](https://medium.com/%E6%95%B8%E6%93%9A%E5%88%86%E6%9E%90%E4%B8%8D%E6%98%AF%E5%80%8B%E4%BA%8B/%E5%AF%AB%E7%B5%A6%E6%96%B0%E4%BA%BA%E7%9A%84%E8%B3%87%E6%96%99%E5%BA%AB%E5%85%A5%E9%96%80%E6%8C%87%E5%8D%97-4a63fb3acb8a)\n",
    "7. [零基礎快速自學SQL，2天足矣！](https://medium.com/%E6%95%B8%E6%93%9A%E5%88%86%E6%9E%90%E4%B8%8D%E6%98%AF%E5%80%8B%E4%BA%8B/%E9%9B%B6%E5%9F%BA%E7%A4%8E%E5%BF%AB%E9%80%9F%E8%87%AA%E5%AD%B8sql-2%E5%A4%A9%E8%B6%B3%E7%9F%A3-4900d8b3d7c2)\n",
    "8. [資料視覺化技能的進階路線：SQL+BI+Echarts](https://medium.com/%E6%95%B8%E6%93%9A%E5%88%86%E6%9E%90%E4%B8%8D%E6%98%AF%E5%80%8B%E4%BA%8B/%E8%B3%87%E6%96%99%E8%A6%96%E8%A6%BA%E5%8C%96%E6%8A%80%E8%83%BD%E7%9A%84%E9%80%B2%E9%9A%8E%E8%B7%AF%E7%B7%9A-sql-bi-echarts-e4f1d124cd7b)\n",
    "9. [數據分析必掌握的統計學知識！](https://medium.com/%E6%95%B8%E6%93%9A%E5%88%86%E6%9E%90%E4%B8%8D%E6%98%AF%E5%80%8B%E4%BA%8B/%E6%95%B8%E6%93%9A%E5%88%86%E6%9E%90%E5%BF%85%E6%8E%8C%E6%8F%A1%E7%9A%84%E7%B5%B1%E8%A8%88%E5%AD%B8%E7%9F%A5%E8%AD%98-6edf53d98407)\n",
    "10. [不可不知描述性統計](https://allaboutdataanalysis.medium.com/%E4%B8%8D%E5%8F%AF%E4%B8%8D%E7%9F%A5%E7%9A%84%E6%8F%8F%E8%BF%B0%E6%80%A7%E7%B5%B1%E8%A8%88-e2f3110c8b45)"
   ]
  },
  {
   "cell_type": "markdown",
   "metadata": {},
   "source": [
    "11. [資料分析必備的統計學（二）：假設檢驗](https://allaboutdataanalysis.medium.com/%E8%B3%87%E6%96%99%E5%88%86%E6%9E%90%E5%BF%85%E5%82%99%E7%9A%84%E7%B5%B1%E8%A8%88%E5%AD%B8-%E4%BA%8C-%E5%81%87%E8%A8%AD%E6%AA%A2%E9%A9%97-327e0632e106)\n",
    "12. [一次讓人臉紅心跳的python數據分析](https://allaboutdataanalysis.medium.com/%E4%B8%80%E6%AC%A1%E8%AE%93%E4%BA%BA%E8%87%89%E7%B4%85%E5%BF%83%E8%B7%B3%E7%9A%84python%E6%95%B8%E6%93%9A%E5%88%86%E6%9E%90-ab5c2e41fea0)\n",
    "13. [Python入門（一）環境&資料結構](https://allaboutdataanalysis.medium.com/python%E5%85%A5%E9%96%80-%E4%B8%80-%E7%92%B0%E5%A2%83-%E8%B3%87%E6%96%99%E7%B5%90%E6%A7%8B-765cad34770f)\n",
    "14. [Python入門（二）函數基礎](https://allaboutdataanalysis.medium.com/python%E5%85%A5%E9%96%80-%E4%BA%8C-%E5%87%BD%E6%95%B8%E5%9F%BA%E7%A4%8E-93125efd21c)\n",
    "15. [Python資料分析（三）NumPy](https://allaboutdataanalysis.medium.com/python%E8%B3%87%E6%96%99%E5%88%86%E6%9E%90-%E4%B8%89-numpy-3a938f435286)\n",
    "16. [Python資料分析（四）Pandas](https://allaboutdataanalysis.medium.com/python%E8%B3%87%E6%96%99%E5%88%86%E6%9E%90-%E5%9B%9B-pandas-e2fdeb6808c1)\n",
    "17. [Python資料分析（五）Matplotlib做視覺化](https://allaboutdataanalysis.medium.com/python%E8%B3%87%E6%96%99%E5%88%86%E6%9E%90-%E4%BA%94-matplotlib%E5%81%9A%E8%A6%96%E8%A6%BA%E5%8C%96-9d94f1d29dd0)\n",
    "18. [推薦！42款好用的資料視覺化工具盤點](https://allaboutdataanalysis.medium.com/%E6%8E%A8%E8%96%A6-42%E6%AC%BE%E5%A5%BD%E7%94%A8%E7%9A%84%E8%B3%87%E6%96%99%E8%A6%96%E8%A6%BA%E5%8C%96%E5%B7%A5%E5%85%B7%E7%9B%A4%E9%BB%9E-1fd76e129a0f)\n",
    "19. [分享一些資料分析常用的資料視覺化圖表](https://allaboutdataanalysis.medium.com/%E5%88%86%E4%BA%AB%E4%B8%80%E4%BA%9B%E8%B3%87%E6%96%99%E5%88%86%E6%9E%90%E5%B8%B8%E7%94%A8%E7%9A%84%E8%B3%87%E6%96%99%E8%A6%96%E8%A6%BA%E5%8C%96%E5%9C%96%E8%A1%A8-4bdc6ef6ed34)\n",
    "20. [【新人入門篇】資料視覺化分析不是個事兒](https://allaboutdataanalysis.medium.com/%E6%96%B0%E4%BA%BA%E5%85%A5%E9%96%80%E7%AF%87-%E8%B3%87%E6%96%99%E8%A6%96%E8%A6%BA%E5%8C%96%E5%88%86%E6%9E%90%E4%B8%8D%E6%98%AF%E5%80%8B%E4%BA%8B%E5%85%92-d1d9bd7a6293)"
   ]
  },
  {
   "cell_type": "markdown",
   "metadata": {},
   "source": [
    "21. [數據分析工具怎麽選？送你一個工具箱](https://allaboutdataanalysis.medium.com/%E6%95%B8%E6%93%9A%E5%88%86%E6%9E%90%E5%B7%A5%E5%85%B7%E6%80%8E%E9%BA%BD%E9%81%B8-%E9%80%81%E4%BD%A0%E4%B8%80%E5%80%8B%E5%B7%A5%E5%85%B7%E7%AE%B1-1718bd210e49)\n",
    "22. [寫給資料分析新人：一種通用的資料思維](https://allaboutdataanalysis.medium.com/%E5%AF%AB%E7%B5%A6%E8%B3%87%E6%96%99%E5%88%86%E6%9E%90%E6%96%B0%E4%BA%BA-%E4%B8%80%E7%A8%AE%E9%80%9A%E7%94%A8%E7%9A%84%E8%B3%87%E6%96%99%E6%80%9D%E7%B6%AD-a465df62503d)\n",
    "23. [巧用工具，快速入門資料分析？](https://allaboutdataanalysis.medium.com/%E5%B7%A7%E7%94%A8%E5%B7%A5%E5%85%B7-%E5%BF%AB%E9%80%9F%E5%85%A5%E9%96%80%E6%95%B8%E6%93%9A%E5%88%86%E6%9E%90-e1f2662078c5)\n",
    "24. [資料分析師需要掌握的35個商業模型（1）](https://allaboutdataanalysis.medium.com/%E8%B3%87%E6%96%99%E5%88%86%E6%9E%90%E5%B8%AB%E9%9C%80%E8%A6%81%E6%8E%8C%E6%8F%A1%E7%9A%8435%E5%80%8B%E5%95%86%E6%A5%AD%E6%A8%A1%E5%9E%8B-1-abc1c7c54e6e)\n",
    "25. [資料分析師需要掌握的35個商業模型（2），可迅速套用！](https://allaboutdataanalysis.medium.com/%E8%B3%87%E6%96%99%E5%88%86%E6%9E%90%E5%B8%AB%E9%9C%80%E8%A6%81%E6%8E%8C%E6%8F%A1%E7%9A%8435%E5%80%8B%E5%95%86%E6%A5%AD%E6%A8%A1%E5%9E%8B-2-%E5%8F%AF%E8%BF%85%E9%80%9F%E5%A5%97%E7%94%A8-8db95cd66e00)\n",
    "26. [不懂業務就不要談資料分析!](https://allaboutdataanalysis.medium.com/%E4%B8%8D%E6%87%82%E6%A5%AD%E5%8B%99%E5%B0%B1%E4%B8%8D%E8%A6%81%E8%AB%87%E8%B3%87%E6%96%99%E5%88%86%E6%9E%90-85cf1d4a1c45)\n",
    "27. [【必讀】如何從零開始構建業務的數據化體系？](https://allaboutdataanalysis.medium.com/%E5%BF%85%E8%AE%80-%E5%A6%82%E4%BD%95%E5%BE%9E%E9%9B%B6%E9%96%8B%E5%A7%8B%E6%A7%8B%E5%BB%BA%E6%A5%AD%E5%8B%99%E7%9A%84%E6%95%B8%E6%93%9A%E5%8C%96%E9%AB%94%E7%B3%BB-2bc8b4d6d613)\n",
    "28. [機密！最全數據指標體系](https://medium.com/%E6%95%B8%E6%93%9A%E5%88%86%E6%9E%90%E4%B8%8D%E6%98%AF%E5%80%8B%E4%BA%8B/%E6%A9%9F%E5%AF%86-%E6%9C%80%E5%85%A8%E6%95%B8%E6%93%9A%E6%8C%87%E6%A8%99%E9%AB%94%E7%B3%BB-ee5838d7edc8)\n",
    "29. [關於數據分析思路的4點心得：數據、指標、維度、KPI](https://medium.com/%E6%95%B8%E6%93%9A%E5%88%86%E6%9E%90%E4%B8%8D%E6%98%AF%E5%80%8B%E4%BA%8B/%E9%97%9C%E6%96%BC%E6%95%B8%E6%93%9A%E5%88%86%E6%9E%90%E6%80%9D%E8%B7%AF%E7%9A%844%E9%BB%9E%E5%BF%83%E5%BE%97-%E6%95%B8%E6%93%9A-%E6%8C%87%E6%A8%99-%E7%B6%AD%E5%BA%A6-kpi-87907680c248)\n",
    "30. [據說那些不具備增長思維的人，早晚被淘汰！](https://medium.com/%E6%95%B8%E6%93%9A%E5%88%86%E6%9E%90%E4%B8%8D%E6%98%AF%E5%80%8B%E4%BA%8B/%E6%93%9A%E8%AA%AA%E9%82%A3%E4%BA%9B%E4%B8%8D%E5%85%B7%E5%82%99%E5%A2%9E%E9%95%B7%E6%80%9D%E7%B6%AD%E7%9A%84%E4%BA%BA-%E6%97%A9%E6%99%9A%E8%A2%AB%E6%B7%98%E6%B1%B0-84f67619dd80)"
   ]
  },
  {
   "cell_type": "markdown",
   "metadata": {},
   "source": [
    "[從入門到精通，力薦18本數據分析書籍必讀清單！](https://allaboutdataanalysis.medium.com/%E5%BE%9E%E5%85%A5%E9%96%80%E5%88%B0%E7%B2%BE%E9%80%9A-%E5%8A%9B%E8%96%A618%E6%9C%AC%E6%95%B8%E6%93%9A%E5%88%86%E6%9E%90%E6%9B%B8%E7%B1%8D%E5%BF%85%E8%AE%80%E6%B8%85%E5%96%AE-313298e0ff79)"
   ]
  }
 ],
 "metadata": {
  "kernelspec": {
   "display_name": "Python 3",
   "language": "python",
   "name": "python3"
  },
  "language_info": {
   "codemirror_mode": {
    "name": "ipython",
    "version": 3
   },
   "file_extension": ".py",
   "mimetype": "text/x-python",
   "name": "python",
   "nbconvert_exporter": "python",
   "pygments_lexer": "ipython3",
   "version": "3.8.2"
  }
 },
 "nbformat": 4,
 "nbformat_minor": 4
}
