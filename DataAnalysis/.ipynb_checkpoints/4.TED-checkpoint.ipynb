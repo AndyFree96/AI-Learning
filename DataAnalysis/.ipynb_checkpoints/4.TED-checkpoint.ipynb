{
 "cells": [
  {
   "cell_type": "markdown",
   "metadata": {},
   "source": [
    "## 加载数据集"
   ]
  },
  {
   "cell_type": "code",
   "execution_count": 1,
   "metadata": {},
   "outputs": [],
   "source": [
    "library(readr)"
   ]
  },
  {
   "cell_type": "code",
   "execution_count": 2,
   "metadata": {},
   "outputs": [
    {
     "name": "stderr",
     "output_type": "stream",
     "text": [
      "\n",
      "\u001b[36m--\u001b[39m \u001b[1m\u001b[1mColumn specification\u001b[1m\u001b[22m \u001b[36m--------------------------------------------------------\u001b[39m\n",
      "cols(\n",
      "  comments = \u001b[32mcol_double()\u001b[39m,\n",
      "  description = \u001b[31mcol_character()\u001b[39m,\n",
      "  duration = \u001b[32mcol_double()\u001b[39m,\n",
      "  event = \u001b[31mcol_character()\u001b[39m,\n",
      "  film_date = \u001b[32mcol_double()\u001b[39m,\n",
      "  languages = \u001b[32mcol_double()\u001b[39m,\n",
      "  main_speaker = \u001b[31mcol_character()\u001b[39m,\n",
      "  name = \u001b[31mcol_character()\u001b[39m,\n",
      "  num_speaker = \u001b[32mcol_double()\u001b[39m,\n",
      "  published_date = \u001b[32mcol_double()\u001b[39m,\n",
      "  ratings = \u001b[31mcol_character()\u001b[39m,\n",
      "  related_talks = \u001b[31mcol_character()\u001b[39m,\n",
      "  speaker_occupation = \u001b[31mcol_character()\u001b[39m,\n",
      "  tags = \u001b[31mcol_character()\u001b[39m,\n",
      "  title = \u001b[31mcol_character()\u001b[39m,\n",
      "  url = \u001b[31mcol_character()\u001b[39m,\n",
      "  views = \u001b[32mcol_double()\u001b[39m\n",
      ")\n",
      "\n",
      "\n"
     ]
    }
   ],
   "source": [
    "ted <- read_csv(\"F:/data_science_datasets/tedtalk/ted_main.csv\")"
   ]
  },
  {
   "cell_type": "code",
   "execution_count": 3,
   "metadata": {},
   "outputs": [
    {
     "data": {
      "text/html": [
       "<style>\n",
       ".list-inline {list-style: none; margin:0; padding: 0}\n",
       ".list-inline>li {display: inline-block}\n",
       ".list-inline>li:not(:last-child)::after {content: \"\\00b7\"; padding: 0 .5ex}\n",
       "</style>\n",
       "<ol class=list-inline><li>2550</li><li>17</li></ol>\n"
      ],
      "text/latex": [
       "\\begin{enumerate*}\n",
       "\\item 2550\n",
       "\\item 17\n",
       "\\end{enumerate*}\n"
      ],
      "text/markdown": [
       "1. 2550\n",
       "2. 17\n",
       "\n",
       "\n"
      ],
      "text/plain": [
       "[1] 2550   17"
      ]
     },
     "metadata": {},
     "output_type": "display_data"
    }
   ],
   "source": [
    "dim(ted)"
   ]
  },
  {
   "cell_type": "code",
   "execution_count": 7,
   "metadata": {},
   "outputs": [
    {
     "data": {
      "text/html": [
       "<style>\n",
       ".list-inline {list-style: none; margin:0; padding: 0}\n",
       ".list-inline>li {display: inline-block}\n",
       ".list-inline>li:not(:last-child)::after {content: \"\\00b7\"; padding: 0 .5ex}\n",
       "</style>\n",
       "<ol class=list-inline><li>'comments'</li><li>'description'</li><li>'duration'</li><li>'event'</li><li>'film_date'</li><li>'languages'</li><li>'main_speaker'</li><li>'name'</li><li>'num_speaker'</li><li>'published_date'</li><li>'ratings'</li><li>'related_talks'</li><li>'speaker_occupation'</li><li>'tags'</li><li>'title'</li><li>'url'</li><li>'views'</li></ol>\n"
      ],
      "text/latex": [
       "\\begin{enumerate*}\n",
       "\\item 'comments'\n",
       "\\item 'description'\n",
       "\\item 'duration'\n",
       "\\item 'event'\n",
       "\\item 'film\\_date'\n",
       "\\item 'languages'\n",
       "\\item 'main\\_speaker'\n",
       "\\item 'name'\n",
       "\\item 'num\\_speaker'\n",
       "\\item 'published\\_date'\n",
       "\\item 'ratings'\n",
       "\\item 'related\\_talks'\n",
       "\\item 'speaker\\_occupation'\n",
       "\\item 'tags'\n",
       "\\item 'title'\n",
       "\\item 'url'\n",
       "\\item 'views'\n",
       "\\end{enumerate*}\n"
      ],
      "text/markdown": [
       "1. 'comments'\n",
       "2. 'description'\n",
       "3. 'duration'\n",
       "4. 'event'\n",
       "5. 'film_date'\n",
       "6. 'languages'\n",
       "7. 'main_speaker'\n",
       "8. 'name'\n",
       "9. 'num_speaker'\n",
       "10. 'published_date'\n",
       "11. 'ratings'\n",
       "12. 'related_talks'\n",
       "13. 'speaker_occupation'\n",
       "14. 'tags'\n",
       "15. 'title'\n",
       "16. 'url'\n",
       "17. 'views'\n",
       "\n",
       "\n"
      ],
      "text/plain": [
       " [1] \"comments\"           \"description\"        \"duration\"          \n",
       " [4] \"event\"              \"film_date\"          \"languages\"         \n",
       " [7] \"main_speaker\"       \"name\"               \"num_speaker\"       \n",
       "[10] \"published_date\"     \"ratings\"            \"related_talks\"     \n",
       "[13] \"speaker_occupation\" \"tags\"               \"title\"             \n",
       "[16] \"url\"                \"views\"             "
      ]
     },
     "metadata": {},
     "output_type": "display_data"
    }
   ],
   "source": [
    "colnames(ted)"
   ]
  },
  {
   "cell_type": "code",
   "execution_count": 8,
   "metadata": {},
   "outputs": [
    {
     "data": {
      "text/plain": [
       "    comments      description           duration         event          \n",
       " Min.   :   2.0   Length:2550        Min.   : 135.0   Length:2550       \n",
       " 1st Qu.:  63.0   Class :character   1st Qu.: 577.0   Class :character  \n",
       " Median : 118.0   Mode  :character   Median : 848.0   Mode  :character  \n",
       " Mean   : 191.6                      Mean   : 826.5                     \n",
       " 3rd Qu.: 221.8                      3rd Qu.:1046.8                     \n",
       " Max.   :6404.0                      Max.   :5256.0                     \n",
       "   film_date           languages     main_speaker           name          \n",
       " Min.   :7.465e+07   Min.   : 0.00   Length:2550        Length:2550       \n",
       " 1st Qu.:1.257e+09   1st Qu.:23.00   Class :character   Class :character  \n",
       " Median :1.333e+09   Median :28.00   Mode  :character   Mode  :character  \n",
       " Mean   :1.322e+09   Mean   :27.33                                        \n",
       " 3rd Qu.:1.413e+09   3rd Qu.:33.00                                        \n",
       " Max.   :1.504e+09   Max.   :72.00                                        \n",
       "  num_speaker    published_date        ratings          related_talks     \n",
       " Min.   :1.000   Min.   :1.151e+09   Length:2550        Length:2550       \n",
       " 1st Qu.:1.000   1st Qu.:1.268e+09   Class :character   Class :character  \n",
       " Median :1.000   Median :1.341e+09   Mode  :character   Mode  :character  \n",
       " Mean   :1.028   Mean   :1.344e+09                                        \n",
       " 3rd Qu.:1.000   3rd Qu.:1.423e+09                                        \n",
       " Max.   :5.000   Max.   :1.506e+09                                        \n",
       " speaker_occupation     tags              title               url           \n",
       " Length:2550        Length:2550        Length:2550        Length:2550       \n",
       " Class :character   Class :character   Class :character   Class :character  \n",
       " Mode  :character   Mode  :character   Mode  :character   Mode  :character  \n",
       "                                                                            \n",
       "                                                                            \n",
       "                                                                            \n",
       "     views         \n",
       " Min.   :   50443  \n",
       " 1st Qu.:  755793  \n",
       " Median : 1124524  \n",
       " Mean   : 1698297  \n",
       " 3rd Qu.: 1700760  \n",
       " Max.   :47227110  "
      ]
     },
     "metadata": {},
     "output_type": "display_data"
    }
   ],
   "source": [
    "summary(ted)"
   ]
  },
  {
   "cell_type": "markdown",
   "metadata": {},
   "source": [
    "## 评论数分布"
   ]
  },
  {
   "cell_type": "markdown",
   "metadata": {},
   "source": [
    "## 时长分布"
   ]
  }
 ],
 "metadata": {
  "kernelspec": {
   "display_name": "R",
   "language": "R",
   "name": "ir"
  },
  "language_info": {
   "codemirror_mode": "r",
   "file_extension": ".r",
   "mimetype": "text/x-r-source",
   "name": "R",
   "pygments_lexer": "r",
   "version": "4.0.3"
  }
 },
 "nbformat": 4,
 "nbformat_minor": 4
}
