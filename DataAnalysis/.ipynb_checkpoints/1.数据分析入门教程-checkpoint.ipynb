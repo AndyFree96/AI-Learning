{
 "cells": [
  {
   "cell_type": "markdown",
   "metadata": {},
   "source": [
    "《谁说菜鸟不会数据分析 （入门篇）》提到数据分析大致分为六步，分别是：\n",
    "\n",
    "1. 明确分析目的和思路\n",
    "2. 数据收集\n",
    "3. 数据处理\n",
    "4. 数据分析\n",
    "5. 数据展现\n",
    "6. 撰写报告\n",
    "\n",
    "本文我们将主要涉及其中的2~5步。"
   ]
  },
  {
   "cell_type": "markdown",
   "metadata": {},
   "source": [
    "## 数据收集"
   ]
  },
  {
   "cell_type": "markdown",
   "metadata": {},
   "source": [
    "我们使用的数据来自[和鲸社区](https://www.kesci.com)的[口袋妖怪数据集](https://www.kesci.com/mw/dataset/5a26650136ae5c1293bf241a)和[罗湖二手房信息](https://www.kesci.com/mw/dataset/5caeefbde0ad99002cac0b7a)。"
   ]
  },
  {
   "cell_type": "code",
   "execution_count": 1,
   "metadata": {},
   "outputs": [],
   "source": [
    "import numpy as np\n",
    "import matplotlib.pyplot as plt\n",
    "import pandas as pd"
   ]
  },
  {
   "cell_type": "code",
   "execution_count": 40,
   "metadata": {},
   "outputs": [],
   "source": [
    "pokemon = pd.read_csv('./Datasets/1/pokemon.csv')"
   ]
  },
  {
   "cell_type": "code",
   "execution_count": 3,
   "metadata": {},
   "outputs": [
    {
     "data": {
      "text/html": [
       "<div>\n",
       "<style scoped>\n",
       "    .dataframe tbody tr th:only-of-type {\n",
       "        vertical-align: middle;\n",
       "    }\n",
       "\n",
       "    .dataframe tbody tr th {\n",
       "        vertical-align: top;\n",
       "    }\n",
       "\n",
       "    .dataframe thead th {\n",
       "        text-align: right;\n",
       "    }\n",
       "</style>\n",
       "<table border=\"1\" class=\"dataframe\">\n",
       "  <thead>\n",
       "    <tr style=\"text-align: right;\">\n",
       "      <th></th>\n",
       "      <th>#</th>\n",
       "      <th>Name</th>\n",
       "      <th>Type 1</th>\n",
       "      <th>Type 2</th>\n",
       "      <th>Total</th>\n",
       "      <th>HP</th>\n",
       "      <th>Attack</th>\n",
       "      <th>Defense</th>\n",
       "      <th>Sp. Atk</th>\n",
       "      <th>Sp. Def</th>\n",
       "      <th>Speed</th>\n",
       "      <th>Generation</th>\n",
       "      <th>Legendary</th>\n",
       "    </tr>\n",
       "  </thead>\n",
       "  <tbody>\n",
       "    <tr>\n",
       "      <th>0</th>\n",
       "      <td>1</td>\n",
       "      <td>Bulbasaur</td>\n",
       "      <td>Grass</td>\n",
       "      <td>Poison</td>\n",
       "      <td>318</td>\n",
       "      <td>45</td>\n",
       "      <td>49</td>\n",
       "      <td>49</td>\n",
       "      <td>65</td>\n",
       "      <td>65</td>\n",
       "      <td>45</td>\n",
       "      <td>1</td>\n",
       "      <td>False</td>\n",
       "    </tr>\n",
       "    <tr>\n",
       "      <th>1</th>\n",
       "      <td>2</td>\n",
       "      <td>Ivysaur</td>\n",
       "      <td>Grass</td>\n",
       "      <td>Poison</td>\n",
       "      <td>405</td>\n",
       "      <td>60</td>\n",
       "      <td>62</td>\n",
       "      <td>63</td>\n",
       "      <td>80</td>\n",
       "      <td>80</td>\n",
       "      <td>60</td>\n",
       "      <td>1</td>\n",
       "      <td>False</td>\n",
       "    </tr>\n",
       "    <tr>\n",
       "      <th>2</th>\n",
       "      <td>3</td>\n",
       "      <td>Venusaur</td>\n",
       "      <td>Grass</td>\n",
       "      <td>Poison</td>\n",
       "      <td>525</td>\n",
       "      <td>80</td>\n",
       "      <td>82</td>\n",
       "      <td>83</td>\n",
       "      <td>100</td>\n",
       "      <td>100</td>\n",
       "      <td>80</td>\n",
       "      <td>1</td>\n",
       "      <td>False</td>\n",
       "    </tr>\n",
       "    <tr>\n",
       "      <th>3</th>\n",
       "      <td>3</td>\n",
       "      <td>VenusaurMega Venusaur</td>\n",
       "      <td>Grass</td>\n",
       "      <td>Poison</td>\n",
       "      <td>625</td>\n",
       "      <td>80</td>\n",
       "      <td>100</td>\n",
       "      <td>123</td>\n",
       "      <td>122</td>\n",
       "      <td>120</td>\n",
       "      <td>80</td>\n",
       "      <td>1</td>\n",
       "      <td>False</td>\n",
       "    </tr>\n",
       "    <tr>\n",
       "      <th>4</th>\n",
       "      <td>4</td>\n",
       "      <td>Charmander</td>\n",
       "      <td>Fire</td>\n",
       "      <td>NaN</td>\n",
       "      <td>309</td>\n",
       "      <td>39</td>\n",
       "      <td>52</td>\n",
       "      <td>43</td>\n",
       "      <td>60</td>\n",
       "      <td>50</td>\n",
       "      <td>65</td>\n",
       "      <td>1</td>\n",
       "      <td>False</td>\n",
       "    </tr>\n",
       "  </tbody>\n",
       "</table>\n",
       "</div>"
      ],
      "text/plain": [
       "   #                   Name Type 1  Type 2  Total  HP  Attack  Defense  \\\n",
       "0  1              Bulbasaur  Grass  Poison    318  45      49       49   \n",
       "1  2                Ivysaur  Grass  Poison    405  60      62       63   \n",
       "2  3               Venusaur  Grass  Poison    525  80      82       83   \n",
       "3  3  VenusaurMega Venusaur  Grass  Poison    625  80     100      123   \n",
       "4  4             Charmander   Fire     NaN    309  39      52       43   \n",
       "\n",
       "   Sp. Atk  Sp. Def  Speed  Generation  Legendary  \n",
       "0       65       65     45           1      False  \n",
       "1       80       80     60           1      False  \n",
       "2      100      100     80           1      False  \n",
       "3      122      120     80           1      False  \n",
       "4       60       50     65           1      False  "
      ]
     },
     "execution_count": 3,
     "metadata": {},
     "output_type": "execute_result"
    }
   ],
   "source": [
    "pokemon.head()"
   ]
  },
  {
   "cell_type": "code",
   "execution_count": 4,
   "metadata": {},
   "outputs": [],
   "source": [
    "house = pd.read_csv('./Datasets/1/second_hand_ house.csv')"
   ]
  },
  {
   "cell_type": "code",
   "execution_count": 5,
   "metadata": {},
   "outputs": [
    {
     "data": {
      "text/html": [
       "<div>\n",
       "<style scoped>\n",
       "    .dataframe tbody tr th:only-of-type {\n",
       "        vertical-align: middle;\n",
       "    }\n",
       "\n",
       "    .dataframe tbody tr th {\n",
       "        vertical-align: top;\n",
       "    }\n",
       "\n",
       "    .dataframe thead th {\n",
       "        text-align: right;\n",
       "    }\n",
       "</style>\n",
       "<table border=\"1\" class=\"dataframe\">\n",
       "  <thead>\n",
       "    <tr style=\"text-align: right;\">\n",
       "      <th></th>\n",
       "      <th>房屋编码</th>\n",
       "      <th>小区</th>\n",
       "      <th>朝向</th>\n",
       "      <th>房屋单价</th>\n",
       "      <th>参考首付</th>\n",
       "      <th>参考总价</th>\n",
       "      <th>经度</th>\n",
       "      <th>纬度</th>\n",
       "    </tr>\n",
       "  </thead>\n",
       "  <tbody>\n",
       "    <tr>\n",
       "      <th>0</th>\n",
       "      <td>605093949</td>\n",
       "      <td>大望新平村</td>\n",
       "      <td>南北</td>\n",
       "      <td>5434</td>\n",
       "      <td>15.0</td>\n",
       "      <td>50.0</td>\n",
       "      <td>114.180964</td>\n",
       "      <td>22.603698</td>\n",
       "    </tr>\n",
       "    <tr>\n",
       "      <th>1</th>\n",
       "      <td>605768856</td>\n",
       "      <td>通宝楼</td>\n",
       "      <td>南北</td>\n",
       "      <td>3472</td>\n",
       "      <td>7.5</td>\n",
       "      <td>25.0</td>\n",
       "      <td>114.179298</td>\n",
       "      <td>22.566910</td>\n",
       "    </tr>\n",
       "    <tr>\n",
       "      <th>2</th>\n",
       "      <td>606815561</td>\n",
       "      <td>罗湖区罗芳村</td>\n",
       "      <td>南北</td>\n",
       "      <td>5842</td>\n",
       "      <td>15.6</td>\n",
       "      <td>52.0</td>\n",
       "      <td>114.158869</td>\n",
       "      <td>22.547223</td>\n",
       "    </tr>\n",
       "    <tr>\n",
       "      <th>3</th>\n",
       "      <td>605147285</td>\n",
       "      <td>兴华苑</td>\n",
       "      <td>南北</td>\n",
       "      <td>3829</td>\n",
       "      <td>10.8</td>\n",
       "      <td>36.0</td>\n",
       "      <td>114.158040</td>\n",
       "      <td>22.554343</td>\n",
       "    </tr>\n",
       "    <tr>\n",
       "      <th>4</th>\n",
       "      <td>606030866</td>\n",
       "      <td>京基东方都会</td>\n",
       "      <td>西南</td>\n",
       "      <td>47222</td>\n",
       "      <td>51.0</td>\n",
       "      <td>170.0</td>\n",
       "      <td>114.149243</td>\n",
       "      <td>22.554370</td>\n",
       "    </tr>\n",
       "  </tbody>\n",
       "</table>\n",
       "</div>"
      ],
      "text/plain": [
       "        房屋编码      小区  朝向   房屋单价  参考首付   参考总价          经度         纬度\n",
       "0  605093949   大望新平村  南北   5434  15.0   50.0  114.180964  22.603698\n",
       "1  605768856     通宝楼  南北   3472   7.5   25.0  114.179298  22.566910\n",
       "2  606815561  罗湖区罗芳村  南北   5842  15.6   52.0  114.158869  22.547223\n",
       "3  605147285     兴华苑  南北   3829  10.8   36.0  114.158040  22.554343\n",
       "4  606030866  京基东方都会  西南  47222  51.0  170.0  114.149243  22.554370"
      ]
     },
     "execution_count": 5,
     "metadata": {},
     "output_type": "execute_result"
    }
   ],
   "source": [
    "house.head()"
   ]
  },
  {
   "cell_type": "code",
   "execution_count": 6,
   "metadata": {},
   "outputs": [
    {
     "data": {
      "text/plain": [
       "(800, 13)"
      ]
     },
     "execution_count": 6,
     "metadata": {},
     "output_type": "execute_result"
    }
   ],
   "source": [
    "pokemon.shape"
   ]
  },
  {
   "cell_type": "code",
   "execution_count": 7,
   "metadata": {},
   "outputs": [
    {
     "data": {
      "text/plain": [
       "(75, 8)"
      ]
     },
     "execution_count": 7,
     "metadata": {},
     "output_type": "execute_result"
    }
   ],
   "source": [
    "house.shape"
   ]
  },
  {
   "cell_type": "markdown",
   "metadata": {},
   "source": [
    "## 数据处理"
   ]
  },
  {
   "cell_type": "markdown",
   "metadata": {},
   "source": [
    "番外: \n",
    "\n",
    "[Difference between isna() and isnull() in pandas](https://datascience.stackexchange.com/questions/37878/difference-between-isna-and-isnull-in-pandas)\n",
    "\n",
    "[The Weird World of Missing Values in Pandas](https://dev.to/discdiver/the-weird-world-of-missing-values-in-pandas-3kph)"
   ]
  },
  {
   "cell_type": "markdown",
   "metadata": {},
   "source": [
    "查看缺失值的数量："
   ]
  },
  {
   "cell_type": "code",
   "execution_count": 27,
   "metadata": {},
   "outputs": [
    {
     "data": {
      "text/plain": [
       "386"
      ]
     },
     "execution_count": 27,
     "metadata": {},
     "output_type": "execute_result"
    }
   ],
   "source": [
    "pokemon.isna().values.sum()"
   ]
  },
  {
   "cell_type": "markdown",
   "metadata": {},
   "source": [
    "查看每列缺失值的数量："
   ]
  },
  {
   "cell_type": "code",
   "execution_count": 28,
   "metadata": {},
   "outputs": [
    {
     "data": {
      "text/plain": [
       "#               0\n",
       "Name            0\n",
       "Type 1          0\n",
       "Type 2        386\n",
       "Total           0\n",
       "HP              0\n",
       "Attack          0\n",
       "Defense         0\n",
       "Sp. Atk         0\n",
       "Sp. Def         0\n",
       "Speed           0\n",
       "Generation      0\n",
       "Legendary       0\n",
       "dtype: int64"
      ]
     },
     "execution_count": 28,
     "metadata": {},
     "output_type": "execute_result"
    }
   ],
   "source": [
    "pokemon.isna().sum()"
   ]
  },
  {
   "cell_type": "markdown",
   "metadata": {},
   "source": [
    "查看`Type 2`（属性 2）这列的具体情况："
   ]
  },
  {
   "cell_type": "code",
   "execution_count": 29,
   "metadata": {},
   "outputs": [
    {
     "data": {
      "text/plain": [
       "Flying      97\n",
       "Ground      35\n",
       "Poison      34\n",
       "Psychic     33\n",
       "Fighting    26\n",
       "Grass       25\n",
       "Fairy       23\n",
       "Steel       22\n",
       "Dark        20\n",
       "Dragon      18\n",
       "Ice         14\n",
       "Rock        14\n",
       "Ghost       14\n",
       "Water       14\n",
       "Fire        12\n",
       "Electric     6\n",
       "Normal       4\n",
       "Bug          3\n",
       "Name: Type 2, dtype: int64"
      ]
     },
     "execution_count": 29,
     "metadata": {},
     "output_type": "execute_result"
    }
   ],
   "source": [
    "pokemon['Type 2'].value_counts()"
   ]
  },
  {
   "cell_type": "code",
   "execution_count": 30,
   "metadata": {},
   "outputs": [
    {
     "data": {
      "text/plain": [
       "NaN         386\n",
       "Flying       97\n",
       "Ground       35\n",
       "Poison       34\n",
       "Psychic      33\n",
       "Fighting     26\n",
       "Grass        25\n",
       "Fairy        23\n",
       "Steel        22\n",
       "Dark         20\n",
       "Dragon       18\n",
       "Ice          14\n",
       "Rock         14\n",
       "Ghost        14\n",
       "Water        14\n",
       "Fire         12\n",
       "Electric      6\n",
       "Normal        4\n",
       "Bug           3\n",
       "Name: Type 2, dtype: int64"
      ]
     },
     "execution_count": 30,
     "metadata": {},
     "output_type": "execute_result"
    }
   ],
   "source": [
    "pokemon['Type 2'].value_counts(dropna=False) # 不丢弃缺失值"
   ]
  },
  {
   "cell_type": "markdown",
   "metadata": {},
   "source": [
    "### 缺失值处理"
   ]
  },
  {
   "cell_type": "markdown",
   "metadata": {},
   "source": [
    "接下来我们可以将带有缺失值的行删去："
   ]
  },
  {
   "cell_type": "code",
   "execution_count": 41,
   "metadata": {},
   "outputs": [],
   "source": [
    "temp_pokemon = pokemon.copy()"
   ]
  },
  {
   "cell_type": "code",
   "execution_count": 43,
   "metadata": {},
   "outputs": [],
   "source": [
    "temp_pokemon.dropna(inplace=True)"
   ]
  },
  {
   "cell_type": "code",
   "execution_count": 44,
   "metadata": {},
   "outputs": [
    {
     "data": {
      "text/plain": [
       "(414, 13)"
      ]
     },
     "execution_count": 44,
     "metadata": {},
     "output_type": "execute_result"
    }
   ],
   "source": [
    "temp_pokemon.shape"
   ]
  },
  {
   "cell_type": "code",
   "execution_count": 45,
   "metadata": {},
   "outputs": [
    {
     "data": {
      "text/plain": [
       "(800, 13)"
      ]
     },
     "execution_count": 45,
     "metadata": {},
     "output_type": "execute_result"
    }
   ],
   "source": [
    "pokemon.shape"
   ]
  },
  {
   "cell_type": "code",
   "execution_count": 46,
   "metadata": {},
   "outputs": [
    {
     "data": {
      "text/html": [
       "<div>\n",
       "<style scoped>\n",
       "    .dataframe tbody tr th:only-of-type {\n",
       "        vertical-align: middle;\n",
       "    }\n",
       "\n",
       "    .dataframe tbody tr th {\n",
       "        vertical-align: top;\n",
       "    }\n",
       "\n",
       "    .dataframe thead th {\n",
       "        text-align: right;\n",
       "    }\n",
       "</style>\n",
       "<table border=\"1\" class=\"dataframe\">\n",
       "  <thead>\n",
       "    <tr style=\"text-align: right;\">\n",
       "      <th></th>\n",
       "      <th>#</th>\n",
       "      <th>Name</th>\n",
       "      <th>Type 1</th>\n",
       "      <th>Type 2</th>\n",
       "      <th>Total</th>\n",
       "      <th>HP</th>\n",
       "      <th>Attack</th>\n",
       "      <th>Defense</th>\n",
       "      <th>Sp. Atk</th>\n",
       "      <th>Sp. Def</th>\n",
       "      <th>Speed</th>\n",
       "      <th>Generation</th>\n",
       "      <th>Legendary</th>\n",
       "    </tr>\n",
       "  </thead>\n",
       "  <tbody>\n",
       "    <tr>\n",
       "      <th>0</th>\n",
       "      <td>1</td>\n",
       "      <td>Bulbasaur</td>\n",
       "      <td>Grass</td>\n",
       "      <td>Poison</td>\n",
       "      <td>318</td>\n",
       "      <td>45</td>\n",
       "      <td>49</td>\n",
       "      <td>49</td>\n",
       "      <td>65</td>\n",
       "      <td>65</td>\n",
       "      <td>45</td>\n",
       "      <td>1</td>\n",
       "      <td>False</td>\n",
       "    </tr>\n",
       "    <tr>\n",
       "      <th>1</th>\n",
       "      <td>2</td>\n",
       "      <td>Ivysaur</td>\n",
       "      <td>Grass</td>\n",
       "      <td>Poison</td>\n",
       "      <td>405</td>\n",
       "      <td>60</td>\n",
       "      <td>62</td>\n",
       "      <td>63</td>\n",
       "      <td>80</td>\n",
       "      <td>80</td>\n",
       "      <td>60</td>\n",
       "      <td>1</td>\n",
       "      <td>False</td>\n",
       "    </tr>\n",
       "    <tr>\n",
       "      <th>2</th>\n",
       "      <td>3</td>\n",
       "      <td>Venusaur</td>\n",
       "      <td>Grass</td>\n",
       "      <td>Poison</td>\n",
       "      <td>525</td>\n",
       "      <td>80</td>\n",
       "      <td>82</td>\n",
       "      <td>83</td>\n",
       "      <td>100</td>\n",
       "      <td>100</td>\n",
       "      <td>80</td>\n",
       "      <td>1</td>\n",
       "      <td>False</td>\n",
       "    </tr>\n",
       "    <tr>\n",
       "      <th>3</th>\n",
       "      <td>3</td>\n",
       "      <td>VenusaurMega Venusaur</td>\n",
       "      <td>Grass</td>\n",
       "      <td>Poison</td>\n",
       "      <td>625</td>\n",
       "      <td>80</td>\n",
       "      <td>100</td>\n",
       "      <td>123</td>\n",
       "      <td>122</td>\n",
       "      <td>120</td>\n",
       "      <td>80</td>\n",
       "      <td>1</td>\n",
       "      <td>False</td>\n",
       "    </tr>\n",
       "    <tr>\n",
       "      <th>6</th>\n",
       "      <td>6</td>\n",
       "      <td>Charizard</td>\n",
       "      <td>Fire</td>\n",
       "      <td>Flying</td>\n",
       "      <td>534</td>\n",
       "      <td>78</td>\n",
       "      <td>84</td>\n",
       "      <td>78</td>\n",
       "      <td>109</td>\n",
       "      <td>85</td>\n",
       "      <td>100</td>\n",
       "      <td>1</td>\n",
       "      <td>False</td>\n",
       "    </tr>\n",
       "    <tr>\n",
       "      <th>...</th>\n",
       "      <td>...</td>\n",
       "      <td>...</td>\n",
       "      <td>...</td>\n",
       "      <td>...</td>\n",
       "      <td>...</td>\n",
       "      <td>...</td>\n",
       "      <td>...</td>\n",
       "      <td>...</td>\n",
       "      <td>...</td>\n",
       "      <td>...</td>\n",
       "      <td>...</td>\n",
       "      <td>...</td>\n",
       "      <td>...</td>\n",
       "    </tr>\n",
       "    <tr>\n",
       "      <th>795</th>\n",
       "      <td>719</td>\n",
       "      <td>Diancie</td>\n",
       "      <td>Rock</td>\n",
       "      <td>Fairy</td>\n",
       "      <td>600</td>\n",
       "      <td>50</td>\n",
       "      <td>100</td>\n",
       "      <td>150</td>\n",
       "      <td>100</td>\n",
       "      <td>150</td>\n",
       "      <td>50</td>\n",
       "      <td>6</td>\n",
       "      <td>True</td>\n",
       "    </tr>\n",
       "    <tr>\n",
       "      <th>796</th>\n",
       "      <td>719</td>\n",
       "      <td>DiancieMega Diancie</td>\n",
       "      <td>Rock</td>\n",
       "      <td>Fairy</td>\n",
       "      <td>700</td>\n",
       "      <td>50</td>\n",
       "      <td>160</td>\n",
       "      <td>110</td>\n",
       "      <td>160</td>\n",
       "      <td>110</td>\n",
       "      <td>110</td>\n",
       "      <td>6</td>\n",
       "      <td>True</td>\n",
       "    </tr>\n",
       "    <tr>\n",
       "      <th>797</th>\n",
       "      <td>720</td>\n",
       "      <td>HoopaHoopa Confined</td>\n",
       "      <td>Psychic</td>\n",
       "      <td>Ghost</td>\n",
       "      <td>600</td>\n",
       "      <td>80</td>\n",
       "      <td>110</td>\n",
       "      <td>60</td>\n",
       "      <td>150</td>\n",
       "      <td>130</td>\n",
       "      <td>70</td>\n",
       "      <td>6</td>\n",
       "      <td>True</td>\n",
       "    </tr>\n",
       "    <tr>\n",
       "      <th>798</th>\n",
       "      <td>720</td>\n",
       "      <td>HoopaHoopa Unbound</td>\n",
       "      <td>Psychic</td>\n",
       "      <td>Dark</td>\n",
       "      <td>680</td>\n",
       "      <td>80</td>\n",
       "      <td>160</td>\n",
       "      <td>60</td>\n",
       "      <td>170</td>\n",
       "      <td>130</td>\n",
       "      <td>80</td>\n",
       "      <td>6</td>\n",
       "      <td>True</td>\n",
       "    </tr>\n",
       "    <tr>\n",
       "      <th>799</th>\n",
       "      <td>721</td>\n",
       "      <td>Volcanion</td>\n",
       "      <td>Fire</td>\n",
       "      <td>Water</td>\n",
       "      <td>600</td>\n",
       "      <td>80</td>\n",
       "      <td>110</td>\n",
       "      <td>120</td>\n",
       "      <td>130</td>\n",
       "      <td>90</td>\n",
       "      <td>70</td>\n",
       "      <td>6</td>\n",
       "      <td>True</td>\n",
       "    </tr>\n",
       "  </tbody>\n",
       "</table>\n",
       "<p>414 rows × 13 columns</p>\n",
       "</div>"
      ],
      "text/plain": [
       "       #                   Name   Type 1  Type 2  Total  HP  Attack  Defense  \\\n",
       "0      1              Bulbasaur    Grass  Poison    318  45      49       49   \n",
       "1      2                Ivysaur    Grass  Poison    405  60      62       63   \n",
       "2      3               Venusaur    Grass  Poison    525  80      82       83   \n",
       "3      3  VenusaurMega Venusaur    Grass  Poison    625  80     100      123   \n",
       "6      6              Charizard     Fire  Flying    534  78      84       78   \n",
       "..   ...                    ...      ...     ...    ...  ..     ...      ...   \n",
       "795  719                Diancie     Rock   Fairy    600  50     100      150   \n",
       "796  719    DiancieMega Diancie     Rock   Fairy    700  50     160      110   \n",
       "797  720    HoopaHoopa Confined  Psychic   Ghost    600  80     110       60   \n",
       "798  720     HoopaHoopa Unbound  Psychic    Dark    680  80     160       60   \n",
       "799  721              Volcanion     Fire   Water    600  80     110      120   \n",
       "\n",
       "     Sp. Atk  Sp. Def  Speed  Generation  Legendary  \n",
       "0         65       65     45           1      False  \n",
       "1         80       80     60           1      False  \n",
       "2        100      100     80           1      False  \n",
       "3        122      120     80           1      False  \n",
       "6        109       85    100           1      False  \n",
       "..       ...      ...    ...         ...        ...  \n",
       "795      100      150     50           6       True  \n",
       "796      160      110    110           6       True  \n",
       "797      150      130     70           6       True  \n",
       "798      170      130     80           6       True  \n",
       "799      130       90     70           6       True  \n",
       "\n",
       "[414 rows x 13 columns]"
      ]
     },
     "execution_count": 46,
     "metadata": {},
     "output_type": "execute_result"
    }
   ],
   "source": [
    "temp_pokemon"
   ]
  },
  {
   "cell_type": "code",
   "execution_count": 47,
   "metadata": {},
   "outputs": [
    {
     "data": {
      "text/plain": [
       "#             800\n",
       "Name          800\n",
       "Type 1        800\n",
       "Type 2        414\n",
       "Total         800\n",
       "HP            800\n",
       "Attack        800\n",
       "Defense       800\n",
       "Sp. Atk       800\n",
       "Sp. Def       800\n",
       "Speed         800\n",
       "Generation    800\n",
       "Legendary     800\n",
       "dtype: int64"
      ]
     },
     "execution_count": 47,
     "metadata": {},
     "output_type": "execute_result"
    }
   ],
   "source": [
    "pokemon.notna().sum()"
   ]
  },
  {
   "cell_type": "markdown",
   "metadata": {},
   "source": [
    "可以看到，通过`dropna()`方法我们将带有缺失值的行删掉了。\n",
    "\n",
    "或者使用`fillna()`方法用某个数据来填充缺失值："
   ]
  },
  {
   "cell_type": "code",
   "execution_count": 48,
   "metadata": {},
   "outputs": [],
   "source": [
    "temp_pokemon = pokemon.copy()"
   ]
  },
  {
   "cell_type": "code",
   "execution_count": 49,
   "metadata": {},
   "outputs": [
    {
     "data": {
      "text/plain": [
       "(800, 13)"
      ]
     },
     "execution_count": 49,
     "metadata": {},
     "output_type": "execute_result"
    }
   ],
   "source": [
    "pokemon.shape"
   ]
  },
  {
   "cell_type": "code",
   "execution_count": 50,
   "metadata": {},
   "outputs": [],
   "source": [
    "temp_pokemon.fillna('empty', inplace=True)"
   ]
  },
  {
   "cell_type": "code",
   "execution_count": 51,
   "metadata": {},
   "outputs": [
    {
     "data": {
      "text/plain": [
       "empty       386\n",
       "Flying       97\n",
       "Ground       35\n",
       "Poison       34\n",
       "Psychic      33\n",
       "Fighting     26\n",
       "Grass        25\n",
       "Fairy        23\n",
       "Steel        22\n",
       "Dark         20\n",
       "Dragon       18\n",
       "Ice          14\n",
       "Rock         14\n",
       "Ghost        14\n",
       "Water        14\n",
       "Fire         12\n",
       "Electric      6\n",
       "Normal        4\n",
       "Bug           3\n",
       "Name: Type 2, dtype: int64"
      ]
     },
     "execution_count": 51,
     "metadata": {},
     "output_type": "execute_result"
    }
   ],
   "source": [
    "temp_pokemon['Type 2'].value_counts()"
   ]
  },
  {
   "cell_type": "code",
   "execution_count": 52,
   "metadata": {},
   "outputs": [
    {
     "data": {
      "text/plain": [
       "(800, 13)"
      ]
     },
     "execution_count": 52,
     "metadata": {},
     "output_type": "execute_result"
    }
   ],
   "source": [
    "temp_pokemon.shape"
   ]
  },
  {
   "cell_type": "code",
   "execution_count": 54,
   "metadata": {},
   "outputs": [
    {
     "data": {
      "text/plain": [
       "empty       386\n",
       "Flying       97\n",
       "Ground       35\n",
       "Poison       34\n",
       "Psychic      33\n",
       "Fighting     26\n",
       "Grass        25\n",
       "Fairy        23\n",
       "Steel        22\n",
       "Dark         20\n",
       "Dragon       18\n",
       "Ice          14\n",
       "Rock         14\n",
       "Ghost        14\n",
       "Water        14\n",
       "Fire         12\n",
       "Electric      6\n",
       "Normal        4\n",
       "Bug           3\n",
       "Name: Type 2, dtype: int64"
      ]
     },
     "execution_count": 54,
     "metadata": {},
     "output_type": "execute_result"
    }
   ],
   "source": [
    "pokemon.fillna('empty')['Type 2'].value_counts() # 不使用inplace参数"
   ]
  },
  {
   "cell_type": "markdown",
   "metadata": {},
   "source": [
    "### 重复值处理"
   ]
  },
  {
   "cell_type": "code",
   "execution_count": 55,
   "metadata": {},
   "outputs": [],
   "source": [
    "temp_pokemon = pokemon.copy()"
   ]
  },
  {
   "cell_type": "code",
   "execution_count": 56,
   "metadata": {},
   "outputs": [],
   "source": [
    "temp_pokemon = temp_pokemon.drop_duplicates()"
   ]
  },
  {
   "cell_type": "code",
   "execution_count": 57,
   "metadata": {},
   "outputs": [
    {
     "data": {
      "text/plain": [
       "(800, 13)"
      ]
     },
     "execution_count": 57,
     "metadata": {},
     "output_type": "execute_result"
    }
   ],
   "source": [
    "temp_pokemon.shape"
   ]
  },
  {
   "cell_type": "code",
   "execution_count": 64,
   "metadata": {},
   "outputs": [
    {
     "data": {
      "text/plain": [
       "(154, 13)"
      ]
     },
     "execution_count": 64,
     "metadata": {},
     "output_type": "execute_result"
    }
   ],
   "source": [
    "temp_pokemon.drop_duplicates(subset=['Type 1', 'Type 2']).shape"
   ]
  },
  {
   "cell_type": "markdown",
   "metadata": {},
   "source": [
    "### 异常值处理"
   ]
  },
  {
   "cell_type": "markdown",
   "metadata": {},
   "source": [
    "异常值又称为离群值（outliers）。指的是数据中有一个或几个数值与其他值差异较大。\n",
    "\n",
    "- 小于$Q_1 - 1.5\\left(Q_3 - Q1 \\right)$或大于$Q3 + 1.5\\left(Q_3 - Q1 \\right)$的值称为异常值。\n",
    "- $IQR = Q3 - Q1$称为四分位距（interquartile range, IQR）。\n",
    "\n",
    "![](./Images/1/1.png)\n",
    "\n",
    "Image source: https://towardsdatascience.com/understanding-boxplots-5e2df7bcbd51"
   ]
  },
  {
   "cell_type": "markdown",
   "metadata": {},
   "source": [
    "`describe()`函数可以查看到数据集的基本情况，其中：\n",
    "\n",
    "- count表示每个条目出现的次数\n",
    "- mean表示平均数\n",
    "- std表示标准差\n",
    "- min表示最小值\n",
    "- 25%表示第一四分位数\n",
    "- 50%表示中位数\n",
    "- 75%表示第三四分位数\n",
    "- max表示最大值"
   ]
  },
  {
   "cell_type": "code",
   "execution_count": 65,
   "metadata": {},
   "outputs": [
    {
     "data": {
      "text/html": [
       "<div>\n",
       "<style scoped>\n",
       "    .dataframe tbody tr th:only-of-type {\n",
       "        vertical-align: middle;\n",
       "    }\n",
       "\n",
       "    .dataframe tbody tr th {\n",
       "        vertical-align: top;\n",
       "    }\n",
       "\n",
       "    .dataframe thead th {\n",
       "        text-align: right;\n",
       "    }\n",
       "</style>\n",
       "<table border=\"1\" class=\"dataframe\">\n",
       "  <thead>\n",
       "    <tr style=\"text-align: right;\">\n",
       "      <th></th>\n",
       "      <th>#</th>\n",
       "      <th>Total</th>\n",
       "      <th>HP</th>\n",
       "      <th>Attack</th>\n",
       "      <th>Defense</th>\n",
       "      <th>Sp. Atk</th>\n",
       "      <th>Sp. Def</th>\n",
       "      <th>Speed</th>\n",
       "      <th>Generation</th>\n",
       "    </tr>\n",
       "  </thead>\n",
       "  <tbody>\n",
       "    <tr>\n",
       "      <th>count</th>\n",
       "      <td>800.000000</td>\n",
       "      <td>800.00000</td>\n",
       "      <td>800.000000</td>\n",
       "      <td>800.000000</td>\n",
       "      <td>800.000000</td>\n",
       "      <td>800.000000</td>\n",
       "      <td>800.000000</td>\n",
       "      <td>800.000000</td>\n",
       "      <td>800.00000</td>\n",
       "    </tr>\n",
       "    <tr>\n",
       "      <th>mean</th>\n",
       "      <td>362.813750</td>\n",
       "      <td>435.10250</td>\n",
       "      <td>69.258750</td>\n",
       "      <td>79.001250</td>\n",
       "      <td>73.842500</td>\n",
       "      <td>72.820000</td>\n",
       "      <td>71.902500</td>\n",
       "      <td>68.277500</td>\n",
       "      <td>3.32375</td>\n",
       "    </tr>\n",
       "    <tr>\n",
       "      <th>std</th>\n",
       "      <td>208.343798</td>\n",
       "      <td>119.96304</td>\n",
       "      <td>25.534669</td>\n",
       "      <td>32.457366</td>\n",
       "      <td>31.183501</td>\n",
       "      <td>32.722294</td>\n",
       "      <td>27.828916</td>\n",
       "      <td>29.060474</td>\n",
       "      <td>1.66129</td>\n",
       "    </tr>\n",
       "    <tr>\n",
       "      <th>min</th>\n",
       "      <td>1.000000</td>\n",
       "      <td>180.00000</td>\n",
       "      <td>1.000000</td>\n",
       "      <td>5.000000</td>\n",
       "      <td>5.000000</td>\n",
       "      <td>10.000000</td>\n",
       "      <td>20.000000</td>\n",
       "      <td>5.000000</td>\n",
       "      <td>1.00000</td>\n",
       "    </tr>\n",
       "    <tr>\n",
       "      <th>25%</th>\n",
       "      <td>184.750000</td>\n",
       "      <td>330.00000</td>\n",
       "      <td>50.000000</td>\n",
       "      <td>55.000000</td>\n",
       "      <td>50.000000</td>\n",
       "      <td>49.750000</td>\n",
       "      <td>50.000000</td>\n",
       "      <td>45.000000</td>\n",
       "      <td>2.00000</td>\n",
       "    </tr>\n",
       "    <tr>\n",
       "      <th>50%</th>\n",
       "      <td>364.500000</td>\n",
       "      <td>450.00000</td>\n",
       "      <td>65.000000</td>\n",
       "      <td>75.000000</td>\n",
       "      <td>70.000000</td>\n",
       "      <td>65.000000</td>\n",
       "      <td>70.000000</td>\n",
       "      <td>65.000000</td>\n",
       "      <td>3.00000</td>\n",
       "    </tr>\n",
       "    <tr>\n",
       "      <th>75%</th>\n",
       "      <td>539.250000</td>\n",
       "      <td>515.00000</td>\n",
       "      <td>80.000000</td>\n",
       "      <td>100.000000</td>\n",
       "      <td>90.000000</td>\n",
       "      <td>95.000000</td>\n",
       "      <td>90.000000</td>\n",
       "      <td>90.000000</td>\n",
       "      <td>5.00000</td>\n",
       "    </tr>\n",
       "    <tr>\n",
       "      <th>max</th>\n",
       "      <td>721.000000</td>\n",
       "      <td>780.00000</td>\n",
       "      <td>255.000000</td>\n",
       "      <td>190.000000</td>\n",
       "      <td>230.000000</td>\n",
       "      <td>194.000000</td>\n",
       "      <td>230.000000</td>\n",
       "      <td>180.000000</td>\n",
       "      <td>6.00000</td>\n",
       "    </tr>\n",
       "  </tbody>\n",
       "</table>\n",
       "</div>"
      ],
      "text/plain": [
       "                #      Total          HP      Attack     Defense     Sp. Atk  \\\n",
       "count  800.000000  800.00000  800.000000  800.000000  800.000000  800.000000   \n",
       "mean   362.813750  435.10250   69.258750   79.001250   73.842500   72.820000   \n",
       "std    208.343798  119.96304   25.534669   32.457366   31.183501   32.722294   \n",
       "min      1.000000  180.00000    1.000000    5.000000    5.000000   10.000000   \n",
       "25%    184.750000  330.00000   50.000000   55.000000   50.000000   49.750000   \n",
       "50%    364.500000  450.00000   65.000000   75.000000   70.000000   65.000000   \n",
       "75%    539.250000  515.00000   80.000000  100.000000   90.000000   95.000000   \n",
       "max    721.000000  780.00000  255.000000  190.000000  230.000000  194.000000   \n",
       "\n",
       "          Sp. Def       Speed  Generation  \n",
       "count  800.000000  800.000000   800.00000  \n",
       "mean    71.902500   68.277500     3.32375  \n",
       "std     27.828916   29.060474     1.66129  \n",
       "min     20.000000    5.000000     1.00000  \n",
       "25%     50.000000   45.000000     2.00000  \n",
       "50%     70.000000   65.000000     3.00000  \n",
       "75%     90.000000   90.000000     5.00000  \n",
       "max    230.000000  180.000000     6.00000  "
      ]
     },
     "execution_count": 65,
     "metadata": {},
     "output_type": "execute_result"
    }
   ],
   "source": [
    "pokemon.describe()"
   ]
  },
  {
   "cell_type": "code",
   "execution_count": 68,
   "metadata": {},
   "outputs": [
    {
     "name": "stdout",
     "output_type": "stream",
     "text": [
      "<class 'pandas.core.frame.DataFrame'>\n",
      "RangeIndex: 800 entries, 0 to 799\n",
      "Data columns (total 13 columns):\n",
      " #   Column      Non-Null Count  Dtype \n",
      "---  ------      --------------  ----- \n",
      " 0   #           800 non-null    int64 \n",
      " 1   Name        800 non-null    object\n",
      " 2   Type 1      800 non-null    object\n",
      " 3   Type 2      414 non-null    object\n",
      " 4   Total       800 non-null    int64 \n",
      " 5   HP          800 non-null    int64 \n",
      " 6   Attack      800 non-null    int64 \n",
      " 7   Defense     800 non-null    int64 \n",
      " 8   Sp. Atk     800 non-null    int64 \n",
      " 9   Sp. Def     800 non-null    int64 \n",
      " 10  Speed       800 non-null    int64 \n",
      " 11  Generation  800 non-null    int64 \n",
      " 12  Legendary   800 non-null    bool  \n",
      "dtypes: bool(1), int64(9), object(3)\n",
      "memory usage: 75.9+ KB\n"
     ]
    }
   ],
   "source": [
    "pokemon.info()"
   ]
  },
  {
   "cell_type": "code",
   "execution_count": 79,
   "metadata": {},
   "outputs": [],
   "source": [
    "Q1, Q3 = pokemon['Defense'].quantile(0.25), pokemon['Defense'].quantile(0.75)"
   ]
  },
  {
   "cell_type": "code",
   "execution_count": 80,
   "metadata": {},
   "outputs": [],
   "source": [
    "IQR = Q3 - Q1"
   ]
  },
  {
   "cell_type": "code",
   "execution_count": 81,
   "metadata": {},
   "outputs": [
    {
     "data": {
      "text/plain": [
       "(90.0, 50.0, 40.0)"
      ]
     },
     "execution_count": 81,
     "metadata": {},
     "output_type": "execute_result"
    }
   ],
   "source": [
    "Q3, Q1, IQR"
   ]
  },
  {
   "cell_type": "code",
   "execution_count": 82,
   "metadata": {},
   "outputs": [],
   "source": [
    "index = pokemon['Defense'].between(Q1 - 1.5 * IQR, Q3 + 1.5 * IQR)"
   ]
  },
  {
   "cell_type": "code",
   "execution_count": 83,
   "metadata": {},
   "outputs": [
    {
     "data": {
      "text/html": [
       "<div>\n",
       "<style scoped>\n",
       "    .dataframe tbody tr th:only-of-type {\n",
       "        vertical-align: middle;\n",
       "    }\n",
       "\n",
       "    .dataframe tbody tr th {\n",
       "        vertical-align: top;\n",
       "    }\n",
       "\n",
       "    .dataframe thead th {\n",
       "        text-align: right;\n",
       "    }\n",
       "</style>\n",
       "<table border=\"1\" class=\"dataframe\">\n",
       "  <thead>\n",
       "    <tr style=\"text-align: right;\">\n",
       "      <th></th>\n",
       "      <th>#</th>\n",
       "      <th>Name</th>\n",
       "      <th>Type 1</th>\n",
       "      <th>Type 2</th>\n",
       "      <th>Total</th>\n",
       "      <th>HP</th>\n",
       "      <th>Attack</th>\n",
       "      <th>Defense</th>\n",
       "      <th>Sp. Atk</th>\n",
       "      <th>Sp. Def</th>\n",
       "      <th>Speed</th>\n",
       "      <th>Generation</th>\n",
       "      <th>Legendary</th>\n",
       "    </tr>\n",
       "  </thead>\n",
       "  <tbody>\n",
       "    <tr>\n",
       "      <th>0</th>\n",
       "      <td>1</td>\n",
       "      <td>Bulbasaur</td>\n",
       "      <td>Grass</td>\n",
       "      <td>Poison</td>\n",
       "      <td>318</td>\n",
       "      <td>45</td>\n",
       "      <td>49</td>\n",
       "      <td>49</td>\n",
       "      <td>65</td>\n",
       "      <td>65</td>\n",
       "      <td>45</td>\n",
       "      <td>1</td>\n",
       "      <td>False</td>\n",
       "    </tr>\n",
       "    <tr>\n",
       "      <th>1</th>\n",
       "      <td>2</td>\n",
       "      <td>Ivysaur</td>\n",
       "      <td>Grass</td>\n",
       "      <td>Poison</td>\n",
       "      <td>405</td>\n",
       "      <td>60</td>\n",
       "      <td>62</td>\n",
       "      <td>63</td>\n",
       "      <td>80</td>\n",
       "      <td>80</td>\n",
       "      <td>60</td>\n",
       "      <td>1</td>\n",
       "      <td>False</td>\n",
       "    </tr>\n",
       "    <tr>\n",
       "      <th>2</th>\n",
       "      <td>3</td>\n",
       "      <td>Venusaur</td>\n",
       "      <td>Grass</td>\n",
       "      <td>Poison</td>\n",
       "      <td>525</td>\n",
       "      <td>80</td>\n",
       "      <td>82</td>\n",
       "      <td>83</td>\n",
       "      <td>100</td>\n",
       "      <td>100</td>\n",
       "      <td>80</td>\n",
       "      <td>1</td>\n",
       "      <td>False</td>\n",
       "    </tr>\n",
       "    <tr>\n",
       "      <th>3</th>\n",
       "      <td>3</td>\n",
       "      <td>VenusaurMega Venusaur</td>\n",
       "      <td>Grass</td>\n",
       "      <td>Poison</td>\n",
       "      <td>625</td>\n",
       "      <td>80</td>\n",
       "      <td>100</td>\n",
       "      <td>123</td>\n",
       "      <td>122</td>\n",
       "      <td>120</td>\n",
       "      <td>80</td>\n",
       "      <td>1</td>\n",
       "      <td>False</td>\n",
       "    </tr>\n",
       "    <tr>\n",
       "      <th>4</th>\n",
       "      <td>4</td>\n",
       "      <td>Charmander</td>\n",
       "      <td>Fire</td>\n",
       "      <td>NaN</td>\n",
       "      <td>309</td>\n",
       "      <td>39</td>\n",
       "      <td>52</td>\n",
       "      <td>43</td>\n",
       "      <td>60</td>\n",
       "      <td>50</td>\n",
       "      <td>65</td>\n",
       "      <td>1</td>\n",
       "      <td>False</td>\n",
       "    </tr>\n",
       "    <tr>\n",
       "      <th>...</th>\n",
       "      <td>...</td>\n",
       "      <td>...</td>\n",
       "      <td>...</td>\n",
       "      <td>...</td>\n",
       "      <td>...</td>\n",
       "      <td>...</td>\n",
       "      <td>...</td>\n",
       "      <td>...</td>\n",
       "      <td>...</td>\n",
       "      <td>...</td>\n",
       "      <td>...</td>\n",
       "      <td>...</td>\n",
       "      <td>...</td>\n",
       "    </tr>\n",
       "    <tr>\n",
       "      <th>795</th>\n",
       "      <td>719</td>\n",
       "      <td>Diancie</td>\n",
       "      <td>Rock</td>\n",
       "      <td>Fairy</td>\n",
       "      <td>600</td>\n",
       "      <td>50</td>\n",
       "      <td>100</td>\n",
       "      <td>150</td>\n",
       "      <td>100</td>\n",
       "      <td>150</td>\n",
       "      <td>50</td>\n",
       "      <td>6</td>\n",
       "      <td>True</td>\n",
       "    </tr>\n",
       "    <tr>\n",
       "      <th>796</th>\n",
       "      <td>719</td>\n",
       "      <td>DiancieMega Diancie</td>\n",
       "      <td>Rock</td>\n",
       "      <td>Fairy</td>\n",
       "      <td>700</td>\n",
       "      <td>50</td>\n",
       "      <td>160</td>\n",
       "      <td>110</td>\n",
       "      <td>160</td>\n",
       "      <td>110</td>\n",
       "      <td>110</td>\n",
       "      <td>6</td>\n",
       "      <td>True</td>\n",
       "    </tr>\n",
       "    <tr>\n",
       "      <th>797</th>\n",
       "      <td>720</td>\n",
       "      <td>HoopaHoopa Confined</td>\n",
       "      <td>Psychic</td>\n",
       "      <td>Ghost</td>\n",
       "      <td>600</td>\n",
       "      <td>80</td>\n",
       "      <td>110</td>\n",
       "      <td>60</td>\n",
       "      <td>150</td>\n",
       "      <td>130</td>\n",
       "      <td>70</td>\n",
       "      <td>6</td>\n",
       "      <td>True</td>\n",
       "    </tr>\n",
       "    <tr>\n",
       "      <th>798</th>\n",
       "      <td>720</td>\n",
       "      <td>HoopaHoopa Unbound</td>\n",
       "      <td>Psychic</td>\n",
       "      <td>Dark</td>\n",
       "      <td>680</td>\n",
       "      <td>80</td>\n",
       "      <td>160</td>\n",
       "      <td>60</td>\n",
       "      <td>170</td>\n",
       "      <td>130</td>\n",
       "      <td>80</td>\n",
       "      <td>6</td>\n",
       "      <td>True</td>\n",
       "    </tr>\n",
       "    <tr>\n",
       "      <th>799</th>\n",
       "      <td>721</td>\n",
       "      <td>Volcanion</td>\n",
       "      <td>Fire</td>\n",
       "      <td>Water</td>\n",
       "      <td>600</td>\n",
       "      <td>80</td>\n",
       "      <td>110</td>\n",
       "      <td>120</td>\n",
       "      <td>130</td>\n",
       "      <td>90</td>\n",
       "      <td>70</td>\n",
       "      <td>6</td>\n",
       "      <td>True</td>\n",
       "    </tr>\n",
       "  </tbody>\n",
       "</table>\n",
       "<p>787 rows × 13 columns</p>\n",
       "</div>"
      ],
      "text/plain": [
       "       #                   Name   Type 1  Type 2  Total  HP  Attack  Defense  \\\n",
       "0      1              Bulbasaur    Grass  Poison    318  45      49       49   \n",
       "1      2                Ivysaur    Grass  Poison    405  60      62       63   \n",
       "2      3               Venusaur    Grass  Poison    525  80      82       83   \n",
       "3      3  VenusaurMega Venusaur    Grass  Poison    625  80     100      123   \n",
       "4      4             Charmander     Fire     NaN    309  39      52       43   \n",
       "..   ...                    ...      ...     ...    ...  ..     ...      ...   \n",
       "795  719                Diancie     Rock   Fairy    600  50     100      150   \n",
       "796  719    DiancieMega Diancie     Rock   Fairy    700  50     160      110   \n",
       "797  720    HoopaHoopa Confined  Psychic   Ghost    600  80     110       60   \n",
       "798  720     HoopaHoopa Unbound  Psychic    Dark    680  80     160       60   \n",
       "799  721              Volcanion     Fire   Water    600  80     110      120   \n",
       "\n",
       "     Sp. Atk  Sp. Def  Speed  Generation  Legendary  \n",
       "0         65       65     45           1      False  \n",
       "1         80       80     60           1      False  \n",
       "2        100      100     80           1      False  \n",
       "3        122      120     80           1      False  \n",
       "4         60       50     65           1      False  \n",
       "..       ...      ...    ...         ...        ...  \n",
       "795      100      150     50           6       True  \n",
       "796      160      110    110           6       True  \n",
       "797      150      130     70           6       True  \n",
       "798      170      130     80           6       True  \n",
       "799      130       90     70           6       True  \n",
       "\n",
       "[787 rows x 13 columns]"
      ]
     },
     "execution_count": 83,
     "metadata": {},
     "output_type": "execute_result"
    }
   ],
   "source": [
    "pokemon[index]"
   ]
  },
  {
   "cell_type": "markdown",
   "metadata": {},
   "source": [
    "How to Remove Outliers in Data With Pandas: https://nextjournal.com/schmudde/how-to-remove-outliers-in-data"
   ]
  },
  {
   "cell_type": "code",
   "execution_count": 84,
   "metadata": {},
   "outputs": [
    {
     "data": {
      "text/plain": [
       "<matplotlib.axes._subplots.AxesSubplot at 0x23485e5eeb0>"
      ]
     },
     "execution_count": 84,
     "metadata": {},
     "output_type": "execute_result"
    },
    {
     "data": {
      "image/png": "[encoded data removed]",
      "text/plain": [
       "<Figure size 432x288 with 1 Axes>"
      ]
     },
     "metadata": {
      "needs_background": "light"
     },
     "output_type": "display_data"
    }
   ],
   "source": [
    "pokemon.boxplot(column=['Defense', 'HP'])"
   ]
  },
  {
   "cell_type": "markdown",
   "metadata": {},
   "source": [
    "### 数据归一化/标准化"
   ]
  },
  {
   "cell_type": "markdown",
   "metadata": {},
   "source": [
    "数据的标准化（normalization）是将数据按比例缩放，使之落入一个特定区间。\n",
    "\n",
    "比如：\n",
    "\n",
    "- mean标准化\n",
    "- min-max标准化\n",
    "\n",
    "Normalize columns of pandas data frame: https://stackoverflow.com/questions/26414913/normalize-columns-of-pandas-data-frame"
   ]
  },
  {
   "cell_type": "code",
   "execution_count": 110,
   "metadata": {},
   "outputs": [],
   "source": [
    "defense = pokemon['Defense']"
   ]
  },
  {
   "cell_type": "code",
   "execution_count": 111,
   "metadata": {},
   "outputs": [],
   "source": [
    "# mean标准化\n",
    "normalized_defense = ( defense - defense.mean() ) / defense.std()"
   ]
  },
  {
   "cell_type": "code",
   "execution_count": 112,
   "metadata": {},
   "outputs": [
    {
     "data": {
      "text/plain": [
       "0     -0.796655\n",
       "1     -0.347700\n",
       "2      0.293665\n",
       "3      1.576395\n",
       "4     -0.989065\n",
       "         ...   \n",
       "795    2.442237\n",
       "796    1.159507\n",
       "797   -0.443905\n",
       "798   -0.443905\n",
       "799    1.480190\n",
       "Name: Defense, Length: 800, dtype: float64"
      ]
     },
     "execution_count": 112,
     "metadata": {},
     "output_type": "execute_result"
    }
   ],
   "source": [
    "normalized_defense"
   ]
  },
  {
   "cell_type": "code",
   "execution_count": 113,
   "metadata": {},
   "outputs": [],
   "source": [
    "# min-max标准化\n",
    "normalized_defense = ( defense - defense.min() ) / (defense.max() - defense.min())"
   ]
  },
  {
   "cell_type": "code",
   "execution_count": 114,
   "metadata": {},
   "outputs": [
    {
     "data": {
      "text/plain": [
       "0      0.195556\n",
       "1      0.257778\n",
       "2      0.346667\n",
       "3      0.524444\n",
       "4      0.168889\n",
       "         ...   \n",
       "795    0.644444\n",
       "796    0.466667\n",
       "797    0.244444\n",
       "798    0.244444\n",
       "799    0.511111\n",
       "Name: Defense, Length: 800, dtype: float64"
      ]
     },
     "execution_count": 114,
     "metadata": {},
     "output_type": "execute_result"
    }
   ],
   "source": [
    "normalized_defense"
   ]
  },
  {
   "cell_type": "markdown",
   "metadata": {},
   "source": [
    "### 重塑数据"
   ]
  },
  {
   "cell_type": "code",
   "execution_count": 100,
   "metadata": {},
   "outputs": [
    {
     "data": {
      "text/plain": [
       "\u001b[1;31mSignature:\u001b[0m\n",
       "\u001b[0mpd\u001b[0m\u001b[1;33m.\u001b[0m\u001b[0mmelt\u001b[0m\u001b[1;33m(\u001b[0m\u001b[1;33m\n",
       "\u001b[0m    \u001b[0mframe\u001b[0m\u001b[1;33m:\u001b[0m \u001b[0mpandas\u001b[0m\u001b[1;33m.\u001b[0m\u001b[0mcore\u001b[0m\u001b[1;33m.\u001b[0m\u001b[0mframe\u001b[0m\u001b[1;33m.\u001b[0m\u001b[0mDataFrame\u001b[0m\u001b[1;33m,\u001b[0m\u001b[1;33m\n",
       "\u001b[0m    \u001b[0mid_vars\u001b[0m\u001b[1;33m=\u001b[0m\u001b[1;32mNone\u001b[0m\u001b[1;33m,\u001b[0m\u001b[1;33m\n",
       "\u001b[0m    \u001b[0mvalue_vars\u001b[0m\u001b[1;33m=\u001b[0m\u001b[1;32mNone\u001b[0m\u001b[1;33m,\u001b[0m\u001b[1;33m\n",
       "\u001b[0m    \u001b[0mvar_name\u001b[0m\u001b[1;33m=\u001b[0m\u001b[1;32mNone\u001b[0m\u001b[1;33m,\u001b[0m\u001b[1;33m\n",
       "\u001b[0m    \u001b[0mvalue_name\u001b[0m\u001b[1;33m=\u001b[0m\u001b[1;34m'value'\u001b[0m\u001b[1;33m,\u001b[0m\u001b[1;33m\n",
       "\u001b[0m    \u001b[0mcol_level\u001b[0m\u001b[1;33m=\u001b[0m\u001b[1;32mNone\u001b[0m\u001b[1;33m,\u001b[0m\u001b[1;33m\n",
       "\u001b[0m\u001b[1;33m)\u001b[0m \u001b[1;33m->\u001b[0m \u001b[0mpandas\u001b[0m\u001b[1;33m.\u001b[0m\u001b[0mcore\u001b[0m\u001b[1;33m.\u001b[0m\u001b[0mframe\u001b[0m\u001b[1;33m.\u001b[0m\u001b[0mDataFrame\u001b[0m\u001b[1;33m\u001b[0m\u001b[1;33m\u001b[0m\u001b[0m\n",
       "\u001b[1;31mDocstring:\u001b[0m\n",
       "Unpivot a DataFrame from wide to long format, optionally leaving identifiers set.\n",
       "\n",
       "This function is useful to massage a DataFrame into a format where one\n",
       "or more columns are identifier variables (`id_vars`), while all other\n",
       "columns, considered measured variables (`value_vars`), are \"unpivoted\" to\n",
       "the row axis, leaving just two non-identifier columns, 'variable' and\n",
       "'value'.\n",
       "\n",
       "Parameters\n",
       "----------\n",
       "id_vars : tuple, list, or ndarray, optional\n",
       "    Column(s) to use as identifier variables.\n",
       "value_vars : tuple, list, or ndarray, optional\n",
       "    Column(s) to unpivot. If not specified, uses all columns that\n",
       "    are not set as `id_vars`.\n",
       "var_name : scalar\n",
       "    Name to use for the 'variable' column. If None it uses\n",
       "    ``frame.columns.name`` or 'variable'.\n",
       "value_name : scalar, default 'value'\n",
       "    Name to use for the 'value' column.\n",
       "col_level : int or str, optional\n",
       "    If columns are a MultiIndex then use this level to melt.\n",
       "\n",
       "Returns\n",
       "-------\n",
       "DataFrame\n",
       "    Unpivoted DataFrame.\n",
       "\n",
       "See Also\n",
       "--------\n",
       "DataFrame.melt\n",
       "pivot_table\n",
       "DataFrame.pivot\n",
       "Series.explode\n",
       "\n",
       "Examples\n",
       "--------\n",
       ">>> df = pd.DataFrame({'A': {0: 'a', 1: 'b', 2: 'c'},\n",
       "...                    'B': {0: 1, 1: 3, 2: 5},\n",
       "...                    'C': {0: 2, 1: 4, 2: 6}})\n",
       ">>> df\n",
       "   A  B  C\n",
       "0  a  1  2\n",
       "1  b  3  4\n",
       "2  c  5  6\n",
       "\n",
       ">>> pd.melt(df, id_vars=['A'], value_vars=['B'])\n",
       "   A variable  value\n",
       "0  a        B      1\n",
       "1  b        B      3\n",
       "2  c        B      5\n",
       "\n",
       ">>> pd.melt(df, id_vars=['A'], value_vars=['B', 'C'])\n",
       "   A variable  value\n",
       "0  a        B      1\n",
       "1  b        B      3\n",
       "2  c        B      5\n",
       "3  a        C      2\n",
       "4  b        C      4\n",
       "5  c        C      6\n",
       "\n",
       "The names of 'variable' and 'value' columns can be customized:\n",
       "\n",
       ">>> pd.melt(df, id_vars=['A'], value_vars=['B'],\n",
       "...         var_name='myVarname', value_name='myValname')\n",
       "   A myVarname  myValname\n",
       "0  a         B          1\n",
       "1  b         B          3\n",
       "2  c         B          5\n",
       "\n",
       "If you have multi-index columns:\n",
       "\n",
       ">>> df.columns = [list('ABC'), list('DEF')]\n",
       ">>> df\n",
       "   A  B  C\n",
       "   D  E  F\n",
       "0  a  1  2\n",
       "1  b  3  4\n",
       "2  c  5  6\n",
       "\n",
       ">>> pd.melt(df, col_level=0, id_vars=['A'], value_vars=['B'])\n",
       "   A variable  value\n",
       "0  a        B      1\n",
       "1  b        B      3\n",
       "2  c        B      5\n",
       "\n",
       ">>> pd.melt(df, id_vars=[('A', 'D')], value_vars=[('B', 'E')])\n",
       "  (A, D) variable_0 variable_1  value\n",
       "0      a          B          E      1\n",
       "1      b          B          E      3\n",
       "2      c          B          E      5\n",
       "\u001b[1;31mFile:\u001b[0m      c:\\python\\lib\\site-packages\\pandas\\core\\reshape\\melt.py\n",
       "\u001b[1;31mType:\u001b[0m      function\n"
      ]
     },
     "metadata": {},
     "output_type": "display_data"
    }
   ],
   "source": [
    "pd.melt?"
   ]
  },
  {
   "cell_type": "code",
   "execution_count": 99,
   "metadata": {},
   "outputs": [
    {
     "data": {
      "text/html": [
       "<div>\n",
       "<style scoped>\n",
       "    .dataframe tbody tr th:only-of-type {\n",
       "        vertical-align: middle;\n",
       "    }\n",
       "\n",
       "    .dataframe tbody tr th {\n",
       "        vertical-align: top;\n",
       "    }\n",
       "\n",
       "    .dataframe thead th {\n",
       "        text-align: right;\n",
       "    }\n",
       "</style>\n",
       "<table border=\"1\" class=\"dataframe\">\n",
       "  <thead>\n",
       "    <tr style=\"text-align: right;\">\n",
       "      <th></th>\n",
       "      <th>Name</th>\n",
       "      <th>Type Name</th>\n",
       "      <th>Type</th>\n",
       "    </tr>\n",
       "  </thead>\n",
       "  <tbody>\n",
       "    <tr>\n",
       "      <th>0</th>\n",
       "      <td>Bulbasaur</td>\n",
       "      <td>Type 1</td>\n",
       "      <td>Grass</td>\n",
       "    </tr>\n",
       "    <tr>\n",
       "      <th>1</th>\n",
       "      <td>Ivysaur</td>\n",
       "      <td>Type 1</td>\n",
       "      <td>Grass</td>\n",
       "    </tr>\n",
       "    <tr>\n",
       "      <th>2</th>\n",
       "      <td>Venusaur</td>\n",
       "      <td>Type 1</td>\n",
       "      <td>Grass</td>\n",
       "    </tr>\n",
       "    <tr>\n",
       "      <th>3</th>\n",
       "      <td>VenusaurMega Venusaur</td>\n",
       "      <td>Type 1</td>\n",
       "      <td>Grass</td>\n",
       "    </tr>\n",
       "    <tr>\n",
       "      <th>4</th>\n",
       "      <td>Charmander</td>\n",
       "      <td>Type 1</td>\n",
       "      <td>Fire</td>\n",
       "    </tr>\n",
       "    <tr>\n",
       "      <th>...</th>\n",
       "      <td>...</td>\n",
       "      <td>...</td>\n",
       "      <td>...</td>\n",
       "    </tr>\n",
       "    <tr>\n",
       "      <th>1595</th>\n",
       "      <td>Diancie</td>\n",
       "      <td>Type 2</td>\n",
       "      <td>Fairy</td>\n",
       "    </tr>\n",
       "    <tr>\n",
       "      <th>1596</th>\n",
       "      <td>DiancieMega Diancie</td>\n",
       "      <td>Type 2</td>\n",
       "      <td>Fairy</td>\n",
       "    </tr>\n",
       "    <tr>\n",
       "      <th>1597</th>\n",
       "      <td>HoopaHoopa Confined</td>\n",
       "      <td>Type 2</td>\n",
       "      <td>Ghost</td>\n",
       "    </tr>\n",
       "    <tr>\n",
       "      <th>1598</th>\n",
       "      <td>HoopaHoopa Unbound</td>\n",
       "      <td>Type 2</td>\n",
       "      <td>Dark</td>\n",
       "    </tr>\n",
       "    <tr>\n",
       "      <th>1599</th>\n",
       "      <td>Volcanion</td>\n",
       "      <td>Type 2</td>\n",
       "      <td>Water</td>\n",
       "    </tr>\n",
       "  </tbody>\n",
       "</table>\n",
       "<p>1600 rows × 3 columns</p>\n",
       "</div>"
      ],
      "text/plain": [
       "                       Name Type Name   Type\n",
       "0                 Bulbasaur    Type 1  Grass\n",
       "1                   Ivysaur    Type 1  Grass\n",
       "2                  Venusaur    Type 1  Grass\n",
       "3     VenusaurMega Venusaur    Type 1  Grass\n",
       "4                Charmander    Type 1   Fire\n",
       "...                     ...       ...    ...\n",
       "1595                Diancie    Type 2  Fairy\n",
       "1596    DiancieMega Diancie    Type 2  Fairy\n",
       "1597    HoopaHoopa Confined    Type 2  Ghost\n",
       "1598     HoopaHoopa Unbound    Type 2   Dark\n",
       "1599              Volcanion    Type 2  Water\n",
       "\n",
       "[1600 rows x 3 columns]"
      ]
     },
     "execution_count": 99,
     "metadata": {},
     "output_type": "execute_result"
    }
   ],
   "source": [
    "pd.melt(frame=pokemon, id_vars=['Name'], value_vars=['Type 1', 'Type 2'], value_name='Type', var_name='Type Name')"
   ]
  },
  {
   "cell_type": "code",
   "execution_count": 106,
   "metadata": {},
   "outputs": [],
   "source": [
    "melted = pd.melt(frame=pokemon, id_vars=['Name'], value_vars=['Attack', 'Defense'], value_name='Value', var_name='Type')"
   ]
  },
  {
   "cell_type": "code",
   "execution_count": 107,
   "metadata": {},
   "outputs": [
    {
     "data": {
      "text/html": [
       "<div>\n",
       "<style scoped>\n",
       "    .dataframe tbody tr th:only-of-type {\n",
       "        vertical-align: middle;\n",
       "    }\n",
       "\n",
       "    .dataframe tbody tr th {\n",
       "        vertical-align: top;\n",
       "    }\n",
       "\n",
       "    .dataframe thead th {\n",
       "        text-align: right;\n",
       "    }\n",
       "</style>\n",
       "<table border=\"1\" class=\"dataframe\">\n",
       "  <thead>\n",
       "    <tr style=\"text-align: right;\">\n",
       "      <th></th>\n",
       "      <th>Name</th>\n",
       "      <th>Type</th>\n",
       "      <th>Value</th>\n",
       "    </tr>\n",
       "  </thead>\n",
       "  <tbody>\n",
       "    <tr>\n",
       "      <th>0</th>\n",
       "      <td>Bulbasaur</td>\n",
       "      <td>Attack</td>\n",
       "      <td>49</td>\n",
       "    </tr>\n",
       "    <tr>\n",
       "      <th>1</th>\n",
       "      <td>Ivysaur</td>\n",
       "      <td>Attack</td>\n",
       "      <td>62</td>\n",
       "    </tr>\n",
       "    <tr>\n",
       "      <th>2</th>\n",
       "      <td>Venusaur</td>\n",
       "      <td>Attack</td>\n",
       "      <td>82</td>\n",
       "    </tr>\n",
       "    <tr>\n",
       "      <th>3</th>\n",
       "      <td>VenusaurMega Venusaur</td>\n",
       "      <td>Attack</td>\n",
       "      <td>100</td>\n",
       "    </tr>\n",
       "    <tr>\n",
       "      <th>4</th>\n",
       "      <td>Charmander</td>\n",
       "      <td>Attack</td>\n",
       "      <td>52</td>\n",
       "    </tr>\n",
       "    <tr>\n",
       "      <th>...</th>\n",
       "      <td>...</td>\n",
       "      <td>...</td>\n",
       "      <td>...</td>\n",
       "    </tr>\n",
       "    <tr>\n",
       "      <th>1595</th>\n",
       "      <td>Diancie</td>\n",
       "      <td>Defense</td>\n",
       "      <td>150</td>\n",
       "    </tr>\n",
       "    <tr>\n",
       "      <th>1596</th>\n",
       "      <td>DiancieMega Diancie</td>\n",
       "      <td>Defense</td>\n",
       "      <td>110</td>\n",
       "    </tr>\n",
       "    <tr>\n",
       "      <th>1597</th>\n",
       "      <td>HoopaHoopa Confined</td>\n",
       "      <td>Defense</td>\n",
       "      <td>60</td>\n",
       "    </tr>\n",
       "    <tr>\n",
       "      <th>1598</th>\n",
       "      <td>HoopaHoopa Unbound</td>\n",
       "      <td>Defense</td>\n",
       "      <td>60</td>\n",
       "    </tr>\n",
       "    <tr>\n",
       "      <th>1599</th>\n",
       "      <td>Volcanion</td>\n",
       "      <td>Defense</td>\n",
       "      <td>120</td>\n",
       "    </tr>\n",
       "  </tbody>\n",
       "</table>\n",
       "<p>1600 rows × 3 columns</p>\n",
       "</div>"
      ],
      "text/plain": [
       "                       Name     Type  Value\n",
       "0                 Bulbasaur   Attack     49\n",
       "1                   Ivysaur   Attack     62\n",
       "2                  Venusaur   Attack     82\n",
       "3     VenusaurMega Venusaur   Attack    100\n",
       "4                Charmander   Attack     52\n",
       "...                     ...      ...    ...\n",
       "1595                Diancie  Defense    150\n",
       "1596    DiancieMega Diancie  Defense    110\n",
       "1597    HoopaHoopa Confined  Defense     60\n",
       "1598     HoopaHoopa Unbound  Defense     60\n",
       "1599              Volcanion  Defense    120\n",
       "\n",
       "[1600 rows x 3 columns]"
      ]
     },
     "execution_count": 107,
     "metadata": {},
     "output_type": "execute_result"
    }
   ],
   "source": [
    "melted"
   ]
  },
  {
   "cell_type": "code",
   "execution_count": 108,
   "metadata": {},
   "outputs": [
    {
     "data": {
      "text/html": [
       "<div>\n",
       "<style scoped>\n",
       "    .dataframe tbody tr th:only-of-type {\n",
       "        vertical-align: middle;\n",
       "    }\n",
       "\n",
       "    .dataframe tbody tr th {\n",
       "        vertical-align: top;\n",
       "    }\n",
       "\n",
       "    .dataframe thead th {\n",
       "        text-align: right;\n",
       "    }\n",
       "</style>\n",
       "<table border=\"1\" class=\"dataframe\">\n",
       "  <thead>\n",
       "    <tr style=\"text-align: right;\">\n",
       "      <th>Type</th>\n",
       "      <th>Attack</th>\n",
       "      <th>Defense</th>\n",
       "    </tr>\n",
       "    <tr>\n",
       "      <th>Name</th>\n",
       "      <th></th>\n",
       "      <th></th>\n",
       "    </tr>\n",
       "  </thead>\n",
       "  <tbody>\n",
       "    <tr>\n",
       "      <th>Abomasnow</th>\n",
       "      <td>92</td>\n",
       "      <td>75</td>\n",
       "    </tr>\n",
       "    <tr>\n",
       "      <th>AbomasnowMega Abomasnow</th>\n",
       "      <td>132</td>\n",
       "      <td>105</td>\n",
       "    </tr>\n",
       "    <tr>\n",
       "      <th>Abra</th>\n",
       "      <td>20</td>\n",
       "      <td>15</td>\n",
       "    </tr>\n",
       "    <tr>\n",
       "      <th>Absol</th>\n",
       "      <td>130</td>\n",
       "      <td>60</td>\n",
       "    </tr>\n",
       "    <tr>\n",
       "      <th>AbsolMega Absol</th>\n",
       "      <td>150</td>\n",
       "      <td>60</td>\n",
       "    </tr>\n",
       "    <tr>\n",
       "      <th>...</th>\n",
       "      <td>...</td>\n",
       "      <td>...</td>\n",
       "    </tr>\n",
       "    <tr>\n",
       "      <th>Zoroark</th>\n",
       "      <td>105</td>\n",
       "      <td>60</td>\n",
       "    </tr>\n",
       "    <tr>\n",
       "      <th>Zorua</th>\n",
       "      <td>65</td>\n",
       "      <td>40</td>\n",
       "    </tr>\n",
       "    <tr>\n",
       "      <th>Zubat</th>\n",
       "      <td>45</td>\n",
       "      <td>35</td>\n",
       "    </tr>\n",
       "    <tr>\n",
       "      <th>Zweilous</th>\n",
       "      <td>85</td>\n",
       "      <td>70</td>\n",
       "    </tr>\n",
       "    <tr>\n",
       "      <th>Zygarde50% Forme</th>\n",
       "      <td>100</td>\n",
       "      <td>121</td>\n",
       "    </tr>\n",
       "  </tbody>\n",
       "</table>\n",
       "<p>800 rows × 2 columns</p>\n",
       "</div>"
      ],
      "text/plain": [
       "Type                     Attack  Defense\n",
       "Name                                    \n",
       "Abomasnow                    92       75\n",
       "AbomasnowMega Abomasnow     132      105\n",
       "Abra                         20       15\n",
       "Absol                       130       60\n",
       "AbsolMega Absol             150       60\n",
       "...                         ...      ...\n",
       "Zoroark                     105       60\n",
       "Zorua                        65       40\n",
       "Zubat                        45       35\n",
       "Zweilous                     85       70\n",
       "Zygarde50% Forme            100      121\n",
       "\n",
       "[800 rows x 2 columns]"
      ]
     },
     "execution_count": 108,
     "metadata": {},
     "output_type": "execute_result"
    }
   ],
   "source": [
    "melted.pivot_table(index='Name', columns='Type', values='Value')"
   ]
  },
  {
   "cell_type": "markdown",
   "metadata": {},
   "source": [
    "## 数据分析"
   ]
  },
  {
   "cell_type": "markdown",
   "metadata": {},
   "source": [
    "### 分布分析"
   ]
  },
  {
   "cell_type": "markdown",
   "metadata": {},
   "source": [
    "研究数据的分布特征和分布类型，分定量数据、定性数据。\n",
    "\n",
    "基本统计量有：极差，频率分布情况，分组组距以及组数。"
   ]
  },
  {
   "cell_type": "code",
   "execution_count": 116,
   "metadata": {},
   "outputs": [
    {
     "data": {
      "text/html": [
       "<div>\n",
       "<style scoped>\n",
       "    .dataframe tbody tr th:only-of-type {\n",
       "        vertical-align: middle;\n",
       "    }\n",
       "\n",
       "    .dataframe tbody tr th {\n",
       "        vertical-align: top;\n",
       "    }\n",
       "\n",
       "    .dataframe thead th {\n",
       "        text-align: right;\n",
       "    }\n",
       "</style>\n",
       "<table border=\"1\" class=\"dataframe\">\n",
       "  <thead>\n",
       "    <tr style=\"text-align: right;\">\n",
       "      <th></th>\n",
       "      <th>房屋编码</th>\n",
       "      <th>小区</th>\n",
       "      <th>朝向</th>\n",
       "      <th>房屋单价</th>\n",
       "      <th>参考首付</th>\n",
       "      <th>参考总价</th>\n",
       "      <th>经度</th>\n",
       "      <th>纬度</th>\n",
       "    </tr>\n",
       "  </thead>\n",
       "  <tbody>\n",
       "    <tr>\n",
       "      <th>0</th>\n",
       "      <td>605093949</td>\n",
       "      <td>大望新平村</td>\n",
       "      <td>南北</td>\n",
       "      <td>5434</td>\n",
       "      <td>15.0</td>\n",
       "      <td>50.0</td>\n",
       "      <td>114.180964</td>\n",
       "      <td>22.603698</td>\n",
       "    </tr>\n",
       "    <tr>\n",
       "      <th>1</th>\n",
       "      <td>605768856</td>\n",
       "      <td>通宝楼</td>\n",
       "      <td>南北</td>\n",
       "      <td>3472</td>\n",
       "      <td>7.5</td>\n",
       "      <td>25.0</td>\n",
       "      <td>114.179298</td>\n",
       "      <td>22.566910</td>\n",
       "    </tr>\n",
       "    <tr>\n",
       "      <th>2</th>\n",
       "      <td>606815561</td>\n",
       "      <td>罗湖区罗芳村</td>\n",
       "      <td>南北</td>\n",
       "      <td>5842</td>\n",
       "      <td>15.6</td>\n",
       "      <td>52.0</td>\n",
       "      <td>114.158869</td>\n",
       "      <td>22.547223</td>\n",
       "    </tr>\n",
       "    <tr>\n",
       "      <th>3</th>\n",
       "      <td>605147285</td>\n",
       "      <td>兴华苑</td>\n",
       "      <td>南北</td>\n",
       "      <td>3829</td>\n",
       "      <td>10.8</td>\n",
       "      <td>36.0</td>\n",
       "      <td>114.158040</td>\n",
       "      <td>22.554343</td>\n",
       "    </tr>\n",
       "    <tr>\n",
       "      <th>4</th>\n",
       "      <td>606030866</td>\n",
       "      <td>京基东方都会</td>\n",
       "      <td>西南</td>\n",
       "      <td>47222</td>\n",
       "      <td>51.0</td>\n",
       "      <td>170.0</td>\n",
       "      <td>114.149243</td>\n",
       "      <td>22.554370</td>\n",
       "    </tr>\n",
       "  </tbody>\n",
       "</table>\n",
       "</div>"
      ],
      "text/plain": [
       "        房屋编码      小区  朝向   房屋单价  参考首付   参考总价          经度         纬度\n",
       "0  605093949   大望新平村  南北   5434  15.0   50.0  114.180964  22.603698\n",
       "1  605768856     通宝楼  南北   3472   7.5   25.0  114.179298  22.566910\n",
       "2  606815561  罗湖区罗芳村  南北   5842  15.6   52.0  114.158869  22.547223\n",
       "3  605147285     兴华苑  南北   3829  10.8   36.0  114.158040  22.554343\n",
       "4  606030866  京基东方都会  西南  47222  51.0  170.0  114.149243  22.554370"
      ]
     },
     "execution_count": 116,
     "metadata": {},
     "output_type": "execute_result"
    }
   ],
   "source": [
    "house.head()"
   ]
  },
  {
   "cell_type": "markdown",
   "metadata": {},
   "source": [
    "可以看到，数据有8个字段。其中，\n",
    "\n",
    "房屋单价，参考首付，参考总价，经度，纬度，房屋编码为定量字段。\n",
    "\n",
    "小区，朝向为定性字段。"
   ]
  },
  {
   "cell_type": "code",
   "execution_count": 117,
   "metadata": {},
   "outputs": [
    {
     "data": {
      "text/plain": [
       "(75, 8)"
      ]
     },
     "execution_count": 117,
     "metadata": {},
     "output_type": "execute_result"
    }
   ],
   "source": [
    "house.shape"
   ]
  },
  {
   "cell_type": "code",
   "execution_count": 118,
   "metadata": {},
   "outputs": [
    {
     "name": "stdout",
     "output_type": "stream",
     "text": [
      "<class 'pandas.core.frame.DataFrame'>\n",
      "RangeIndex: 75 entries, 0 to 74\n",
      "Data columns (total 8 columns):\n",
      " #   Column  Non-Null Count  Dtype  \n",
      "---  ------  --------------  -----  \n",
      " 0   房屋编码    75 non-null     int64  \n",
      " 1   小区      75 non-null     object \n",
      " 2   朝向      75 non-null     object \n",
      " 3   房屋单价    75 non-null     int64  \n",
      " 4   参考首付    75 non-null     float64\n",
      " 5   参考总价    75 non-null     float64\n",
      " 6   经度      75 non-null     float64\n",
      " 7   纬度      75 non-null     float64\n",
      "dtypes: float64(4), int64(2), object(2)\n",
      "memory usage: 4.8+ KB\n"
     ]
    }
   ],
   "source": [
    "house.info()"
   ]
  },
  {
   "cell_type": "code",
   "execution_count": 121,
   "metadata": {},
   "outputs": [],
   "source": [
    "# ⽤来正常显示中⽂标签\n",
    "plt.rcParams['font.sans-serif']=['SimHei']\n",
    "# ⽤来正常显示负号\n",
    "plt.rcParams['axes.unicode_minus']=False "
   ]
  },
  {
   "cell_type": "code",
   "execution_count": 123,
   "metadata": {},
   "outputs": [
    {
     "data": {
      "text/plain": [
       "Text(0, 0.5, '纬度')"
      ]
     },
     "execution_count": 123,
     "metadata": {},
     "output_type": "execute_result"
    },
    {
     "data": {
      "image/png": "[encoded data removed]",
      "text/plain": [
       "<Figure size 432x288 with 1 Axes>"
      ]
     },
     "metadata": {
      "needs_background": "light"
     },
     "output_type": "display_data"
    }
   ],
   "source": [
    "plt.scatter(house['经度'], house['纬度'],\n",
    "           s = house['房屋单价'] / 500, # 按房屋单价显示大小\n",
    "           c = house['参考总价'], # 按参考总价显示颜色\n",
    "           alpha=0.4, \n",
    "           cmap='Reds')\n",
    "plt.grid()\n",
    "plt.xlabel('经度')\n",
    "plt.ylabel('纬度')"
   ]
  },
  {
   "cell_type": "markdown",
   "metadata": {},
   "source": [
    "#### 极差\n",
    "\n",
    "定量字段。"
   ]
  },
  {
   "cell_type": "code",
   "execution_count": 124,
   "metadata": {},
   "outputs": [],
   "source": [
    "column_name = '房屋单价'"
   ]
  },
  {
   "cell_type": "code",
   "execution_count": 125,
   "metadata": {},
   "outputs": [
    {
     "data": {
      "text/plain": [
       "91766"
      ]
     },
     "execution_count": 125,
     "metadata": {},
     "output_type": "execute_result"
    }
   ],
   "source": [
    "house[column_name].max() - house[column_name].min()"
   ]
  },
  {
   "cell_type": "code",
   "execution_count": 129,
   "metadata": {},
   "outputs": [
    {
     "data": {
      "text/plain": [
       "房屋单价    91766.0\n",
       "参考首付       52.5\n",
       "参考总价      175.0\n",
       "dtype: float64"
      ]
     },
     "execution_count": 129,
     "metadata": {},
     "output_type": "execute_result"
    }
   ],
   "source": [
    "house[['房屋单价', '参考首付', '参考总价']].apply(lambda x: x.max() - x.min())"
   ]
  },
  {
   "cell_type": "markdown",
   "metadata": {},
   "source": [
    "#### 频率分布情况\n",
    "\n",
    "定量字段。\n",
    "\n",
    "1. 可以根据直方图直接判断分组组数，一般为8~16。"
   ]
  },
  {
   "cell_type": "code",
   "execution_count": 136,
   "metadata": {},
   "outputs": [
    {
     "data": {
      "text/plain": [
       "<matplotlib.axes._subplots.AxesSubplot at 0x23484f67d90>"
      ]
     },
     "execution_count": 136,
     "metadata": {},
     "output_type": "execute_result"
    },
    {
     "data": {
      "image/png": "[encoded data removed]",
      "text/plain": [
       "<Figure size 432x288 with 1 Axes>"
      ]
     },
     "metadata": {
      "needs_background": "light"
     },
     "output_type": "display_data"
    }
   ],
   "source": [
    "house['房屋单价'].hist(bins=10) # 分组组数为10"
   ]
  },
  {
   "cell_type": "code",
   "execution_count": 138,
   "metadata": {},
   "outputs": [
    {
     "data": {
      "text/plain": [
       "<matplotlib.axes._subplots.AxesSubplot at 0x23484e11cd0>"
      ]
     },
     "execution_count": 138,
     "metadata": {},
     "output_type": "execute_result"
    },
    {
     "data": {
      "image/png": "[encoded data removed]",
      "text/plain": [
       "<Figure size 432x288 with 1 Axes>"
      ]
     },
     "metadata": {
      "needs_background": "light"
     },
     "output_type": "display_data"
    }
   ],
   "source": [
    "house['房屋单价'].hist(bins=8) # 分组组数为8"
   ]
  },
  {
   "cell_type": "markdown",
   "metadata": {},
   "source": [
    "2. 求出分组区间。"
   ]
  },
  {
   "cell_type": "code",
   "execution_count": 139,
   "metadata": {},
   "outputs": [],
   "source": [
    "group_cut = pd.cut(house['房屋单价'], bins=10, right=False)"
   ]
  },
  {
   "cell_type": "code",
   "execution_count": 140,
   "metadata": {},
   "outputs": [
    {
     "data": {
      "text/plain": [
       "0      [3472.0, 12648.6)\n",
       "1      [3472.0, 12648.6)\n",
       "2      [3472.0, 12648.6)\n",
       "3      [3472.0, 12648.6)\n",
       "4     [40178.4, 49355.0)\n",
       "             ...        \n",
       "70     [3472.0, 12648.6)\n",
       "71     [3472.0, 12648.6)\n",
       "72     [3472.0, 12648.6)\n",
       "73    [58531.6, 67708.2)\n",
       "74    [49355.0, 58531.6)\n",
       "Name: 房屋单价, Length: 75, dtype: category\n",
       "Categories (10, interval[float64]): [[3472.0, 12648.6) < [12648.6, 21825.2) < [21825.2, 31001.8) < [31001.8, 40178.4) ... [58531.6, 67708.2) < [67708.2, 76884.8) < [76884.8, 86061.4) < [86061.4, 95329.766)]"
      ]
     },
     "execution_count": 140,
     "metadata": {},
     "output_type": "execute_result"
    }
   ],
   "source": [
    "group_cut"
   ]
  },
  {
   "cell_type": "code",
   "execution_count": 143,
   "metadata": {},
   "outputs": [],
   "source": [
    "group_count = group_cut.value_counts(sort=False)"
   ]
  },
  {
   "cell_type": "code",
   "execution_count": 144,
   "metadata": {},
   "outputs": [
    {
     "data": {
      "text/plain": [
       "[3472.0, 12648.6)       38\n",
       "[12648.6, 21825.2)       0\n",
       "[21825.2, 31001.8)       2\n",
       "[31001.8, 40178.4)       4\n",
       "[40178.4, 49355.0)      11\n",
       "[49355.0, 58531.6)       9\n",
       "[58531.6, 67708.2)       8\n",
       "[67708.2, 76884.8)       0\n",
       "[76884.8, 86061.4)       1\n",
       "[86061.4, 95329.766)     2\n",
       "Name: 房屋单价, dtype: int64"
      ]
     },
     "execution_count": 144,
     "metadata": {},
     "output_type": "execute_result"
    }
   ],
   "source": [
    "group_count"
   ]
  },
  {
   "cell_type": "code",
   "execution_count": 146,
   "metadata": {},
   "outputs": [],
   "source": [
    "house['%s分组区间' % column_name] = group_cut.values"
   ]
  },
  {
   "cell_type": "code",
   "execution_count": 147,
   "metadata": {},
   "outputs": [
    {
     "data": {
      "text/html": [
       "<div>\n",
       "<style scoped>\n",
       "    .dataframe tbody tr th:only-of-type {\n",
       "        vertical-align: middle;\n",
       "    }\n",
       "\n",
       "    .dataframe tbody tr th {\n",
       "        vertical-align: top;\n",
       "    }\n",
       "\n",
       "    .dataframe thead th {\n",
       "        text-align: right;\n",
       "    }\n",
       "</style>\n",
       "<table border=\"1\" class=\"dataframe\">\n",
       "  <thead>\n",
       "    <tr style=\"text-align: right;\">\n",
       "      <th></th>\n",
       "      <th>房屋编码</th>\n",
       "      <th>小区</th>\n",
       "      <th>朝向</th>\n",
       "      <th>房屋单价</th>\n",
       "      <th>参考首付</th>\n",
       "      <th>参考总价</th>\n",
       "      <th>经度</th>\n",
       "      <th>纬度</th>\n",
       "      <th>房屋单价分组区间</th>\n",
       "    </tr>\n",
       "  </thead>\n",
       "  <tbody>\n",
       "    <tr>\n",
       "      <th>0</th>\n",
       "      <td>605093949</td>\n",
       "      <td>大望新平村</td>\n",
       "      <td>南北</td>\n",
       "      <td>5434</td>\n",
       "      <td>15.0</td>\n",
       "      <td>50.0</td>\n",
       "      <td>114.180964</td>\n",
       "      <td>22.603698</td>\n",
       "      <td>[3472.0, 12648.6)</td>\n",
       "    </tr>\n",
       "    <tr>\n",
       "      <th>1</th>\n",
       "      <td>605768856</td>\n",
       "      <td>通宝楼</td>\n",
       "      <td>南北</td>\n",
       "      <td>3472</td>\n",
       "      <td>7.5</td>\n",
       "      <td>25.0</td>\n",
       "      <td>114.179298</td>\n",
       "      <td>22.566910</td>\n",
       "      <td>[3472.0, 12648.6)</td>\n",
       "    </tr>\n",
       "    <tr>\n",
       "      <th>2</th>\n",
       "      <td>606815561</td>\n",
       "      <td>罗湖区罗芳村</td>\n",
       "      <td>南北</td>\n",
       "      <td>5842</td>\n",
       "      <td>15.6</td>\n",
       "      <td>52.0</td>\n",
       "      <td>114.158869</td>\n",
       "      <td>22.547223</td>\n",
       "      <td>[3472.0, 12648.6)</td>\n",
       "    </tr>\n",
       "    <tr>\n",
       "      <th>3</th>\n",
       "      <td>605147285</td>\n",
       "      <td>兴华苑</td>\n",
       "      <td>南北</td>\n",
       "      <td>3829</td>\n",
       "      <td>10.8</td>\n",
       "      <td>36.0</td>\n",
       "      <td>114.158040</td>\n",
       "      <td>22.554343</td>\n",
       "      <td>[3472.0, 12648.6)</td>\n",
       "    </tr>\n",
       "    <tr>\n",
       "      <th>4</th>\n",
       "      <td>606030866</td>\n",
       "      <td>京基东方都会</td>\n",
       "      <td>西南</td>\n",
       "      <td>47222</td>\n",
       "      <td>51.0</td>\n",
       "      <td>170.0</td>\n",
       "      <td>114.149243</td>\n",
       "      <td>22.554370</td>\n",
       "      <td>[40178.4, 49355.0)</td>\n",
       "    </tr>\n",
       "    <tr>\n",
       "      <th>...</th>\n",
       "      <td>...</td>\n",
       "      <td>...</td>\n",
       "      <td>...</td>\n",
       "      <td>...</td>\n",
       "      <td>...</td>\n",
       "      <td>...</td>\n",
       "      <td>...</td>\n",
       "      <td>...</td>\n",
       "      <td>...</td>\n",
       "    </tr>\n",
       "    <tr>\n",
       "      <th>70</th>\n",
       "      <td>598258845</td>\n",
       "      <td>三九花园</td>\n",
       "      <td>南</td>\n",
       "      <td>5833</td>\n",
       "      <td>12.6</td>\n",
       "      <td>42.0</td>\n",
       "      <td>114.089539</td>\n",
       "      <td>22.577080</td>\n",
       "      <td>[3472.0, 12648.6)</td>\n",
       "    </tr>\n",
       "    <tr>\n",
       "      <th>71</th>\n",
       "      <td>594221866</td>\n",
       "      <td>三九花园</td>\n",
       "      <td>南</td>\n",
       "      <td>5681</td>\n",
       "      <td>15.0</td>\n",
       "      <td>50.0</td>\n",
       "      <td>114.089539</td>\n",
       "      <td>22.577080</td>\n",
       "      <td>[3472.0, 12648.6)</td>\n",
       "    </tr>\n",
       "    <tr>\n",
       "      <th>72</th>\n",
       "      <td>606700179</td>\n",
       "      <td>城市春天</td>\n",
       "      <td>南北</td>\n",
       "      <td>3571</td>\n",
       "      <td>7.5</td>\n",
       "      <td>25.0</td>\n",
       "      <td>114.083405</td>\n",
       "      <td>22.539505</td>\n",
       "      <td>[3472.0, 12648.6)</td>\n",
       "    </tr>\n",
       "    <tr>\n",
       "      <th>73</th>\n",
       "      <td>603950517</td>\n",
       "      <td>皇御苑</td>\n",
       "      <td>东北</td>\n",
       "      <td>59701</td>\n",
       "      <td>54.0</td>\n",
       "      <td>180.0</td>\n",
       "      <td>114.081795</td>\n",
       "      <td>22.531393</td>\n",
       "      <td>[58531.6, 67708.2)</td>\n",
       "    </tr>\n",
       "    <tr>\n",
       "      <th>74</th>\n",
       "      <td>605232094</td>\n",
       "      <td>晨晖家园</td>\n",
       "      <td>南</td>\n",
       "      <td>54285</td>\n",
       "      <td>57.0</td>\n",
       "      <td>190.0</td>\n",
       "      <td>114.067625</td>\n",
       "      <td>22.525508</td>\n",
       "      <td>[49355.0, 58531.6)</td>\n",
       "    </tr>\n",
       "  </tbody>\n",
       "</table>\n",
       "<p>75 rows × 9 columns</p>\n",
       "</div>"
      ],
      "text/plain": [
       "         房屋编码      小区  朝向   房屋单价  参考首付   参考总价          经度         纬度  \\\n",
       "0   605093949   大望新平村  南北   5434  15.0   50.0  114.180964  22.603698   \n",
       "1   605768856     通宝楼  南北   3472   7.5   25.0  114.179298  22.566910   \n",
       "2   606815561  罗湖区罗芳村  南北   5842  15.6   52.0  114.158869  22.547223   \n",
       "3   605147285     兴华苑  南北   3829  10.8   36.0  114.158040  22.554343   \n",
       "4   606030866  京基东方都会  西南  47222  51.0  170.0  114.149243  22.554370   \n",
       "..        ...     ...  ..    ...   ...    ...         ...        ...   \n",
       "70  598258845    三九花园   南   5833  12.6   42.0  114.089539  22.577080   \n",
       "71  594221866    三九花园   南   5681  15.0   50.0  114.089539  22.577080   \n",
       "72  606700179    城市春天  南北   3571   7.5   25.0  114.083405  22.539505   \n",
       "73  603950517     皇御苑  东北  59701  54.0  180.0  114.081795  22.531393   \n",
       "74  605232094    晨晖家园   南  54285  57.0  190.0  114.067625  22.525508   \n",
       "\n",
       "              房屋单价分组区间  \n",
       "0    [3472.0, 12648.6)  \n",
       "1    [3472.0, 12648.6)  \n",
       "2    [3472.0, 12648.6)  \n",
       "3    [3472.0, 12648.6)  \n",
       "4   [40178.4, 49355.0)  \n",
       "..                 ...  \n",
       "70   [3472.0, 12648.6)  \n",
       "71   [3472.0, 12648.6)  \n",
       "72   [3472.0, 12648.6)  \n",
       "73  [58531.6, 67708.2)  \n",
       "74  [49355.0, 58531.6)  \n",
       "\n",
       "[75 rows x 9 columns]"
      ]
     },
     "execution_count": 147,
     "metadata": {},
     "output_type": "execute_result"
    }
   ],
   "source": [
    "house"
   ]
  },
  {
   "cell_type": "markdown",
   "metadata": {},
   "source": [
    "3. 求出目标字段下频率分布的其他统计量, 如频数，频率，累计频率"
   ]
  },
  {
   "cell_type": "code",
   "execution_count": 148,
   "metadata": {},
   "outputs": [],
   "source": [
    "group_frame = pd.DataFrame(group_count)"
   ]
  },
  {
   "cell_type": "code",
   "execution_count": 150,
   "metadata": {},
   "outputs": [
    {
     "data": {
      "text/html": [
       "<div>\n",
       "<style scoped>\n",
       "    .dataframe tbody tr th:only-of-type {\n",
       "        vertical-align: middle;\n",
       "    }\n",
       "\n",
       "    .dataframe tbody tr th {\n",
       "        vertical-align: top;\n",
       "    }\n",
       "\n",
       "    .dataframe thead th {\n",
       "        text-align: right;\n",
       "    }\n",
       "</style>\n",
       "<table border=\"1\" class=\"dataframe\">\n",
       "  <thead>\n",
       "    <tr style=\"text-align: right;\">\n",
       "      <th></th>\n",
       "      <th>房屋单价</th>\n",
       "    </tr>\n",
       "  </thead>\n",
       "  <tbody>\n",
       "    <tr>\n",
       "      <th>[3472.0, 12648.6)</th>\n",
       "      <td>38</td>\n",
       "    </tr>\n",
       "    <tr>\n",
       "      <th>[12648.6, 21825.2)</th>\n",
       "      <td>0</td>\n",
       "    </tr>\n",
       "    <tr>\n",
       "      <th>[21825.2, 31001.8)</th>\n",
       "      <td>2</td>\n",
       "    </tr>\n",
       "    <tr>\n",
       "      <th>[31001.8, 40178.4)</th>\n",
       "      <td>4</td>\n",
       "    </tr>\n",
       "    <tr>\n",
       "      <th>[40178.4, 49355.0)</th>\n",
       "      <td>11</td>\n",
       "    </tr>\n",
       "    <tr>\n",
       "      <th>[49355.0, 58531.6)</th>\n",
       "      <td>9</td>\n",
       "    </tr>\n",
       "    <tr>\n",
       "      <th>[58531.6, 67708.2)</th>\n",
       "      <td>8</td>\n",
       "    </tr>\n",
       "    <tr>\n",
       "      <th>[67708.2, 76884.8)</th>\n",
       "      <td>0</td>\n",
       "    </tr>\n",
       "    <tr>\n",
       "      <th>[76884.8, 86061.4)</th>\n",
       "      <td>1</td>\n",
       "    </tr>\n",
       "    <tr>\n",
       "      <th>[86061.4, 95329.766)</th>\n",
       "      <td>2</td>\n",
       "    </tr>\n",
       "  </tbody>\n",
       "</table>\n",
       "</div>"
      ],
      "text/plain": [
       "                      房屋单价\n",
       "[3472.0, 12648.6)       38\n",
       "[12648.6, 21825.2)       0\n",
       "[21825.2, 31001.8)       2\n",
       "[31001.8, 40178.4)       4\n",
       "[40178.4, 49355.0)      11\n",
       "[49355.0, 58531.6)       9\n",
       "[58531.6, 67708.2)       8\n",
       "[67708.2, 76884.8)       0\n",
       "[76884.8, 86061.4)       1\n",
       "[86061.4, 95329.766)     2"
      ]
     },
     "execution_count": 150,
     "metadata": {},
     "output_type": "execute_result"
    }
   ],
   "source": [
    "group_frame"
   ]
  },
  {
   "cell_type": "code",
   "execution_count": 151,
   "metadata": {},
   "outputs": [
    {
     "data": {
      "text/plain": [
       "'房屋单价'"
      ]
     },
     "execution_count": 151,
     "metadata": {},
     "output_type": "execute_result"
    }
   ],
   "source": [
    "group_count.name"
   ]
  },
  {
   "cell_type": "code",
   "execution_count": 152,
   "metadata": {},
   "outputs": [],
   "source": [
    "group_frame.rename(columns={group_count.name:'频数'}, inplace=True)"
   ]
  },
  {
   "cell_type": "code",
   "execution_count": 153,
   "metadata": {},
   "outputs": [
    {
     "data": {
      "text/html": [
       "<div>\n",
       "<style scoped>\n",
       "    .dataframe tbody tr th:only-of-type {\n",
       "        vertical-align: middle;\n",
       "    }\n",
       "\n",
       "    .dataframe tbody tr th {\n",
       "        vertical-align: top;\n",
       "    }\n",
       "\n",
       "    .dataframe thead th {\n",
       "        text-align: right;\n",
       "    }\n",
       "</style>\n",
       "<table border=\"1\" class=\"dataframe\">\n",
       "  <thead>\n",
       "    <tr style=\"text-align: right;\">\n",
       "      <th></th>\n",
       "      <th>频数</th>\n",
       "    </tr>\n",
       "  </thead>\n",
       "  <tbody>\n",
       "    <tr>\n",
       "      <th>[3472.0, 12648.6)</th>\n",
       "      <td>38</td>\n",
       "    </tr>\n",
       "    <tr>\n",
       "      <th>[12648.6, 21825.2)</th>\n",
       "      <td>0</td>\n",
       "    </tr>\n",
       "    <tr>\n",
       "      <th>[21825.2, 31001.8)</th>\n",
       "      <td>2</td>\n",
       "    </tr>\n",
       "    <tr>\n",
       "      <th>[31001.8, 40178.4)</th>\n",
       "      <td>4</td>\n",
       "    </tr>\n",
       "    <tr>\n",
       "      <th>[40178.4, 49355.0)</th>\n",
       "      <td>11</td>\n",
       "    </tr>\n",
       "    <tr>\n",
       "      <th>[49355.0, 58531.6)</th>\n",
       "      <td>9</td>\n",
       "    </tr>\n",
       "    <tr>\n",
       "      <th>[58531.6, 67708.2)</th>\n",
       "      <td>8</td>\n",
       "    </tr>\n",
       "    <tr>\n",
       "      <th>[67708.2, 76884.8)</th>\n",
       "      <td>0</td>\n",
       "    </tr>\n",
       "    <tr>\n",
       "      <th>[76884.8, 86061.4)</th>\n",
       "      <td>1</td>\n",
       "    </tr>\n",
       "    <tr>\n",
       "      <th>[86061.4, 95329.766)</th>\n",
       "      <td>2</td>\n",
       "    </tr>\n",
       "  </tbody>\n",
       "</table>\n",
       "</div>"
      ],
      "text/plain": [
       "                      频数\n",
       "[3472.0, 12648.6)     38\n",
       "[12648.6, 21825.2)     0\n",
       "[21825.2, 31001.8)     2\n",
       "[31001.8, 40178.4)     4\n",
       "[40178.4, 49355.0)    11\n",
       "[49355.0, 58531.6)     9\n",
       "[58531.6, 67708.2)     8\n",
       "[67708.2, 76884.8)     0\n",
       "[76884.8, 86061.4)     1\n",
       "[86061.4, 95329.766)   2"
      ]
     },
     "execution_count": 153,
     "metadata": {},
     "output_type": "execute_result"
    }
   ],
   "source": [
    "group_frame"
   ]
  },
  {
   "cell_type": "code",
   "execution_count": 154,
   "metadata": {},
   "outputs": [],
   "source": [
    "# 计算频率\n",
    "group_frame['频率'] = group_frame / group_frame.sum() \n",
    "# 计算累计频率\n",
    "group_frame['累计频率'] = group_frame['频率'].cumsum()\n",
    "# 以百分比显示频率\n",
    "group_frame['频率%'] = group_frame['频率'].apply(lambda x: \"%.2f%%\" % (x * 100))\n",
    "# 以百分比显示累计频率\n",
    "group_frame['累计频率%'] = group_frame['累计频率'].apply(lambda x: \"%.2f%%\" % (x * 100))"
   ]
  },
  {
   "cell_type": "code",
   "execution_count": 157,
   "metadata": {},
   "outputs": [
    {
     "data": {
      "text/html": [
       "<style  type=\"text/css\" >\n",
       "    #T_9793cbe4_3921_11eb_8615_3c970eb89a01row0_col1 {\n",
       "            width:  10em;\n",
       "             height:  80%;\n",
       "            background:  linear-gradient(90deg,#d65f5f 100.0%, transparent 100.0%);\n",
       "        }    #T_9793cbe4_3921_11eb_8615_3c970eb89a01row0_col2 {\n",
       "            width:  10em;\n",
       "             height:  80%;\n",
       "        }    #T_9793cbe4_3921_11eb_8615_3c970eb89a01row1_col1 {\n",
       "            width:  10em;\n",
       "             height:  80%;\n",
       "        }    #T_9793cbe4_3921_11eb_8615_3c970eb89a01row1_col2 {\n",
       "            width:  10em;\n",
       "             height:  80%;\n",
       "        }    #T_9793cbe4_3921_11eb_8615_3c970eb89a01row2_col1 {\n",
       "            width:  10em;\n",
       "             height:  80%;\n",
       "            background:  linear-gradient(90deg,#d65f5f 5.3%, transparent 5.3%);\n",
       "        }    #T_9793cbe4_3921_11eb_8615_3c970eb89a01row2_col2 {\n",
       "            width:  10em;\n",
       "             height:  80%;\n",
       "            background:  linear-gradient(90deg,#d65f5f 5.4%, transparent 5.4%);\n",
       "        }    #T_9793cbe4_3921_11eb_8615_3c970eb89a01row3_col1 {\n",
       "            width:  10em;\n",
       "             height:  80%;\n",
       "            background:  linear-gradient(90deg,#d65f5f 10.5%, transparent 10.5%);\n",
       "        }    #T_9793cbe4_3921_11eb_8615_3c970eb89a01row3_col2 {\n",
       "            width:  10em;\n",
       "             height:  80%;\n",
       "            background:  linear-gradient(90deg,#d65f5f 16.2%, transparent 16.2%);\n",
       "        }    #T_9793cbe4_3921_11eb_8615_3c970eb89a01row4_col1 {\n",
       "            width:  10em;\n",
       "             height:  80%;\n",
       "            background:  linear-gradient(90deg,#d65f5f 28.9%, transparent 28.9%);\n",
       "        }    #T_9793cbe4_3921_11eb_8615_3c970eb89a01row4_col2 {\n",
       "            width:  10em;\n",
       "             height:  80%;\n",
       "            background:  linear-gradient(90deg,#d65f5f 45.9%, transparent 45.9%);\n",
       "        }    #T_9793cbe4_3921_11eb_8615_3c970eb89a01row5_col1 {\n",
       "            width:  10em;\n",
       "             height:  80%;\n",
       "            background:  linear-gradient(90deg,#d65f5f 23.7%, transparent 23.7%);\n",
       "        }    #T_9793cbe4_3921_11eb_8615_3c970eb89a01row5_col2 {\n",
       "            width:  10em;\n",
       "             height:  80%;\n",
       "            background:  linear-gradient(90deg,#d65f5f 70.3%, transparent 70.3%);\n",
       "        }    #T_9793cbe4_3921_11eb_8615_3c970eb89a01row6_col1 {\n",
       "            width:  10em;\n",
       "             height:  80%;\n",
       "            background:  linear-gradient(90deg,#d65f5f 21.1%, transparent 21.1%);\n",
       "        }    #T_9793cbe4_3921_11eb_8615_3c970eb89a01row6_col2 {\n",
       "            width:  10em;\n",
       "             height:  80%;\n",
       "            background:  linear-gradient(90deg,#d65f5f 91.9%, transparent 91.9%);\n",
       "        }    #T_9793cbe4_3921_11eb_8615_3c970eb89a01row7_col1 {\n",
       "            width:  10em;\n",
       "             height:  80%;\n",
       "        }    #T_9793cbe4_3921_11eb_8615_3c970eb89a01row7_col2 {\n",
       "            width:  10em;\n",
       "             height:  80%;\n",
       "            background:  linear-gradient(90deg,#d65f5f 91.9%, transparent 91.9%);\n",
       "        }    #T_9793cbe4_3921_11eb_8615_3c970eb89a01row8_col1 {\n",
       "            width:  10em;\n",
       "             height:  80%;\n",
       "            background:  linear-gradient(90deg,#d65f5f 2.6%, transparent 2.6%);\n",
       "        }    #T_9793cbe4_3921_11eb_8615_3c970eb89a01row8_col2 {\n",
       "            width:  10em;\n",
       "             height:  80%;\n",
       "            background:  linear-gradient(90deg,#d65f5f 94.6%, transparent 94.6%);\n",
       "        }    #T_9793cbe4_3921_11eb_8615_3c970eb89a01row9_col1 {\n",
       "            width:  10em;\n",
       "             height:  80%;\n",
       "            background:  linear-gradient(90deg,#d65f5f 5.3%, transparent 5.3%);\n",
       "        }    #T_9793cbe4_3921_11eb_8615_3c970eb89a01row9_col2 {\n",
       "            width:  10em;\n",
       "             height:  80%;\n",
       "            background:  linear-gradient(90deg,#d65f5f 100.0%, transparent 100.0%);\n",
       "        }</style><table id=\"T_9793cbe4_3921_11eb_8615_3c970eb89a01\" ><thead>    <tr>        <th class=\"blank level0\" ></th>        <th class=\"col_heading level0 col0\" >频数</th>        <th class=\"col_heading level0 col1\" >频率</th>        <th class=\"col_heading level0 col2\" >累计频率</th>        <th class=\"col_heading level0 col3\" >频率%</th>        <th class=\"col_heading level0 col4\" >累计频率%</th>    </tr></thead><tbody>\n",
       "                <tr>\n",
       "                        <th id=\"T_9793cbe4_3921_11eb_8615_3c970eb89a01level0_row0\" class=\"row_heading level0 row0\" >[3472.0, 12648.6)</th>\n",
       "                        <td id=\"T_9793cbe4_3921_11eb_8615_3c970eb89a01row0_col0\" class=\"data row0 col0\" >38</td>\n",
       "                        <td id=\"T_9793cbe4_3921_11eb_8615_3c970eb89a01row0_col1\" class=\"data row0 col1\" >0.506667</td>\n",
       "                        <td id=\"T_9793cbe4_3921_11eb_8615_3c970eb89a01row0_col2\" class=\"data row0 col2\" >0.506667</td>\n",
       "                        <td id=\"T_9793cbe4_3921_11eb_8615_3c970eb89a01row0_col3\" class=\"data row0 col3\" >50.67%</td>\n",
       "                        <td id=\"T_9793cbe4_3921_11eb_8615_3c970eb89a01row0_col4\" class=\"data row0 col4\" >50.67%</td>\n",
       "            </tr>\n",
       "            <tr>\n",
       "                        <th id=\"T_9793cbe4_3921_11eb_8615_3c970eb89a01level0_row1\" class=\"row_heading level0 row1\" >[12648.6, 21825.2)</th>\n",
       "                        <td id=\"T_9793cbe4_3921_11eb_8615_3c970eb89a01row1_col0\" class=\"data row1 col0\" >0</td>\n",
       "                        <td id=\"T_9793cbe4_3921_11eb_8615_3c970eb89a01row1_col1\" class=\"data row1 col1\" >0.000000</td>\n",
       "                        <td id=\"T_9793cbe4_3921_11eb_8615_3c970eb89a01row1_col2\" class=\"data row1 col2\" >0.506667</td>\n",
       "                        <td id=\"T_9793cbe4_3921_11eb_8615_3c970eb89a01row1_col3\" class=\"data row1 col3\" >0.00%</td>\n",
       "                        <td id=\"T_9793cbe4_3921_11eb_8615_3c970eb89a01row1_col4\" class=\"data row1 col4\" >50.67%</td>\n",
       "            </tr>\n",
       "            <tr>\n",
       "                        <th id=\"T_9793cbe4_3921_11eb_8615_3c970eb89a01level0_row2\" class=\"row_heading level0 row2\" >[21825.2, 31001.8)</th>\n",
       "                        <td id=\"T_9793cbe4_3921_11eb_8615_3c970eb89a01row2_col0\" class=\"data row2 col0\" >2</td>\n",
       "                        <td id=\"T_9793cbe4_3921_11eb_8615_3c970eb89a01row2_col1\" class=\"data row2 col1\" >0.026667</td>\n",
       "                        <td id=\"T_9793cbe4_3921_11eb_8615_3c970eb89a01row2_col2\" class=\"data row2 col2\" >0.533333</td>\n",
       "                        <td id=\"T_9793cbe4_3921_11eb_8615_3c970eb89a01row2_col3\" class=\"data row2 col3\" >2.67%</td>\n",
       "                        <td id=\"T_9793cbe4_3921_11eb_8615_3c970eb89a01row2_col4\" class=\"data row2 col4\" >53.33%</td>\n",
       "            </tr>\n",
       "            <tr>\n",
       "                        <th id=\"T_9793cbe4_3921_11eb_8615_3c970eb89a01level0_row3\" class=\"row_heading level0 row3\" >[31001.8, 40178.4)</th>\n",
       "                        <td id=\"T_9793cbe4_3921_11eb_8615_3c970eb89a01row3_col0\" class=\"data row3 col0\" >4</td>\n",
       "                        <td id=\"T_9793cbe4_3921_11eb_8615_3c970eb89a01row3_col1\" class=\"data row3 col1\" >0.053333</td>\n",
       "                        <td id=\"T_9793cbe4_3921_11eb_8615_3c970eb89a01row3_col2\" class=\"data row3 col2\" >0.586667</td>\n",
       "                        <td id=\"T_9793cbe4_3921_11eb_8615_3c970eb89a01row3_col3\" class=\"data row3 col3\" >5.33%</td>\n",
       "                        <td id=\"T_9793cbe4_3921_11eb_8615_3c970eb89a01row3_col4\" class=\"data row3 col4\" >58.67%</td>\n",
       "            </tr>\n",
       "            <tr>\n",
       "                        <th id=\"T_9793cbe4_3921_11eb_8615_3c970eb89a01level0_row4\" class=\"row_heading level0 row4\" >[40178.4, 49355.0)</th>\n",
       "                        <td id=\"T_9793cbe4_3921_11eb_8615_3c970eb89a01row4_col0\" class=\"data row4 col0\" >11</td>\n",
       "                        <td id=\"T_9793cbe4_3921_11eb_8615_3c970eb89a01row4_col1\" class=\"data row4 col1\" >0.146667</td>\n",
       "                        <td id=\"T_9793cbe4_3921_11eb_8615_3c970eb89a01row4_col2\" class=\"data row4 col2\" >0.733333</td>\n",
       "                        <td id=\"T_9793cbe4_3921_11eb_8615_3c970eb89a01row4_col3\" class=\"data row4 col3\" >14.67%</td>\n",
       "                        <td id=\"T_9793cbe4_3921_11eb_8615_3c970eb89a01row4_col4\" class=\"data row4 col4\" >73.33%</td>\n",
       "            </tr>\n",
       "            <tr>\n",
       "                        <th id=\"T_9793cbe4_3921_11eb_8615_3c970eb89a01level0_row5\" class=\"row_heading level0 row5\" >[49355.0, 58531.6)</th>\n",
       "                        <td id=\"T_9793cbe4_3921_11eb_8615_3c970eb89a01row5_col0\" class=\"data row5 col0\" >9</td>\n",
       "                        <td id=\"T_9793cbe4_3921_11eb_8615_3c970eb89a01row5_col1\" class=\"data row5 col1\" >0.120000</td>\n",
       "                        <td id=\"T_9793cbe4_3921_11eb_8615_3c970eb89a01row5_col2\" class=\"data row5 col2\" >0.853333</td>\n",
       "                        <td id=\"T_9793cbe4_3921_11eb_8615_3c970eb89a01row5_col3\" class=\"data row5 col3\" >12.00%</td>\n",
       "                        <td id=\"T_9793cbe4_3921_11eb_8615_3c970eb89a01row5_col4\" class=\"data row5 col4\" >85.33%</td>\n",
       "            </tr>\n",
       "            <tr>\n",
       "                        <th id=\"T_9793cbe4_3921_11eb_8615_3c970eb89a01level0_row6\" class=\"row_heading level0 row6\" >[58531.6, 67708.2)</th>\n",
       "                        <td id=\"T_9793cbe4_3921_11eb_8615_3c970eb89a01row6_col0\" class=\"data row6 col0\" >8</td>\n",
       "                        <td id=\"T_9793cbe4_3921_11eb_8615_3c970eb89a01row6_col1\" class=\"data row6 col1\" >0.106667</td>\n",
       "                        <td id=\"T_9793cbe4_3921_11eb_8615_3c970eb89a01row6_col2\" class=\"data row6 col2\" >0.960000</td>\n",
       "                        <td id=\"T_9793cbe4_3921_11eb_8615_3c970eb89a01row6_col3\" class=\"data row6 col3\" >10.67%</td>\n",
       "                        <td id=\"T_9793cbe4_3921_11eb_8615_3c970eb89a01row6_col4\" class=\"data row6 col4\" >96.00%</td>\n",
       "            </tr>\n",
       "            <tr>\n",
       "                        <th id=\"T_9793cbe4_3921_11eb_8615_3c970eb89a01level0_row7\" class=\"row_heading level0 row7\" >[67708.2, 76884.8)</th>\n",
       "                        <td id=\"T_9793cbe4_3921_11eb_8615_3c970eb89a01row7_col0\" class=\"data row7 col0\" >0</td>\n",
       "                        <td id=\"T_9793cbe4_3921_11eb_8615_3c970eb89a01row7_col1\" class=\"data row7 col1\" >0.000000</td>\n",
       "                        <td id=\"T_9793cbe4_3921_11eb_8615_3c970eb89a01row7_col2\" class=\"data row7 col2\" >0.960000</td>\n",
       "                        <td id=\"T_9793cbe4_3921_11eb_8615_3c970eb89a01row7_col3\" class=\"data row7 col3\" >0.00%</td>\n",
       "                        <td id=\"T_9793cbe4_3921_11eb_8615_3c970eb89a01row7_col4\" class=\"data row7 col4\" >96.00%</td>\n",
       "            </tr>\n",
       "            <tr>\n",
       "                        <th id=\"T_9793cbe4_3921_11eb_8615_3c970eb89a01level0_row8\" class=\"row_heading level0 row8\" >[76884.8, 86061.4)</th>\n",
       "                        <td id=\"T_9793cbe4_3921_11eb_8615_3c970eb89a01row8_col0\" class=\"data row8 col0\" >1</td>\n",
       "                        <td id=\"T_9793cbe4_3921_11eb_8615_3c970eb89a01row8_col1\" class=\"data row8 col1\" >0.013333</td>\n",
       "                        <td id=\"T_9793cbe4_3921_11eb_8615_3c970eb89a01row8_col2\" class=\"data row8 col2\" >0.973333</td>\n",
       "                        <td id=\"T_9793cbe4_3921_11eb_8615_3c970eb89a01row8_col3\" class=\"data row8 col3\" >1.33%</td>\n",
       "                        <td id=\"T_9793cbe4_3921_11eb_8615_3c970eb89a01row8_col4\" class=\"data row8 col4\" >97.33%</td>\n",
       "            </tr>\n",
       "            <tr>\n",
       "                        <th id=\"T_9793cbe4_3921_11eb_8615_3c970eb89a01level0_row9\" class=\"row_heading level0 row9\" >[86061.4, 95329.766)</th>\n",
       "                        <td id=\"T_9793cbe4_3921_11eb_8615_3c970eb89a01row9_col0\" class=\"data row9 col0\" >2</td>\n",
       "                        <td id=\"T_9793cbe4_3921_11eb_8615_3c970eb89a01row9_col1\" class=\"data row9 col1\" >0.026667</td>\n",
       "                        <td id=\"T_9793cbe4_3921_11eb_8615_3c970eb89a01row9_col2\" class=\"data row9 col2\" >1.000000</td>\n",
       "                        <td id=\"T_9793cbe4_3921_11eb_8615_3c970eb89a01row9_col3\" class=\"data row9 col3\" >2.67%</td>\n",
       "                        <td id=\"T_9793cbe4_3921_11eb_8615_3c970eb89a01row9_col4\" class=\"data row9 col4\" >100.00%</td>\n",
       "            </tr>\n",
       "    </tbody></table>"
      ],
      "text/plain": [
       "<pandas.io.formats.style.Styler at 0x234889a1580>"
      ]
     },
     "execution_count": 157,
     "metadata": {},
     "output_type": "execute_result"
    }
   ],
   "source": [
    "group_frame.style.bar(subset=['频率', '累计频率'], color='#d65f5f')"
   ]
  },
  {
   "cell_type": "markdown",
   "metadata": {},
   "source": [
    "Styling: https://pandas.pydata.org/pandas-docs/stable/user_guide/style.html"
   ]
  },
  {
   "cell_type": "markdown",
   "metadata": {},
   "source": [
    "我们可以用`group_frame`中的数据绘制频率直方图："
   ]
  },
  {
   "cell_type": "code",
   "execution_count": 167,
   "metadata": {},
   "outputs": [
    {
     "data": {
      "image/png": "[encoded data removed]",
      "text/plain": [
       "<Figure size 576x432 with 1 Axes>"
      ]
     },
     "metadata": {
      "needs_background": "light"
     },
     "output_type": "display_data"
    }
   ],
   "source": [
    "group_frame['频率'].plot(kind='bar',\n",
    "                      color='k',\n",
    "                      grid=True,\n",
    "                      rot=90,\n",
    "                      width=1,\n",
    "                      figsize=(8, 6),\n",
    "                      alpha=0.5)\n",
    "plt.title('%s分布频率直方图' % column_name)\n",
    "\n",
    "x = len(group_frame)\n",
    "y = group_frame['频率']\n",
    "c = group_frame['频数']\n",
    "\n",
    "for i, j, k in zip(range(x), y, c):\n",
    "    plt.text(i - 0.1, j + 0.01, '%i' % k, color='k')"
   ]
  },
  {
   "cell_type": "markdown",
   "metadata": {},
   "source": [
    "定性字段。\n",
    "\n",
    "通过统计计算不同类别的频率"
   ]
  },
  {
   "cell_type": "code",
   "execution_count": 168,
   "metadata": {},
   "outputs": [],
   "source": [
    "direction_count = house['朝向'].value_counts()"
   ]
  },
  {
   "cell_type": "code",
   "execution_count": 169,
   "metadata": {},
   "outputs": [
    {
     "data": {
      "text/plain": [
       "南北    29\n",
       "南     20\n",
       "东      8\n",
       "东南     5\n",
       "北      4\n",
       "西南     4\n",
       "西北     3\n",
       "东北     1\n",
       "东西     1\n",
       "Name: 朝向, dtype: int64"
      ]
     },
     "execution_count": 169,
     "metadata": {},
     "output_type": "execute_result"
    }
   ],
   "source": [
    "direction_count"
   ]
  },
  {
   "cell_type": "code",
   "execution_count": 171,
   "metadata": {},
   "outputs": [],
   "source": [
    "direction_frame = pd.DataFrame(direction_count)\n",
    "direction_frame.rename(columns={direction_count.name:'频数'}, inplace=True)\n",
    "# 计算频率\n",
    "direction_frame['频率'] = direction_frame / direction_frame.sum() \n",
    "# 计算累计频率\n",
    "direction_frame['累计频率'] = direction_frame['频率'].cumsum()\n",
    "# 以百分比显示频率\n",
    "direction_frame['频率%'] = direction_frame['频率'].apply(lambda x: \"%.2f%%\" % (x * 100))\n",
    "# 以百分比显示累计频率\n",
    "direction_frame['累计频率%'] = direction_frame['累计频率'].apply(lambda x: \"%.2f%%\" % (x * 100))"
   ]
  },
  {
   "cell_type": "code",
   "execution_count": 172,
   "metadata": {},
   "outputs": [
    {
     "data": {
      "text/html": [
       "<style  type=\"text/css\" >\n",
       "    #T_aae3a34d_3923_11eb_9d62_3c970eb89a01row0_col1 {\n",
       "            width:  10em;\n",
       "             height:  80%;\n",
       "            background:  linear-gradient(90deg,#d65f5f 100.0%, transparent 100.0%);\n",
       "        }    #T_aae3a34d_3923_11eb_9d62_3c970eb89a01row0_col2 {\n",
       "            width:  10em;\n",
       "             height:  80%;\n",
       "        }    #T_aae3a34d_3923_11eb_9d62_3c970eb89a01row1_col1 {\n",
       "            width:  10em;\n",
       "             height:  80%;\n",
       "            background:  linear-gradient(90deg,#d65f5f 67.9%, transparent 67.9%);\n",
       "        }    #T_aae3a34d_3923_11eb_9d62_3c970eb89a01row1_col2 {\n",
       "            width:  10em;\n",
       "             height:  80%;\n",
       "            background:  linear-gradient(90deg,#d65f5f 43.5%, transparent 43.5%);\n",
       "        }    #T_aae3a34d_3923_11eb_9d62_3c970eb89a01row2_col1 {\n",
       "            width:  10em;\n",
       "             height:  80%;\n",
       "            background:  linear-gradient(90deg,#d65f5f 25.0%, transparent 25.0%);\n",
       "        }    #T_aae3a34d_3923_11eb_9d62_3c970eb89a01row2_col2 {\n",
       "            width:  10em;\n",
       "             height:  80%;\n",
       "            background:  linear-gradient(90deg,#d65f5f 60.9%, transparent 60.9%);\n",
       "        }    #T_aae3a34d_3923_11eb_9d62_3c970eb89a01row3_col1 {\n",
       "            width:  10em;\n",
       "             height:  80%;\n",
       "            background:  linear-gradient(90deg,#d65f5f 14.3%, transparent 14.3%);\n",
       "        }    #T_aae3a34d_3923_11eb_9d62_3c970eb89a01row3_col2 {\n",
       "            width:  10em;\n",
       "             height:  80%;\n",
       "            background:  linear-gradient(90deg,#d65f5f 71.7%, transparent 71.7%);\n",
       "        }    #T_aae3a34d_3923_11eb_9d62_3c970eb89a01row4_col1 {\n",
       "            width:  10em;\n",
       "             height:  80%;\n",
       "            background:  linear-gradient(90deg,#d65f5f 10.7%, transparent 10.7%);\n",
       "        }    #T_aae3a34d_3923_11eb_9d62_3c970eb89a01row4_col2 {\n",
       "            width:  10em;\n",
       "             height:  80%;\n",
       "            background:  linear-gradient(90deg,#d65f5f 80.4%, transparent 80.4%);\n",
       "        }    #T_aae3a34d_3923_11eb_9d62_3c970eb89a01row5_col1 {\n",
       "            width:  10em;\n",
       "             height:  80%;\n",
       "            background:  linear-gradient(90deg,#d65f5f 10.7%, transparent 10.7%);\n",
       "        }    #T_aae3a34d_3923_11eb_9d62_3c970eb89a01row5_col2 {\n",
       "            width:  10em;\n",
       "             height:  80%;\n",
       "            background:  linear-gradient(90deg,#d65f5f 89.1%, transparent 89.1%);\n",
       "        }    #T_aae3a34d_3923_11eb_9d62_3c970eb89a01row6_col1 {\n",
       "            width:  10em;\n",
       "             height:  80%;\n",
       "            background:  linear-gradient(90deg,#d65f5f 7.1%, transparent 7.1%);\n",
       "        }    #T_aae3a34d_3923_11eb_9d62_3c970eb89a01row6_col2 {\n",
       "            width:  10em;\n",
       "             height:  80%;\n",
       "            background:  linear-gradient(90deg,#d65f5f 95.7%, transparent 95.7%);\n",
       "        }    #T_aae3a34d_3923_11eb_9d62_3c970eb89a01row7_col1 {\n",
       "            width:  10em;\n",
       "             height:  80%;\n",
       "        }    #T_aae3a34d_3923_11eb_9d62_3c970eb89a01row7_col2 {\n",
       "            width:  10em;\n",
       "             height:  80%;\n",
       "            background:  linear-gradient(90deg,#d65f5f 97.8%, transparent 97.8%);\n",
       "        }    #T_aae3a34d_3923_11eb_9d62_3c970eb89a01row8_col1 {\n",
       "            width:  10em;\n",
       "             height:  80%;\n",
       "        }    #T_aae3a34d_3923_11eb_9d62_3c970eb89a01row8_col2 {\n",
       "            width:  10em;\n",
       "             height:  80%;\n",
       "            background:  linear-gradient(90deg,#d65f5f 100.0%, transparent 100.0%);\n",
       "        }</style><table id=\"T_aae3a34d_3923_11eb_9d62_3c970eb89a01\" ><thead>    <tr>        <th class=\"blank level0\" ></th>        <th class=\"col_heading level0 col0\" >频数</th>        <th class=\"col_heading level0 col1\" >频率</th>        <th class=\"col_heading level0 col2\" >累计频率</th>        <th class=\"col_heading level0 col3\" >频率%</th>        <th class=\"col_heading level0 col4\" >累计频率%</th>    </tr></thead><tbody>\n",
       "                <tr>\n",
       "                        <th id=\"T_aae3a34d_3923_11eb_9d62_3c970eb89a01level0_row0\" class=\"row_heading level0 row0\" >南北</th>\n",
       "                        <td id=\"T_aae3a34d_3923_11eb_9d62_3c970eb89a01row0_col0\" class=\"data row0 col0\" >29</td>\n",
       "                        <td id=\"T_aae3a34d_3923_11eb_9d62_3c970eb89a01row0_col1\" class=\"data row0 col1\" >0.386667</td>\n",
       "                        <td id=\"T_aae3a34d_3923_11eb_9d62_3c970eb89a01row0_col2\" class=\"data row0 col2\" >0.386667</td>\n",
       "                        <td id=\"T_aae3a34d_3923_11eb_9d62_3c970eb89a01row0_col3\" class=\"data row0 col3\" >38.67%</td>\n",
       "                        <td id=\"T_aae3a34d_3923_11eb_9d62_3c970eb89a01row0_col4\" class=\"data row0 col4\" >38.67%</td>\n",
       "            </tr>\n",
       "            <tr>\n",
       "                        <th id=\"T_aae3a34d_3923_11eb_9d62_3c970eb89a01level0_row1\" class=\"row_heading level0 row1\" >南</th>\n",
       "                        <td id=\"T_aae3a34d_3923_11eb_9d62_3c970eb89a01row1_col0\" class=\"data row1 col0\" >20</td>\n",
       "                        <td id=\"T_aae3a34d_3923_11eb_9d62_3c970eb89a01row1_col1\" class=\"data row1 col1\" >0.266667</td>\n",
       "                        <td id=\"T_aae3a34d_3923_11eb_9d62_3c970eb89a01row1_col2\" class=\"data row1 col2\" >0.653333</td>\n",
       "                        <td id=\"T_aae3a34d_3923_11eb_9d62_3c970eb89a01row1_col3\" class=\"data row1 col3\" >26.67%</td>\n",
       "                        <td id=\"T_aae3a34d_3923_11eb_9d62_3c970eb89a01row1_col4\" class=\"data row1 col4\" >65.33%</td>\n",
       "            </tr>\n",
       "            <tr>\n",
       "                        <th id=\"T_aae3a34d_3923_11eb_9d62_3c970eb89a01level0_row2\" class=\"row_heading level0 row2\" >东</th>\n",
       "                        <td id=\"T_aae3a34d_3923_11eb_9d62_3c970eb89a01row2_col0\" class=\"data row2 col0\" >8</td>\n",
       "                        <td id=\"T_aae3a34d_3923_11eb_9d62_3c970eb89a01row2_col1\" class=\"data row2 col1\" >0.106667</td>\n",
       "                        <td id=\"T_aae3a34d_3923_11eb_9d62_3c970eb89a01row2_col2\" class=\"data row2 col2\" >0.760000</td>\n",
       "                        <td id=\"T_aae3a34d_3923_11eb_9d62_3c970eb89a01row2_col3\" class=\"data row2 col3\" >10.67%</td>\n",
       "                        <td id=\"T_aae3a34d_3923_11eb_9d62_3c970eb89a01row2_col4\" class=\"data row2 col4\" >76.00%</td>\n",
       "            </tr>\n",
       "            <tr>\n",
       "                        <th id=\"T_aae3a34d_3923_11eb_9d62_3c970eb89a01level0_row3\" class=\"row_heading level0 row3\" >东南</th>\n",
       "                        <td id=\"T_aae3a34d_3923_11eb_9d62_3c970eb89a01row3_col0\" class=\"data row3 col0\" >5</td>\n",
       "                        <td id=\"T_aae3a34d_3923_11eb_9d62_3c970eb89a01row3_col1\" class=\"data row3 col1\" >0.066667</td>\n",
       "                        <td id=\"T_aae3a34d_3923_11eb_9d62_3c970eb89a01row3_col2\" class=\"data row3 col2\" >0.826667</td>\n",
       "                        <td id=\"T_aae3a34d_3923_11eb_9d62_3c970eb89a01row3_col3\" class=\"data row3 col3\" >6.67%</td>\n",
       "                        <td id=\"T_aae3a34d_3923_11eb_9d62_3c970eb89a01row3_col4\" class=\"data row3 col4\" >82.67%</td>\n",
       "            </tr>\n",
       "            <tr>\n",
       "                        <th id=\"T_aae3a34d_3923_11eb_9d62_3c970eb89a01level0_row4\" class=\"row_heading level0 row4\" >北</th>\n",
       "                        <td id=\"T_aae3a34d_3923_11eb_9d62_3c970eb89a01row4_col0\" class=\"data row4 col0\" >4</td>\n",
       "                        <td id=\"T_aae3a34d_3923_11eb_9d62_3c970eb89a01row4_col1\" class=\"data row4 col1\" >0.053333</td>\n",
       "                        <td id=\"T_aae3a34d_3923_11eb_9d62_3c970eb89a01row4_col2\" class=\"data row4 col2\" >0.880000</td>\n",
       "                        <td id=\"T_aae3a34d_3923_11eb_9d62_3c970eb89a01row4_col3\" class=\"data row4 col3\" >5.33%</td>\n",
       "                        <td id=\"T_aae3a34d_3923_11eb_9d62_3c970eb89a01row4_col4\" class=\"data row4 col4\" >88.00%</td>\n",
       "            </tr>\n",
       "            <tr>\n",
       "                        <th id=\"T_aae3a34d_3923_11eb_9d62_3c970eb89a01level0_row5\" class=\"row_heading level0 row5\" >西南</th>\n",
       "                        <td id=\"T_aae3a34d_3923_11eb_9d62_3c970eb89a01row5_col0\" class=\"data row5 col0\" >4</td>\n",
       "                        <td id=\"T_aae3a34d_3923_11eb_9d62_3c970eb89a01row5_col1\" class=\"data row5 col1\" >0.053333</td>\n",
       "                        <td id=\"T_aae3a34d_3923_11eb_9d62_3c970eb89a01row5_col2\" class=\"data row5 col2\" >0.933333</td>\n",
       "                        <td id=\"T_aae3a34d_3923_11eb_9d62_3c970eb89a01row5_col3\" class=\"data row5 col3\" >5.33%</td>\n",
       "                        <td id=\"T_aae3a34d_3923_11eb_9d62_3c970eb89a01row5_col4\" class=\"data row5 col4\" >93.33%</td>\n",
       "            </tr>\n",
       "            <tr>\n",
       "                        <th id=\"T_aae3a34d_3923_11eb_9d62_3c970eb89a01level0_row6\" class=\"row_heading level0 row6\" >西北</th>\n",
       "                        <td id=\"T_aae3a34d_3923_11eb_9d62_3c970eb89a01row6_col0\" class=\"data row6 col0\" >3</td>\n",
       "                        <td id=\"T_aae3a34d_3923_11eb_9d62_3c970eb89a01row6_col1\" class=\"data row6 col1\" >0.040000</td>\n",
       "                        <td id=\"T_aae3a34d_3923_11eb_9d62_3c970eb89a01row6_col2\" class=\"data row6 col2\" >0.973333</td>\n",
       "                        <td id=\"T_aae3a34d_3923_11eb_9d62_3c970eb89a01row6_col3\" class=\"data row6 col3\" >4.00%</td>\n",
       "                        <td id=\"T_aae3a34d_3923_11eb_9d62_3c970eb89a01row6_col4\" class=\"data row6 col4\" >97.33%</td>\n",
       "            </tr>\n",
       "            <tr>\n",
       "                        <th id=\"T_aae3a34d_3923_11eb_9d62_3c970eb89a01level0_row7\" class=\"row_heading level0 row7\" >东北</th>\n",
       "                        <td id=\"T_aae3a34d_3923_11eb_9d62_3c970eb89a01row7_col0\" class=\"data row7 col0\" >1</td>\n",
       "                        <td id=\"T_aae3a34d_3923_11eb_9d62_3c970eb89a01row7_col1\" class=\"data row7 col1\" >0.013333</td>\n",
       "                        <td id=\"T_aae3a34d_3923_11eb_9d62_3c970eb89a01row7_col2\" class=\"data row7 col2\" >0.986667</td>\n",
       "                        <td id=\"T_aae3a34d_3923_11eb_9d62_3c970eb89a01row7_col3\" class=\"data row7 col3\" >1.33%</td>\n",
       "                        <td id=\"T_aae3a34d_3923_11eb_9d62_3c970eb89a01row7_col4\" class=\"data row7 col4\" >98.67%</td>\n",
       "            </tr>\n",
       "            <tr>\n",
       "                        <th id=\"T_aae3a34d_3923_11eb_9d62_3c970eb89a01level0_row8\" class=\"row_heading level0 row8\" >东西</th>\n",
       "                        <td id=\"T_aae3a34d_3923_11eb_9d62_3c970eb89a01row8_col0\" class=\"data row8 col0\" >1</td>\n",
       "                        <td id=\"T_aae3a34d_3923_11eb_9d62_3c970eb89a01row8_col1\" class=\"data row8 col1\" >0.013333</td>\n",
       "                        <td id=\"T_aae3a34d_3923_11eb_9d62_3c970eb89a01row8_col2\" class=\"data row8 col2\" >1.000000</td>\n",
       "                        <td id=\"T_aae3a34d_3923_11eb_9d62_3c970eb89a01row8_col3\" class=\"data row8 col3\" >1.33%</td>\n",
       "                        <td id=\"T_aae3a34d_3923_11eb_9d62_3c970eb89a01row8_col4\" class=\"data row8 col4\" >100.00%</td>\n",
       "            </tr>\n",
       "    </tbody></table>"
      ],
      "text/plain": [
       "<pandas.io.formats.style.Styler at 0x2348a6fd460>"
      ]
     },
     "execution_count": 172,
     "metadata": {},
     "output_type": "execute_result"
    }
   ],
   "source": [
    "direction_frame.style.bar(subset=['频率', '累计频率'], color='#d65f5f')"
   ]
  },
  {
   "cell_type": "markdown",
   "metadata": {},
   "source": [
    "绘制直方图："
   ]
  },
  {
   "cell_type": "code",
   "execution_count": 174,
   "metadata": {},
   "outputs": [
    {
     "data": {
      "image/png": "[encoded data removed]",
      "text/plain": [
       "<Figure size 576x432 with 1 Axes>"
      ]
     },
     "metadata": {
      "needs_background": "light"
     },
     "output_type": "display_data"
    }
   ],
   "source": [
    "direction_frame['频率'].plot(kind='bar',\n",
    "                      color='k',\n",
    "                      grid=True,\n",
    "                      rot=90,\n",
    "                      width=1,\n",
    "                      figsize=(8, 6),\n",
    "                      alpha=0.5)\n",
    "plt.title('%s分布频率直方图' % '朝向')\n",
    "\n",
    "x = len(direction_frame)\n",
    "y = direction_frame['频率']\n",
    "c = direction_frame['频数']\n",
    "\n",
    "for i, j, k in zip(range(x), y, c):\n",
    "    plt.text(i - 0.1, j + 0.01, '%i' % k, color='k')"
   ]
  },
  {
   "cell_type": "markdown",
   "metadata": {},
   "source": [
    "绘制饼图："
   ]
  },
  {
   "cell_type": "code",
   "execution_count": 179,
   "metadata": {},
   "outputs": [
    {
     "data": {
      "text/plain": [
       "(-1.1101621526291232,\n",
       " 1.1004839130571389,\n",
       " -1.1062755172910221,\n",
       " 1.1205348076125872)"
      ]
     },
     "execution_count": 179,
     "metadata": {},
     "output_type": "execute_result"
    },
    {
     "data": {
      "image/png": "[encoded data removed]",
      "text/plain": [
       "<Figure size 576x432 with 1 Axes>"
      ]
     },
     "metadata": {},
     "output_type": "display_data"
    }
   ],
   "source": [
    "plt.figure(figsize=(8, 6))\n",
    "plt.pie(direction_frame['频数'],\n",
    "       labels = direction_frame.index,\n",
    "       autopct='%.2f%%',\n",
    "       shadow = True)\n",
    "plt.axis('equal')"
   ]
  },
  {
   "cell_type": "markdown",
   "metadata": {},
   "source": [
    "### 对比分析"
   ]
  },
  {
   "cell_type": "markdown",
   "metadata": {},
   "source": [
    "两个相互联系的指标进行比较，包括：\n",
    "\n",
    "- 绝对数比较（相减）\n",
    "- 相对数比较（相除）\n",
    "- 结构分析\n",
    "- 比例分析\n",
    "- 空间比较分析\n",
    "- 动态对比分析"
   ]
  },
  {
   "cell_type": "markdown",
   "metadata": {},
   "source": [
    "#### 绝对数比较（相减）\n",
    "\n",
    "相互对比的指标在量级上不能差别过大。"
   ]
  },
  {
   "cell_type": "markdown",
   "metadata": {},
   "source": [
    "1. 折线图比较"
   ]
  },
  {
   "cell_type": "code",
   "execution_count": 184,
   "metadata": {},
   "outputs": [],
   "source": [
    "data = pd.DataFrame(np.random.rand(30, 2) * 1000, \n",
    "                   columns=['A_sale', 'B_sale'],\n",
    "                   index=pd.period_range('20190401', '20190430'))"
   ]
  },
  {
   "cell_type": "code",
   "execution_count": 185,
   "metadata": {},
   "outputs": [
    {
     "data": {
      "text/html": [
       "<div>\n",
       "<style scoped>\n",
       "    .dataframe tbody tr th:only-of-type {\n",
       "        vertical-align: middle;\n",
       "    }\n",
       "\n",
       "    .dataframe tbody tr th {\n",
       "        vertical-align: top;\n",
       "    }\n",
       "\n",
       "    .dataframe thead th {\n",
       "        text-align: right;\n",
       "    }\n",
       "</style>\n",
       "<table border=\"1\" class=\"dataframe\">\n",
       "  <thead>\n",
       "    <tr style=\"text-align: right;\">\n",
       "      <th></th>\n",
       "      <th>A_sale</th>\n",
       "      <th>B_sale</th>\n",
       "    </tr>\n",
       "  </thead>\n",
       "  <tbody>\n",
       "    <tr>\n",
       "      <th>2019-04-01</th>\n",
       "      <td>916.143160</td>\n",
       "      <td>333.780323</td>\n",
       "    </tr>\n",
       "    <tr>\n",
       "      <th>2019-04-02</th>\n",
       "      <td>194.277852</td>\n",
       "      <td>841.921695</td>\n",
       "    </tr>\n",
       "    <tr>\n",
       "      <th>2019-04-03</th>\n",
       "      <td>625.132354</td>\n",
       "      <td>710.338413</td>\n",
       "    </tr>\n",
       "    <tr>\n",
       "      <th>2019-04-04</th>\n",
       "      <td>487.066293</td>\n",
       "      <td>590.640272</td>\n",
       "    </tr>\n",
       "    <tr>\n",
       "      <th>2019-04-05</th>\n",
       "      <td>214.980723</td>\n",
       "      <td>591.892700</td>\n",
       "    </tr>\n",
       "  </tbody>\n",
       "</table>\n",
       "</div>"
      ],
      "text/plain": [
       "                A_sale      B_sale\n",
       "2019-04-01  916.143160  333.780323\n",
       "2019-04-02  194.277852  841.921695\n",
       "2019-04-03  625.132354  710.338413\n",
       "2019-04-04  487.066293  590.640272\n",
       "2019-04-05  214.980723  591.892700"
      ]
     },
     "execution_count": 185,
     "metadata": {},
     "output_type": "execute_result"
    }
   ],
   "source": [
    "data.head()"
   ]
  },
  {
   "cell_type": "markdown",
   "metadata": {},
   "source": [
    "`data`表示30天内A，B产品的销售额。"
   ]
  },
  {
   "cell_type": "code",
   "execution_count": 188,
   "metadata": {},
   "outputs": [
    {
     "data": {
      "text/plain": [
       "<matplotlib.axes._subplots.AxesSubplot at 0x234887c1190>"
      ]
     },
     "execution_count": 188,
     "metadata": {},
     "output_type": "execute_result"
    },
    {
     "data": {
      "image/png": "[encoded data removed]",
      "text/plain": [
       "<Figure size 720x216 with 1 Axes>"
      ]
     },
     "metadata": {
      "needs_background": "light"
     },
     "output_type": "display_data"
    }
   ],
   "source": [
    "data.plot(kind='line',\n",
    "         style='--.',\n",
    "         alpha=0.8,\n",
    "         figsize=(10, 3),\n",
    "         title='A和B产品销售量对比')"
   ]
  },
  {
   "cell_type": "markdown",
   "metadata": {},
   "source": [
    "2. 多系列柱状图比较"
   ]
  },
  {
   "cell_type": "code",
   "execution_count": 190,
   "metadata": {},
   "outputs": [
    {
     "data": {
      "text/plain": [
       "<matplotlib.axes._subplots.AxesSubplot at 0x2348a75e0a0>"
      ]
     },
     "execution_count": 190,
     "metadata": {},
     "output_type": "execute_result"
    },
    {
     "data": {
      "image/png": "[encoded data removed]",
      "text/plain": [
       "<Figure size 720x216 with 1 Axes>"
      ]
     },
     "metadata": {
      "needs_background": "light"
     },
     "output_type": "display_data"
    }
   ],
   "source": [
    "data.plot(kind='bar',\n",
    "         alpha=0.8,\n",
    "         width=0.8,\n",
    "         figsize=(10, 3),\n",
    "         title='A和B产品销售量对比')"
   ]
  },
  {
   "cell_type": "markdown",
   "metadata": {},
   "source": [
    "3. 柱状堆叠图+差值折线图比较"
   ]
  },
  {
   "cell_type": "code",
   "execution_count": 198,
   "metadata": {},
   "outputs": [
    {
     "data": {
      "text/plain": [
       "[Text(0, 0, '2019-04-01'),\n",
       " Text(0, 0, '2019-04-07'),\n",
       " Text(0, 0, '2019-04-13'),\n",
       " Text(0, 0, '2019-04-19'),\n",
       " Text(0, 0, '2019-04-25')]"
      ]
     },
     "execution_count": 198,
     "metadata": {},
     "output_type": "execute_result"
    },
    {
     "data": {
      "image/png": "[encoded data removed]",
      "text/plain": [
       "<Figure size 720x432 with 2 Axes>"
      ]
     },
     "metadata": {
      "needs_background": "light"
     },
     "output_type": "display_data"
    }
   ],
   "source": [
    "figure = plt.figure(figsize=(10, 6))\n",
    "# 子图间隔设置\n",
    "plt.subplots_adjust(hspace=0.3)\n",
    "\n",
    "# 创建柱状堆叠图\n",
    "ax1 = figure.add_subplot(2, 1, 1)\n",
    "x = range(len(data))\n",
    "y_A = data['A_sale']\n",
    "y_B = -data['B_sale']\n",
    "plt.bar(x, y_A, width=1, facecolor='yellowgreen', label='A_sale')\n",
    "plt.bar(x, y_B, width=1, facecolor='lightskyblue', label='B_sale')\n",
    "plt.title('A和B产品销售量对比-堆叠图')\n",
    "plt.legend()\n",
    "plt.grid()\n",
    "plt.xticks(range(0, 30, 6))\n",
    "ax1.set_xticklabels(data.index[::6])\n",
    "\n",
    "# 创建差值折线图\n",
    "ax2 = figure.add_subplot(2, 1, 2)\n",
    "y_diff = data['A_sale'] - data['B_sale']\n",
    "plt.plot(x, y_diff, '--ob')\n",
    "plt.grid()\n",
    "plt.title('A和B产品销售量对比-差值折线')\n",
    "plt.xticks(range(0, 30, 6))\n",
    "ax2.set_xticklabels(data.index[::6])"
   ]
  },
  {
   "cell_type": "markdown",
   "metadata": {},
   "source": [
    "#### 相对数比较（相除）\n",
    "\n",
    "有联系的指标综合计算后的对比，数值为相对数。"
   ]
  },
  {
   "cell_type": "markdown",
   "metadata": {},
   "source": [
    "1. 结构分析\n",
    "\n",
    "在分组基础上，各组总量指标与总体的总量指标对比，计算出各组数量在总量中所占的比重，反映总体的内部结构。"
   ]
  },
  {
   "cell_type": "code",
   "execution_count": 206,
   "metadata": {},
   "outputs": [],
   "source": [
    "data = pd.DataFrame({'A_sale': np.random.rand(30) * 1000, 'B_sale': np.random.rand(30) * 200}, \n",
    "                   index=pd.period_range('20190401', '20190430'))"
   ]
  },
  {
   "cell_type": "markdown",
   "metadata": {},
   "source": [
    "30内A和B产品的销售额，A和B产品销售额量级不同。"
   ]
  },
  {
   "cell_type": "code",
   "execution_count": 207,
   "metadata": {},
   "outputs": [],
   "source": [
    "# 计算每天的销售额占比\n",
    "data['A_per'] = data['A_sale'] / data['A_sale'].sum()\n",
    "data['B_per'] = data['B_sale'] / data['B_sale'].sum()\n",
    "\n",
    "# 转换为百分数\n",
    "data['A_per%'] = data['A_per'].apply(lambda x: '%.2f%%' % (x * 100))\n",
    "data['B_per%'] = data['B_per'].apply(lambda x: '%.2f%%' % (x * 100))"
   ]
  },
  {
   "cell_type": "code",
   "execution_count": 209,
   "metadata": {},
   "outputs": [
    {
     "data": {
      "text/html": [
       "<div>\n",
       "<style scoped>\n",
       "    .dataframe tbody tr th:only-of-type {\n",
       "        vertical-align: middle;\n",
       "    }\n",
       "\n",
       "    .dataframe tbody tr th {\n",
       "        vertical-align: top;\n",
       "    }\n",
       "\n",
       "    .dataframe thead th {\n",
       "        text-align: right;\n",
       "    }\n",
       "</style>\n",
       "<table border=\"1\" class=\"dataframe\">\n",
       "  <thead>\n",
       "    <tr style=\"text-align: right;\">\n",
       "      <th></th>\n",
       "      <th>A_sale</th>\n",
       "      <th>B_sale</th>\n",
       "      <th>A_per</th>\n",
       "      <th>B_per</th>\n",
       "      <th>A_per%</th>\n",
       "      <th>B_per%</th>\n",
       "    </tr>\n",
       "  </thead>\n",
       "  <tbody>\n",
       "    <tr>\n",
       "      <th>2019-04-01</th>\n",
       "      <td>833.475564</td>\n",
       "      <td>169.396673</td>\n",
       "      <td>0.052824</td>\n",
       "      <td>0.064965</td>\n",
       "      <td>5.28%</td>\n",
       "      <td>6.50%</td>\n",
       "    </tr>\n",
       "    <tr>\n",
       "      <th>2019-04-02</th>\n",
       "      <td>484.520596</td>\n",
       "      <td>33.436774</td>\n",
       "      <td>0.030708</td>\n",
       "      <td>0.012823</td>\n",
       "      <td>3.07%</td>\n",
       "      <td>1.28%</td>\n",
       "    </tr>\n",
       "    <tr>\n",
       "      <th>2019-04-03</th>\n",
       "      <td>30.912193</td>\n",
       "      <td>140.912678</td>\n",
       "      <td>0.001959</td>\n",
       "      <td>0.054042</td>\n",
       "      <td>0.20%</td>\n",
       "      <td>5.40%</td>\n",
       "    </tr>\n",
       "    <tr>\n",
       "      <th>2019-04-04</th>\n",
       "      <td>551.348749</td>\n",
       "      <td>126.369444</td>\n",
       "      <td>0.034943</td>\n",
       "      <td>0.048464</td>\n",
       "      <td>3.49%</td>\n",
       "      <td>4.85%</td>\n",
       "    </tr>\n",
       "    <tr>\n",
       "      <th>2019-04-05</th>\n",
       "      <td>477.949817</td>\n",
       "      <td>27.387672</td>\n",
       "      <td>0.030292</td>\n",
       "      <td>0.010503</td>\n",
       "      <td>3.03%</td>\n",
       "      <td>1.05%</td>\n",
       "    </tr>\n",
       "  </tbody>\n",
       "</table>\n",
       "</div>"
      ],
      "text/plain": [
       "                A_sale      B_sale     A_per     B_per A_per% B_per%\n",
       "2019-04-01  833.475564  169.396673  0.052824  0.064965  5.28%  6.50%\n",
       "2019-04-02  484.520596   33.436774  0.030708  0.012823  3.07%  1.28%\n",
       "2019-04-03   30.912193  140.912678  0.001959  0.054042  0.20%  5.40%\n",
       "2019-04-04  551.348749  126.369444  0.034943  0.048464  3.49%  4.85%\n",
       "2019-04-05  477.949817   27.387672  0.030292  0.010503  3.03%  1.05%"
      ]
     },
     "execution_count": 209,
     "metadata": {},
     "output_type": "execute_result"
    }
   ],
   "source": [
    "data.head()"
   ]
  },
  {
   "cell_type": "code",
   "execution_count": 210,
   "metadata": {},
   "outputs": [
    {
     "data": {
      "text/plain": [
       "<matplotlib.legend.Legend at 0x2348c1f6be0>"
      ]
     },
     "execution_count": 210,
     "metadata": {},
     "output_type": "execute_result"
    },
    {
     "data": {
      "image/png": "[encoded data removed]",
      "text/plain": [
       "<Figure size 720x432 with 2 Axes>"
      ]
     },
     "metadata": {
      "needs_background": "light"
     },
     "output_type": "display_data"
    }
   ],
   "source": [
    "figure, axes = plt.subplots(2, 1, figsize=(10, 6), sharex=True)\n",
    "data[['A_sale', 'B_sale']].plot(kind='line', style='--.', alpha=0.8, ax=axes[0])\n",
    "axes[0].legend(loc='upper right')\n",
    "data[['A_per', 'B_per']].plot(kind='line', style='--.', alpha=0.8, ax=axes[1])\n",
    "axes[1].legend(loc='upper right')"
   ]
  },
  {
   "cell_type": "markdown",
   "metadata": {},
   "source": [
    "2. 比例分析\n",
    "\n",
    "在分组的基础上，将总体不同部分的指标数值进行对比，其相对指标一般称为“比例相对数”。\n",
    "\n",
    "$$比例相对数 = \\frac{总体中某一部分}{总体中另一部分数值}$$"
   ]
  },
  {
   "cell_type": "code",
   "execution_count": 211,
   "metadata": {},
   "outputs": [],
   "source": [
    "data = pd.DataFrame({'Consumption': np.random.rand(12) * 1000 + 2000, 'Salary': np.random.rand(12) * 500 + 5000}, \n",
    "                   index=pd.period_range('2019/1', '2019/12', freq='M'))"
   ]
  },
  {
   "cell_type": "code",
   "execution_count": 212,
   "metadata": {},
   "outputs": [
    {
     "data": {
      "text/html": [
       "<div>\n",
       "<style scoped>\n",
       "    .dataframe tbody tr th:only-of-type {\n",
       "        vertical-align: middle;\n",
       "    }\n",
       "\n",
       "    .dataframe tbody tr th {\n",
       "        vertical-align: top;\n",
       "    }\n",
       "\n",
       "    .dataframe thead th {\n",
       "        text-align: right;\n",
       "    }\n",
       "</style>\n",
       "<table border=\"1\" class=\"dataframe\">\n",
       "  <thead>\n",
       "    <tr style=\"text-align: right;\">\n",
       "      <th></th>\n",
       "      <th>Consumption</th>\n",
       "      <th>Salary</th>\n",
       "    </tr>\n",
       "  </thead>\n",
       "  <tbody>\n",
       "    <tr>\n",
       "      <th>2019-01</th>\n",
       "      <td>2545.806818</td>\n",
       "      <td>5340.802534</td>\n",
       "    </tr>\n",
       "    <tr>\n",
       "      <th>2019-02</th>\n",
       "      <td>2817.865372</td>\n",
       "      <td>5095.929062</td>\n",
       "    </tr>\n",
       "    <tr>\n",
       "      <th>2019-03</th>\n",
       "      <td>2841.925203</td>\n",
       "      <td>5363.129455</td>\n",
       "    </tr>\n",
       "    <tr>\n",
       "      <th>2019-04</th>\n",
       "      <td>2298.671447</td>\n",
       "      <td>5121.252580</td>\n",
       "    </tr>\n",
       "    <tr>\n",
       "      <th>2019-05</th>\n",
       "      <td>2174.032820</td>\n",
       "      <td>5115.269447</td>\n",
       "    </tr>\n",
       "  </tbody>\n",
       "</table>\n",
       "</div>"
      ],
      "text/plain": [
       "         Consumption       Salary\n",
       "2019-01  2545.806818  5340.802534\n",
       "2019-02  2817.865372  5095.929062\n",
       "2019-03  2841.925203  5363.129455\n",
       "2019-04  2298.671447  5121.252580\n",
       "2019-05  2174.032820  5115.269447"
      ]
     },
     "execution_count": 212,
     "metadata": {},
     "output_type": "execute_result"
    }
   ],
   "source": [
    "data.head()"
   ]
  },
  {
   "cell_type": "markdown",
   "metadata": {},
   "source": [
    "`data`表示某人一年内的消费和工资情况。"
   ]
  },
  {
   "cell_type": "code",
   "execution_count": 213,
   "metadata": {},
   "outputs": [],
   "source": [
    "# 比例相对数-消费收入比\n",
    "data['C_S'] = data['Consumption'] / data['Salary']"
   ]
  },
  {
   "cell_type": "code",
   "execution_count": 214,
   "metadata": {},
   "outputs": [
    {
     "data": {
      "text/plain": [
       "2019-01    0.476671\n",
       "2019-02    0.552964\n",
       "2019-03    0.529901\n",
       "2019-04    0.448849\n",
       "2019-05    0.425008\n",
       "Freq: M, Name: C_S, dtype: float64"
      ]
     },
     "execution_count": 214,
     "metadata": {},
     "output_type": "execute_result"
    }
   ],
   "source": [
    "data['C_S'].head()"
   ]
  },
  {
   "cell_type": "code",
   "execution_count": 215,
   "metadata": {},
   "outputs": [
    {
     "data": {
      "text/plain": [
       "<matplotlib.axes._subplots.AxesSubplot at 0x2348c3920d0>"
      ]
     },
     "execution_count": 215,
     "metadata": {},
     "output_type": "execute_result"
    },
    {
     "data": {
      "image/png": "[encoded data removed]",
      "text/plain": [
       "<Figure size 576x432 with 1 Axes>"
      ]
     },
     "metadata": {
      "needs_background": "light"
     },
     "output_type": "display_data"
    }
   ],
   "source": [
    "data['C_S'].plot.area(color='green', \n",
    "                      alpha=0.5, \n",
    "                      ylim=[0.3, 0.6],\n",
    "                      grid=True,\n",
    "                      figsize=(8, 6))"
   ]
  },
  {
   "cell_type": "markdown",
   "metadata": {},
   "source": [
    "3. 空间比较分析（横向对比分析）\n",
    "\n",
    "同类现象在同一时间不同空间的指标数值进行对比，反映同类现象在不同空间上的差异程度和现象发展不平衡的状况。\n",
    "\n",
    "$$\n",
    "空间比较相对数 = \\frac{甲空间某一现象的数值}{乙空间同类现象的数值}\n",
    "$$"
   ]
  },
  {
   "cell_type": "code",
   "execution_count": 216,
   "metadata": {},
   "outputs": [],
   "source": [
    "data = pd.DataFrame({'A':np.random.rand(30)*5000,\n",
    "                    'B':np.random.rand(30)*2000,\n",
    "                    'C':np.random.rand(30)*10000,\n",
    "                    'D':np.random.rand(30)*800},\n",
    "                   index = pd.period_range('20190601','20190630'))"
   ]
  },
  {
   "cell_type": "code",
   "execution_count": 217,
   "metadata": {},
   "outputs": [
    {
     "data": {
      "text/html": [
       "<div>\n",
       "<style scoped>\n",
       "    .dataframe tbody tr th:only-of-type {\n",
       "        vertical-align: middle;\n",
       "    }\n",
       "\n",
       "    .dataframe tbody tr th {\n",
       "        vertical-align: top;\n",
       "    }\n",
       "\n",
       "    .dataframe thead th {\n",
       "        text-align: right;\n",
       "    }\n",
       "</style>\n",
       "<table border=\"1\" class=\"dataframe\">\n",
       "  <thead>\n",
       "    <tr style=\"text-align: right;\">\n",
       "      <th></th>\n",
       "      <th>A</th>\n",
       "      <th>B</th>\n",
       "      <th>C</th>\n",
       "      <th>D</th>\n",
       "    </tr>\n",
       "  </thead>\n",
       "  <tbody>\n",
       "    <tr>\n",
       "      <th>2019-06-01</th>\n",
       "      <td>4903.758337</td>\n",
       "      <td>1275.838901</td>\n",
       "      <td>5488.408576</td>\n",
       "      <td>528.358293</td>\n",
       "    </tr>\n",
       "    <tr>\n",
       "      <th>2019-06-02</th>\n",
       "      <td>2481.501804</td>\n",
       "      <td>218.400985</td>\n",
       "      <td>7898.300453</td>\n",
       "      <td>483.414914</td>\n",
       "    </tr>\n",
       "    <tr>\n",
       "      <th>2019-06-03</th>\n",
       "      <td>4885.216852</td>\n",
       "      <td>699.485188</td>\n",
       "      <td>4323.398784</td>\n",
       "      <td>322.288057</td>\n",
       "    </tr>\n",
       "    <tr>\n",
       "      <th>2019-06-04</th>\n",
       "      <td>4864.923353</td>\n",
       "      <td>1298.128555</td>\n",
       "      <td>7489.731499</td>\n",
       "      <td>37.694216</td>\n",
       "    </tr>\n",
       "    <tr>\n",
       "      <th>2019-06-05</th>\n",
       "      <td>3627.241764</td>\n",
       "      <td>1567.987508</td>\n",
       "      <td>13.908703</td>\n",
       "      <td>158.786065</td>\n",
       "    </tr>\n",
       "  </tbody>\n",
       "</table>\n",
       "</div>"
      ],
      "text/plain": [
       "                      A            B            C           D\n",
       "2019-06-01  4903.758337  1275.838901  5488.408576  528.358293\n",
       "2019-06-02  2481.501804   218.400985  7898.300453  483.414914\n",
       "2019-06-03  4885.216852   699.485188  4323.398784  322.288057\n",
       "2019-06-04  4864.923353  1298.128555  7489.731499   37.694216\n",
       "2019-06-05  3627.241764  1567.987508    13.908703  158.786065"
      ]
     },
     "execution_count": 217,
     "metadata": {},
     "output_type": "execute_result"
    }
   ],
   "source": [
    "data.head()"
   ]
  },
  {
   "cell_type": "markdown",
   "metadata": {},
   "source": [
    "`data`表示30天内A,B,C和D四个产品的销售情况，不同产品的销售量级不同。"
   ]
  },
  {
   "cell_type": "code",
   "execution_count": 218,
   "metadata": {},
   "outputs": [],
   "source": [
    "data_column_sum = data.sum()"
   ]
  },
  {
   "cell_type": "code",
   "execution_count": 219,
   "metadata": {},
   "outputs": [
    {
     "data": {
      "text/plain": [
       "A     82900.095016\n",
       "B     33356.236263\n",
       "C    172125.636575\n",
       "D     14702.709937\n",
       "dtype: float64"
      ]
     },
     "execution_count": 219,
     "metadata": {},
     "output_type": "execute_result"
    }
   ],
   "source": [
    "data_column_sum"
   ]
  },
  {
   "cell_type": "markdown",
   "metadata": {},
   "source": [
    "通过柱状图做横向比较，4个产品的销售额总量："
   ]
  },
  {
   "cell_type": "code",
   "execution_count": 225,
   "metadata": {},
   "outputs": [
    {
     "data": {
      "text/plain": [
       "Text(0.5, 0, '产品')"
      ]
     },
     "execution_count": 225,
     "metadata": {},
     "output_type": "execute_result"
    },
    {
     "data": {
      "image/png": "[encoded data removed]",
      "text/plain": [
       "<Figure size 432x288 with 1 Axes>"
      ]
     },
     "metadata": {
      "needs_background": "light"
     },
     "output_type": "display_data"
    }
   ],
   "source": [
    "data_column_sum.plot(kind='bar', \n",
    "                    color=['r', 'g', 'b', 'y'],\n",
    "                    rot=0,\n",
    "                    alpha=0.8,\n",
    "                    grid=True)\n",
    "for i, j in zip(range(4), data_column_sum):\n",
    "        plt.text(i - 0.25, j + 2000, '%.2f' % j, color='k')\n",
    "plt.title('4个产品的销售额总量')\n",
    "plt.ylabel('销售额总量')\n",
    "plt.xlabel('产品')"
   ]
  },
  {
   "cell_type": "markdown",
   "metadata": {},
   "source": [
    "多系列柱状图，横向比较前10天4个产品的销售额："
   ]
  },
  {
   "cell_type": "code",
   "execution_count": 226,
   "metadata": {},
   "outputs": [
    {
     "data": {
      "text/plain": [
       "<matplotlib.axes._subplots.AxesSubplot at 0x2348c61c820>"
      ]
     },
     "execution_count": 226,
     "metadata": {},
     "output_type": "execute_result"
    },
    {
     "data": {
      "image/png": "[encoded data removed]",
      "text/plain": [
       "<Figure size 576x432 with 1 Axes>"
      ]
     },
     "metadata": {
      "needs_background": "light"
     },
     "output_type": "display_data"
    }
   ],
   "source": [
    "data[:10].plot(kind='bar', \n",
    "               color=['r', 'g', 'b', 'y'], \n",
    "               alpha=0.8, \n",
    "               grid=True,\n",
    "               figsize=(8, 6))"
   ]
  },
  {
   "cell_type": "markdown",
   "metadata": {},
   "source": [
    "4. 动态对比分析（纵向对比分析）\n",
    "\n",
    "同一现象在不同时间上的指标数值进行对比，反应现象的数量随着时间推移而发展变动的程度及趋势。\n",
    "\n",
    "最基本方法，计算动态相对数（发展速度）。\n",
    "\n",
    "$$动态相对数（发展速度） = \\frac{某一现象的报告期数值}{同一现象的基期数值}$$\n",
    "\n",
    "基期：用来比较的基础时期\n",
    "\n",
    "报告期：所要研究的时期，又称计算期"
   ]
  },
  {
   "cell_type": "code",
   "execution_count": 227,
   "metadata": {},
   "outputs": [],
   "source": [
    "data = pd.DataFrame({'A':np.random.rand(30)*2000+1000},\n",
    "                   index = pd.period_range('20190601','20190630'))"
   ]
  },
  {
   "cell_type": "code",
   "execution_count": 228,
   "metadata": {},
   "outputs": [
    {
     "data": {
      "text/html": [
       "<div>\n",
       "<style scoped>\n",
       "    .dataframe tbody tr th:only-of-type {\n",
       "        vertical-align: middle;\n",
       "    }\n",
       "\n",
       "    .dataframe tbody tr th {\n",
       "        vertical-align: top;\n",
       "    }\n",
       "\n",
       "    .dataframe thead th {\n",
       "        text-align: right;\n",
       "    }\n",
       "</style>\n",
       "<table border=\"1\" class=\"dataframe\">\n",
       "  <thead>\n",
       "    <tr style=\"text-align: right;\">\n",
       "      <th></th>\n",
       "      <th>A</th>\n",
       "    </tr>\n",
       "  </thead>\n",
       "  <tbody>\n",
       "    <tr>\n",
       "      <th>2019-06-01</th>\n",
       "      <td>1271.316050</td>\n",
       "    </tr>\n",
       "    <tr>\n",
       "      <th>2019-06-02</th>\n",
       "      <td>2044.882980</td>\n",
       "    </tr>\n",
       "    <tr>\n",
       "      <th>2019-06-03</th>\n",
       "      <td>1656.054495</td>\n",
       "    </tr>\n",
       "    <tr>\n",
       "      <th>2019-06-04</th>\n",
       "      <td>1061.828437</td>\n",
       "    </tr>\n",
       "    <tr>\n",
       "      <th>2019-06-05</th>\n",
       "      <td>1560.279986</td>\n",
       "    </tr>\n",
       "  </tbody>\n",
       "</table>\n",
       "</div>"
      ],
      "text/plain": [
       "                      A\n",
       "2019-06-01  1271.316050\n",
       "2019-06-02  2044.882980\n",
       "2019-06-03  1656.054495\n",
       "2019-06-04  1061.828437\n",
       "2019-06-05  1560.279986"
      ]
     },
     "execution_count": 228,
     "metadata": {},
     "output_type": "execute_result"
    }
   ],
   "source": [
    "data.head()"
   ]
  },
  {
   "cell_type": "markdown",
   "metadata": {},
   "source": [
    "`data`表示30天内A产品的销售情况。\n",
    "\n",
    "假设基期销售额为1000，之后每一天都为计算期。"
   ]
  },
  {
   "cell_type": "code",
   "execution_count": 229,
   "metadata": {},
   "outputs": [],
   "source": [
    "data['base'] = 1000"
   ]
  },
  {
   "cell_type": "code",
   "execution_count": 230,
   "metadata": {},
   "outputs": [],
   "source": [
    "# 累计增长量 = 报告期水平 - 固定基期水平\n",
    "data['l_growth'] = data['A'] - data['base']"
   ]
  },
  {
   "cell_type": "code",
   "execution_count": 235,
   "metadata": {},
   "outputs": [
    {
     "data": {
      "text/html": [
       "<div>\n",
       "<style scoped>\n",
       "    .dataframe tbody tr th:only-of-type {\n",
       "        vertical-align: middle;\n",
       "    }\n",
       "\n",
       "    .dataframe tbody tr th {\n",
       "        vertical-align: top;\n",
       "    }\n",
       "\n",
       "    .dataframe thead th {\n",
       "        text-align: right;\n",
       "    }\n",
       "</style>\n",
       "<table border=\"1\" class=\"dataframe\">\n",
       "  <thead>\n",
       "    <tr style=\"text-align: right;\">\n",
       "      <th></th>\n",
       "      <th>A</th>\n",
       "      <th>base</th>\n",
       "      <th>l_growth</th>\n",
       "    </tr>\n",
       "  </thead>\n",
       "  <tbody>\n",
       "    <tr>\n",
       "      <th>2019-06-01</th>\n",
       "      <td>1271.316050</td>\n",
       "      <td>1000</td>\n",
       "      <td>271.316050</td>\n",
       "    </tr>\n",
       "    <tr>\n",
       "      <th>2019-06-02</th>\n",
       "      <td>2044.882980</td>\n",
       "      <td>1000</td>\n",
       "      <td>1044.882980</td>\n",
       "    </tr>\n",
       "    <tr>\n",
       "      <th>2019-06-03</th>\n",
       "      <td>1656.054495</td>\n",
       "      <td>1000</td>\n",
       "      <td>656.054495</td>\n",
       "    </tr>\n",
       "    <tr>\n",
       "      <th>2019-06-04</th>\n",
       "      <td>1061.828437</td>\n",
       "      <td>1000</td>\n",
       "      <td>61.828437</td>\n",
       "    </tr>\n",
       "    <tr>\n",
       "      <th>2019-06-05</th>\n",
       "      <td>1560.279986</td>\n",
       "      <td>1000</td>\n",
       "      <td>560.279986</td>\n",
       "    </tr>\n",
       "  </tbody>\n",
       "</table>\n",
       "</div>"
      ],
      "text/plain": [
       "                      A  base     l_growth\n",
       "2019-06-01  1271.316050  1000   271.316050\n",
       "2019-06-02  2044.882980  1000  1044.882980\n",
       "2019-06-03  1656.054495  1000   656.054495\n",
       "2019-06-04  1061.828437  1000    61.828437\n",
       "2019-06-05  1560.279986  1000   560.279986"
      ]
     },
     "execution_count": 235,
     "metadata": {},
     "output_type": "execute_result"
    }
   ],
   "source": [
    "data.head()"
   ]
  },
  {
   "cell_type": "code",
   "execution_count": 234,
   "metadata": {},
   "outputs": [
    {
     "data": {
      "text/html": [
       "<div>\n",
       "<style scoped>\n",
       "    .dataframe tbody tr th:only-of-type {\n",
       "        vertical-align: middle;\n",
       "    }\n",
       "\n",
       "    .dataframe tbody tr th {\n",
       "        vertical-align: top;\n",
       "    }\n",
       "\n",
       "    .dataframe thead th {\n",
       "        text-align: right;\n",
       "    }\n",
       "</style>\n",
       "<table border=\"1\" class=\"dataframe\">\n",
       "  <thead>\n",
       "    <tr style=\"text-align: right;\">\n",
       "      <th></th>\n",
       "      <th>A</th>\n",
       "      <th>base</th>\n",
       "      <th>l_growth</th>\n",
       "    </tr>\n",
       "  </thead>\n",
       "  <tbody>\n",
       "    <tr>\n",
       "      <th>2019-06-01</th>\n",
       "      <td>NaN</td>\n",
       "      <td>NaN</td>\n",
       "      <td>NaN</td>\n",
       "    </tr>\n",
       "    <tr>\n",
       "      <th>2019-06-02</th>\n",
       "      <td>1271.316050</td>\n",
       "      <td>1000.0</td>\n",
       "      <td>271.316050</td>\n",
       "    </tr>\n",
       "    <tr>\n",
       "      <th>2019-06-03</th>\n",
       "      <td>2044.882980</td>\n",
       "      <td>1000.0</td>\n",
       "      <td>1044.882980</td>\n",
       "    </tr>\n",
       "    <tr>\n",
       "      <th>2019-06-04</th>\n",
       "      <td>1656.054495</td>\n",
       "      <td>1000.0</td>\n",
       "      <td>656.054495</td>\n",
       "    </tr>\n",
       "    <tr>\n",
       "      <th>2019-06-05</th>\n",
       "      <td>1061.828437</td>\n",
       "      <td>1000.0</td>\n",
       "      <td>61.828437</td>\n",
       "    </tr>\n",
       "  </tbody>\n",
       "</table>\n",
       "</div>"
      ],
      "text/plain": [
       "                      A    base     l_growth\n",
       "2019-06-01          NaN     NaN          NaN\n",
       "2019-06-02  1271.316050  1000.0   271.316050\n",
       "2019-06-03  2044.882980  1000.0  1044.882980\n",
       "2019-06-04  1656.054495  1000.0   656.054495\n",
       "2019-06-05  1061.828437  1000.0    61.828437"
      ]
     },
     "execution_count": 234,
     "metadata": {},
     "output_type": "execute_result"
    }
   ],
   "source": [
    "data.shift(1).head()"
   ]
  },
  {
   "cell_type": "code",
   "execution_count": 236,
   "metadata": {},
   "outputs": [],
   "source": [
    "# 逐期增长量 = 报告期水平 - 报告期前一期水平\n",
    "data['z_growth'] = data['A'] - data.shift(1)['A']"
   ]
  },
  {
   "cell_type": "code",
   "execution_count": 237,
   "metadata": {},
   "outputs": [
    {
     "data": {
      "text/html": [
       "<div>\n",
       "<style scoped>\n",
       "    .dataframe tbody tr th:only-of-type {\n",
       "        vertical-align: middle;\n",
       "    }\n",
       "\n",
       "    .dataframe tbody tr th {\n",
       "        vertical-align: top;\n",
       "    }\n",
       "\n",
       "    .dataframe thead th {\n",
       "        text-align: right;\n",
       "    }\n",
       "</style>\n",
       "<table border=\"1\" class=\"dataframe\">\n",
       "  <thead>\n",
       "    <tr style=\"text-align: right;\">\n",
       "      <th></th>\n",
       "      <th>A</th>\n",
       "      <th>base</th>\n",
       "      <th>l_growth</th>\n",
       "      <th>z_growth</th>\n",
       "    </tr>\n",
       "  </thead>\n",
       "  <tbody>\n",
       "    <tr>\n",
       "      <th>2019-06-01</th>\n",
       "      <td>1271.316050</td>\n",
       "      <td>1000</td>\n",
       "      <td>271.316050</td>\n",
       "      <td>NaN</td>\n",
       "    </tr>\n",
       "    <tr>\n",
       "      <th>2019-06-02</th>\n",
       "      <td>2044.882980</td>\n",
       "      <td>1000</td>\n",
       "      <td>1044.882980</td>\n",
       "      <td>773.566930</td>\n",
       "    </tr>\n",
       "    <tr>\n",
       "      <th>2019-06-03</th>\n",
       "      <td>1656.054495</td>\n",
       "      <td>1000</td>\n",
       "      <td>656.054495</td>\n",
       "      <td>-388.828485</td>\n",
       "    </tr>\n",
       "    <tr>\n",
       "      <th>2019-06-04</th>\n",
       "      <td>1061.828437</td>\n",
       "      <td>1000</td>\n",
       "      <td>61.828437</td>\n",
       "      <td>-594.226058</td>\n",
       "    </tr>\n",
       "    <tr>\n",
       "      <th>2019-06-05</th>\n",
       "      <td>1560.279986</td>\n",
       "      <td>1000</td>\n",
       "      <td>560.279986</td>\n",
       "      <td>498.451548</td>\n",
       "    </tr>\n",
       "  </tbody>\n",
       "</table>\n",
       "</div>"
      ],
      "text/plain": [
       "                      A  base     l_growth    z_growth\n",
       "2019-06-01  1271.316050  1000   271.316050         NaN\n",
       "2019-06-02  2044.882980  1000  1044.882980  773.566930\n",
       "2019-06-03  1656.054495  1000   656.054495 -388.828485\n",
       "2019-06-04  1061.828437  1000    61.828437 -594.226058\n",
       "2019-06-05  1560.279986  1000   560.279986  498.451548"
      ]
     },
     "execution_count": 237,
     "metadata": {},
     "output_type": "execute_result"
    }
   ],
   "source": [
    "data.head()"
   ]
  },
  {
   "cell_type": "code",
   "execution_count": 239,
   "metadata": {},
   "outputs": [],
   "source": [
    "data[data.isna()] = 0"
   ]
  },
  {
   "cell_type": "code",
   "execution_count": 240,
   "metadata": {},
   "outputs": [
    {
     "data": {
      "text/html": [
       "<div>\n",
       "<style scoped>\n",
       "    .dataframe tbody tr th:only-of-type {\n",
       "        vertical-align: middle;\n",
       "    }\n",
       "\n",
       "    .dataframe tbody tr th {\n",
       "        vertical-align: top;\n",
       "    }\n",
       "\n",
       "    .dataframe thead th {\n",
       "        text-align: right;\n",
       "    }\n",
       "</style>\n",
       "<table border=\"1\" class=\"dataframe\">\n",
       "  <thead>\n",
       "    <tr style=\"text-align: right;\">\n",
       "      <th></th>\n",
       "      <th>A</th>\n",
       "      <th>base</th>\n",
       "      <th>l_growth</th>\n",
       "      <th>z_growth</th>\n",
       "    </tr>\n",
       "  </thead>\n",
       "  <tbody>\n",
       "    <tr>\n",
       "      <th>2019-06-01</th>\n",
       "      <td>1271.316050</td>\n",
       "      <td>1000</td>\n",
       "      <td>271.316050</td>\n",
       "      <td>0.000000</td>\n",
       "    </tr>\n",
       "    <tr>\n",
       "      <th>2019-06-02</th>\n",
       "      <td>2044.882980</td>\n",
       "      <td>1000</td>\n",
       "      <td>1044.882980</td>\n",
       "      <td>773.566930</td>\n",
       "    </tr>\n",
       "    <tr>\n",
       "      <th>2019-06-03</th>\n",
       "      <td>1656.054495</td>\n",
       "      <td>1000</td>\n",
       "      <td>656.054495</td>\n",
       "      <td>-388.828485</td>\n",
       "    </tr>\n",
       "    <tr>\n",
       "      <th>2019-06-04</th>\n",
       "      <td>1061.828437</td>\n",
       "      <td>1000</td>\n",
       "      <td>61.828437</td>\n",
       "      <td>-594.226058</td>\n",
       "    </tr>\n",
       "    <tr>\n",
       "      <th>2019-06-05</th>\n",
       "      <td>1560.279986</td>\n",
       "      <td>1000</td>\n",
       "      <td>560.279986</td>\n",
       "      <td>498.451548</td>\n",
       "    </tr>\n",
       "  </tbody>\n",
       "</table>\n",
       "</div>"
      ],
      "text/plain": [
       "                      A  base     l_growth    z_growth\n",
       "2019-06-01  1271.316050  1000   271.316050    0.000000\n",
       "2019-06-02  2044.882980  1000  1044.882980  773.566930\n",
       "2019-06-03  1656.054495  1000   656.054495 -388.828485\n",
       "2019-06-04  1061.828437  1000    61.828437 -594.226058\n",
       "2019-06-05  1560.279986  1000   560.279986  498.451548"
      ]
     },
     "execution_count": 240,
     "metadata": {},
     "output_type": "execute_result"
    }
   ],
   "source": [
    "data.head()"
   ]
  },
  {
   "cell_type": "markdown",
   "metadata": {},
   "source": [
    "通过折线图查看增长量情况："
   ]
  },
  {
   "cell_type": "code",
   "execution_count": 241,
   "metadata": {},
   "outputs": [
    {
     "data": {
      "image/png": "[encoded data removed]",
      "text/plain": [
       "<Figure size 576x432 with 1 Axes>"
      ]
     },
     "metadata": {
      "needs_background": "light"
     },
     "output_type": "display_data"
    }
   ],
   "source": [
    "data[['l_growth', 'z_growth']].plot(figsize=(8, 6),\n",
    "                                   style='--.',\n",
    "                                   alpha=0.8)\n",
    "plt.legend(loc='lower left')\n",
    "plt.grid()"
   ]
  },
  {
   "cell_type": "markdown",
   "metadata": {},
   "source": [
    "通过折线图查看发展速度："
   ]
  },
  {
   "cell_type": "code",
   "execution_count": 242,
   "metadata": {},
   "outputs": [
    {
     "data": {
      "image/png": "[encoded data removed]",
      "text/plain": [
       "<Figure size 576x432 with 1 Axes>"
      ]
     },
     "metadata": {
      "needs_background": "light"
     },
     "output_type": "display_data"
    }
   ],
   "source": [
    "# 定基增长速度\n",
    "data['l_speed'] = data['l_growth'] / data['base']\n",
    "# 环比增长速度\n",
    "data['z_speed'] = data['z_growth'] / data.shift(1)['A'] \n",
    "\n",
    "data[['l_speed', 'z_speed']].plot(figsize=(8, 6),\n",
    "                                 style='--.',\n",
    "                                 alpha=0.8)\n",
    "plt.grid()"
   ]
  },
  {
   "cell_type": "markdown",
   "metadata": {},
   "source": [
    "### 统计分析"
   ]
  },
  {
   "cell_type": "markdown",
   "metadata": {},
   "source": [
    "统计指标对定量数据进行统计描述，常从集中趋势和离中取时两个方面进行分析。"
   ]
  },
  {
   "cell_type": "markdown",
   "metadata": {},
   "source": [
    "#### 集中趋势度量\n",
    "\n",
    "指一组数据向某一中心靠拢的倾向，核心在于寻找数据的代表值或中心值 —— 统计平均数、算数平均数、位置平均数。"
   ]
  },
  {
   "cell_type": "markdown",
   "metadata": {},
   "source": [
    "- 算数平均数"
   ]
  },
  {
   "cell_type": "code",
   "execution_count": 243,
   "metadata": {},
   "outputs": [],
   "source": [
    "data = pd.DataFrame({'weight': np.random.rand(100),\n",
    "                    'value': np.random.randint(100, 120, 100)})\n"
   ]
  },
  {
   "cell_type": "code",
   "execution_count": 244,
   "metadata": {},
   "outputs": [
    {
     "data": {
      "text/html": [
       "<div>\n",
       "<style scoped>\n",
       "    .dataframe tbody tr th:only-of-type {\n",
       "        vertical-align: middle;\n",
       "    }\n",
       "\n",
       "    .dataframe tbody tr th {\n",
       "        vertical-align: top;\n",
       "    }\n",
       "\n",
       "    .dataframe thead th {\n",
       "        text-align: right;\n",
       "    }\n",
       "</style>\n",
       "<table border=\"1\" class=\"dataframe\">\n",
       "  <thead>\n",
       "    <tr style=\"text-align: right;\">\n",
       "      <th></th>\n",
       "      <th>weight</th>\n",
       "      <th>value</th>\n",
       "    </tr>\n",
       "  </thead>\n",
       "  <tbody>\n",
       "    <tr>\n",
       "      <th>0</th>\n",
       "      <td>0.884907</td>\n",
       "      <td>117</td>\n",
       "    </tr>\n",
       "    <tr>\n",
       "      <th>1</th>\n",
       "      <td>0.156541</td>\n",
       "      <td>110</td>\n",
       "    </tr>\n",
       "    <tr>\n",
       "      <th>2</th>\n",
       "      <td>0.627719</td>\n",
       "      <td>113</td>\n",
       "    </tr>\n",
       "    <tr>\n",
       "      <th>3</th>\n",
       "      <td>0.082754</td>\n",
       "      <td>103</td>\n",
       "    </tr>\n",
       "    <tr>\n",
       "      <th>4</th>\n",
       "      <td>0.378563</td>\n",
       "      <td>111</td>\n",
       "    </tr>\n",
       "  </tbody>\n",
       "</table>\n",
       "</div>"
      ],
      "text/plain": [
       "     weight  value\n",
       "0  0.884907    117\n",
       "1  0.156541    110\n",
       "2  0.627719    113\n",
       "3  0.082754    103\n",
       "4  0.378563    111"
      ]
     },
     "execution_count": 244,
     "metadata": {},
     "output_type": "execute_result"
    }
   ],
   "source": [
    "data.head()"
   ]
  },
  {
   "cell_type": "code",
   "execution_count": 245,
   "metadata": {},
   "outputs": [],
   "source": [
    "data['weight'] = data['weight'] / data['weight'].sum()"
   ]
  },
  {
   "cell_type": "code",
   "execution_count": 246,
   "metadata": {},
   "outputs": [
    {
     "data": {
      "text/html": [
       "<div>\n",
       "<style scoped>\n",
       "    .dataframe tbody tr th:only-of-type {\n",
       "        vertical-align: middle;\n",
       "    }\n",
       "\n",
       "    .dataframe tbody tr th {\n",
       "        vertical-align: top;\n",
       "    }\n",
       "\n",
       "    .dataframe thead th {\n",
       "        text-align: right;\n",
       "    }\n",
       "</style>\n",
       "<table border=\"1\" class=\"dataframe\">\n",
       "  <thead>\n",
       "    <tr style=\"text-align: right;\">\n",
       "      <th></th>\n",
       "      <th>weight</th>\n",
       "      <th>value</th>\n",
       "    </tr>\n",
       "  </thead>\n",
       "  <tbody>\n",
       "    <tr>\n",
       "      <th>0</th>\n",
       "      <td>0.017859</td>\n",
       "      <td>117</td>\n",
       "    </tr>\n",
       "    <tr>\n",
       "      <th>1</th>\n",
       "      <td>0.003159</td>\n",
       "      <td>110</td>\n",
       "    </tr>\n",
       "    <tr>\n",
       "      <th>2</th>\n",
       "      <td>0.012669</td>\n",
       "      <td>113</td>\n",
       "    </tr>\n",
       "    <tr>\n",
       "      <th>3</th>\n",
       "      <td>0.001670</td>\n",
       "      <td>103</td>\n",
       "    </tr>\n",
       "    <tr>\n",
       "      <th>4</th>\n",
       "      <td>0.007640</td>\n",
       "      <td>111</td>\n",
       "    </tr>\n",
       "  </tbody>\n",
       "</table>\n",
       "</div>"
      ],
      "text/plain": [
       "     weight  value\n",
       "0  0.017859    117\n",
       "1  0.003159    110\n",
       "2  0.012669    113\n",
       "3  0.001670    103\n",
       "4  0.007640    111"
      ]
     },
     "execution_count": 246,
     "metadata": {},
     "output_type": "execute_result"
    }
   ],
   "source": [
    "data.head()"
   ]
  },
  {
   "cell_type": "code",
   "execution_count": 250,
   "metadata": {},
   "outputs": [
    {
     "data": {
      "text/plain": [
       "108.99"
      ]
     },
     "execution_count": 250,
     "metadata": {},
     "output_type": "execute_result"
    }
   ],
   "source": [
    "# 简单算数平均数\n",
    "mean = data['value'].mean()\n",
    "mean"
   ]
  },
  {
   "cell_type": "code",
   "execution_count": 251,
   "metadata": {},
   "outputs": [
    {
     "data": {
      "text/plain": [
       "108.66879489270842"
      ]
     },
     "execution_count": 251,
     "metadata": {},
     "output_type": "execute_result"
    }
   ],
   "source": [
    "# 加权算数平均数\n",
    "mean_w = (data['value'] * data['weight']).sum() / data['weight'].sum()\n",
    "mean_w"
   ]
  },
  {
   "cell_type": "markdown",
   "metadata": {},
   "source": [
    "- 位置平均数"
   ]
  },
  {
   "cell_type": "code",
   "execution_count": 252,
   "metadata": {},
   "outputs": [
    {
     "data": {
      "text/plain": [
       "0    102\n",
       "dtype: int32"
      ]
     },
     "execution_count": 252,
     "metadata": {},
     "output_type": "execute_result"
    }
   ],
   "source": [
    "# 众数\n",
    "m = data['value'].mode()\n",
    "m"
   ]
  },
  {
   "cell_type": "code",
   "execution_count": 253,
   "metadata": {},
   "outputs": [
    {
     "data": {
      "text/plain": [
       "109.0"
      ]
     },
     "execution_count": 253,
     "metadata": {},
     "output_type": "execute_result"
    }
   ],
   "source": [
    "# 中位数\n",
    "median = data['value'].median()\n",
    "median"
   ]
  },
  {
   "cell_type": "code",
   "execution_count": 261,
   "metadata": {},
   "outputs": [
    {
     "data": {
      "text/plain": [
       "Text(113.99, 0.015, '中位数：109')"
      ]
     },
     "execution_count": 261,
     "metadata": {},
     "output_type": "execute_result"
    },
    {
     "data": {
      "image/png": "[encoded data removed]",
      "text/plain": [
       "<Figure size 576x432 with 1 Axes>"
      ]
     },
     "metadata": {
      "needs_background": "light"
     },
     "output_type": "display_data"
    }
   ],
   "source": [
    "# 密度曲线\n",
    "data['value'].plot(kind='kde', \n",
    "                  style='--k',\n",
    "                  figsize=(8, 6),\n",
    "                  grid=True)\n",
    "\n",
    "# 简单算数平均数\n",
    "plt.axvline(mean, color='r', linestyle='--', alpha=0.8)\n",
    "plt.text(mean + 5, 0.005, '简单算数平均值为：%.2f' % mean, color = 'r')\n",
    "\n",
    "# 加权算数平均数\n",
    "plt.axvline(mean_w,color='b',linestyle=\"--\",alpha=0.8)  \n",
    "plt.text(mean + 5,0.01,'加权算数平均值：%.2f' % mean_w, color = 'b')\n",
    "\n",
    "# 中位数\n",
    "plt.axvline(median,color='g',linestyle=\"--\",alpha=0.8)  \n",
    "plt.text(mean + 5,0.015,'中位数：%i' % median, color = 'g')"
   ]
  },
  {
   "cell_type": "markdown",
   "metadata": {},
   "source": [
    "#### 离中趋势度量\n",
    "\n",
    "指一组数据中各数据以不同程度的距离偏离中心的趋势\n",
    "\n",
    "极差与分位差、方差与标准差、离散系数"
   ]
  },
  {
   "cell_type": "code",
   "execution_count": 263,
   "metadata": {},
   "outputs": [],
   "source": [
    "data = pd.DataFrame({'A_sale':np.random.rand(30)*1000,\n",
    "                    'B_sale':np.random.rand(30)*1000},\n",
    "                   index = pd.period_range('20190601','20190630'))"
   ]
  },
  {
   "cell_type": "code",
   "execution_count": 264,
   "metadata": {},
   "outputs": [
    {
     "data": {
      "text/html": [
       "<div>\n",
       "<style scoped>\n",
       "    .dataframe tbody tr th:only-of-type {\n",
       "        vertical-align: middle;\n",
       "    }\n",
       "\n",
       "    .dataframe tbody tr th {\n",
       "        vertical-align: top;\n",
       "    }\n",
       "\n",
       "    .dataframe thead th {\n",
       "        text-align: right;\n",
       "    }\n",
       "</style>\n",
       "<table border=\"1\" class=\"dataframe\">\n",
       "  <thead>\n",
       "    <tr style=\"text-align: right;\">\n",
       "      <th></th>\n",
       "      <th>A_sale</th>\n",
       "      <th>B_sale</th>\n",
       "    </tr>\n",
       "  </thead>\n",
       "  <tbody>\n",
       "    <tr>\n",
       "      <th>2019-06-01</th>\n",
       "      <td>163.558967</td>\n",
       "      <td>753.328060</td>\n",
       "    </tr>\n",
       "    <tr>\n",
       "      <th>2019-06-02</th>\n",
       "      <td>70.919891</td>\n",
       "      <td>180.305723</td>\n",
       "    </tr>\n",
       "    <tr>\n",
       "      <th>2019-06-03</th>\n",
       "      <td>940.228041</td>\n",
       "      <td>87.199598</td>\n",
       "    </tr>\n",
       "    <tr>\n",
       "      <th>2019-06-04</th>\n",
       "      <td>633.060411</td>\n",
       "      <td>579.384960</td>\n",
       "    </tr>\n",
       "    <tr>\n",
       "      <th>2019-06-05</th>\n",
       "      <td>827.274096</td>\n",
       "      <td>782.835077</td>\n",
       "    </tr>\n",
       "  </tbody>\n",
       "</table>\n",
       "</div>"
      ],
      "text/plain": [
       "                A_sale      B_sale\n",
       "2019-06-01  163.558967  753.328060\n",
       "2019-06-02   70.919891  180.305723\n",
       "2019-06-03  940.228041   87.199598\n",
       "2019-06-04  633.060411  579.384960\n",
       "2019-06-05  827.274096  782.835077"
      ]
     },
     "execution_count": 264,
     "metadata": {},
     "output_type": "execute_result"
    }
   ],
   "source": [
    "data.head()"
   ]
  },
  {
   "cell_type": "markdown",
   "metadata": {},
   "source": [
    "A和B产品销售额量级在同一水平。"
   ]
  },
  {
   "cell_type": "markdown",
   "metadata": {},
   "source": [
    "- 极差与分位差"
   ]
  },
  {
   "cell_type": "code",
   "execution_count": 265,
   "metadata": {},
   "outputs": [],
   "source": [
    "A_r = data['A_sale'].max() - data['A_sale'].min()\n",
    "B_r = data['B_sale'].max() - data['B_sale'].min()"
   ]
  },
  {
   "cell_type": "code",
   "execution_count": 266,
   "metadata": {},
   "outputs": [
    {
     "data": {
      "text/plain": [
       "('产品A的销售额极差为：932.53', '产品B的销售额极差为：954.53')"
      ]
     },
     "execution_count": 266,
     "metadata": {},
     "output_type": "execute_result"
    }
   ],
   "source": [
    "'产品A的销售额极差为：%.2f' % A_r, '产品B的销售额极差为：%.2f' % B_r, "
   ]
  },
  {
   "cell_type": "markdown",
   "metadata": {},
   "source": [
    "极差没有考虑中间变量的变动，测定离中趋势不稳定。"
   ]
  },
  {
   "cell_type": "code",
   "execution_count": 267,
   "metadata": {},
   "outputs": [
    {
     "data": {
      "text/plain": [
       "'产品A销售额的分位差为：608.15, 产品B销售额的分位差为：549.87'"
      ]
     },
     "execution_count": 267,
     "metadata": {},
     "output_type": "execute_result"
    }
   ],
   "source": [
    "A_d = data['A_sale'].describe()\n",
    "B_d = data['B_sale'].describe()\n",
    "\n",
    "A_IQR = A_d.loc['75%'] - A_d.loc['25%']\n",
    "B_IQR = B_d.loc['75%'] - B_d.loc['25%']\n",
    "'产品A销售额的分位差为：%.2f, 产品B销售额的分位差为：%.2f' % (A_IQR, B_IQR)"
   ]
  },
  {
   "cell_type": "code",
   "execution_count": 269,
   "metadata": {},
   "outputs": [
    {
     "data": {
      "text/plain": [
       "<matplotlib.axes._subplots.AxesSubplot at 0x234948bb4c0>"
      ]
     },
     "execution_count": 269,
     "metadata": {},
     "output_type": "execute_result"
    },
    {
     "data": {
      "image/png": "[encoded data removed]",
      "text/plain": [
       "<Figure size 432x288 with 1 Axes>"
      ]
     },
     "metadata": {
      "needs_background": "light"
     },
     "output_type": "display_data"
    }
   ],
   "source": [
    "data.boxplot(column=['A_sale', 'B_sale'])"
   ]
  },
  {
   "cell_type": "markdown",
   "metadata": {},
   "source": [
    "- 方差与标准差"
   ]
  },
  {
   "cell_type": "code",
   "execution_count": 270,
   "metadata": {},
   "outputs": [],
   "source": [
    "A_std = A_d['std']\n",
    "B_std = B_d['std']\n",
    "A_var = data['A_sale'].var()\n",
    "B_var = data['B_sale'].var()"
   ]
  },
  {
   "cell_type": "code",
   "execution_count": 271,
   "metadata": {},
   "outputs": [
    {
     "name": "stdout",
     "output_type": "stream",
     "text": [
      "产品A销售额的标准差为：311.14, 产品B销售额的标准差为：299.63\n",
      "产品A销售额的方差为：96806.05, 产品B销售额的方差为：89777.99\n"
     ]
    }
   ],
   "source": [
    "print('产品A销售额的标准差为：%.2f, 产品B销售额的标准差为：%.2f' % (A_std, B_std))\n",
    "print('产品A销售额的方差为：%.2f, 产品B销售额的方差为：%.2f' % (A_var, B_var))"
   ]
  },
  {
   "cell_type": "markdown",
   "metadata": {},
   "source": [
    "标准差是最常用的离中趋势指标。标准差越大，离中趋势越明显。"
   ]
  },
  {
   "cell_type": "code",
   "execution_count": 273,
   "metadata": {},
   "outputs": [
    {
     "data": {
      "text/plain": [
       "<matplotlib.lines.Line2D at 0x2348c6cbfa0>"
      ]
     },
     "execution_count": 273,
     "metadata": {},
     "output_type": "execute_result"
    },
    {
     "data": {
      "image/png": "[encoded data removed]",
      "text/plain": [
       "<Figure size 864x288 with 2 Axes>"
      ]
     },
     "metadata": {
      "needs_background": "light"
     },
     "output_type": "display_data"
    }
   ],
   "source": [
    "# A密度曲线，1个标准差\n",
    "figure = plt.figure(figsize = (12,4))\n",
    "ax1 = figure.add_subplot(1,2,1)\n",
    "data['A_sale'].plot(kind = 'kde',style = 'k--',grid = True,title = '产品A密度曲线')\n",
    "plt.axvline(A_d.loc['50%'],color='r',linestyle=\"--\",alpha=0.8)  \n",
    "plt.axvline(A_d.loc['50%'] - A_std,color='b',linestyle=\"--\",alpha=0.8)  \n",
    "plt.axvline(A_d.loc['50%'] + A_std,color='b',linestyle=\"--\",alpha=0.8)  \n",
    "\n",
    "# B密度曲线，1个标准差\n",
    "ax2 = figure.add_subplot(1,2,2)\n",
    "data['B_sale'].plot(kind = 'kde',style = 'k--',grid = True,title = '产品B密度曲线')\n",
    "plt.axvline(B_d.loc['50%'],color='r',linestyle=\"--\",alpha=0.8)  \n",
    "plt.axvline(B_d.loc['50%'] - B_std,color='b',linestyle=\"--\",alpha=0.8)  \n",
    "plt.axvline(B_d.loc['50%'] + B_std,color='b',linestyle=\"--\",alpha=0.8)  "
   ]
  },
  {
   "cell_type": "markdown",
   "metadata": {},
   "source": [
    "## 总结"
   ]
  },
  {
   "cell_type": "markdown",
   "metadata": {},
   "source": [
    "![](./Images/1/2.png)"
   ]
  },
  {
   "cell_type": "markdown",
   "metadata": {},
   "source": [
    "## 参考"
   ]
  },
  {
   "cell_type": "markdown",
   "metadata": {},
   "source": [
    "- [Data Science入门教程](https://www.kesci.com/mw/project/5c1b4b54f8caa6002bc7abe9)\n",
    "- [【秘籍】数据分析小手册](https://www.kesci.com/mw/project/5ec3491c3241a100378cfbf0)\n",
    "- [【教程】数据特征分析](https://www.kesci.com/mw/project/5caeefe1e0ad99002cac0b7f)\n",
    "- [【教程】数据处理](https://www.kesci.com/mw/project/5c88bdb0bf9f020035737af2)"
   ]
  }
 ],
 "metadata": {
  "kernelspec": {
   "display_name": "Python 3",
   "language": "python",
   "name": "python3"
  },
  "language_info": {
   "codemirror_mode": {
    "name": "ipython",
    "version": 3
   },
   "file_extension": ".py",
   "mimetype": "text/x-python",
   "name": "python",
   "nbconvert_exporter": "python",
   "pygments_lexer": "ipython3",
   "version": "3.8.2"
  }
 },
 "nbformat": 4,
 "nbformat_minor": 4
}
