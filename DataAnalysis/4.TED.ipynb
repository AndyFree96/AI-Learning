{
 "cells": [
  {
   "cell_type": "markdown",
   "metadata": {},
   "source": [
    "## 加载数据集"
   ]
  },
  {
   "cell_type": "code",
   "execution_count": 1,
   "metadata": {},
   "outputs": [],
   "source": [
    "library(readr)"
   ]
  },
  {
   "cell_type": "code",
   "execution_count": 2,
   "metadata": {},
   "outputs": [
    {
     "name": "stderr",
     "output_type": "stream",
     "text": [
      "\n",
      "\u001b[36m--\u001b[39m \u001b[1m\u001b[1mColumn specification\u001b[1m\u001b[22m \u001b[36m--------------------------------------------------------\u001b[39m\n",
      "cols(\n",
      "  comments = \u001b[32mcol_double()\u001b[39m,\n",
      "  description = \u001b[31mcol_character()\u001b[39m,\n",
      "  duration = \u001b[32mcol_double()\u001b[39m,\n",
      "  event = \u001b[31mcol_character()\u001b[39m,\n",
      "  film_date = \u001b[32mcol_double()\u001b[39m,\n",
      "  languages = \u001b[32mcol_double()\u001b[39m,\n",
      "  main_speaker = \u001b[31mcol_character()\u001b[39m,\n",
      "  name = \u001b[31mcol_character()\u001b[39m,\n",
      "  num_speaker = \u001b[32mcol_double()\u001b[39m,\n",
      "  published_date = \u001b[32mcol_double()\u001b[39m,\n",
      "  ratings = \u001b[31mcol_character()\u001b[39m,\n",
      "  related_talks = \u001b[31mcol_character()\u001b[39m,\n",
      "  speaker_occupation = \u001b[31mcol_character()\u001b[39m,\n",
      "  tags = \u001b[31mcol_character()\u001b[39m,\n",
      "  title = \u001b[31mcol_character()\u001b[39m,\n",
      "  url = \u001b[31mcol_character()\u001b[39m,\n",
      "  views = \u001b[32mcol_double()\u001b[39m\n",
      ")\n",
      "\n",
      "\n"
     ]
    }
   ],
   "source": [
    "ted <- read_csv(\"F:/data_science_datasets/tedtalk/ted_main.csv\")"
   ]
  },
  {
   "cell_type": "code",
   "execution_count": 3,
   "metadata": {},
   "outputs": [
    {
     "data": {
      "text/html": [
       "<table>\n",
       "<caption>A tibble: 6 × 17</caption>\n",
       "<thead>\n",
       "\t<tr><th scope=col>comments</th><th scope=col>description</th><th scope=col>duration</th><th scope=col>event</th><th scope=col>film_date</th><th scope=col>languages</th><th scope=col>main_speaker</th><th scope=col>name</th><th scope=col>num_speaker</th><th scope=col>published_date</th><th scope=col>ratings</th><th scope=col>related_talks</th><th scope=col>speaker_occupation</th><th scope=col>tags</th><th scope=col>title</th><th scope=col>url</th><th scope=col>views</th></tr>\n",
       "\t<tr><th scope=col>&lt;dbl&gt;</th><th scope=col>&lt;chr&gt;</th><th scope=col>&lt;dbl&gt;</th><th scope=col>&lt;chr&gt;</th><th scope=col>&lt;dbl&gt;</th><th scope=col>&lt;dbl&gt;</th><th scope=col>&lt;chr&gt;</th><th scope=col>&lt;chr&gt;</th><th scope=col>&lt;dbl&gt;</th><th scope=col>&lt;dbl&gt;</th><th scope=col>&lt;chr&gt;</th><th scope=col>&lt;chr&gt;</th><th scope=col>&lt;chr&gt;</th><th scope=col>&lt;chr&gt;</th><th scope=col>&lt;chr&gt;</th><th scope=col>&lt;chr&gt;</th><th scope=col>&lt;dbl&gt;</th></tr>\n",
       "</thead>\n",
       "<tbody>\n",
       "\t<tr><td>4553</td><td>Sir Ken Robinson makes an entertaining and profoundly moving case for creating an education system that nurtures (rather than undermines) creativity.                                                                                    </td><td>1164</td><td>TED2006</td><td>1140825600</td><td>60</td><td>Ken Robinson </td><td>Ken Robinson: Do schools kill creativity?    </td><td>1</td><td>1151367060</td><td>[{'id': 7, 'name': 'Funny', 'count': 19645}, {'id': 1, 'name': 'Beautiful', 'count': 4573}, {'id': 9, 'name': 'Ingenious', 'count': 6073}, {'id': 3, 'name': 'Courageous', 'count': 3253}, {'id': 11, 'name': 'Longwinded', 'count': 387}, {'id': 2, 'name': 'Confusing', 'count': 242}, {'id': 8, 'name': 'Informative', 'count': 7346}, {'id': 22, 'name': 'Fascinating', 'count': 10581}, {'id': 21, 'name': 'Unconvincing', 'count': 300}, {'id': 24, 'name': 'Persuasive', 'count': 10704}, {'id': 23, 'name': 'Jaw-dropping', 'count': 4439}, {'id': 25, 'name': 'OK', 'count': 1174}, {'id': 26, 'name': 'Obnoxious', 'count': 209}, {'id': 10, 'name': 'Inspiring', 'count': 24924}]</td><td>[{'id': 865, 'hero': 'https://pe.tedcdn.com/images/ted/172559_800x600.jpg', 'speaker': 'Ken Robinson', 'title': 'Bring on the learning revolution!', 'duration': 1008, 'slug': 'sir_ken_robinson_bring_on_the_revolution', 'viewed_count': 7266103}, {'id': 1738, 'hero': 'https://pe.tedcdn.com/images/ted/de98b161ad1434910ff4b56c89de71af04b8b873_1600x1200.jpg', 'speaker': 'Ken Robinson', 'title': \"How to escape education's death valley\", 'duration': 1151, 'slug': 'ken_robinson_how_to_escape_education_s_death_valley', 'viewed_count': 6657572}, {'id': 2276, 'hero': 'https://pe.tedcdn.com/images/ted/3821f3728e0b755c7b9aea2e69cc093eca41abe1_2880x1620.jpg', 'speaker': 'Linda Cliatt-Wayman', 'title': 'How to fix a broken school? Lead fearlessly, love hard', 'duration': 1027, 'slug': 'linda_cliatt_wayman_how_to_fix_a_broken_school_lead_fearlessly_love_hard', 'viewed_count': 1617101}, {'id': 892, 'hero': 'https://pe.tedcdn.com/images/ted/e79958940573cc610ccb583619a54866c41ef303_2880x1620.jpg', 'speaker': 'Charles Leadbeater', 'title': 'Education innovation in the slums', 'duration': 1138, 'slug': 'charles_leadbeater_on_education', 'viewed_count': 772296}, {'id': 1232, 'hero': 'https://pe.tedcdn.com/images/ted/0e3e4e92d5ee8ae0e43962d447d3f790b31099b8_800x600.jpg', 'speaker': 'Geoff Mulgan', 'title': 'A short intro to the Studio School', 'duration': 376, 'slug': 'geoff_mulgan_a_short_intro_to_the_studio_school', 'viewed_count': 667971}, {'id': 2616, 'hero': 'https://pe.tedcdn.com/images/ted/71cde5a6fa6c717488fb55eff9eef939a9241761_2880x1620.jpg', 'speaker': 'Kandice Sumner', 'title': \"How America's public schools keep kids in poverty\", 'duration': 830, 'slug': 'kandice_sumner_how_america_s_public_schools_keep_kids_in_poverty', 'viewed_count': 1181333}]                                                                       </td><td>Author/educator                            </td><td>['children', 'creativity', 'culture', 'dance', 'education', 'parenting', 'teaching']                                                      </td><td>Do schools kill creativity?    </td><td>https://www.ted.com/talks/ken_robinson_says_schools_kill_creativity\n",
       "         </td><td>47227110</td></tr>\n",
       "\t<tr><td> 265</td><td>With the same humor and humanity he exuded in \"An Inconvenient Truth,\" Al Gore spells out 15 ways that individuals can address climate change immediately, from buying a hybrid to inventing a new, hotter brand name for global warming.</td><td> 977</td><td>TED2006</td><td>1140825600</td><td>43</td><td>Al Gore      </td><td>Al Gore: Averting the climate crisis         </td><td>1</td><td>1151367060</td><td>[{'id': 7, 'name': 'Funny', 'count': 544}, {'id': 3, 'name': 'Courageous', 'count': 139}, {'id': 2, 'name': 'Confusing', 'count': 62}, {'id': 1, 'name': 'Beautiful', 'count': 58}, {'id': 21, 'name': 'Unconvincing', 'count': 258}, {'id': 11, 'name': 'Longwinded', 'count': 113}, {'id': 8, 'name': 'Informative', 'count': 443}, {'id': 10, 'name': 'Inspiring', 'count': 413}, {'id': 22, 'name': 'Fascinating', 'count': 132}, {'id': 9, 'name': 'Ingenious', 'count': 56}, {'id': 24, 'name': 'Persuasive', 'count': 268}, {'id': 23, 'name': 'Jaw-dropping', 'count': 116}, {'id': 26, 'name': 'Obnoxious', 'count': 131}, {'id': 25, 'name': 'OK', 'count': 203}]                 </td><td>[{'id': 243, 'hero': 'https://pe.tedcdn.com/images/ted/566c14767bd62c5ff760e483c5b16cd2753328cd_2880x1620.jpg', 'speaker': 'Al Gore', 'title': 'New thinking on the climate crisis', 'duration': 1674, 'slug': 'al_gore_s_new_thinking_on_the_climate_crisis', 'viewed_count': 1751408}, {'id': 547, 'hero': 'https://pe.tedcdn.com/images/ted/89288_800x600.jpg', 'speaker': 'Ray Anderson', 'title': 'The business logic of sustainability', 'duration': 954, 'slug': 'ray_anderson_on_the_business_logic_of_sustainability', 'viewed_count': 881833}, {'id': 2093, 'hero': 'https://pe.tedcdn.com/images/ted/146d88845861cbf768bbf8bec8b2e41f8bfc7903_2400x1800.jpg', 'speaker': 'Lord Nicholas Stern', 'title': 'The state of the climate — and what we might do about it', 'duration': 993, 'slug': 'lord_nicholas_stern_the_state_of_the_climate_and_what_we_might_do_about_it', 'viewed_count': 773779}, {'id': 2784, 'hero': 'https://pe.tedcdn.com/images/ted/e835e670a7836cf65aca2a7a644fd94398cb4b8e_2880x1620.jpg', 'speaker': 'Ted Halstead', 'title': 'A climate solution where all sides can win', 'duration': 787, 'slug': 'ted_halstead_a_climate_solution_where_all_sides_can_win', 'viewed_count': 1021315}, {'id': 2339, 'hero': 'https://pe.tedcdn.com/images/ted/f6879e1c78d4a069735bf745ecfede71ccf4a352_2880x1620.jpg', 'speaker': 'Alice Bows-Larkin', 'title': \"Climate change is happening. Here's how we adapt\", 'duration': 863, 'slug': 'alice_bows_larkin_we_re_too_late_to_prevent_climate_change_here_s_how_we_adapt', 'viewed_count': 1157975}, {'id': 2331, 'hero': 'https://pe.tedcdn.com/images/ted/64bbcc24af870d9b4e1768abe88e1fe041b02a6a_2880x1620.jpg', 'speaker': 'Mary Robinson', 'title': 'Why climate change is a threat to human rights', 'duration': 1307, 'slug': 'mary_robinson_why_climate_change_is_a_threat_to_human_rights', 'viewed_count': 1126293}]</td><td>Climate advocate                           </td><td>['alternative energy', 'cars', 'climate change', 'culture', 'environment', 'global issues', 'science', 'sustainability', 'technology']    </td><td>Averting the climate crisis    </td><td>https://www.ted.com/talks/al_gore_on_averting_climate_crisis\n",
       "                </td><td> 3200520</td></tr>\n",
       "\t<tr><td> 124</td><td>New York Times columnist David Pogue takes aim at technology’s worst interface-design offenders, and provides encouraging examples of products that get it right. To funny things up, he bursts into song.                               </td><td>1286</td><td>TED2006</td><td>1140739200</td><td>26</td><td>David Pogue  </td><td>David Pogue: Simplicity sells                </td><td>1</td><td>1151367060</td><td>[{'id': 7, 'name': 'Funny', 'count': 964}, {'id': 3, 'name': 'Courageous', 'count': 45}, {'id': 9, 'name': 'Ingenious', 'count': 183}, {'id': 1, 'name': 'Beautiful', 'count': 60}, {'id': 21, 'name': 'Unconvincing', 'count': 104}, {'id': 11, 'name': 'Longwinded', 'count': 78}, {'id': 8, 'name': 'Informative', 'count': 395}, {'id': 10, 'name': 'Inspiring', 'count': 230}, {'id': 22, 'name': 'Fascinating', 'count': 166}, {'id': 2, 'name': 'Confusing', 'count': 27}, {'id': 25, 'name': 'OK', 'count': 146}, {'id': 24, 'name': 'Persuasive', 'count': 230}, {'id': 23, 'name': 'Jaw-dropping', 'count': 54}, {'id': 26, 'name': 'Obnoxious', 'count': 142}]                   </td><td>[{'id': 1725, 'hero': 'https://pe.tedcdn.com/images/ted/b7f415a054cc0a2bfdd90d0ad5a7f64cf060150d_1600x1200.jpg', 'speaker': 'David Pogue', 'title': '10 top time-saving tech tips', 'duration': 344, 'slug': 'david_pogue_10_top_time_saving_tech_tips', 'viewed_count': 4843421}, {'id': 2274, 'hero': 'https://pe.tedcdn.com/images/ted/608e677e4392bcdcf82b068fa221b9df74a213ef_2880x1620.jpg', 'speaker': 'Tony Fadell', 'title': 'The first secret of design is ... noticing', 'duration': 1001, 'slug': 'tony_fadell_the_first_secret_of_design_is_noticing', 'viewed_count': 2005916}, {'id': 172, 'hero': 'https://pe.tedcdn.com/images/ted/b790be2f87ceffba73fe73837944400c7d61cba2_1600x1200.jpg', 'speaker': 'John Maeda', 'title': 'Designing for simplicity', 'duration': 959, 'slug': 'john_maeda_on_the_simple_life', 'viewed_count': 1215942}, {'id': 2664, 'hero': 'https://pe.tedcdn.com/images/ted/092f184f6625c2aeef10949c8d7b2aa14ba4132b_2880x1620.jpg', 'speaker': 'Dan Bricklin', 'title': 'Meet the inventor of the electronic spreadsheet', 'duration': 720, 'slug': 'dan_bricklin_meet_the_inventor_of_the_electronic_spreadsheet', 'viewed_count': 992322}, {'id': 436, 'hero': 'https://pe.tedcdn.com/images/ted/66438_800x600.jpg', 'speaker': 'David Carson', 'title': 'Design and discovery', 'duration': 1359, 'slug': 'david_carson_on_design', 'viewed_count': 774485}, {'id': 1546, 'hero': 'https://pe.tedcdn.com/images/ted/39d58abd56cf9edd6936f4f42119a15e65692dc1_1600x1200.jpg', 'speaker': 'Clay Shirky', 'title': 'How the Internet will (one day) transform government', 'duration': 1112, 'slug': 'clay_shirky_how_the_internet_will_one_day_transform_government', 'viewed_count': 1245084}]                                                                                                                                                                 </td><td>Technology columnist                       </td><td>['computers', 'entertainment', 'interface design', 'media', 'music', 'performance', 'simplicity', 'software', 'technology']               </td><td>Simplicity sells               </td><td>https://www.ted.com/talks/david_pogue_says_simplicity_sells\n",
       "                 </td><td> 1636292</td></tr>\n",
       "\t<tr><td> 200</td><td>In an emotionally charged talk, MacArthur-winning activist Majora Carter details her fight for environmental justice in the South Bronx -- and shows how minority neighborhoods suffer most from flawed urban policy.                    </td><td>1116</td><td>TED2006</td><td>1140912000</td><td>35</td><td>Majora Carter</td><td>Majora Carter: Greening the ghetto           </td><td>1</td><td>1151367060</td><td>[{'id': 3, 'name': 'Courageous', 'count': 760}, {'id': 1, 'name': 'Beautiful', 'count': 291}, {'id': 2, 'name': 'Confusing', 'count': 32}, {'id': 7, 'name': 'Funny', 'count': 59}, {'id': 9, 'name': 'Ingenious', 'count': 105}, {'id': 21, 'name': 'Unconvincing', 'count': 36}, {'id': 11, 'name': 'Longwinded', 'count': 53}, {'id': 8, 'name': 'Informative', 'count': 380}, {'id': 10, 'name': 'Inspiring', 'count': 1070}, {'id': 22, 'name': 'Fascinating', 'count': 132}, {'id': 24, 'name': 'Persuasive', 'count': 460}, {'id': 23, 'name': 'Jaw-dropping', 'count': 230}, {'id': 26, 'name': 'Obnoxious', 'count': 35}, {'id': 25, 'name': 'OK', 'count': 85}]                   </td><td>[{'id': 1041, 'hero': 'https://pe.tedcdn.com/images/ted/96c703bb13a2e9c2d351a5e6b52390bc35eaad06_800x600.jpg', 'speaker': 'Majora Carter', 'title': '3 stories of local eco-entrepreneurship', 'duration': 1079, 'slug': 'majora_carter_3_stories_of_local_ecoactivism', 'viewed_count': 702642}, {'id': 1892, 'hero': 'https://pe.tedcdn.com/images/ted/f5ebbf91eb093a2da2cfe1941724a3e55d222713_1600x1200.jpg', 'speaker': 'Toni Griffin', 'title': 'A new vision for rebuilding Detroit', 'duration': 708, 'slug': 'toni_griffin_a_new_vision_for_rebuilding_detroit', 'viewed_count': 826727}, {'id': 2078, 'hero': 'https://pe.tedcdn.com/images/ted/92ddb109a1f98a3745fe1b2b0d2c5519ab3931dc_2400x1800.jpg', 'speaker': 'Dan Barasch', 'title': 'A park underneath the hustle and bustle of New York City', 'duration': 377, 'slug': 'dan_barasch_a_park_underneath_the_hustle_and_bustle_of_new_york_city', 'viewed_count': 862197}, {'id': 2873, 'hero': 'https://pe.tedcdn.com/images/ted/635f76d5d4d0a454b6131b93b471d1f65065f14d_2880x1620.jpg', 'speaker': 'OluTimehin Adegbeye', 'title': 'Who belongs in a city?', 'duration': 723, 'slug': 'olutimehin_adegbeye_who_belongs_in_a_city', 'viewed_count': 686614}, {'id': 2840, 'hero': 'https://pe.tedcdn.com/images/ted/e14c457790cbe44629c9afaf8867a3558d0cf121_2880x1620.jpg', 'speaker': 'Richard J. Berry', 'title': 'A practical way to help the homeless find work and safety', 'duration': 741, 'slug': 'richard_j_berry_a_practical_way_to_help_the_homeless_find_work_and_safety', 'viewed_count': 746572}, {'id': 2839, 'hero': 'https://pe.tedcdn.com/images/ted/7651fdc16fac4fe5a41e91a65ee168af109e227e_2880x1620.jpg', 'speaker': 'Peter Calthorpe', 'title': '7 principles for building better cities', 'duration': 860, 'slug': 'peter_calthorpe_7_principles_for_building_better_cities', 'viewed_count': 832386}]          </td><td>Activist for environmental justice         </td><td>['MacArthur grant', 'activism', 'business', 'cities', 'environment', 'green', 'inequality', 'politics', 'pollution']                      </td><td>Greening the ghetto            </td><td>https://www.ted.com/talks/majora_carter_s_tale_of_urban_renewal\n",
       "             </td><td> 1697550</td></tr>\n",
       "\t<tr><td> 593</td><td>You've never seen data presented like this. With the drama and urgency of a sportscaster, statistics guru Hans Rosling debunks myths about the so-called \"developing world.\"                                                             </td><td>1190</td><td>TED2006</td><td>1140566400</td><td>48</td><td>Hans Rosling </td><td>Hans Rosling: The best stats you've ever seen</td><td>1</td><td>1151440680</td><td>[{'id': 9, 'name': 'Ingenious', 'count': 3202}, {'id': 7, 'name': 'Funny', 'count': 1390}, {'id': 1, 'name': 'Beautiful', 'count': 942}, {'id': 3, 'name': 'Courageous', 'count': 318}, {'id': 11, 'name': 'Longwinded', 'count': 110}, {'id': 2, 'name': 'Confusing', 'count': 72}, {'id': 21, 'name': 'Unconvincing', 'count': 67}, {'id': 8, 'name': 'Informative', 'count': 5433}, {'id': 10, 'name': 'Inspiring', 'count': 2893}, {'id': 22, 'name': 'Fascinating', 'count': 4606}, {'id': 23, 'name': 'Jaw-dropping', 'count': 3736}, {'id': 24, 'name': 'Persuasive', 'count': 2542}, {'id': 25, 'name': 'OK', 'count': 248}, {'id': 26, 'name': 'Obnoxious', 'count': 61}]          </td><td>[{'id': 2056, 'hero': 'https://pe.tedcdn.com/images/ted/afc9b259845ec1b543419871e10753d4d9044fda_2400x1800.jpg', 'speaker': 'Talithia Williams', 'title': \"Own your body's data\", 'duration': 1023, 'slug': 'talithia_williams_own_your_body_s_data', 'viewed_count': 1345319}, {'id': 2296, 'hero': 'https://pe.tedcdn.com/images/ted/9e003b0a822daba702608136e73f7be001b6b2f2_2880x1620.jpg', 'speaker': 'Manuel Lima', 'title': 'A visual history of human knowledge', 'duration': 769, 'slug': 'manuel_lima_a_visual_history_of_human_knowledge', 'viewed_count': 1710818}, {'id': 620, 'hero': 'https://pe.tedcdn.com/images/ted/111517_800x600.jpg', 'speaker': 'Hans Rosling', 'title': 'Let my dataset change your mindset', 'duration': 1196, 'slug': 'hans_rosling_at_state', 'viewed_count': 1471015}, {'id': 974, 'hero': 'https://pe.tedcdn.com/images/ted/205077_800x600.jpg', 'speaker': 'Hans Rosling', 'title': \"The good news of the decade? We're winning the war against child mortality\", 'duration': 934, 'slug': 'hans_rosling_the_good_news_of_the_decade', 'viewed_count': 738885}, {'id': 140, 'hero': 'https://pe.tedcdn.com/images/ted/bf09302366bde885c86350145b87cd2b265f1f12_1600x1200.jpg', 'speaker': 'Hans Rosling', 'title': 'New insights on poverty', 'duration': 1137, 'slug': 'hans_rosling_reveals_new_insights_on_poverty', 'viewed_count': 3243775}, {'id': 912, 'hero': 'https://pe.tedcdn.com/images/ted/b26e09ddd0ffeb774cd3eee2a24424c4ed542677_2880x1620.jpg', 'speaker': 'Hans Rosling', 'title': 'Global population growth, box by box', 'duration': 604, 'slug': 'hans_rosling_on_global_population_growth', 'viewed_count': 2934214}]                                                                                                                                                                                                                    </td><td>Global health expert; data visionary       </td><td>['Africa', 'Asia', 'Google', 'demo', 'economics', 'global development', 'global issues', 'health', 'math', 'statistics', 'visualizations']</td><td>The best stats you've ever seen</td><td>https://www.ted.com/talks/hans_rosling_shows_the_best_stats_you_ve_ever_seen\n",
       "</td><td>12005869</td></tr>\n",
       "\t<tr><td> 672</td><td>Tony Robbins discusses the \"invisible forces\" that motivate everyone's actions -- and high-fives Al Gore in the front row.                                                                                                               </td><td>1305</td><td>TED2006</td><td>1138838400</td><td>36</td><td>Tony Robbins </td><td>Tony Robbins: Why we do what we do           </td><td>1</td><td>1151440680</td><td>[{'id': 7, 'name': 'Funny', 'count': 1102}, {'id': 3, 'name': 'Courageous', 'count': 721}, {'id': 21, 'name': 'Unconvincing', 'count': 377}, {'id': 2, 'name': 'Confusing', 'count': 301}, {'id': 1, 'name': 'Beautiful', 'count': 706}, {'id': 9, 'name': 'Ingenious', 'count': 397}, {'id': 11, 'name': 'Longwinded', 'count': 285}, {'id': 8, 'name': 'Informative', 'count': 1038}, {'id': 10, 'name': 'Inspiring', 'count': 5211}, {'id': 22, 'name': 'Fascinating', 'count': 1350}, {'id': 24, 'name': 'Persuasive', 'count': 2423}, {'id': 25, 'name': 'OK', 'count': 441}, {'id': 23, 'name': 'Jaw-dropping', 'count': 669}, {'id': 26, 'name': 'Obnoxious', 'count': 335}]         </td><td>[{'id': 229, 'hero': 'https://pe.tedcdn.com/images/ted/eefe30d20338d800bdc70a09dc0f6007e7355a74_2880x1620.jpg', 'speaker': 'Jill Bolte Taylor', 'title': 'My stroke of insight', 'duration': 1099, 'slug': 'jill_bolte_taylor_s_powerful_stroke_of_insight', 'viewed_count': 21190809}, {'id': 70, 'hero': 'https://pe.tedcdn.com/images/ted/6c8c4b562ae7b0a7f5b140e2db1f7588861a6565_1600x1200.jpg', 'speaker': 'Richard St. John', 'title': '8 secrets of success', 'duration': 210, 'slug': 'richard_st_john_s_8_secrets_of_success', 'viewed_count': 10841194}, {'id': 97, 'hero': 'https://pe.tedcdn.com/images/ted/016a827cc0757092a0439ab2a63feca8655b6c29_1600x1200.jpg', 'speaker': 'Dan Gilbert', 'title': 'The surprising science of happiness', 'duration': 1276, 'slug': 'dan_gilbert_asks_why_are_we_happy', 'viewed_count': 14689293}, {'id': 1094, 'hero': 'https://pe.tedcdn.com/images/ted/78e8d94d1d2a81cd182e0626dc8e96a43c88d760_800x600.jpg', 'speaker': 'David Brooks', 'title': 'The social animal', 'duration': 1124, 'slug': 'david_brooks_the_social_animal', 'viewed_count': 1132745}, {'id': 2861, 'hero': 'https://pe.tedcdn.com/images/ted/040ce6ae0f5e8d306d395b03be10fffb459f69ae_2880x1620.jpg', 'speaker': 'Emily Esfahani Smith', 'title': \"There's more to life than being happy\", 'duration': 738, 'slug': 'emily_esfahani_smith_there_s_more_to_life_than_being_happy', 'viewed_count': 997630}, {'id': 2279, 'hero': 'https://pe.tedcdn.com/images/ted/7942398dd4f5b61691f12872b6e787cf53dec95f_2880x1620.jpg', 'speaker': 'Rana el Kaliouby', 'title': 'This app knows how you feel -- from the look on your face', 'duration': 664, 'slug': 'rana_el_kaliouby_this_app_knows_how_you_feel_from_the_look_on_your_face', 'viewed_count': 1407619}]                                                                                                                  </td><td>Life coach; expert in leadership psychology</td><td>['business', 'culture', 'entertainment', 'goal-setting', 'motivation', 'potential', 'psychology']                                         </td><td>Why we do what we do           </td><td>https://www.ted.com/talks/tony_robbins_asks_why_we_do_what_we_do\n",
       "            </td><td>20685401</td></tr>\n",
       "</tbody>\n",
       "</table>\n"
      ],
      "text/latex": [
       "A tibble: 6 × 17\n",
       "\\begin{tabular}{lllllllllllllllll}\n",
       " comments & description & duration & event & film\\_date & languages & main\\_speaker & name & num\\_speaker & published\\_date & ratings & related\\_talks & speaker\\_occupation & tags & title & url & views\\\\\n",
       " <dbl> & <chr> & <dbl> & <chr> & <dbl> & <dbl> & <chr> & <chr> & <dbl> & <dbl> & <chr> & <chr> & <chr> & <chr> & <chr> & <chr> & <dbl>\\\\\n",
       "\\hline\n",
       "\t 4553 & Sir Ken Robinson makes an entertaining and profoundly moving case for creating an education system that nurtures (rather than undermines) creativity.                                                                                     & 1164 & TED2006 & 1140825600 & 60 & Ken Robinson  & Ken Robinson: Do schools kill creativity?     & 1 & 1151367060 & {[}\\{'id': 7, 'name': 'Funny', 'count': 19645\\}, \\{'id': 1, 'name': 'Beautiful', 'count': 4573\\}, \\{'id': 9, 'name': 'Ingenious', 'count': 6073\\}, \\{'id': 3, 'name': 'Courageous', 'count': 3253\\}, \\{'id': 11, 'name': 'Longwinded', 'count': 387\\}, \\{'id': 2, 'name': 'Confusing', 'count': 242\\}, \\{'id': 8, 'name': 'Informative', 'count': 7346\\}, \\{'id': 22, 'name': 'Fascinating', 'count': 10581\\}, \\{'id': 21, 'name': 'Unconvincing', 'count': 300\\}, \\{'id': 24, 'name': 'Persuasive', 'count': 10704\\}, \\{'id': 23, 'name': 'Jaw-dropping', 'count': 4439\\}, \\{'id': 25, 'name': 'OK', 'count': 1174\\}, \\{'id': 26, 'name': 'Obnoxious', 'count': 209\\}, \\{'id': 10, 'name': 'Inspiring', 'count': 24924\\}{]} & {[}\\{'id': 865, 'hero': 'https://pe.tedcdn.com/images/ted/172559\\_800x600.jpg', 'speaker': 'Ken Robinson', 'title': 'Bring on the learning revolution!', 'duration': 1008, 'slug': 'sir\\_ken\\_robinson\\_bring\\_on\\_the\\_revolution', 'viewed\\_count': 7266103\\}, \\{'id': 1738, 'hero': 'https://pe.tedcdn.com/images/ted/de98b161ad1434910ff4b56c89de71af04b8b873\\_1600x1200.jpg', 'speaker': 'Ken Robinson', 'title': \"How to escape education's death valley\", 'duration': 1151, 'slug': 'ken\\_robinson\\_how\\_to\\_escape\\_education\\_s\\_death\\_valley', 'viewed\\_count': 6657572\\}, \\{'id': 2276, 'hero': 'https://pe.tedcdn.com/images/ted/3821f3728e0b755c7b9aea2e69cc093eca41abe1\\_2880x1620.jpg', 'speaker': 'Linda Cliatt-Wayman', 'title': 'How to fix a broken school? Lead fearlessly, love hard', 'duration': 1027, 'slug': 'linda\\_cliatt\\_wayman\\_how\\_to\\_fix\\_a\\_broken\\_school\\_lead\\_fearlessly\\_love\\_hard', 'viewed\\_count': 1617101\\}, \\{'id': 892, 'hero': 'https://pe.tedcdn.com/images/ted/e79958940573cc610ccb583619a54866c41ef303\\_2880x1620.jpg', 'speaker': 'Charles Leadbeater', 'title': 'Education innovation in the slums', 'duration': 1138, 'slug': 'charles\\_leadbeater\\_on\\_education', 'viewed\\_count': 772296\\}, \\{'id': 1232, 'hero': 'https://pe.tedcdn.com/images/ted/0e3e4e92d5ee8ae0e43962d447d3f790b31099b8\\_800x600.jpg', 'speaker': 'Geoff Mulgan', 'title': 'A short intro to the Studio School', 'duration': 376, 'slug': 'geoff\\_mulgan\\_a\\_short\\_intro\\_to\\_the\\_studio\\_school', 'viewed\\_count': 667971\\}, \\{'id': 2616, 'hero': 'https://pe.tedcdn.com/images/ted/71cde5a6fa6c717488fb55eff9eef939a9241761\\_2880x1620.jpg', 'speaker': 'Kandice Sumner', 'title': \"How America's public schools keep kids in poverty\", 'duration': 830, 'slug': 'kandice\\_sumner\\_how\\_america\\_s\\_public\\_schools\\_keep\\_kids\\_in\\_poverty', 'viewed\\_count': 1181333\\}{]}                                                                        & Author/educator                             & {[}'children', 'creativity', 'culture', 'dance', 'education', 'parenting', 'teaching'{]}                                                       & Do schools kill creativity?     & https://www.ted.com/talks/ken\\_robinson\\_says\\_schools\\_kill\\_creativity\n",
       "          & 47227110\\\\\n",
       "\t  265 & With the same humor and humanity he exuded in \"An Inconvenient Truth,\" Al Gore spells out 15 ways that individuals can address climate change immediately, from buying a hybrid to inventing a new, hotter brand name for global warming. &  977 & TED2006 & 1140825600 & 43 & Al Gore       & Al Gore: Averting the climate crisis          & 1 & 1151367060 & {[}\\{'id': 7, 'name': 'Funny', 'count': 544\\}, \\{'id': 3, 'name': 'Courageous', 'count': 139\\}, \\{'id': 2, 'name': 'Confusing', 'count': 62\\}, \\{'id': 1, 'name': 'Beautiful', 'count': 58\\}, \\{'id': 21, 'name': 'Unconvincing', 'count': 258\\}, \\{'id': 11, 'name': 'Longwinded', 'count': 113\\}, \\{'id': 8, 'name': 'Informative', 'count': 443\\}, \\{'id': 10, 'name': 'Inspiring', 'count': 413\\}, \\{'id': 22, 'name': 'Fascinating', 'count': 132\\}, \\{'id': 9, 'name': 'Ingenious', 'count': 56\\}, \\{'id': 24, 'name': 'Persuasive', 'count': 268\\}, \\{'id': 23, 'name': 'Jaw-dropping', 'count': 116\\}, \\{'id': 26, 'name': 'Obnoxious', 'count': 131\\}, \\{'id': 25, 'name': 'OK', 'count': 203\\}{]}                  & {[}\\{'id': 243, 'hero': 'https://pe.tedcdn.com/images/ted/566c14767bd62c5ff760e483c5b16cd2753328cd\\_2880x1620.jpg', 'speaker': 'Al Gore', 'title': 'New thinking on the climate crisis', 'duration': 1674, 'slug': 'al\\_gore\\_s\\_new\\_thinking\\_on\\_the\\_climate\\_crisis', 'viewed\\_count': 1751408\\}, \\{'id': 547, 'hero': 'https://pe.tedcdn.com/images/ted/89288\\_800x600.jpg', 'speaker': 'Ray Anderson', 'title': 'The business logic of sustainability', 'duration': 954, 'slug': 'ray\\_anderson\\_on\\_the\\_business\\_logic\\_of\\_sustainability', 'viewed\\_count': 881833\\}, \\{'id': 2093, 'hero': 'https://pe.tedcdn.com/images/ted/146d88845861cbf768bbf8bec8b2e41f8bfc7903\\_2400x1800.jpg', 'speaker': 'Lord Nicholas Stern', 'title': 'The state of the climate — and what we might do about it', 'duration': 993, 'slug': 'lord\\_nicholas\\_stern\\_the\\_state\\_of\\_the\\_climate\\_and\\_what\\_we\\_might\\_do\\_about\\_it', 'viewed\\_count': 773779\\}, \\{'id': 2784, 'hero': 'https://pe.tedcdn.com/images/ted/e835e670a7836cf65aca2a7a644fd94398cb4b8e\\_2880x1620.jpg', 'speaker': 'Ted Halstead', 'title': 'A climate solution where all sides can win', 'duration': 787, 'slug': 'ted\\_halstead\\_a\\_climate\\_solution\\_where\\_all\\_sides\\_can\\_win', 'viewed\\_count': 1021315\\}, \\{'id': 2339, 'hero': 'https://pe.tedcdn.com/images/ted/f6879e1c78d4a069735bf745ecfede71ccf4a352\\_2880x1620.jpg', 'speaker': 'Alice Bows-Larkin', 'title': \"Climate change is happening. Here's how we adapt\", 'duration': 863, 'slug': 'alice\\_bows\\_larkin\\_we\\_re\\_too\\_late\\_to\\_prevent\\_climate\\_change\\_here\\_s\\_how\\_we\\_adapt', 'viewed\\_count': 1157975\\}, \\{'id': 2331, 'hero': 'https://pe.tedcdn.com/images/ted/64bbcc24af870d9b4e1768abe88e1fe041b02a6a\\_2880x1620.jpg', 'speaker': 'Mary Robinson', 'title': 'Why climate change is a threat to human rights', 'duration': 1307, 'slug': 'mary\\_robinson\\_why\\_climate\\_change\\_is\\_a\\_threat\\_to\\_human\\_rights', 'viewed\\_count': 1126293\\}{]} & Climate advocate                            & {[}'alternative energy', 'cars', 'climate change', 'culture', 'environment', 'global issues', 'science', 'sustainability', 'technology'{]}     & Averting the climate crisis     & https://www.ted.com/talks/al\\_gore\\_on\\_averting\\_climate\\_crisis\n",
       "                 &  3200520\\\\\n",
       "\t  124 & New York Times columnist David Pogue takes aim at technology’s worst interface-design offenders, and provides encouraging examples of products that get it right. To funny things up, he bursts into song.                                & 1286 & TED2006 & 1140739200 & 26 & David Pogue   & David Pogue: Simplicity sells                 & 1 & 1151367060 & {[}\\{'id': 7, 'name': 'Funny', 'count': 964\\}, \\{'id': 3, 'name': 'Courageous', 'count': 45\\}, \\{'id': 9, 'name': 'Ingenious', 'count': 183\\}, \\{'id': 1, 'name': 'Beautiful', 'count': 60\\}, \\{'id': 21, 'name': 'Unconvincing', 'count': 104\\}, \\{'id': 11, 'name': 'Longwinded', 'count': 78\\}, \\{'id': 8, 'name': 'Informative', 'count': 395\\}, \\{'id': 10, 'name': 'Inspiring', 'count': 230\\}, \\{'id': 22, 'name': 'Fascinating', 'count': 166\\}, \\{'id': 2, 'name': 'Confusing', 'count': 27\\}, \\{'id': 25, 'name': 'OK', 'count': 146\\}, \\{'id': 24, 'name': 'Persuasive', 'count': 230\\}, \\{'id': 23, 'name': 'Jaw-dropping', 'count': 54\\}, \\{'id': 26, 'name': 'Obnoxious', 'count': 142\\}{]}                    & {[}\\{'id': 1725, 'hero': 'https://pe.tedcdn.com/images/ted/b7f415a054cc0a2bfdd90d0ad5a7f64cf060150d\\_1600x1200.jpg', 'speaker': 'David Pogue', 'title': '10 top time-saving tech tips', 'duration': 344, 'slug': 'david\\_pogue\\_10\\_top\\_time\\_saving\\_tech\\_tips', 'viewed\\_count': 4843421\\}, \\{'id': 2274, 'hero': 'https://pe.tedcdn.com/images/ted/608e677e4392bcdcf82b068fa221b9df74a213ef\\_2880x1620.jpg', 'speaker': 'Tony Fadell', 'title': 'The first secret of design is ... noticing', 'duration': 1001, 'slug': 'tony\\_fadell\\_the\\_first\\_secret\\_of\\_design\\_is\\_noticing', 'viewed\\_count': 2005916\\}, \\{'id': 172, 'hero': 'https://pe.tedcdn.com/images/ted/b790be2f87ceffba73fe73837944400c7d61cba2\\_1600x1200.jpg', 'speaker': 'John Maeda', 'title': 'Designing for simplicity', 'duration': 959, 'slug': 'john\\_maeda\\_on\\_the\\_simple\\_life', 'viewed\\_count': 1215942\\}, \\{'id': 2664, 'hero': 'https://pe.tedcdn.com/images/ted/092f184f6625c2aeef10949c8d7b2aa14ba4132b\\_2880x1620.jpg', 'speaker': 'Dan Bricklin', 'title': 'Meet the inventor of the electronic spreadsheet', 'duration': 720, 'slug': 'dan\\_bricklin\\_meet\\_the\\_inventor\\_of\\_the\\_electronic\\_spreadsheet', 'viewed\\_count': 992322\\}, \\{'id': 436, 'hero': 'https://pe.tedcdn.com/images/ted/66438\\_800x600.jpg', 'speaker': 'David Carson', 'title': 'Design and discovery', 'duration': 1359, 'slug': 'david\\_carson\\_on\\_design', 'viewed\\_count': 774485\\}, \\{'id': 1546, 'hero': 'https://pe.tedcdn.com/images/ted/39d58abd56cf9edd6936f4f42119a15e65692dc1\\_1600x1200.jpg', 'speaker': 'Clay Shirky', 'title': 'How the Internet will (one day) transform government', 'duration': 1112, 'slug': 'clay\\_shirky\\_how\\_the\\_internet\\_will\\_one\\_day\\_transform\\_government', 'viewed\\_count': 1245084\\}{]}                                                                                                                                                                  & Technology columnist                        & {[}'computers', 'entertainment', 'interface design', 'media', 'music', 'performance', 'simplicity', 'software', 'technology'{]}                & Simplicity sells                & https://www.ted.com/talks/david\\_pogue\\_says\\_simplicity\\_sells\n",
       "                  &  1636292\\\\\n",
       "\t  200 & In an emotionally charged talk, MacArthur-winning activist Majora Carter details her fight for environmental justice in the South Bronx -- and shows how minority neighborhoods suffer most from flawed urban policy.                     & 1116 & TED2006 & 1140912000 & 35 & Majora Carter & Majora Carter: Greening the ghetto            & 1 & 1151367060 & {[}\\{'id': 3, 'name': 'Courageous', 'count': 760\\}, \\{'id': 1, 'name': 'Beautiful', 'count': 291\\}, \\{'id': 2, 'name': 'Confusing', 'count': 32\\}, \\{'id': 7, 'name': 'Funny', 'count': 59\\}, \\{'id': 9, 'name': 'Ingenious', 'count': 105\\}, \\{'id': 21, 'name': 'Unconvincing', 'count': 36\\}, \\{'id': 11, 'name': 'Longwinded', 'count': 53\\}, \\{'id': 8, 'name': 'Informative', 'count': 380\\}, \\{'id': 10, 'name': 'Inspiring', 'count': 1070\\}, \\{'id': 22, 'name': 'Fascinating', 'count': 132\\}, \\{'id': 24, 'name': 'Persuasive', 'count': 460\\}, \\{'id': 23, 'name': 'Jaw-dropping', 'count': 230\\}, \\{'id': 26, 'name': 'Obnoxious', 'count': 35\\}, \\{'id': 25, 'name': 'OK', 'count': 85\\}{]}                    & {[}\\{'id': 1041, 'hero': 'https://pe.tedcdn.com/images/ted/96c703bb13a2e9c2d351a5e6b52390bc35eaad06\\_800x600.jpg', 'speaker': 'Majora Carter', 'title': '3 stories of local eco-entrepreneurship', 'duration': 1079, 'slug': 'majora\\_carter\\_3\\_stories\\_of\\_local\\_ecoactivism', 'viewed\\_count': 702642\\}, \\{'id': 1892, 'hero': 'https://pe.tedcdn.com/images/ted/f5ebbf91eb093a2da2cfe1941724a3e55d222713\\_1600x1200.jpg', 'speaker': 'Toni Griffin', 'title': 'A new vision for rebuilding Detroit', 'duration': 708, 'slug': 'toni\\_griffin\\_a\\_new\\_vision\\_for\\_rebuilding\\_detroit', 'viewed\\_count': 826727\\}, \\{'id': 2078, 'hero': 'https://pe.tedcdn.com/images/ted/92ddb109a1f98a3745fe1b2b0d2c5519ab3931dc\\_2400x1800.jpg', 'speaker': 'Dan Barasch', 'title': 'A park underneath the hustle and bustle of New York City', 'duration': 377, 'slug': 'dan\\_barasch\\_a\\_park\\_underneath\\_the\\_hustle\\_and\\_bustle\\_of\\_new\\_york\\_city', 'viewed\\_count': 862197\\}, \\{'id': 2873, 'hero': 'https://pe.tedcdn.com/images/ted/635f76d5d4d0a454b6131b93b471d1f65065f14d\\_2880x1620.jpg', 'speaker': 'OluTimehin Adegbeye', 'title': 'Who belongs in a city?', 'duration': 723, 'slug': 'olutimehin\\_adegbeye\\_who\\_belongs\\_in\\_a\\_city', 'viewed\\_count': 686614\\}, \\{'id': 2840, 'hero': 'https://pe.tedcdn.com/images/ted/e14c457790cbe44629c9afaf8867a3558d0cf121\\_2880x1620.jpg', 'speaker': 'Richard J. Berry', 'title': 'A practical way to help the homeless find work and safety', 'duration': 741, 'slug': 'richard\\_j\\_berry\\_a\\_practical\\_way\\_to\\_help\\_the\\_homeless\\_find\\_work\\_and\\_safety', 'viewed\\_count': 746572\\}, \\{'id': 2839, 'hero': 'https://pe.tedcdn.com/images/ted/7651fdc16fac4fe5a41e91a65ee168af109e227e\\_2880x1620.jpg', 'speaker': 'Peter Calthorpe', 'title': '7 principles for building better cities', 'duration': 860, 'slug': 'peter\\_calthorpe\\_7\\_principles\\_for\\_building\\_better\\_cities', 'viewed\\_count': 832386\\}{]}           & Activist for environmental justice          & {[}'MacArthur grant', 'activism', 'business', 'cities', 'environment', 'green', 'inequality', 'politics', 'pollution'{]}                       & Greening the ghetto             & https://www.ted.com/talks/majora\\_carter\\_s\\_tale\\_of\\_urban\\_renewal\n",
       "              &  1697550\\\\\n",
       "\t  593 & You've never seen data presented like this. With the drama and urgency of a sportscaster, statistics guru Hans Rosling debunks myths about the so-called \"developing world.\"                                                              & 1190 & TED2006 & 1140566400 & 48 & Hans Rosling  & Hans Rosling: The best stats you've ever seen & 1 & 1151440680 & {[}\\{'id': 9, 'name': 'Ingenious', 'count': 3202\\}, \\{'id': 7, 'name': 'Funny', 'count': 1390\\}, \\{'id': 1, 'name': 'Beautiful', 'count': 942\\}, \\{'id': 3, 'name': 'Courageous', 'count': 318\\}, \\{'id': 11, 'name': 'Longwinded', 'count': 110\\}, \\{'id': 2, 'name': 'Confusing', 'count': 72\\}, \\{'id': 21, 'name': 'Unconvincing', 'count': 67\\}, \\{'id': 8, 'name': 'Informative', 'count': 5433\\}, \\{'id': 10, 'name': 'Inspiring', 'count': 2893\\}, \\{'id': 22, 'name': 'Fascinating', 'count': 4606\\}, \\{'id': 23, 'name': 'Jaw-dropping', 'count': 3736\\}, \\{'id': 24, 'name': 'Persuasive', 'count': 2542\\}, \\{'id': 25, 'name': 'OK', 'count': 248\\}, \\{'id': 26, 'name': 'Obnoxious', 'count': 61\\}{]}           & {[}\\{'id': 2056, 'hero': 'https://pe.tedcdn.com/images/ted/afc9b259845ec1b543419871e10753d4d9044fda\\_2400x1800.jpg', 'speaker': 'Talithia Williams', 'title': \"Own your body's data\", 'duration': 1023, 'slug': 'talithia\\_williams\\_own\\_your\\_body\\_s\\_data', 'viewed\\_count': 1345319\\}, \\{'id': 2296, 'hero': 'https://pe.tedcdn.com/images/ted/9e003b0a822daba702608136e73f7be001b6b2f2\\_2880x1620.jpg', 'speaker': 'Manuel Lima', 'title': 'A visual history of human knowledge', 'duration': 769, 'slug': 'manuel\\_lima\\_a\\_visual\\_history\\_of\\_human\\_knowledge', 'viewed\\_count': 1710818\\}, \\{'id': 620, 'hero': 'https://pe.tedcdn.com/images/ted/111517\\_800x600.jpg', 'speaker': 'Hans Rosling', 'title': 'Let my dataset change your mindset', 'duration': 1196, 'slug': 'hans\\_rosling\\_at\\_state', 'viewed\\_count': 1471015\\}, \\{'id': 974, 'hero': 'https://pe.tedcdn.com/images/ted/205077\\_800x600.jpg', 'speaker': 'Hans Rosling', 'title': \"The good news of the decade? We're winning the war against child mortality\", 'duration': 934, 'slug': 'hans\\_rosling\\_the\\_good\\_news\\_of\\_the\\_decade', 'viewed\\_count': 738885\\}, \\{'id': 140, 'hero': 'https://pe.tedcdn.com/images/ted/bf09302366bde885c86350145b87cd2b265f1f12\\_1600x1200.jpg', 'speaker': 'Hans Rosling', 'title': 'New insights on poverty', 'duration': 1137, 'slug': 'hans\\_rosling\\_reveals\\_new\\_insights\\_on\\_poverty', 'viewed\\_count': 3243775\\}, \\{'id': 912, 'hero': 'https://pe.tedcdn.com/images/ted/b26e09ddd0ffeb774cd3eee2a24424c4ed542677\\_2880x1620.jpg', 'speaker': 'Hans Rosling', 'title': 'Global population growth, box by box', 'duration': 604, 'slug': 'hans\\_rosling\\_on\\_global\\_population\\_growth', 'viewed\\_count': 2934214\\}{]}                                                                                                                                                                                                                     & Global health expert; data visionary        & {[}'Africa', 'Asia', 'Google', 'demo', 'economics', 'global development', 'global issues', 'health', 'math', 'statistics', 'visualizations'{]} & The best stats you've ever seen & https://www.ted.com/talks/hans\\_rosling\\_shows\\_the\\_best\\_stats\\_you\\_ve\\_ever\\_seen\n",
       " & 12005869\\\\\n",
       "\t  672 & Tony Robbins discusses the \"invisible forces\" that motivate everyone's actions -- and high-fives Al Gore in the front row.                                                                                                                & 1305 & TED2006 & 1138838400 & 36 & Tony Robbins  & Tony Robbins: Why we do what we do            & 1 & 1151440680 & {[}\\{'id': 7, 'name': 'Funny', 'count': 1102\\}, \\{'id': 3, 'name': 'Courageous', 'count': 721\\}, \\{'id': 21, 'name': 'Unconvincing', 'count': 377\\}, \\{'id': 2, 'name': 'Confusing', 'count': 301\\}, \\{'id': 1, 'name': 'Beautiful', 'count': 706\\}, \\{'id': 9, 'name': 'Ingenious', 'count': 397\\}, \\{'id': 11, 'name': 'Longwinded', 'count': 285\\}, \\{'id': 8, 'name': 'Informative', 'count': 1038\\}, \\{'id': 10, 'name': 'Inspiring', 'count': 5211\\}, \\{'id': 22, 'name': 'Fascinating', 'count': 1350\\}, \\{'id': 24, 'name': 'Persuasive', 'count': 2423\\}, \\{'id': 25, 'name': 'OK', 'count': 441\\}, \\{'id': 23, 'name': 'Jaw-dropping', 'count': 669\\}, \\{'id': 26, 'name': 'Obnoxious', 'count': 335\\}{]}          & {[}\\{'id': 229, 'hero': 'https://pe.tedcdn.com/images/ted/eefe30d20338d800bdc70a09dc0f6007e7355a74\\_2880x1620.jpg', 'speaker': 'Jill Bolte Taylor', 'title': 'My stroke of insight', 'duration': 1099, 'slug': 'jill\\_bolte\\_taylor\\_s\\_powerful\\_stroke\\_of\\_insight', 'viewed\\_count': 21190809\\}, \\{'id': 70, 'hero': 'https://pe.tedcdn.com/images/ted/6c8c4b562ae7b0a7f5b140e2db1f7588861a6565\\_1600x1200.jpg', 'speaker': 'Richard St. John', 'title': '8 secrets of success', 'duration': 210, 'slug': 'richard\\_st\\_john\\_s\\_8\\_secrets\\_of\\_success', 'viewed\\_count': 10841194\\}, \\{'id': 97, 'hero': 'https://pe.tedcdn.com/images/ted/016a827cc0757092a0439ab2a63feca8655b6c29\\_1600x1200.jpg', 'speaker': 'Dan Gilbert', 'title': 'The surprising science of happiness', 'duration': 1276, 'slug': 'dan\\_gilbert\\_asks\\_why\\_are\\_we\\_happy', 'viewed\\_count': 14689293\\}, \\{'id': 1094, 'hero': 'https://pe.tedcdn.com/images/ted/78e8d94d1d2a81cd182e0626dc8e96a43c88d760\\_800x600.jpg', 'speaker': 'David Brooks', 'title': 'The social animal', 'duration': 1124, 'slug': 'david\\_brooks\\_the\\_social\\_animal', 'viewed\\_count': 1132745\\}, \\{'id': 2861, 'hero': 'https://pe.tedcdn.com/images/ted/040ce6ae0f5e8d306d395b03be10fffb459f69ae\\_2880x1620.jpg', 'speaker': 'Emily Esfahani Smith', 'title': \"There's more to life than being happy\", 'duration': 738, 'slug': 'emily\\_esfahani\\_smith\\_there\\_s\\_more\\_to\\_life\\_than\\_being\\_happy', 'viewed\\_count': 997630\\}, \\{'id': 2279, 'hero': 'https://pe.tedcdn.com/images/ted/7942398dd4f5b61691f12872b6e787cf53dec95f\\_2880x1620.jpg', 'speaker': 'Rana el Kaliouby', 'title': 'This app knows how you feel -- from the look on your face', 'duration': 664, 'slug': 'rana\\_el\\_kaliouby\\_this\\_app\\_knows\\_how\\_you\\_feel\\_from\\_the\\_look\\_on\\_your\\_face', 'viewed\\_count': 1407619\\}{]}                                                                                                                   & Life coach; expert in leadership psychology & {[}'business', 'culture', 'entertainment', 'goal-setting', 'motivation', 'potential', 'psychology'{]}                                          & Why we do what we do            & https://www.ted.com/talks/tony\\_robbins\\_asks\\_why\\_we\\_do\\_what\\_we\\_do\n",
       "             & 20685401\\\\\n",
       "\\end{tabular}\n"
      ],
      "text/markdown": [
       "\n",
       "A tibble: 6 × 17\n",
       "\n",
       "| comments &lt;dbl&gt; | description &lt;chr&gt; | duration &lt;dbl&gt; | event &lt;chr&gt; | film_date &lt;dbl&gt; | languages &lt;dbl&gt; | main_speaker &lt;chr&gt; | name &lt;chr&gt; | num_speaker &lt;dbl&gt; | published_date &lt;dbl&gt; | ratings &lt;chr&gt; | related_talks &lt;chr&gt; | speaker_occupation &lt;chr&gt; | tags &lt;chr&gt; | title &lt;chr&gt; | url &lt;chr&gt; | views &lt;dbl&gt; |\n",
       "|---|---|---|---|---|---|---|---|---|---|---|---|---|---|---|---|---|\n",
       "| 4553 | Sir Ken Robinson makes an entertaining and profoundly moving case for creating an education system that nurtures (rather than undermines) creativity.                                                                                     | 1164 | TED2006 | 1140825600 | 60 | Ken Robinson  | Ken Robinson: Do schools kill creativity?     | 1 | 1151367060 | [{'id': 7, 'name': 'Funny', 'count': 19645}, {'id': 1, 'name': 'Beautiful', 'count': 4573}, {'id': 9, 'name': 'Ingenious', 'count': 6073}, {'id': 3, 'name': 'Courageous', 'count': 3253}, {'id': 11, 'name': 'Longwinded', 'count': 387}, {'id': 2, 'name': 'Confusing', 'count': 242}, {'id': 8, 'name': 'Informative', 'count': 7346}, {'id': 22, 'name': 'Fascinating', 'count': 10581}, {'id': 21, 'name': 'Unconvincing', 'count': 300}, {'id': 24, 'name': 'Persuasive', 'count': 10704}, {'id': 23, 'name': 'Jaw-dropping', 'count': 4439}, {'id': 25, 'name': 'OK', 'count': 1174}, {'id': 26, 'name': 'Obnoxious', 'count': 209}, {'id': 10, 'name': 'Inspiring', 'count': 24924}] | [{'id': 865, 'hero': 'https://pe.tedcdn.com/images/ted/172559_800x600.jpg', 'speaker': 'Ken Robinson', 'title': 'Bring on the learning revolution!', 'duration': 1008, 'slug': 'sir_ken_robinson_bring_on_the_revolution', 'viewed_count': 7266103}, {'id': 1738, 'hero': 'https://pe.tedcdn.com/images/ted/de98b161ad1434910ff4b56c89de71af04b8b873_1600x1200.jpg', 'speaker': 'Ken Robinson', 'title': \"How to escape education's death valley\", 'duration': 1151, 'slug': 'ken_robinson_how_to_escape_education_s_death_valley', 'viewed_count': 6657572}, {'id': 2276, 'hero': 'https://pe.tedcdn.com/images/ted/3821f3728e0b755c7b9aea2e69cc093eca41abe1_2880x1620.jpg', 'speaker': 'Linda Cliatt-Wayman', 'title': 'How to fix a broken school? Lead fearlessly, love hard', 'duration': 1027, 'slug': 'linda_cliatt_wayman_how_to_fix_a_broken_school_lead_fearlessly_love_hard', 'viewed_count': 1617101}, {'id': 892, 'hero': 'https://pe.tedcdn.com/images/ted/e79958940573cc610ccb583619a54866c41ef303_2880x1620.jpg', 'speaker': 'Charles Leadbeater', 'title': 'Education innovation in the slums', 'duration': 1138, 'slug': 'charles_leadbeater_on_education', 'viewed_count': 772296}, {'id': 1232, 'hero': 'https://pe.tedcdn.com/images/ted/0e3e4e92d5ee8ae0e43962d447d3f790b31099b8_800x600.jpg', 'speaker': 'Geoff Mulgan', 'title': 'A short intro to the Studio School', 'duration': 376, 'slug': 'geoff_mulgan_a_short_intro_to_the_studio_school', 'viewed_count': 667971}, {'id': 2616, 'hero': 'https://pe.tedcdn.com/images/ted/71cde5a6fa6c717488fb55eff9eef939a9241761_2880x1620.jpg', 'speaker': 'Kandice Sumner', 'title': \"How America's public schools keep kids in poverty\", 'duration': 830, 'slug': 'kandice_sumner_how_america_s_public_schools_keep_kids_in_poverty', 'viewed_count': 1181333}]                                                                        | Author/educator                             | ['children', 'creativity', 'culture', 'dance', 'education', 'parenting', 'teaching']                                                       | Do schools kill creativity?     | https://www.ted.com/talks/ken_robinson_says_schools_kill_creativity\n",
       "          | 47227110 |\n",
       "|  265 | With the same humor and humanity he exuded in \"An Inconvenient Truth,\" Al Gore spells out 15 ways that individuals can address climate change immediately, from buying a hybrid to inventing a new, hotter brand name for global warming. |  977 | TED2006 | 1140825600 | 43 | Al Gore       | Al Gore: Averting the climate crisis          | 1 | 1151367060 | [{'id': 7, 'name': 'Funny', 'count': 544}, {'id': 3, 'name': 'Courageous', 'count': 139}, {'id': 2, 'name': 'Confusing', 'count': 62}, {'id': 1, 'name': 'Beautiful', 'count': 58}, {'id': 21, 'name': 'Unconvincing', 'count': 258}, {'id': 11, 'name': 'Longwinded', 'count': 113}, {'id': 8, 'name': 'Informative', 'count': 443}, {'id': 10, 'name': 'Inspiring', 'count': 413}, {'id': 22, 'name': 'Fascinating', 'count': 132}, {'id': 9, 'name': 'Ingenious', 'count': 56}, {'id': 24, 'name': 'Persuasive', 'count': 268}, {'id': 23, 'name': 'Jaw-dropping', 'count': 116}, {'id': 26, 'name': 'Obnoxious', 'count': 131}, {'id': 25, 'name': 'OK', 'count': 203}]                  | [{'id': 243, 'hero': 'https://pe.tedcdn.com/images/ted/566c14767bd62c5ff760e483c5b16cd2753328cd_2880x1620.jpg', 'speaker': 'Al Gore', 'title': 'New thinking on the climate crisis', 'duration': 1674, 'slug': 'al_gore_s_new_thinking_on_the_climate_crisis', 'viewed_count': 1751408}, {'id': 547, 'hero': 'https://pe.tedcdn.com/images/ted/89288_800x600.jpg', 'speaker': 'Ray Anderson', 'title': 'The business logic of sustainability', 'duration': 954, 'slug': 'ray_anderson_on_the_business_logic_of_sustainability', 'viewed_count': 881833}, {'id': 2093, 'hero': 'https://pe.tedcdn.com/images/ted/146d88845861cbf768bbf8bec8b2e41f8bfc7903_2400x1800.jpg', 'speaker': 'Lord Nicholas Stern', 'title': 'The state of the climate — and what we might do about it', 'duration': 993, 'slug': 'lord_nicholas_stern_the_state_of_the_climate_and_what_we_might_do_about_it', 'viewed_count': 773779}, {'id': 2784, 'hero': 'https://pe.tedcdn.com/images/ted/e835e670a7836cf65aca2a7a644fd94398cb4b8e_2880x1620.jpg', 'speaker': 'Ted Halstead', 'title': 'A climate solution where all sides can win', 'duration': 787, 'slug': 'ted_halstead_a_climate_solution_where_all_sides_can_win', 'viewed_count': 1021315}, {'id': 2339, 'hero': 'https://pe.tedcdn.com/images/ted/f6879e1c78d4a069735bf745ecfede71ccf4a352_2880x1620.jpg', 'speaker': 'Alice Bows-Larkin', 'title': \"Climate change is happening. Here's how we adapt\", 'duration': 863, 'slug': 'alice_bows_larkin_we_re_too_late_to_prevent_climate_change_here_s_how_we_adapt', 'viewed_count': 1157975}, {'id': 2331, 'hero': 'https://pe.tedcdn.com/images/ted/64bbcc24af870d9b4e1768abe88e1fe041b02a6a_2880x1620.jpg', 'speaker': 'Mary Robinson', 'title': 'Why climate change is a threat to human rights', 'duration': 1307, 'slug': 'mary_robinson_why_climate_change_is_a_threat_to_human_rights', 'viewed_count': 1126293}] | Climate advocate                            | ['alternative energy', 'cars', 'climate change', 'culture', 'environment', 'global issues', 'science', 'sustainability', 'technology']     | Averting the climate crisis     | https://www.ted.com/talks/al_gore_on_averting_climate_crisis\n",
       "                 |  3200520 |\n",
       "|  124 | New York Times columnist David Pogue takes aim at technology’s worst interface-design offenders, and provides encouraging examples of products that get it right. To funny things up, he bursts into song.                                | 1286 | TED2006 | 1140739200 | 26 | David Pogue   | David Pogue: Simplicity sells                 | 1 | 1151367060 | [{'id': 7, 'name': 'Funny', 'count': 964}, {'id': 3, 'name': 'Courageous', 'count': 45}, {'id': 9, 'name': 'Ingenious', 'count': 183}, {'id': 1, 'name': 'Beautiful', 'count': 60}, {'id': 21, 'name': 'Unconvincing', 'count': 104}, {'id': 11, 'name': 'Longwinded', 'count': 78}, {'id': 8, 'name': 'Informative', 'count': 395}, {'id': 10, 'name': 'Inspiring', 'count': 230}, {'id': 22, 'name': 'Fascinating', 'count': 166}, {'id': 2, 'name': 'Confusing', 'count': 27}, {'id': 25, 'name': 'OK', 'count': 146}, {'id': 24, 'name': 'Persuasive', 'count': 230}, {'id': 23, 'name': 'Jaw-dropping', 'count': 54}, {'id': 26, 'name': 'Obnoxious', 'count': 142}]                    | [{'id': 1725, 'hero': 'https://pe.tedcdn.com/images/ted/b7f415a054cc0a2bfdd90d0ad5a7f64cf060150d_1600x1200.jpg', 'speaker': 'David Pogue', 'title': '10 top time-saving tech tips', 'duration': 344, 'slug': 'david_pogue_10_top_time_saving_tech_tips', 'viewed_count': 4843421}, {'id': 2274, 'hero': 'https://pe.tedcdn.com/images/ted/608e677e4392bcdcf82b068fa221b9df74a213ef_2880x1620.jpg', 'speaker': 'Tony Fadell', 'title': 'The first secret of design is ... noticing', 'duration': 1001, 'slug': 'tony_fadell_the_first_secret_of_design_is_noticing', 'viewed_count': 2005916}, {'id': 172, 'hero': 'https://pe.tedcdn.com/images/ted/b790be2f87ceffba73fe73837944400c7d61cba2_1600x1200.jpg', 'speaker': 'John Maeda', 'title': 'Designing for simplicity', 'duration': 959, 'slug': 'john_maeda_on_the_simple_life', 'viewed_count': 1215942}, {'id': 2664, 'hero': 'https://pe.tedcdn.com/images/ted/092f184f6625c2aeef10949c8d7b2aa14ba4132b_2880x1620.jpg', 'speaker': 'Dan Bricklin', 'title': 'Meet the inventor of the electronic spreadsheet', 'duration': 720, 'slug': 'dan_bricklin_meet_the_inventor_of_the_electronic_spreadsheet', 'viewed_count': 992322}, {'id': 436, 'hero': 'https://pe.tedcdn.com/images/ted/66438_800x600.jpg', 'speaker': 'David Carson', 'title': 'Design and discovery', 'duration': 1359, 'slug': 'david_carson_on_design', 'viewed_count': 774485}, {'id': 1546, 'hero': 'https://pe.tedcdn.com/images/ted/39d58abd56cf9edd6936f4f42119a15e65692dc1_1600x1200.jpg', 'speaker': 'Clay Shirky', 'title': 'How the Internet will (one day) transform government', 'duration': 1112, 'slug': 'clay_shirky_how_the_internet_will_one_day_transform_government', 'viewed_count': 1245084}]                                                                                                                                                                  | Technology columnist                        | ['computers', 'entertainment', 'interface design', 'media', 'music', 'performance', 'simplicity', 'software', 'technology']                | Simplicity sells                | https://www.ted.com/talks/david_pogue_says_simplicity_sells\n",
       "                  |  1636292 |\n",
       "|  200 | In an emotionally charged talk, MacArthur-winning activist Majora Carter details her fight for environmental justice in the South Bronx -- and shows how minority neighborhoods suffer most from flawed urban policy.                     | 1116 | TED2006 | 1140912000 | 35 | Majora Carter | Majora Carter: Greening the ghetto            | 1 | 1151367060 | [{'id': 3, 'name': 'Courageous', 'count': 760}, {'id': 1, 'name': 'Beautiful', 'count': 291}, {'id': 2, 'name': 'Confusing', 'count': 32}, {'id': 7, 'name': 'Funny', 'count': 59}, {'id': 9, 'name': 'Ingenious', 'count': 105}, {'id': 21, 'name': 'Unconvincing', 'count': 36}, {'id': 11, 'name': 'Longwinded', 'count': 53}, {'id': 8, 'name': 'Informative', 'count': 380}, {'id': 10, 'name': 'Inspiring', 'count': 1070}, {'id': 22, 'name': 'Fascinating', 'count': 132}, {'id': 24, 'name': 'Persuasive', 'count': 460}, {'id': 23, 'name': 'Jaw-dropping', 'count': 230}, {'id': 26, 'name': 'Obnoxious', 'count': 35}, {'id': 25, 'name': 'OK', 'count': 85}]                    | [{'id': 1041, 'hero': 'https://pe.tedcdn.com/images/ted/96c703bb13a2e9c2d351a5e6b52390bc35eaad06_800x600.jpg', 'speaker': 'Majora Carter', 'title': '3 stories of local eco-entrepreneurship', 'duration': 1079, 'slug': 'majora_carter_3_stories_of_local_ecoactivism', 'viewed_count': 702642}, {'id': 1892, 'hero': 'https://pe.tedcdn.com/images/ted/f5ebbf91eb093a2da2cfe1941724a3e55d222713_1600x1200.jpg', 'speaker': 'Toni Griffin', 'title': 'A new vision for rebuilding Detroit', 'duration': 708, 'slug': 'toni_griffin_a_new_vision_for_rebuilding_detroit', 'viewed_count': 826727}, {'id': 2078, 'hero': 'https://pe.tedcdn.com/images/ted/92ddb109a1f98a3745fe1b2b0d2c5519ab3931dc_2400x1800.jpg', 'speaker': 'Dan Barasch', 'title': 'A park underneath the hustle and bustle of New York City', 'duration': 377, 'slug': 'dan_barasch_a_park_underneath_the_hustle_and_bustle_of_new_york_city', 'viewed_count': 862197}, {'id': 2873, 'hero': 'https://pe.tedcdn.com/images/ted/635f76d5d4d0a454b6131b93b471d1f65065f14d_2880x1620.jpg', 'speaker': 'OluTimehin Adegbeye', 'title': 'Who belongs in a city?', 'duration': 723, 'slug': 'olutimehin_adegbeye_who_belongs_in_a_city', 'viewed_count': 686614}, {'id': 2840, 'hero': 'https://pe.tedcdn.com/images/ted/e14c457790cbe44629c9afaf8867a3558d0cf121_2880x1620.jpg', 'speaker': 'Richard J. Berry', 'title': 'A practical way to help the homeless find work and safety', 'duration': 741, 'slug': 'richard_j_berry_a_practical_way_to_help_the_homeless_find_work_and_safety', 'viewed_count': 746572}, {'id': 2839, 'hero': 'https://pe.tedcdn.com/images/ted/7651fdc16fac4fe5a41e91a65ee168af109e227e_2880x1620.jpg', 'speaker': 'Peter Calthorpe', 'title': '7 principles for building better cities', 'duration': 860, 'slug': 'peter_calthorpe_7_principles_for_building_better_cities', 'viewed_count': 832386}]           | Activist for environmental justice          | ['MacArthur grant', 'activism', 'business', 'cities', 'environment', 'green', 'inequality', 'politics', 'pollution']                       | Greening the ghetto             | https://www.ted.com/talks/majora_carter_s_tale_of_urban_renewal\n",
       "              |  1697550 |\n",
       "|  593 | You've never seen data presented like this. With the drama and urgency of a sportscaster, statistics guru Hans Rosling debunks myths about the so-called \"developing world.\"                                                              | 1190 | TED2006 | 1140566400 | 48 | Hans Rosling  | Hans Rosling: The best stats you've ever seen | 1 | 1151440680 | [{'id': 9, 'name': 'Ingenious', 'count': 3202}, {'id': 7, 'name': 'Funny', 'count': 1390}, {'id': 1, 'name': 'Beautiful', 'count': 942}, {'id': 3, 'name': 'Courageous', 'count': 318}, {'id': 11, 'name': 'Longwinded', 'count': 110}, {'id': 2, 'name': 'Confusing', 'count': 72}, {'id': 21, 'name': 'Unconvincing', 'count': 67}, {'id': 8, 'name': 'Informative', 'count': 5433}, {'id': 10, 'name': 'Inspiring', 'count': 2893}, {'id': 22, 'name': 'Fascinating', 'count': 4606}, {'id': 23, 'name': 'Jaw-dropping', 'count': 3736}, {'id': 24, 'name': 'Persuasive', 'count': 2542}, {'id': 25, 'name': 'OK', 'count': 248}, {'id': 26, 'name': 'Obnoxious', 'count': 61}]           | [{'id': 2056, 'hero': 'https://pe.tedcdn.com/images/ted/afc9b259845ec1b543419871e10753d4d9044fda_2400x1800.jpg', 'speaker': 'Talithia Williams', 'title': \"Own your body's data\", 'duration': 1023, 'slug': 'talithia_williams_own_your_body_s_data', 'viewed_count': 1345319}, {'id': 2296, 'hero': 'https://pe.tedcdn.com/images/ted/9e003b0a822daba702608136e73f7be001b6b2f2_2880x1620.jpg', 'speaker': 'Manuel Lima', 'title': 'A visual history of human knowledge', 'duration': 769, 'slug': 'manuel_lima_a_visual_history_of_human_knowledge', 'viewed_count': 1710818}, {'id': 620, 'hero': 'https://pe.tedcdn.com/images/ted/111517_800x600.jpg', 'speaker': 'Hans Rosling', 'title': 'Let my dataset change your mindset', 'duration': 1196, 'slug': 'hans_rosling_at_state', 'viewed_count': 1471015}, {'id': 974, 'hero': 'https://pe.tedcdn.com/images/ted/205077_800x600.jpg', 'speaker': 'Hans Rosling', 'title': \"The good news of the decade? We're winning the war against child mortality\", 'duration': 934, 'slug': 'hans_rosling_the_good_news_of_the_decade', 'viewed_count': 738885}, {'id': 140, 'hero': 'https://pe.tedcdn.com/images/ted/bf09302366bde885c86350145b87cd2b265f1f12_1600x1200.jpg', 'speaker': 'Hans Rosling', 'title': 'New insights on poverty', 'duration': 1137, 'slug': 'hans_rosling_reveals_new_insights_on_poverty', 'viewed_count': 3243775}, {'id': 912, 'hero': 'https://pe.tedcdn.com/images/ted/b26e09ddd0ffeb774cd3eee2a24424c4ed542677_2880x1620.jpg', 'speaker': 'Hans Rosling', 'title': 'Global population growth, box by box', 'duration': 604, 'slug': 'hans_rosling_on_global_population_growth', 'viewed_count': 2934214}]                                                                                                                                                                                                                     | Global health expert; data visionary        | ['Africa', 'Asia', 'Google', 'demo', 'economics', 'global development', 'global issues', 'health', 'math', 'statistics', 'visualizations'] | The best stats you've ever seen | https://www.ted.com/talks/hans_rosling_shows_the_best_stats_you_ve_ever_seen\n",
       " | 12005869 |\n",
       "|  672 | Tony Robbins discusses the \"invisible forces\" that motivate everyone's actions -- and high-fives Al Gore in the front row.                                                                                                                | 1305 | TED2006 | 1138838400 | 36 | Tony Robbins  | Tony Robbins: Why we do what we do            | 1 | 1151440680 | [{'id': 7, 'name': 'Funny', 'count': 1102}, {'id': 3, 'name': 'Courageous', 'count': 721}, {'id': 21, 'name': 'Unconvincing', 'count': 377}, {'id': 2, 'name': 'Confusing', 'count': 301}, {'id': 1, 'name': 'Beautiful', 'count': 706}, {'id': 9, 'name': 'Ingenious', 'count': 397}, {'id': 11, 'name': 'Longwinded', 'count': 285}, {'id': 8, 'name': 'Informative', 'count': 1038}, {'id': 10, 'name': 'Inspiring', 'count': 5211}, {'id': 22, 'name': 'Fascinating', 'count': 1350}, {'id': 24, 'name': 'Persuasive', 'count': 2423}, {'id': 25, 'name': 'OK', 'count': 441}, {'id': 23, 'name': 'Jaw-dropping', 'count': 669}, {'id': 26, 'name': 'Obnoxious', 'count': 335}]          | [{'id': 229, 'hero': 'https://pe.tedcdn.com/images/ted/eefe30d20338d800bdc70a09dc0f6007e7355a74_2880x1620.jpg', 'speaker': 'Jill Bolte Taylor', 'title': 'My stroke of insight', 'duration': 1099, 'slug': 'jill_bolte_taylor_s_powerful_stroke_of_insight', 'viewed_count': 21190809}, {'id': 70, 'hero': 'https://pe.tedcdn.com/images/ted/6c8c4b562ae7b0a7f5b140e2db1f7588861a6565_1600x1200.jpg', 'speaker': 'Richard St. John', 'title': '8 secrets of success', 'duration': 210, 'slug': 'richard_st_john_s_8_secrets_of_success', 'viewed_count': 10841194}, {'id': 97, 'hero': 'https://pe.tedcdn.com/images/ted/016a827cc0757092a0439ab2a63feca8655b6c29_1600x1200.jpg', 'speaker': 'Dan Gilbert', 'title': 'The surprising science of happiness', 'duration': 1276, 'slug': 'dan_gilbert_asks_why_are_we_happy', 'viewed_count': 14689293}, {'id': 1094, 'hero': 'https://pe.tedcdn.com/images/ted/78e8d94d1d2a81cd182e0626dc8e96a43c88d760_800x600.jpg', 'speaker': 'David Brooks', 'title': 'The social animal', 'duration': 1124, 'slug': 'david_brooks_the_social_animal', 'viewed_count': 1132745}, {'id': 2861, 'hero': 'https://pe.tedcdn.com/images/ted/040ce6ae0f5e8d306d395b03be10fffb459f69ae_2880x1620.jpg', 'speaker': 'Emily Esfahani Smith', 'title': \"There's more to life than being happy\", 'duration': 738, 'slug': 'emily_esfahani_smith_there_s_more_to_life_than_being_happy', 'viewed_count': 997630}, {'id': 2279, 'hero': 'https://pe.tedcdn.com/images/ted/7942398dd4f5b61691f12872b6e787cf53dec95f_2880x1620.jpg', 'speaker': 'Rana el Kaliouby', 'title': 'This app knows how you feel -- from the look on your face', 'duration': 664, 'slug': 'rana_el_kaliouby_this_app_knows_how_you_feel_from_the_look_on_your_face', 'viewed_count': 1407619}]                                                                                                                   | Life coach; expert in leadership psychology | ['business', 'culture', 'entertainment', 'goal-setting', 'motivation', 'potential', 'psychology']                                          | Why we do what we do            | https://www.ted.com/talks/tony_robbins_asks_why_we_do_what_we_do\n",
       "             | 20685401 |\n",
       "\n"
      ],
      "text/plain": [
       "  comments\n",
       "1 4553    \n",
       "2  265    \n",
       "3  124    \n",
       "4  200    \n",
       "5  593    \n",
       "6  672    \n",
       "  description                                                                                                                                                                                                                              \n",
       "1 Sir Ken Robinson makes an entertaining and profoundly moving case for creating an education system that nurtures (rather than undermines) creativity.                                                                                    \n",
       "2 With the same humor and humanity he exuded in \"An Inconvenient Truth,\" Al Gore spells out 15 ways that individuals can address climate change immediately, from buying a hybrid to inventing a new, hotter brand name for global warming.\n",
       "3 New York Times columnist David Pogue takes aim at technology’s worst interface-design offenders, and provides encouraging examples of products that get it right. To funny things up, he bursts into song.                               \n",
       "4 In an emotionally charged talk, MacArthur-winning activist Majora Carter details her fight for environmental justice in the South Bronx -- and shows how minority neighborhoods suffer most from flawed urban policy.                    \n",
       "5 You've never seen data presented like this. With the drama and urgency of a sportscaster, statistics guru Hans Rosling debunks myths about the so-called \"developing world.\"                                                             \n",
       "6 Tony Robbins discusses the \"invisible forces\" that motivate everyone's actions -- and high-fives Al Gore in the front row.                                                                                                               \n",
       "  duration event   film_date  languages main_speaker \n",
       "1 1164     TED2006 1140825600 60        Ken Robinson \n",
       "2  977     TED2006 1140825600 43        Al Gore      \n",
       "3 1286     TED2006 1140739200 26        David Pogue  \n",
       "4 1116     TED2006 1140912000 35        Majora Carter\n",
       "5 1190     TED2006 1140566400 48        Hans Rosling \n",
       "6 1305     TED2006 1138838400 36        Tony Robbins \n",
       "  name                                          num_speaker published_date\n",
       "1 Ken Robinson: Do schools kill creativity?     1           1151367060    \n",
       "2 Al Gore: Averting the climate crisis          1           1151367060    \n",
       "3 David Pogue: Simplicity sells                 1           1151367060    \n",
       "4 Majora Carter: Greening the ghetto            1           1151367060    \n",
       "5 Hans Rosling: The best stats you've ever seen 1           1151440680    \n",
       "6 Tony Robbins: Why we do what we do            1           1151440680    \n",
       "  ratings                                                                                                                                                                                                                                                                                                                                                                                                                                                                                                                                                                                                                                                                                     \n",
       "1 [{'id': 7, 'name': 'Funny', 'count': 19645}, {'id': 1, 'name': 'Beautiful', 'count': 4573}, {'id': 9, 'name': 'Ingenious', 'count': 6073}, {'id': 3, 'name': 'Courageous', 'count': 3253}, {'id': 11, 'name': 'Longwinded', 'count': 387}, {'id': 2, 'name': 'Confusing', 'count': 242}, {'id': 8, 'name': 'Informative', 'count': 7346}, {'id': 22, 'name': 'Fascinating', 'count': 10581}, {'id': 21, 'name': 'Unconvincing', 'count': 300}, {'id': 24, 'name': 'Persuasive', 'count': 10704}, {'id': 23, 'name': 'Jaw-dropping', 'count': 4439}, {'id': 25, 'name': 'OK', 'count': 1174}, {'id': 26, 'name': 'Obnoxious', 'count': 209}, {'id': 10, 'name': 'Inspiring', 'count': 24924}]\n",
       "2 [{'id': 7, 'name': 'Funny', 'count': 544}, {'id': 3, 'name': 'Courageous', 'count': 139}, {'id': 2, 'name': 'Confusing', 'count': 62}, {'id': 1, 'name': 'Beautiful', 'count': 58}, {'id': 21, 'name': 'Unconvincing', 'count': 258}, {'id': 11, 'name': 'Longwinded', 'count': 113}, {'id': 8, 'name': 'Informative', 'count': 443}, {'id': 10, 'name': 'Inspiring', 'count': 413}, {'id': 22, 'name': 'Fascinating', 'count': 132}, {'id': 9, 'name': 'Ingenious', 'count': 56}, {'id': 24, 'name': 'Persuasive', 'count': 268}, {'id': 23, 'name': 'Jaw-dropping', 'count': 116}, {'id': 26, 'name': 'Obnoxious', 'count': 131}, {'id': 25, 'name': 'OK', 'count': 203}]                 \n",
       "3 [{'id': 7, 'name': 'Funny', 'count': 964}, {'id': 3, 'name': 'Courageous', 'count': 45}, {'id': 9, 'name': 'Ingenious', 'count': 183}, {'id': 1, 'name': 'Beautiful', 'count': 60}, {'id': 21, 'name': 'Unconvincing', 'count': 104}, {'id': 11, 'name': 'Longwinded', 'count': 78}, {'id': 8, 'name': 'Informative', 'count': 395}, {'id': 10, 'name': 'Inspiring', 'count': 230}, {'id': 22, 'name': 'Fascinating', 'count': 166}, {'id': 2, 'name': 'Confusing', 'count': 27}, {'id': 25, 'name': 'OK', 'count': 146}, {'id': 24, 'name': 'Persuasive', 'count': 230}, {'id': 23, 'name': 'Jaw-dropping', 'count': 54}, {'id': 26, 'name': 'Obnoxious', 'count': 142}]                   \n",
       "4 [{'id': 3, 'name': 'Courageous', 'count': 760}, {'id': 1, 'name': 'Beautiful', 'count': 291}, {'id': 2, 'name': 'Confusing', 'count': 32}, {'id': 7, 'name': 'Funny', 'count': 59}, {'id': 9, 'name': 'Ingenious', 'count': 105}, {'id': 21, 'name': 'Unconvincing', 'count': 36}, {'id': 11, 'name': 'Longwinded', 'count': 53}, {'id': 8, 'name': 'Informative', 'count': 380}, {'id': 10, 'name': 'Inspiring', 'count': 1070}, {'id': 22, 'name': 'Fascinating', 'count': 132}, {'id': 24, 'name': 'Persuasive', 'count': 460}, {'id': 23, 'name': 'Jaw-dropping', 'count': 230}, {'id': 26, 'name': 'Obnoxious', 'count': 35}, {'id': 25, 'name': 'OK', 'count': 85}]                   \n",
       "5 [{'id': 9, 'name': 'Ingenious', 'count': 3202}, {'id': 7, 'name': 'Funny', 'count': 1390}, {'id': 1, 'name': 'Beautiful', 'count': 942}, {'id': 3, 'name': 'Courageous', 'count': 318}, {'id': 11, 'name': 'Longwinded', 'count': 110}, {'id': 2, 'name': 'Confusing', 'count': 72}, {'id': 21, 'name': 'Unconvincing', 'count': 67}, {'id': 8, 'name': 'Informative', 'count': 5433}, {'id': 10, 'name': 'Inspiring', 'count': 2893}, {'id': 22, 'name': 'Fascinating', 'count': 4606}, {'id': 23, 'name': 'Jaw-dropping', 'count': 3736}, {'id': 24, 'name': 'Persuasive', 'count': 2542}, {'id': 25, 'name': 'OK', 'count': 248}, {'id': 26, 'name': 'Obnoxious', 'count': 61}]          \n",
       "6 [{'id': 7, 'name': 'Funny', 'count': 1102}, {'id': 3, 'name': 'Courageous', 'count': 721}, {'id': 21, 'name': 'Unconvincing', 'count': 377}, {'id': 2, 'name': 'Confusing', 'count': 301}, {'id': 1, 'name': 'Beautiful', 'count': 706}, {'id': 9, 'name': 'Ingenious', 'count': 397}, {'id': 11, 'name': 'Longwinded', 'count': 285}, {'id': 8, 'name': 'Informative', 'count': 1038}, {'id': 10, 'name': 'Inspiring', 'count': 5211}, {'id': 22, 'name': 'Fascinating', 'count': 1350}, {'id': 24, 'name': 'Persuasive', 'count': 2423}, {'id': 25, 'name': 'OK', 'count': 441}, {'id': 23, 'name': 'Jaw-dropping', 'count': 669}, {'id': 26, 'name': 'Obnoxious', 'count': 335}]         \n",
       "  related_talks                                                                                                                                                                                                                                                                                                                                                                                                                                                                                                                                                                                                                                                                                                                                                                                                                                                                                                                                                                                                                                                                                                                                                                                                                                                                                                                                                                                                                                                                                                                                                                                                                                                                                                                                                                                                                                                                                               \n",
       "1 [{'id': 865, 'hero': 'https://pe.tedcdn.com/images/ted/172559_800x600.jpg', 'speaker': 'Ken Robinson', 'title': 'Bring on the learning revolution!', 'duration': 1008, 'slug': 'sir_ken_robinson_bring_on_the_revolution', 'viewed_count': 7266103}, {'id': 1738, 'hero': 'https://pe.tedcdn.com/images/ted/de98b161ad1434910ff4b56c89de71af04b8b873_1600x1200.jpg', 'speaker': 'Ken Robinson', 'title': \"How to escape education's death valley\", 'duration': 1151, 'slug': 'ken_robinson_how_to_escape_education_s_death_valley', 'viewed_count': 6657572}, {'id': 2276, 'hero': 'https://pe.tedcdn.com/images/ted/3821f3728e0b755c7b9aea2e69cc093eca41abe1_2880x1620.jpg', 'speaker': 'Linda Cliatt-Wayman', 'title': 'How to fix a broken school? Lead fearlessly, love hard', 'duration': 1027, 'slug': 'linda_cliatt_wayman_how_to_fix_a_broken_school_lead_fearlessly_love_hard', 'viewed_count': 1617101}, {'id': 892, 'hero': 'https://pe.tedcdn.com/images/ted/e79958940573cc610ccb583619a54866c41ef303_2880x1620.jpg', 'speaker': 'Charles Leadbeater', 'title': 'Education innovation in the slums', 'duration': 1138, 'slug': 'charles_leadbeater_on_education', 'viewed_count': 772296}, {'id': 1232, 'hero': 'https://pe.tedcdn.com/images/ted/0e3e4e92d5ee8ae0e43962d447d3f790b31099b8_800x600.jpg', 'speaker': 'Geoff Mulgan', 'title': 'A short intro to the Studio School', 'duration': 376, 'slug': 'geoff_mulgan_a_short_intro_to_the_studio_school', 'viewed_count': 667971}, {'id': 2616, 'hero': 'https://pe.tedcdn.com/images/ted/71cde5a6fa6c717488fb55eff9eef939a9241761_2880x1620.jpg', 'speaker': 'Kandice Sumner', 'title': \"How America's public schools keep kids in poverty\", 'duration': 830, 'slug': 'kandice_sumner_how_america_s_public_schools_keep_kids_in_poverty', 'viewed_count': 1181333}]                                                                       \n",
       "2 [{'id': 243, 'hero': 'https://pe.tedcdn.com/images/ted/566c14767bd62c5ff760e483c5b16cd2753328cd_2880x1620.jpg', 'speaker': 'Al Gore', 'title': 'New thinking on the climate crisis', 'duration': 1674, 'slug': 'al_gore_s_new_thinking_on_the_climate_crisis', 'viewed_count': 1751408}, {'id': 547, 'hero': 'https://pe.tedcdn.com/images/ted/89288_800x600.jpg', 'speaker': 'Ray Anderson', 'title': 'The business logic of sustainability', 'duration': 954, 'slug': 'ray_anderson_on_the_business_logic_of_sustainability', 'viewed_count': 881833}, {'id': 2093, 'hero': 'https://pe.tedcdn.com/images/ted/146d88845861cbf768bbf8bec8b2e41f8bfc7903_2400x1800.jpg', 'speaker': 'Lord Nicholas Stern', 'title': 'The state of the climate — and what we might do about it', 'duration': 993, 'slug': 'lord_nicholas_stern_the_state_of_the_climate_and_what_we_might_do_about_it', 'viewed_count': 773779}, {'id': 2784, 'hero': 'https://pe.tedcdn.com/images/ted/e835e670a7836cf65aca2a7a644fd94398cb4b8e_2880x1620.jpg', 'speaker': 'Ted Halstead', 'title': 'A climate solution where all sides can win', 'duration': 787, 'slug': 'ted_halstead_a_climate_solution_where_all_sides_can_win', 'viewed_count': 1021315}, {'id': 2339, 'hero': 'https://pe.tedcdn.com/images/ted/f6879e1c78d4a069735bf745ecfede71ccf4a352_2880x1620.jpg', 'speaker': 'Alice Bows-Larkin', 'title': \"Climate change is happening. Here's how we adapt\", 'duration': 863, 'slug': 'alice_bows_larkin_we_re_too_late_to_prevent_climate_change_here_s_how_we_adapt', 'viewed_count': 1157975}, {'id': 2331, 'hero': 'https://pe.tedcdn.com/images/ted/64bbcc24af870d9b4e1768abe88e1fe041b02a6a_2880x1620.jpg', 'speaker': 'Mary Robinson', 'title': 'Why climate change is a threat to human rights', 'duration': 1307, 'slug': 'mary_robinson_why_climate_change_is_a_threat_to_human_rights', 'viewed_count': 1126293}]\n",
       "3 [{'id': 1725, 'hero': 'https://pe.tedcdn.com/images/ted/b7f415a054cc0a2bfdd90d0ad5a7f64cf060150d_1600x1200.jpg', 'speaker': 'David Pogue', 'title': '10 top time-saving tech tips', 'duration': 344, 'slug': 'david_pogue_10_top_time_saving_tech_tips', 'viewed_count': 4843421}, {'id': 2274, 'hero': 'https://pe.tedcdn.com/images/ted/608e677e4392bcdcf82b068fa221b9df74a213ef_2880x1620.jpg', 'speaker': 'Tony Fadell', 'title': 'The first secret of design is ... noticing', 'duration': 1001, 'slug': 'tony_fadell_the_first_secret_of_design_is_noticing', 'viewed_count': 2005916}, {'id': 172, 'hero': 'https://pe.tedcdn.com/images/ted/b790be2f87ceffba73fe73837944400c7d61cba2_1600x1200.jpg', 'speaker': 'John Maeda', 'title': 'Designing for simplicity', 'duration': 959, 'slug': 'john_maeda_on_the_simple_life', 'viewed_count': 1215942}, {'id': 2664, 'hero': 'https://pe.tedcdn.com/images/ted/092f184f6625c2aeef10949c8d7b2aa14ba4132b_2880x1620.jpg', 'speaker': 'Dan Bricklin', 'title': 'Meet the inventor of the electronic spreadsheet', 'duration': 720, 'slug': 'dan_bricklin_meet_the_inventor_of_the_electronic_spreadsheet', 'viewed_count': 992322}, {'id': 436, 'hero': 'https://pe.tedcdn.com/images/ted/66438_800x600.jpg', 'speaker': 'David Carson', 'title': 'Design and discovery', 'duration': 1359, 'slug': 'david_carson_on_design', 'viewed_count': 774485}, {'id': 1546, 'hero': 'https://pe.tedcdn.com/images/ted/39d58abd56cf9edd6936f4f42119a15e65692dc1_1600x1200.jpg', 'speaker': 'Clay Shirky', 'title': 'How the Internet will (one day) transform government', 'duration': 1112, 'slug': 'clay_shirky_how_the_internet_will_one_day_transform_government', 'viewed_count': 1245084}]                                                                                                                                                                 \n",
       "4 [{'id': 1041, 'hero': 'https://pe.tedcdn.com/images/ted/96c703bb13a2e9c2d351a5e6b52390bc35eaad06_800x600.jpg', 'speaker': 'Majora Carter', 'title': '3 stories of local eco-entrepreneurship', 'duration': 1079, 'slug': 'majora_carter_3_stories_of_local_ecoactivism', 'viewed_count': 702642}, {'id': 1892, 'hero': 'https://pe.tedcdn.com/images/ted/f5ebbf91eb093a2da2cfe1941724a3e55d222713_1600x1200.jpg', 'speaker': 'Toni Griffin', 'title': 'A new vision for rebuilding Detroit', 'duration': 708, 'slug': 'toni_griffin_a_new_vision_for_rebuilding_detroit', 'viewed_count': 826727}, {'id': 2078, 'hero': 'https://pe.tedcdn.com/images/ted/92ddb109a1f98a3745fe1b2b0d2c5519ab3931dc_2400x1800.jpg', 'speaker': 'Dan Barasch', 'title': 'A park underneath the hustle and bustle of New York City', 'duration': 377, 'slug': 'dan_barasch_a_park_underneath_the_hustle_and_bustle_of_new_york_city', 'viewed_count': 862197}, {'id': 2873, 'hero': 'https://pe.tedcdn.com/images/ted/635f76d5d4d0a454b6131b93b471d1f65065f14d_2880x1620.jpg', 'speaker': 'OluTimehin Adegbeye', 'title': 'Who belongs in a city?', 'duration': 723, 'slug': 'olutimehin_adegbeye_who_belongs_in_a_city', 'viewed_count': 686614}, {'id': 2840, 'hero': 'https://pe.tedcdn.com/images/ted/e14c457790cbe44629c9afaf8867a3558d0cf121_2880x1620.jpg', 'speaker': 'Richard J. Berry', 'title': 'A practical way to help the homeless find work and safety', 'duration': 741, 'slug': 'richard_j_berry_a_practical_way_to_help_the_homeless_find_work_and_safety', 'viewed_count': 746572}, {'id': 2839, 'hero': 'https://pe.tedcdn.com/images/ted/7651fdc16fac4fe5a41e91a65ee168af109e227e_2880x1620.jpg', 'speaker': 'Peter Calthorpe', 'title': '7 principles for building better cities', 'duration': 860, 'slug': 'peter_calthorpe_7_principles_for_building_better_cities', 'viewed_count': 832386}]          \n",
       "5 [{'id': 2056, 'hero': 'https://pe.tedcdn.com/images/ted/afc9b259845ec1b543419871e10753d4d9044fda_2400x1800.jpg', 'speaker': 'Talithia Williams', 'title': \"Own your body's data\", 'duration': 1023, 'slug': 'talithia_williams_own_your_body_s_data', 'viewed_count': 1345319}, {'id': 2296, 'hero': 'https://pe.tedcdn.com/images/ted/9e003b0a822daba702608136e73f7be001b6b2f2_2880x1620.jpg', 'speaker': 'Manuel Lima', 'title': 'A visual history of human knowledge', 'duration': 769, 'slug': 'manuel_lima_a_visual_history_of_human_knowledge', 'viewed_count': 1710818}, {'id': 620, 'hero': 'https://pe.tedcdn.com/images/ted/111517_800x600.jpg', 'speaker': 'Hans Rosling', 'title': 'Let my dataset change your mindset', 'duration': 1196, 'slug': 'hans_rosling_at_state', 'viewed_count': 1471015}, {'id': 974, 'hero': 'https://pe.tedcdn.com/images/ted/205077_800x600.jpg', 'speaker': 'Hans Rosling', 'title': \"The good news of the decade? We're winning the war against child mortality\", 'duration': 934, 'slug': 'hans_rosling_the_good_news_of_the_decade', 'viewed_count': 738885}, {'id': 140, 'hero': 'https://pe.tedcdn.com/images/ted/bf09302366bde885c86350145b87cd2b265f1f12_1600x1200.jpg', 'speaker': 'Hans Rosling', 'title': 'New insights on poverty', 'duration': 1137, 'slug': 'hans_rosling_reveals_new_insights_on_poverty', 'viewed_count': 3243775}, {'id': 912, 'hero': 'https://pe.tedcdn.com/images/ted/b26e09ddd0ffeb774cd3eee2a24424c4ed542677_2880x1620.jpg', 'speaker': 'Hans Rosling', 'title': 'Global population growth, box by box', 'duration': 604, 'slug': 'hans_rosling_on_global_population_growth', 'viewed_count': 2934214}]                                                                                                                                                                                                                    \n",
       "6 [{'id': 229, 'hero': 'https://pe.tedcdn.com/images/ted/eefe30d20338d800bdc70a09dc0f6007e7355a74_2880x1620.jpg', 'speaker': 'Jill Bolte Taylor', 'title': 'My stroke of insight', 'duration': 1099, 'slug': 'jill_bolte_taylor_s_powerful_stroke_of_insight', 'viewed_count': 21190809}, {'id': 70, 'hero': 'https://pe.tedcdn.com/images/ted/6c8c4b562ae7b0a7f5b140e2db1f7588861a6565_1600x1200.jpg', 'speaker': 'Richard St. John', 'title': '8 secrets of success', 'duration': 210, 'slug': 'richard_st_john_s_8_secrets_of_success', 'viewed_count': 10841194}, {'id': 97, 'hero': 'https://pe.tedcdn.com/images/ted/016a827cc0757092a0439ab2a63feca8655b6c29_1600x1200.jpg', 'speaker': 'Dan Gilbert', 'title': 'The surprising science of happiness', 'duration': 1276, 'slug': 'dan_gilbert_asks_why_are_we_happy', 'viewed_count': 14689293}, {'id': 1094, 'hero': 'https://pe.tedcdn.com/images/ted/78e8d94d1d2a81cd182e0626dc8e96a43c88d760_800x600.jpg', 'speaker': 'David Brooks', 'title': 'The social animal', 'duration': 1124, 'slug': 'david_brooks_the_social_animal', 'viewed_count': 1132745}, {'id': 2861, 'hero': 'https://pe.tedcdn.com/images/ted/040ce6ae0f5e8d306d395b03be10fffb459f69ae_2880x1620.jpg', 'speaker': 'Emily Esfahani Smith', 'title': \"There's more to life than being happy\", 'duration': 738, 'slug': 'emily_esfahani_smith_there_s_more_to_life_than_being_happy', 'viewed_count': 997630}, {'id': 2279, 'hero': 'https://pe.tedcdn.com/images/ted/7942398dd4f5b61691f12872b6e787cf53dec95f_2880x1620.jpg', 'speaker': 'Rana el Kaliouby', 'title': 'This app knows how you feel -- from the look on your face', 'duration': 664, 'slug': 'rana_el_kaliouby_this_app_knows_how_you_feel_from_the_look_on_your_face', 'viewed_count': 1407619}]                                                                                                                  \n",
       "  speaker_occupation                         \n",
       "1 Author/educator                            \n",
       "2 Climate advocate                           \n",
       "3 Technology columnist                       \n",
       "4 Activist for environmental justice         \n",
       "5 Global health expert; data visionary       \n",
       "6 Life coach; expert in leadership psychology\n",
       "  tags                                                                                                                                      \n",
       "1 ['children', 'creativity', 'culture', 'dance', 'education', 'parenting', 'teaching']                                                      \n",
       "2 ['alternative energy', 'cars', 'climate change', 'culture', 'environment', 'global issues', 'science', 'sustainability', 'technology']    \n",
       "3 ['computers', 'entertainment', 'interface design', 'media', 'music', 'performance', 'simplicity', 'software', 'technology']               \n",
       "4 ['MacArthur grant', 'activism', 'business', 'cities', 'environment', 'green', 'inequality', 'politics', 'pollution']                      \n",
       "5 ['Africa', 'Asia', 'Google', 'demo', 'economics', 'global development', 'global issues', 'health', 'math', 'statistics', 'visualizations']\n",
       "6 ['business', 'culture', 'entertainment', 'goal-setting', 'motivation', 'potential', 'psychology']                                         \n",
       "  title                          \n",
       "1 Do schools kill creativity?    \n",
       "2 Averting the climate crisis    \n",
       "3 Simplicity sells               \n",
       "4 Greening the ghetto            \n",
       "5 The best stats you've ever seen\n",
       "6 Why we do what we do           \n",
       "  url                                                                           \n",
       "1 https://www.ted.com/talks/ken_robinson_says_schools_kill_creativity\\n         \n",
       "2 https://www.ted.com/talks/al_gore_on_averting_climate_crisis\\n                \n",
       "3 https://www.ted.com/talks/david_pogue_says_simplicity_sells\\n                 \n",
       "4 https://www.ted.com/talks/majora_carter_s_tale_of_urban_renewal\\n             \n",
       "5 https://www.ted.com/talks/hans_rosling_shows_the_best_stats_you_ve_ever_seen\\n\n",
       "6 https://www.ted.com/talks/tony_robbins_asks_why_we_do_what_we_do\\n            \n",
       "  views   \n",
       "1 47227110\n",
       "2  3200520\n",
       "3  1636292\n",
       "4  1697550\n",
       "5 12005869\n",
       "6 20685401"
      ]
     },
     "metadata": {},
     "output_type": "display_data"
    }
   ],
   "source": [
    "head(ted)"
   ]
  },
  {
   "cell_type": "code",
   "execution_count": 4,
   "metadata": {},
   "outputs": [
    {
     "data": {
      "text/html": [
       "<style>\n",
       ".list-inline {list-style: none; margin:0; padding: 0}\n",
       ".list-inline>li {display: inline-block}\n",
       ".list-inline>li:not(:last-child)::after {content: \"\\00b7\"; padding: 0 .5ex}\n",
       "</style>\n",
       "<ol class=list-inline><li>'comments'</li><li>'description'</li><li>'duration'</li><li>'event'</li><li>'film_date'</li><li>'languages'</li><li>'main_speaker'</li><li>'name'</li><li>'num_speaker'</li><li>'published_date'</li><li>'ratings'</li><li>'related_talks'</li><li>'speaker_occupation'</li><li>'tags'</li><li>'title'</li><li>'url'</li><li>'views'</li></ol>\n"
      ],
      "text/latex": [
       "\\begin{enumerate*}\n",
       "\\item 'comments'\n",
       "\\item 'description'\n",
       "\\item 'duration'\n",
       "\\item 'event'\n",
       "\\item 'film\\_date'\n",
       "\\item 'languages'\n",
       "\\item 'main\\_speaker'\n",
       "\\item 'name'\n",
       "\\item 'num\\_speaker'\n",
       "\\item 'published\\_date'\n",
       "\\item 'ratings'\n",
       "\\item 'related\\_talks'\n",
       "\\item 'speaker\\_occupation'\n",
       "\\item 'tags'\n",
       "\\item 'title'\n",
       "\\item 'url'\n",
       "\\item 'views'\n",
       "\\end{enumerate*}\n"
      ],
      "text/markdown": [
       "1. 'comments'\n",
       "2. 'description'\n",
       "3. 'duration'\n",
       "4. 'event'\n",
       "5. 'film_date'\n",
       "6. 'languages'\n",
       "7. 'main_speaker'\n",
       "8. 'name'\n",
       "9. 'num_speaker'\n",
       "10. 'published_date'\n",
       "11. 'ratings'\n",
       "12. 'related_talks'\n",
       "13. 'speaker_occupation'\n",
       "14. 'tags'\n",
       "15. 'title'\n",
       "16. 'url'\n",
       "17. 'views'\n",
       "\n",
       "\n"
      ],
      "text/plain": [
       " [1] \"comments\"           \"description\"        \"duration\"          \n",
       " [4] \"event\"              \"film_date\"          \"languages\"         \n",
       " [7] \"main_speaker\"       \"name\"               \"num_speaker\"       \n",
       "[10] \"published_date\"     \"ratings\"            \"related_talks\"     \n",
       "[13] \"speaker_occupation\" \"tags\"               \"title\"             \n",
       "[16] \"url\"                \"views\"             "
      ]
     },
     "metadata": {},
     "output_type": "display_data"
    }
   ],
   "source": [
    "colnames(ted)"
   ]
  },
  {
   "cell_type": "markdown",
   "metadata": {},
   "source": [
    "文件ted_main.csv包含17个字段，具体含义如下：\n",
    "\n",
    "|#|属性|数据类型|含义|\n",
    "|--|--|--|--|\n",
    "|1|name|Integer|演讲的正式名称（主要发言人+标题）|\n",
    "|2|title|String|演讲的标题|\n",
    "|3|description|Integer|演讲内容|\n",
    "|4|main_speaker|String|主要发言人|\n",
    "|5|speaker_occupation|Integer|主要发言人职业|\n",
    "|6|num_speaker|Integer|发言人数量|\n",
    "|7|duration|String|演讲时长（以秒为单位）|\n",
    "|8|event|String|演讲所在的TED/TEDx活动|\n",
    "|9|film_date|Integer|演讲拍摄时间（Unix timestamp）|\n",
    "|10|published_date|Integer|演讲发布时间（Unix timestamp）|\n",
    "|11|comments|String|评论数量|\n",
    "|12|tags|String|与演讲相关的主题标签\n",
    "|13|languages|String|收听演讲时可选择的语言数量|\n",
    "|14|ratings|String|\t一个列表，里面包含许多字典，每个字典是不同的演讲评级（如鼓舞人心，引人入胜，令人惊讶等）|\n",
    "|15|related_talks|String|一个列表，里面包含许多字典，每个字典是下一个值得观看的演讲推荐|\n",
    "|16|url|String|演讲的URL链接|\n",
    "|17|views|Integer|观看数量|"
   ]
  },
  {
   "cell_type": "code",
   "execution_count": 5,
   "metadata": {},
   "outputs": [
    {
     "name": "stderr",
     "output_type": "stream",
     "text": [
      "\n",
      "\u001b[36m--\u001b[39m \u001b[1m\u001b[1mColumn specification\u001b[1m\u001b[22m \u001b[36m--------------------------------------------------------\u001b[39m\n",
      "cols(\n",
      "  transcript = \u001b[31mcol_character()\u001b[39m,\n",
      "  url = \u001b[31mcol_character()\u001b[39m\n",
      ")\n",
      "\n",
      "\n"
     ]
    }
   ],
   "source": [
    "transcript <- read_csv(\"F:/data_science_datasets/tedtalk/transcripts.csv\")"
   ]
  },
  {
   "cell_type": "code",
   "execution_count": 6,
   "metadata": {},
   "outputs": [
    {
     "data": {
      "text/html": [
       "<style>\n",
       ".list-inline {list-style: none; margin:0; padding: 0}\n",
       ".list-inline>li {display: inline-block}\n",
       ".list-inline>li:not(:last-child)::after {content: \"\\00b7\"; padding: 0 .5ex}\n",
       "</style>\n",
       "<ol class=list-inline><li>'transcript'</li><li>'url'</li></ol>\n"
      ],
      "text/latex": [
       "\\begin{enumerate*}\n",
       "\\item 'transcript'\n",
       "\\item 'url'\n",
       "\\end{enumerate*}\n"
      ],
      "text/markdown": [
       "1. 'transcript'\n",
       "2. 'url'\n",
       "\n",
       "\n"
      ],
      "text/plain": [
       "[1] \"transcript\" \"url\"       "
      ]
     },
     "metadata": {},
     "output_type": "display_data"
    }
   ],
   "source": [
    "colnames(transcript)"
   ]
  },
  {
   "cell_type": "markdown",
   "metadata": {},
   "source": [
    "文件transcript.csv包含2个字段，具体含义如下：\n",
    "\n",
    "|#|属性|数据类型|含义|\n",
    "|--|--|--|--|\n",
    "|1|transcript|String|演讲的官方英文字幕|\n",
    "|2|url|String|演讲的URL链接|"
   ]
  },
  {
   "cell_type": "code",
   "execution_count": 7,
   "metadata": {},
   "outputs": [
    {
     "data": {
      "text/plain": [
       "    comments      description           duration         event          \n",
       " Min.   :   2.0   Length:2550        Min.   : 135.0   Length:2550       \n",
       " 1st Qu.:  63.0   Class :character   1st Qu.: 577.0   Class :character  \n",
       " Median : 118.0   Mode  :character   Median : 848.0   Mode  :character  \n",
       " Mean   : 191.6                      Mean   : 826.5                     \n",
       " 3rd Qu.: 221.8                      3rd Qu.:1046.8                     \n",
       " Max.   :6404.0                      Max.   :5256.0                     \n",
       "   film_date           languages     main_speaker           name          \n",
       " Min.   :7.465e+07   Min.   : 0.00   Length:2550        Length:2550       \n",
       " 1st Qu.:1.257e+09   1st Qu.:23.00   Class :character   Class :character  \n",
       " Median :1.333e+09   Median :28.00   Mode  :character   Mode  :character  \n",
       " Mean   :1.322e+09   Mean   :27.33                                        \n",
       " 3rd Qu.:1.413e+09   3rd Qu.:33.00                                        \n",
       " Max.   :1.504e+09   Max.   :72.00                                        \n",
       "  num_speaker    published_date        ratings          related_talks     \n",
       " Min.   :1.000   Min.   :1.151e+09   Length:2550        Length:2550       \n",
       " 1st Qu.:1.000   1st Qu.:1.268e+09   Class :character   Class :character  \n",
       " Median :1.000   Median :1.341e+09   Mode  :character   Mode  :character  \n",
       " Mean   :1.028   Mean   :1.344e+09                                        \n",
       " 3rd Qu.:1.000   3rd Qu.:1.423e+09                                        \n",
       " Max.   :5.000   Max.   :1.506e+09                                        \n",
       " speaker_occupation     tags              title               url           \n",
       " Length:2550        Length:2550        Length:2550        Length:2550       \n",
       " Class :character   Class :character   Class :character   Class :character  \n",
       " Mode  :character   Mode  :character   Mode  :character   Mode  :character  \n",
       "                                                                            \n",
       "                                                                            \n",
       "                                                                            \n",
       "     views         \n",
       " Min.   :   50443  \n",
       " 1st Qu.:  755793  \n",
       " Median : 1124524  \n",
       " Mean   : 1698297  \n",
       " 3rd Qu.: 1700760  \n",
       " Max.   :47227110  "
      ]
     },
     "metadata": {},
     "output_type": "display_data"
    }
   ],
   "source": [
    "summary(ted)"
   ]
  },
  {
   "cell_type": "code",
   "execution_count": 8,
   "metadata": {},
   "outputs": [
    {
     "data": {
      "text/plain": [
       "  transcript            url           \n",
       " Length:2467        Length:2467       \n",
       " Class :character   Class :character  \n",
       " Mode  :character   Mode  :character  "
      ]
     },
     "metadata": {},
     "output_type": "display_data"
    }
   ],
   "source": [
    "summary(transcript)"
   ]
  },
  {
   "cell_type": "markdown",
   "metadata": {},
   "source": [
    "查看ted和transcript的维度："
   ]
  },
  {
   "cell_type": "code",
   "execution_count": 9,
   "metadata": {},
   "outputs": [
    {
     "data": {
      "text/html": [
       "<style>\n",
       ".list-inline {list-style: none; margin:0; padding: 0}\n",
       ".list-inline>li {display: inline-block}\n",
       ".list-inline>li:not(:last-child)::after {content: \"\\00b7\"; padding: 0 .5ex}\n",
       "</style>\n",
       "<ol class=list-inline><li>2550</li><li>17</li></ol>\n"
      ],
      "text/latex": [
       "\\begin{enumerate*}\n",
       "\\item 2550\n",
       "\\item 17\n",
       "\\end{enumerate*}\n"
      ],
      "text/markdown": [
       "1. 2550\n",
       "2. 17\n",
       "\n",
       "\n"
      ],
      "text/plain": [
       "[1] 2550   17"
      ]
     },
     "metadata": {},
     "output_type": "display_data"
    }
   ],
   "source": [
    "dim(ted)"
   ]
  },
  {
   "cell_type": "code",
   "execution_count": 10,
   "metadata": {},
   "outputs": [
    {
     "data": {
      "text/html": [
       "<style>\n",
       ".list-inline {list-style: none; margin:0; padding: 0}\n",
       ".list-inline>li {display: inline-block}\n",
       ".list-inline>li:not(:last-child)::after {content: \"\\00b7\"; padding: 0 .5ex}\n",
       "</style>\n",
       "<ol class=list-inline><li>2467</li><li>2</li></ol>\n"
      ],
      "text/latex": [
       "\\begin{enumerate*}\n",
       "\\item 2467\n",
       "\\item 2\n",
       "\\end{enumerate*}\n"
      ],
      "text/markdown": [
       "1. 2467\n",
       "2. 2\n",
       "\n",
       "\n"
      ],
      "text/plain": [
       "[1] 2467    2"
      ]
     },
     "metadata": {},
     "output_type": "display_data"
    }
   ],
   "source": [
    "dim(transcript)"
   ]
  },
  {
   "cell_type": "markdown",
   "metadata": {},
   "source": [
    "将UNIX时间戳转换为日期："
   ]
  },
  {
   "cell_type": "code",
   "execution_count": 11,
   "metadata": {},
   "outputs": [],
   "source": [
    "library(anytime)"
   ]
  },
  {
   "cell_type": "code",
   "execution_count": 12,
   "metadata": {},
   "outputs": [],
   "source": [
    "ted$film_date <- anydate(ted$film_date)\n",
    "ted$published_date <- anydate(ted$published_date)"
   ]
  },
  {
   "cell_type": "markdown",
   "metadata": {},
   "source": [
    "## 探索性数据分析"
   ]
  },
  {
   "cell_type": "markdown",
   "metadata": {},
   "source": [
    "哪些演讲观看数量最多？哪些演讲观看数量最少？"
   ]
  },
  {
   "cell_type": "code",
   "execution_count": 13,
   "metadata": {},
   "outputs": [
    {
     "name": "stderr",
     "output_type": "stream",
     "text": [
      "\n",
      "Attaching package: 'dplyr'\n",
      "\n",
      "\n",
      "The following objects are masked from 'package:stats':\n",
      "\n",
      "    filter, lag\n",
      "\n",
      "\n",
      "The following objects are masked from 'package:base':\n",
      "\n",
      "    intersect, setdiff, setequal, union\n",
      "\n",
      "\n"
     ]
    }
   ],
   "source": [
    "library(dplyr)"
   ]
  },
  {
   "cell_type": "code",
   "execution_count": 14,
   "metadata": {},
   "outputs": [
    {
     "name": "stderr",
     "output_type": "stream",
     "text": [
      "-- \u001b[1mAttaching packages\u001b[22m --------------------------------------- tidyverse 1.3.0 --\n",
      "\n",
      "\u001b[32m√\u001b[39m \u001b[34mggplot2\u001b[39m 3.3.3     \u001b[32m√\u001b[39m \u001b[34mpurrr  \u001b[39m 0.3.4\n",
      "\u001b[32m√\u001b[39m \u001b[34mtibble \u001b[39m 3.0.4     \u001b[32m√\u001b[39m \u001b[34mstringr\u001b[39m 1.4.0\n",
      "\u001b[32m√\u001b[39m \u001b[34mtidyr  \u001b[39m 1.1.2     \u001b[32m√\u001b[39m \u001b[34mforcats\u001b[39m 0.5.0\n",
      "\n",
      "-- \u001b[1mConflicts\u001b[22m ------------------------------------------ tidyverse_conflicts() --\n",
      "\u001b[31mx\u001b[39m \u001b[34mdplyr\u001b[39m::\u001b[32mfilter()\u001b[39m masks \u001b[34mstats\u001b[39m::filter()\n",
      "\u001b[31mx\u001b[39m \u001b[34mdplyr\u001b[39m::\u001b[32mlag()\u001b[39m    masks \u001b[34mstats\u001b[39m::lag()\n",
      "\n"
     ]
    }
   ],
   "source": [
    "library(tidyverse)"
   ]
  },
  {
   "cell_type": "code",
   "execution_count": 15,
   "metadata": {},
   "outputs": [],
   "source": [
    "ten_talks <- arrange(ted, views)\n",
    "keeps <- c(\"title\", \"main_speaker\", \"views\", \"speaker_occupation\", \"film_date\")\n",
    "ten_talks <- subset(ten_talks, select = keeps)"
   ]
  },
  {
   "cell_type": "code",
   "execution_count": 16,
   "metadata": {},
   "outputs": [],
   "source": [
    "last_10_talks <- ten_talks[0:10, ]"
   ]
  },
  {
   "cell_type": "code",
   "execution_count": 17,
   "metadata": {},
   "outputs": [
    {
     "data": {
      "text/html": [
       "<table>\n",
       "<caption>A tibble: 10 × 5</caption>\n",
       "<thead>\n",
       "\t<tr><th scope=col>title</th><th scope=col>main_speaker</th><th scope=col>views</th><th scope=col>speaker_occupation</th><th scope=col>film_date</th></tr>\n",
       "\t<tr><th scope=col>&lt;chr&gt;</th><th scope=col>&lt;chr&gt;</th><th scope=col>&lt;dbl&gt;</th><th scope=col>&lt;chr&gt;</th><th scope=col>&lt;date&gt;</th></tr>\n",
       "</thead>\n",
       "<tbody>\n",
       "\t<tr><td>Stories of Haiti                      </td><td>Edwidge Danticat                         </td><td> 50443</td><td>Author                     </td><td>2004-10-13</td></tr>\n",
       "\t<tr><td>The debut of the British Paraorchestra</td><td>Charles Hazlewood + British Paraorchestra</td><td> 66668</td><td>Contemporary music ensemble</td><td>2011-11-22</td></tr>\n",
       "\t<tr><td>\"Kounandi\"                            </td><td>Rokia Traore                             </td><td> 82488</td><td>Singer-songwriter          </td><td>2007-06-06</td></tr>\n",
       "\t<tr><td>The early birdwatchers                </td><td>Tim Birkhead                             </td><td>112321</td><td>Ornithologist              </td><td>2009-09-18</td></tr>\n",
       "\t<tr><td>Let's bridge the digital divide!      </td><td>Aleph Molinari                           </td><td>115346</td><td>Economist, techno-activist </td><td>2011-08-06</td></tr>\n",
       "\t<tr><td>Beethoven the businessman             </td><td>José Bowen                               </td><td>117756</td><td>Professor of music         </td><td>2011-12-03</td></tr>\n",
       "\t<tr><td>Deaf in the military                  </td><td>Keith Nolan                              </td><td>120274</td><td>Teacher                    </td><td>2011-04-23</td></tr>\n",
       "\t<tr><td>Don't misrepresent Africa             </td><td>Leslie Dodson                            </td><td>121186</td><td>Reporter                   </td><td>2011-09-24</td></tr>\n",
       "\t<tr><td>Change our culture, change our world  </td><td>Nate Garvis                              </td><td>125050</td><td>Civic thought leader       </td><td>2010-10-13</td></tr>\n",
       "\t<tr><td>Beautiful artificial limbs            </td><td>Scott Summit                             </td><td>132199</td><td>Industrial Designer        </td><td>2011-11-19</td></tr>\n",
       "</tbody>\n",
       "</table>\n"
      ],
      "text/latex": [
       "A tibble: 10 × 5\n",
       "\\begin{tabular}{lllll}\n",
       " title & main\\_speaker & views & speaker\\_occupation & film\\_date\\\\\n",
       " <chr> & <chr> & <dbl> & <chr> & <date>\\\\\n",
       "\\hline\n",
       "\t Stories of Haiti                       & Edwidge Danticat                          &  50443 & Author                      & 2004-10-13\\\\\n",
       "\t The debut of the British Paraorchestra & Charles Hazlewood + British Paraorchestra &  66668 & Contemporary music ensemble & 2011-11-22\\\\\n",
       "\t \"Kounandi\"                             & Rokia Traore                              &  82488 & Singer-songwriter           & 2007-06-06\\\\\n",
       "\t The early birdwatchers                 & Tim Birkhead                              & 112321 & Ornithologist               & 2009-09-18\\\\\n",
       "\t Let's bridge the digital divide!       & Aleph Molinari                            & 115346 & Economist, techno-activist  & 2011-08-06\\\\\n",
       "\t Beethoven the businessman              & José Bowen                                & 117756 & Professor of music          & 2011-12-03\\\\\n",
       "\t Deaf in the military                   & Keith Nolan                               & 120274 & Teacher                     & 2011-04-23\\\\\n",
       "\t Don't misrepresent Africa              & Leslie Dodson                             & 121186 & Reporter                    & 2011-09-24\\\\\n",
       "\t Change our culture, change our world   & Nate Garvis                               & 125050 & Civic thought leader        & 2010-10-13\\\\\n",
       "\t Beautiful artificial limbs             & Scott Summit                              & 132199 & Industrial Designer         & 2011-11-19\\\\\n",
       "\\end{tabular}\n"
      ],
      "text/markdown": [
       "\n",
       "A tibble: 10 × 5\n",
       "\n",
       "| title &lt;chr&gt; | main_speaker &lt;chr&gt; | views &lt;dbl&gt; | speaker_occupation &lt;chr&gt; | film_date &lt;date&gt; |\n",
       "|---|---|---|---|---|\n",
       "| Stories of Haiti                       | Edwidge Danticat                          |  50443 | Author                      | 2004-10-13 |\n",
       "| The debut of the British Paraorchestra | Charles Hazlewood + British Paraorchestra |  66668 | Contemporary music ensemble | 2011-11-22 |\n",
       "| \"Kounandi\"                             | Rokia Traore                              |  82488 | Singer-songwriter           | 2007-06-06 |\n",
       "| The early birdwatchers                 | Tim Birkhead                              | 112321 | Ornithologist               | 2009-09-18 |\n",
       "| Let's bridge the digital divide!       | Aleph Molinari                            | 115346 | Economist, techno-activist  | 2011-08-06 |\n",
       "| Beethoven the businessman              | José Bowen                                | 117756 | Professor of music          | 2011-12-03 |\n",
       "| Deaf in the military                   | Keith Nolan                               | 120274 | Teacher                     | 2011-04-23 |\n",
       "| Don't misrepresent Africa              | Leslie Dodson                             | 121186 | Reporter                    | 2011-09-24 |\n",
       "| Change our culture, change our world   | Nate Garvis                               | 125050 | Civic thought leader        | 2010-10-13 |\n",
       "| Beautiful artificial limbs             | Scott Summit                              | 132199 | Industrial Designer         | 2011-11-19 |\n",
       "\n"
      ],
      "text/plain": [
       "   title                                 \n",
       "1  Stories of Haiti                      \n",
       "2  The debut of the British Paraorchestra\n",
       "3  \"Kounandi\"                            \n",
       "4  The early birdwatchers                \n",
       "5  Let's bridge the digital divide!      \n",
       "6  Beethoven the businessman             \n",
       "7  Deaf in the military                  \n",
       "8  Don't misrepresent Africa             \n",
       "9  Change our culture, change our world  \n",
       "10 Beautiful artificial limbs            \n",
       "   main_speaker                              views  speaker_occupation         \n",
       "1  Edwidge Danticat                           50443 Author                     \n",
       "2  Charles Hazlewood + British Paraorchestra  66668 Contemporary music ensemble\n",
       "3  Rokia Traore                               82488 Singer-songwriter          \n",
       "4  Tim Birkhead                              112321 Ornithologist              \n",
       "5  Aleph Molinari                            115346 Economist, techno-activist \n",
       "6  José Bowen                                117756 Professor of music         \n",
       "7  Keith Nolan                               120274 Teacher                    \n",
       "8  Leslie Dodson                             121186 Reporter                   \n",
       "9  Nate Garvis                               125050 Civic thought leader       \n",
       "10 Scott Summit                              132199 Industrial Designer        \n",
       "   film_date \n",
       "1  2004-10-13\n",
       "2  2011-11-22\n",
       "3  2007-06-06\n",
       "4  2009-09-18\n",
       "5  2011-08-06\n",
       "6  2011-12-03\n",
       "7  2011-04-23\n",
       "8  2011-09-24\n",
       "9  2010-10-13\n",
       "10 2011-11-19"
      ]
     },
     "metadata": {},
     "output_type": "display_data"
    }
   ],
   "source": [
    "last_10_talks"
   ]
  },
  {
   "cell_type": "code",
   "execution_count": 18,
   "metadata": {},
   "outputs": [],
   "source": [
    "ten_talks <- arrange(ted, desc(views))\n",
    "keeps <- c(\"title\", \"main_speaker\", \"views\", \"speaker_occupation\", \"film_date\")\n",
    "ten_talks <- subset(ten_talks, select = keeps)"
   ]
  },
  {
   "cell_type": "code",
   "execution_count": 19,
   "metadata": {},
   "outputs": [],
   "source": [
    "top_10_talks <- ten_talks[0:10, ]"
   ]
  },
  {
   "cell_type": "code",
   "execution_count": 20,
   "metadata": {},
   "outputs": [
    {
     "data": {
      "text/html": [
       "<table>\n",
       "<caption>A tibble: 10 × 5</caption>\n",
       "<thead>\n",
       "\t<tr><th scope=col>title</th><th scope=col>main_speaker</th><th scope=col>views</th><th scope=col>speaker_occupation</th><th scope=col>film_date</th></tr>\n",
       "\t<tr><th scope=col>&lt;chr&gt;</th><th scope=col>&lt;chr&gt;</th><th scope=col>&lt;dbl&gt;</th><th scope=col>&lt;chr&gt;</th><th scope=col>&lt;date&gt;</th></tr>\n",
       "</thead>\n",
       "<tbody>\n",
       "\t<tr><td>Do schools kill creativity?                      </td><td>Ken Robinson     </td><td>47227110</td><td>Author/educator                            </td><td>2006-02-25</td></tr>\n",
       "\t<tr><td>Your body language may shape who you are         </td><td>Amy Cuddy        </td><td>43155405</td><td>Social psychologist                        </td><td>2012-06-26</td></tr>\n",
       "\t<tr><td>How great leaders inspire action                 </td><td>Simon Sinek      </td><td>34309432</td><td>Leadership expert                          </td><td>2009-09-17</td></tr>\n",
       "\t<tr><td>The power of vulnerability                       </td><td>Brené Brown      </td><td>31168150</td><td>Vulnerability researcher                   </td><td>2010-06-06</td></tr>\n",
       "\t<tr><td>10 things you didn't know about orgasm           </td><td>Mary Roach       </td><td>22270883</td><td>Writer                                     </td><td>2009-02-06</td></tr>\n",
       "\t<tr><td>How to speak so that people want to listen       </td><td>Julian Treasure  </td><td>21594632</td><td>Sound consultant                           </td><td>2013-06-10</td></tr>\n",
       "\t<tr><td>My stroke of insight                             </td><td>Jill Bolte Taylor</td><td>21190883</td><td>Neuroanatomist                             </td><td>2008-02-27</td></tr>\n",
       "\t<tr><td>Why we do what we do                             </td><td>Tony Robbins     </td><td>20685401</td><td>Life coach; expert in leadership psychology</td><td>2006-02-02</td></tr>\n",
       "\t<tr><td>This is what happens when you reply to spam email</td><td>James Veitch     </td><td>20475972</td><td>Comedian and writer                        </td><td>2015-12-08</td></tr>\n",
       "\t<tr><td>Looks aren't everything. Believe me, I'm a model.</td><td>Cameron Russell  </td><td>19787465</td><td>Model                                      </td><td>2012-10-27</td></tr>\n",
       "</tbody>\n",
       "</table>\n"
      ],
      "text/latex": [
       "A tibble: 10 × 5\n",
       "\\begin{tabular}{lllll}\n",
       " title & main\\_speaker & views & speaker\\_occupation & film\\_date\\\\\n",
       " <chr> & <chr> & <dbl> & <chr> & <date>\\\\\n",
       "\\hline\n",
       "\t Do schools kill creativity?                       & Ken Robinson      & 47227110 & Author/educator                             & 2006-02-25\\\\\n",
       "\t Your body language may shape who you are          & Amy Cuddy         & 43155405 & Social psychologist                         & 2012-06-26\\\\\n",
       "\t How great leaders inspire action                  & Simon Sinek       & 34309432 & Leadership expert                           & 2009-09-17\\\\\n",
       "\t The power of vulnerability                        & Brené Brown       & 31168150 & Vulnerability researcher                    & 2010-06-06\\\\\n",
       "\t 10 things you didn't know about orgasm            & Mary Roach        & 22270883 & Writer                                      & 2009-02-06\\\\\n",
       "\t How to speak so that people want to listen        & Julian Treasure   & 21594632 & Sound consultant                            & 2013-06-10\\\\\n",
       "\t My stroke of insight                              & Jill Bolte Taylor & 21190883 & Neuroanatomist                              & 2008-02-27\\\\\n",
       "\t Why we do what we do                              & Tony Robbins      & 20685401 & Life coach; expert in leadership psychology & 2006-02-02\\\\\n",
       "\t This is what happens when you reply to spam email & James Veitch      & 20475972 & Comedian and writer                         & 2015-12-08\\\\\n",
       "\t Looks aren't everything. Believe me, I'm a model. & Cameron Russell   & 19787465 & Model                                       & 2012-10-27\\\\\n",
       "\\end{tabular}\n"
      ],
      "text/markdown": [
       "\n",
       "A tibble: 10 × 5\n",
       "\n",
       "| title &lt;chr&gt; | main_speaker &lt;chr&gt; | views &lt;dbl&gt; | speaker_occupation &lt;chr&gt; | film_date &lt;date&gt; |\n",
       "|---|---|---|---|---|\n",
       "| Do schools kill creativity?                       | Ken Robinson      | 47227110 | Author/educator                             | 2006-02-25 |\n",
       "| Your body language may shape who you are          | Amy Cuddy         | 43155405 | Social psychologist                         | 2012-06-26 |\n",
       "| How great leaders inspire action                  | Simon Sinek       | 34309432 | Leadership expert                           | 2009-09-17 |\n",
       "| The power of vulnerability                        | Brené Brown       | 31168150 | Vulnerability researcher                    | 2010-06-06 |\n",
       "| 10 things you didn't know about orgasm            | Mary Roach        | 22270883 | Writer                                      | 2009-02-06 |\n",
       "| How to speak so that people want to listen        | Julian Treasure   | 21594632 | Sound consultant                            | 2013-06-10 |\n",
       "| My stroke of insight                              | Jill Bolte Taylor | 21190883 | Neuroanatomist                              | 2008-02-27 |\n",
       "| Why we do what we do                              | Tony Robbins      | 20685401 | Life coach; expert in leadership psychology | 2006-02-02 |\n",
       "| This is what happens when you reply to spam email | James Veitch      | 20475972 | Comedian and writer                         | 2015-12-08 |\n",
       "| Looks aren't everything. Believe me, I'm a model. | Cameron Russell   | 19787465 | Model                                       | 2012-10-27 |\n",
       "\n"
      ],
      "text/plain": [
       "   title                                             main_speaker      views   \n",
       "1  Do schools kill creativity?                       Ken Robinson      47227110\n",
       "2  Your body language may shape who you are          Amy Cuddy         43155405\n",
       "3  How great leaders inspire action                  Simon Sinek       34309432\n",
       "4  The power of vulnerability                        Brené Brown       31168150\n",
       "5  10 things you didn't know about orgasm            Mary Roach        22270883\n",
       "6  How to speak so that people want to listen        Julian Treasure   21594632\n",
       "7  My stroke of insight                              Jill Bolte Taylor 21190883\n",
       "8  Why we do what we do                              Tony Robbins      20685401\n",
       "9  This is what happens when you reply to spam email James Veitch      20475972\n",
       "10 Looks aren't everything. Believe me, I'm a model. Cameron Russell   19787465\n",
       "   speaker_occupation                          film_date \n",
       "1  Author/educator                             2006-02-25\n",
       "2  Social psychologist                         2012-06-26\n",
       "3  Leadership expert                           2009-09-17\n",
       "4  Vulnerability researcher                    2010-06-06\n",
       "5  Writer                                      2009-02-06\n",
       "6  Sound consultant                            2013-06-10\n",
       "7  Neuroanatomist                              2008-02-27\n",
       "8  Life coach; expert in leadership psychology 2006-02-02\n",
       "9  Comedian and writer                         2015-12-08\n",
       "10 Model                                       2012-10-27"
      ]
     },
     "metadata": {},
     "output_type": "display_data"
    }
   ],
   "source": [
    "top_10_talks"
   ]
  },
  {
   "cell_type": "code",
   "execution_count": 21,
   "metadata": {},
   "outputs": [
    {
     "name": "stderr",
     "output_type": "stream",
     "text": [
      "\n",
      "Attaching package: 'gridExtra'\n",
      "\n",
      "\n",
      "The following object is masked from 'package:dplyr':\n",
      "\n",
      "    combine\n",
      "\n",
      "\n"
     ]
    }
   ],
   "source": [
    "library(ggplot2)\n",
    "library(gridExtra)"
   ]
  },
  {
   "cell_type": "code",
   "execution_count": 22,
   "metadata": {},
   "outputs": [],
   "source": [
    "options(repr.plot.width = 15, repr.plot.height = 5)\n",
    "tilt_theme <- theme(axis.text.x=element_text(angle=45, hjust=1))"
   ]
  },
  {
   "cell_type": "code",
   "execution_count": 23,
   "metadata": {},
   "outputs": [
    {
     "data": {
      "image/png": "[encoded data removed]",
      "text/plain": [
       "plot without title"
      ]
     },
     "metadata": {
      "image/png": {
       "height": 300,
       "width": 900
      }
     },
     "output_type": "display_data"
    }
   ],
   "source": [
    "p1 <- ggplot(data = last_10_talks, \n",
    "             mapping = aes(x = main_speaker, \n",
    "                           y = views, fill = views)) +\n",
    "    geom_bar(stat = \"identity\") + \n",
    "    geom_text(mapping = aes(label = views), vjust = 1.6, \n",
    "              color = \"white\", size = 3) +\n",
    "    ggtitle(\"10 talks with least views\") + \n",
    "    tilt_theme\n",
    "\n",
    "p2 <- ggplot(data = top_10_talks, \n",
    "             mapping = aes(x = main_speaker, \n",
    "                           y = views, fill = views)) +\n",
    "    geom_bar(stat = \"identity\") + \n",
    "    geom_text(mapping = aes(label = views), vjust = 1.6, \n",
    "              color = \"white\", size = 3) +\n",
    "    ggtitle(\"10 talks with most views\") +\n",
    "    tilt_theme\n",
    "\n",
    "grid.arrange(p1, p2, ncol = 2)"
   ]
  },
  {
   "cell_type": "code",
   "execution_count": 24,
   "metadata": {},
   "outputs": [],
   "source": [
    "ted_small <- filter(ted, views < 0.4e7)"
   ]
  },
  {
   "cell_type": "code",
   "execution_count": 25,
   "metadata": {},
   "outputs": [
    {
     "data": {
      "text/html": [
       "<style>\n",
       ".list-inline {list-style: none; margin:0; padding: 0}\n",
       ".list-inline>li {display: inline-block}\n",
       ".list-inline>li:not(:last-child)::after {content: \"\\00b7\"; padding: 0 .5ex}\n",
       "</style>\n",
       "<ol class=list-inline><li>2383</li><li>17</li></ol>\n"
      ],
      "text/latex": [
       "\\begin{enumerate*}\n",
       "\\item 2383\n",
       "\\item 17\n",
       "\\end{enumerate*}\n"
      ],
      "text/markdown": [
       "1. 2383\n",
       "2. 17\n",
       "\n",
       "\n"
      ],
      "text/plain": [
       "[1] 2383   17"
      ]
     },
     "metadata": {},
     "output_type": "display_data"
    }
   ],
   "source": [
    "dim(ted_small)"
   ]
  },
  {
   "cell_type": "code",
   "execution_count": 26,
   "metadata": {},
   "outputs": [],
   "source": [
    "p3 <- ggplot(data = ted, mapping = aes(x = views)) +\n",
    "    geom_histogram(mapping = aes(y = ..density..),\n",
    "                  color = \"black\",fill = \"white\", bins = 30) +\n",
    "    geom_density(alpha = .2, fill = \"#FF6666\") + \n",
    "    ggtitle(\"Distribution of Views\")"
   ]
  },
  {
   "cell_type": "code",
   "execution_count": 27,
   "metadata": {},
   "outputs": [
    {
     "data": {
      "image/png": "[encoded data removed]",
      "text/plain": [
       "plot without title"
      ]
     },
     "metadata": {
      "image/png": {
       "height": 300,
       "width": 900
      }
     },
     "output_type": "display_data"
    }
   ],
   "source": [
    "p3"
   ]
  },
  {
   "cell_type": "code",
   "execution_count": 28,
   "metadata": {},
   "outputs": [],
   "source": [
    "p4 <- ggplot(data = ted_small, mapping = aes(x = views)) +\n",
    "    geom_histogram(mapping = aes(y = ..density..), color = \"black\", \n",
    "                  fill = \"white\", bins = 30) + \n",
    "    geom_density(alpha = .2, fill = \"#FF6666\") + \n",
    "    ggtitle(\"Distribution of Views\")"
   ]
  },
  {
   "cell_type": "code",
   "execution_count": 29,
   "metadata": {},
   "outputs": [
    {
     "data": {
      "image/png": "[encoded data removed]",
      "text/plain": [
       "plot without title"
      ]
     },
     "metadata": {
      "image/png": {
       "height": 300,
       "width": 900
      }
     },
     "output_type": "display_data"
    }
   ],
   "source": [
    "p4"
   ]
  },
  {
   "cell_type": "code",
   "execution_count": 30,
   "metadata": {},
   "outputs": [
    {
     "name": "stderr",
     "output_type": "stream",
     "text": [
      "Loading required package: lattice\n",
      "\n",
      "Loading required package: survival\n",
      "\n",
      "Loading required package: Formula\n",
      "\n",
      "\n",
      "Attaching package: 'Hmisc'\n",
      "\n",
      "\n",
      "The following objects are masked from 'package:dplyr':\n",
      "\n",
      "    src, summarize\n",
      "\n",
      "\n",
      "The following objects are masked from 'package:base':\n",
      "\n",
      "    format.pval, units\n",
      "\n",
      "\n"
     ]
    }
   ],
   "source": [
    "library(Hmisc)"
   ]
  },
  {
   "cell_type": "code",
   "execution_count": 31,
   "metadata": {},
   "outputs": [
    {
     "data": {
      "text/plain": [
       "ted$views \n",
       "       n  missing distinct     Info     Mean      Gmd      .05      .10 \n",
       "    2550        0     2550        1  1698297  1562903   361142   484265 \n",
       "     .25      .50      .75      .90      .95 \n",
       "  755793  1124524  1700760  3051913  4557041 \n",
       "\n",
       "lowest :    50443    66668    82488   112321   115346\n",
       "highest: 22270883 31168150 34309432 43155405 47227110"
      ]
     },
     "metadata": {},
     "output_type": "display_data"
    }
   ],
   "source": [
    "describe(ted$views)"
   ]
  },
  {
   "cell_type": "markdown",
   "metadata": {},
   "source": [
    "### 评论数"
   ]
  },
  {
   "cell_type": "code",
   "execution_count": 32,
   "metadata": {},
   "outputs": [
    {
     "data": {
      "text/plain": [
       "ted$comments \n",
       "       n  missing distinct     Info     Mean      Gmd      .05      .10 \n",
       "    2550        0      559        1    191.6    197.6     24.0     35.9 \n",
       "     .25      .50      .75      .90      .95 \n",
       "    63.0    118.0    221.8    393.1    586.1 \n",
       "\n",
       "lowest :    2    3    5    6    7, highest: 2673 2877 3356 4553 6404"
      ]
     },
     "metadata": {},
     "output_type": "display_data"
    }
   ],
   "source": [
    "describe(ted$comments)"
   ]
  },
  {
   "cell_type": "code",
   "execution_count": 33,
   "metadata": {},
   "outputs": [
    {
     "data": {
      "text/html": [
       "282.315223257284"
      ],
      "text/latex": [
       "282.315223257284"
      ],
      "text/markdown": [
       "282.315223257284"
      ],
      "text/plain": [
       "[1] 282.3152"
      ]
     },
     "metadata": {},
     "output_type": "display_data"
    }
   ],
   "source": [
    "sd(ted$comments)"
   ]
  },
  {
   "cell_type": "code",
   "execution_count": 34,
   "metadata": {},
   "outputs": [],
   "source": [
    "ted_small <- filter(ted, comments < 500)"
   ]
  },
  {
   "cell_type": "code",
   "execution_count": 35,
   "metadata": {},
   "outputs": [
    {
     "data": {
      "image/png": "[encoded data removed]",
      "text/plain": [
       "plot without title"
      ]
     },
     "metadata": {
      "image/png": {
       "height": 300,
       "width": 900
      }
     },
     "output_type": "display_data"
    }
   ],
   "source": [
    "p5 <- ggplot(ted, aes(x=comments)) + \n",
    " geom_histogram(aes(y=..density..), colour=\"black\", fill=\"white\", bins = 30)+\n",
    " geom_density(alpha=.2, fill=\"#FF6666\") +\n",
    " ggtitle(\"Distribution of comments\")\n",
    "p5"
   ]
  },
  {
   "cell_type": "code",
   "execution_count": 36,
   "metadata": {},
   "outputs": [
    {
     "data": {
      "image/png": "[encoded data removed]",
      "text/plain": [
       "plot without title"
      ]
     },
     "metadata": {
      "image/png": {
       "height": 300,
       "width": 900
      }
     },
     "output_type": "display_data"
    }
   ],
   "source": [
    "p6 <- ggplot(ted_small, aes(x=comments)) +\n",
    "  geom_histogram(aes(y=..density..), colour=\"black\", fill=\"white\", bins = 30)+\n",
    "  geom_density(alpha=.2, fill=\"#FF6666\") +\n",
    "  ggtitle(\"Distribution of comments\")\n",
    "p6"
   ]
  },
  {
   "cell_type": "markdown",
   "metadata": {},
   "source": [
    "观看数和评论数的关系："
   ]
  },
  {
   "cell_type": "code",
   "execution_count": 37,
   "metadata": {},
   "outputs": [
    {
     "data": {
      "image/png": "[encoded data removed]",
      "text/plain": [
       "plot without title"
      ]
     },
     "metadata": {
      "image/png": {
       "height": 240,
       "width": 300
      }
     },
     "output_type": "display_data"
    }
   ],
   "source": [
    "options(repr.plot.width = 5, repr.plot.height = 4)\n",
    "scatter1 <- qplot(views, comments, data = ted) + \n",
    "    scale_x_continuous(limits = c(min(ted$views), max(ted$views))) +\n",
    "    scale_y_continuous(limits = c(min(ted$comments), max(ted$comments))) +\n",
    "    geom_rug(col = rgb(.5, 0, 0, alpha = .2)) + \n",
    "    ggtitle(\"Correlation between Views and Comments\")\n",
    "scatter1"
   ]
  },
  {
   "cell_type": "code",
   "execution_count": 38,
   "metadata": {},
   "outputs": [
    {
     "data": {
      "text/html": [
       "0.530938700621368"
      ],
      "text/latex": [
       "0.530938700621368"
      ],
      "text/markdown": [
       "0.530938700621368"
      ],
      "text/plain": [
       "[1] 0.5309387"
      ]
     },
     "metadata": {},
     "output_type": "display_data"
    },
    {
     "data": {
      "text/html": [
       "<table>\n",
       "<caption>A matrix: 2 × 2 of type dbl</caption>\n",
       "<thead>\n",
       "\t<tr><th></th><th scope=col>views</th><th scope=col>comments</th></tr>\n",
       "</thead>\n",
       "<tbody>\n",
       "\t<tr><th scope=row>views</th><td>1.0000000</td><td>0.5309387</td></tr>\n",
       "\t<tr><th scope=row>comments</th><td>0.5309387</td><td>1.0000000</td></tr>\n",
       "</tbody>\n",
       "</table>\n"
      ],
      "text/latex": [
       "A matrix: 2 × 2 of type dbl\n",
       "\\begin{tabular}{r|ll}\n",
       "  & views & comments\\\\\n",
       "\\hline\n",
       "\tviews & 1.0000000 & 0.5309387\\\\\n",
       "\tcomments & 0.5309387 & 1.0000000\\\\\n",
       "\\end{tabular}\n"
      ],
      "text/markdown": [
       "\n",
       "A matrix: 2 × 2 of type dbl\n",
       "\n",
       "| <!--/--> | views | comments |\n",
       "|---|---|---|\n",
       "| views | 1.0000000 | 0.5309387 |\n",
       "| comments | 0.5309387 | 1.0000000 |\n",
       "\n"
      ],
      "text/plain": [
       "         views     comments \n",
       "views    1.0000000 0.5309387\n",
       "comments 0.5309387 1.0000000"
      ]
     },
     "metadata": {},
     "output_type": "display_data"
    }
   ],
   "source": [
    "vc_cor <- cor(ted$views, ted$comments)\n",
    "vc_cor\n",
    "cor(ted[, c(\"views\", \"comments\")])"
   ]
  },
  {
   "cell_type": "code",
   "execution_count": 39,
   "metadata": {},
   "outputs": [],
   "source": [
    "ten_talks <- arrange(ted, comments)\n",
    "keeps <- c(\"title\", \"main_speaker\", \"views\", \"comments\")\n",
    "ten_talks <- subset(ten_talks, select = keeps)"
   ]
  },
  {
   "cell_type": "code",
   "execution_count": 40,
   "metadata": {},
   "outputs": [
    {
     "data": {
      "text/html": [
       "<table>\n",
       "<caption>A tibble: 10 × 4</caption>\n",
       "<thead>\n",
       "\t<tr><th scope=col>title</th><th scope=col>main_speaker</th><th scope=col>views</th><th scope=col>comments</th></tr>\n",
       "\t<tr><th scope=col>&lt;chr&gt;</th><th scope=col>&lt;chr&gt;</th><th scope=col>&lt;dbl&gt;</th><th scope=col>&lt;dbl&gt;</th></tr>\n",
       "</thead>\n",
       "<tbody>\n",
       "\t<tr><td>What it feels like to see Earth from space          </td><td>Benjamin Grant                       </td><td> 646174</td><td>2</td></tr>\n",
       "\t<tr><td><span style=white-space:pre-wrap>The stories behind The New Yorker's iconic covers   </span></td><td><span style=white-space:pre-wrap>Fran&lt;U+00E7&gt;oise Mouly               </span></td><td> 839040</td><td>3</td></tr>\n",
       "\t<tr><td>How your pictures can help reclaim lost history     </td><td>Chance Coughenour                    </td><td> 539207</td><td>3</td></tr>\n",
       "\t<tr><td>Living sculptures that stand for history's truths   </td><td>Sethembile Msezane                   </td><td> 542088</td><td>3</td></tr>\n",
       "\t<tr><td>\"Turceasca\"                                         </td><td>Silk Road Ensemble                   </td><td> 640734</td><td>5</td></tr>\n",
       "\t<tr><td>\"St. James Infirmary Blues\"                         </td><td>Silk Road Ensemble + Rhiannon Giddens</td><td> 820295</td><td>6</td></tr>\n",
       "\t<tr><td>Smelfies, and other experiments in synthetic biology</td><td>Ani Liu                              </td><td> 760537</td><td>6</td></tr>\n",
       "\t<tr><td>A dance to honor Mother Earth                       </td><td>Jon Boogz and Lil Buck               </td><td> 182975</td><td>6</td></tr>\n",
       "\t<tr><td>The most Martian place on Earth                     </td><td>Armando Azua-Bustos                  </td><td> 417470</td><td>6</td></tr>\n",
       "\t<tr><td>A simple new blood test that can catch cancer early </td><td>Jimmy Lin                            </td><td>1005506</td><td>7</td></tr>\n",
       "</tbody>\n",
       "</table>\n"
      ],
      "text/latex": [
       "A tibble: 10 × 4\n",
       "\\begin{tabular}{llll}\n",
       " title & main\\_speaker & views & comments\\\\\n",
       " <chr> & <chr> & <dbl> & <dbl>\\\\\n",
       "\\hline\n",
       "\t What it feels like to see Earth from space           & Benjamin Grant                        &  646174 & 2\\\\\n",
       "\t The stories behind The New Yorker's iconic covers    & Fran<U+00E7>oise Mouly                &  839040 & 3\\\\\n",
       "\t How your pictures can help reclaim lost history      & Chance Coughenour                     &  539207 & 3\\\\\n",
       "\t Living sculptures that stand for history's truths    & Sethembile Msezane                    &  542088 & 3\\\\\n",
       "\t \"Turceasca\"                                          & Silk Road Ensemble                    &  640734 & 5\\\\\n",
       "\t \"St. James Infirmary Blues\"                          & Silk Road Ensemble + Rhiannon Giddens &  820295 & 6\\\\\n",
       "\t Smelfies, and other experiments in synthetic biology & Ani Liu                               &  760537 & 6\\\\\n",
       "\t A dance to honor Mother Earth                        & Jon Boogz and Lil Buck                &  182975 & 6\\\\\n",
       "\t The most Martian place on Earth                      & Armando Azua-Bustos                   &  417470 & 6\\\\\n",
       "\t A simple new blood test that can catch cancer early  & Jimmy Lin                             & 1005506 & 7\\\\\n",
       "\\end{tabular}\n"
      ],
      "text/markdown": [
       "\n",
       "A tibble: 10 × 4\n",
       "\n",
       "| title &lt;chr&gt; | main_speaker &lt;chr&gt; | views &lt;dbl&gt; | comments &lt;dbl&gt; |\n",
       "|---|---|---|---|\n",
       "| What it feels like to see Earth from space           | Benjamin Grant                        |  646174 | 2 |\n",
       "| The stories behind The New Yorker's iconic covers    | Fran&lt;U+00E7&gt;oise Mouly                |  839040 | 3 |\n",
       "| How your pictures can help reclaim lost history      | Chance Coughenour                     |  539207 | 3 |\n",
       "| Living sculptures that stand for history's truths    | Sethembile Msezane                    |  542088 | 3 |\n",
       "| \"Turceasca\"                                          | Silk Road Ensemble                    |  640734 | 5 |\n",
       "| \"St. James Infirmary Blues\"                          | Silk Road Ensemble + Rhiannon Giddens |  820295 | 6 |\n",
       "| Smelfies, and other experiments in synthetic biology | Ani Liu                               |  760537 | 6 |\n",
       "| A dance to honor Mother Earth                        | Jon Boogz and Lil Buck                |  182975 | 6 |\n",
       "| The most Martian place on Earth                      | Armando Azua-Bustos                   |  417470 | 6 |\n",
       "| A simple new blood test that can catch cancer early  | Jimmy Lin                             | 1005506 | 7 |\n",
       "\n"
      ],
      "text/plain": [
       "   title                                               \n",
       "1  What it feels like to see Earth from space          \n",
       "2  The stories behind The New Yorker's iconic covers   \n",
       "3  How your pictures can help reclaim lost history     \n",
       "4  Living sculptures that stand for history's truths   \n",
       "5  \"Turceasca\"                                         \n",
       "6  \"St. James Infirmary Blues\"                         \n",
       "7  Smelfies, and other experiments in synthetic biology\n",
       "8  A dance to honor Mother Earth                       \n",
       "9  The most Martian place on Earth                     \n",
       "10 A simple new blood test that can catch cancer early \n",
       "   main_speaker                          views   comments\n",
       "1  Benjamin Grant                         646174 2       \n",
       "2  Fran<U+00E7>oise Mouly                 839040 3       \n",
       "3  Chance Coughenour                      539207 3       \n",
       "4  Sethembile Msezane                     542088 3       \n",
       "5  Silk Road Ensemble                     640734 5       \n",
       "6  Silk Road Ensemble + Rhiannon Giddens  820295 6       \n",
       "7  Ani Liu                                760537 6       \n",
       "8  Jon Boogz and Lil Buck                 182975 6       \n",
       "9  Armando Azua-Bustos                    417470 6       \n",
       "10 Jimmy Lin                             1005506 7       "
      ]
     },
     "metadata": {},
     "output_type": "display_data"
    }
   ],
   "source": [
    "last_10_talks <- ten_talks[0:10, ]\n",
    "last_10_talks"
   ]
  },
  {
   "cell_type": "code",
   "execution_count": 41,
   "metadata": {},
   "outputs": [
    {
     "data": {
      "text/html": [
       "<table>\n",
       "<caption>A tibble: 10 × 4</caption>\n",
       "<thead>\n",
       "\t<tr><th scope=col>title</th><th scope=col>main_speaker</th><th scope=col>views</th><th scope=col>comments</th></tr>\n",
       "\t<tr><th scope=col>&lt;chr&gt;</th><th scope=col>&lt;chr&gt;</th><th scope=col>&lt;dbl&gt;</th><th scope=col>&lt;dbl&gt;</th></tr>\n",
       "</thead>\n",
       "<tbody>\n",
       "\t<tr><td>Militant atheism                        </td><td>Richard Dawkins  </td><td> 4374792</td><td>6404</td></tr>\n",
       "\t<tr><td>Do schools kill creativity?             </td><td>Ken Robinson     </td><td>47227110</td><td>4553</td></tr>\n",
       "\t<tr><td>Science can answer moral questions      </td><td>Sam Harris       </td><td> 3433437</td><td>3356</td></tr>\n",
       "\t<tr><td>My stroke of insight                    </td><td>Jill Bolte Taylor</td><td>21190883</td><td>2877</td></tr>\n",
       "\t<tr><td>How do you explain consciousness?       </td><td>David Chalmers   </td><td> 2162764</td><td>2673</td></tr>\n",
       "\t<tr><td>Taking imagination seriously            </td><td>Janet Echelman   </td><td> 1832930</td><td>2492</td></tr>\n",
       "\t<tr><td>On reading the Koran                    </td><td>Lesley Hazleton  </td><td> 1847256</td><td>2374</td></tr>\n",
       "\t<tr><td>Your body language may shape who you are</td><td>Amy Cuddy        </td><td>43155405</td><td>2290</td></tr>\n",
       "\t<tr><td>The danger of science denial            </td><td>Michael Specter  </td><td> 1838628</td><td>2272</td></tr>\n",
       "\t<tr><td>How great leaders inspire action        </td><td>Simon Sinek      </td><td>34309432</td><td>1930</td></tr>\n",
       "</tbody>\n",
       "</table>\n"
      ],
      "text/latex": [
       "A tibble: 10 × 4\n",
       "\\begin{tabular}{llll}\n",
       " title & main\\_speaker & views & comments\\\\\n",
       " <chr> & <chr> & <dbl> & <dbl>\\\\\n",
       "\\hline\n",
       "\t Militant atheism                         & Richard Dawkins   &  4374792 & 6404\\\\\n",
       "\t Do schools kill creativity?              & Ken Robinson      & 47227110 & 4553\\\\\n",
       "\t Science can answer moral questions       & Sam Harris        &  3433437 & 3356\\\\\n",
       "\t My stroke of insight                     & Jill Bolte Taylor & 21190883 & 2877\\\\\n",
       "\t How do you explain consciousness?        & David Chalmers    &  2162764 & 2673\\\\\n",
       "\t Taking imagination seriously             & Janet Echelman    &  1832930 & 2492\\\\\n",
       "\t On reading the Koran                     & Lesley Hazleton   &  1847256 & 2374\\\\\n",
       "\t Your body language may shape who you are & Amy Cuddy         & 43155405 & 2290\\\\\n",
       "\t The danger of science denial             & Michael Specter   &  1838628 & 2272\\\\\n",
       "\t How great leaders inspire action         & Simon Sinek       & 34309432 & 1930\\\\\n",
       "\\end{tabular}\n"
      ],
      "text/markdown": [
       "\n",
       "A tibble: 10 × 4\n",
       "\n",
       "| title &lt;chr&gt; | main_speaker &lt;chr&gt; | views &lt;dbl&gt; | comments &lt;dbl&gt; |\n",
       "|---|---|---|---|\n",
       "| Militant atheism                         | Richard Dawkins   |  4374792 | 6404 |\n",
       "| Do schools kill creativity?              | Ken Robinson      | 47227110 | 4553 |\n",
       "| Science can answer moral questions       | Sam Harris        |  3433437 | 3356 |\n",
       "| My stroke of insight                     | Jill Bolte Taylor | 21190883 | 2877 |\n",
       "| How do you explain consciousness?        | David Chalmers    |  2162764 | 2673 |\n",
       "| Taking imagination seriously             | Janet Echelman    |  1832930 | 2492 |\n",
       "| On reading the Koran                     | Lesley Hazleton   |  1847256 | 2374 |\n",
       "| Your body language may shape who you are | Amy Cuddy         | 43155405 | 2290 |\n",
       "| The danger of science denial             | Michael Specter   |  1838628 | 2272 |\n",
       "| How great leaders inspire action         | Simon Sinek       | 34309432 | 1930 |\n",
       "\n"
      ],
      "text/plain": [
       "   title                                    main_speaker      views    comments\n",
       "1  Militant atheism                         Richard Dawkins    4374792 6404    \n",
       "2  Do schools kill creativity?              Ken Robinson      47227110 4553    \n",
       "3  Science can answer moral questions       Sam Harris         3433437 3356    \n",
       "4  My stroke of insight                     Jill Bolte Taylor 21190883 2877    \n",
       "5  How do you explain consciousness?        David Chalmers     2162764 2673    \n",
       "6  Taking imagination seriously             Janet Echelman     1832930 2492    \n",
       "7  On reading the Koran                     Lesley Hazleton    1847256 2374    \n",
       "8  Your body language may shape who you are Amy Cuddy         43155405 2290    \n",
       "9  The danger of science denial             Michael Specter    1838628 2272    \n",
       "10 How great leaders inspire action         Simon Sinek       34309432 1930    "
      ]
     },
     "metadata": {},
     "output_type": "display_data"
    }
   ],
   "source": [
    "ten_talks <- arrange(ted, desc(comments))\n",
    "ten_talks <- subset(ten_talks, select = keeps)\n",
    "top_10_talks <- ten_talks[0:10, ]\n",
    "top_10_talks"
   ]
  },
  {
   "cell_type": "code",
   "execution_count": 42,
   "metadata": {},
   "outputs": [
    {
     "data": {
      "image/png": "[encoded data removed]",
      "text/plain": [
       "plot without title"
      ]
     },
     "metadata": {
      "image/png": {
       "height": 300,
       "width": 900
      }
     },
     "output_type": "display_data"
    }
   ],
   "source": [
    "options(repr.plot.width = 15, repr.plot.height = 5)\n",
    "tilt_theme <- theme(axis.text.x = element_text(angle = 45, hjust = 1))\n",
    "p7 <- ggplot(data = last_10_talks, mapping = aes(main_speaker, comments, fill = comments)) +\n",
    "    geom_bar(stat = \"identity\") + \n",
    "    geom_text(mapping = aes(label = comments), vjust = 1.6, \n",
    "             color = \"white\", size = 3) + \n",
    "    ggtitle(\"Talks with least number of comments\") + \n",
    "    tilt_theme\n",
    "p8 <- ggplot(data = top_10_talks, mapping = aes(main_speaker, comments, fill = comments)) +\n",
    "    geom_bar(position = \"dodge\", stat = \"identity\") + \n",
    "    geom_text(mapping = aes(label = comments), vjust = 1.6, color = \"white\", \n",
    "             size = 3) +\n",
    "    ggtitle(\"Talks with most number of comments\") +\n",
    "    tilt_theme\n",
    "\n",
    "grid.arrange(p7, p8, ncol = 2)"
   ]
  },
  {
   "cell_type": "code",
   "execution_count": 43,
   "metadata": {},
   "outputs": [
    {
     "data": {
      "text/html": [
       "<table>\n",
       "<caption>A tibble: 10 × 5</caption>\n",
       "<thead>\n",
       "\t<tr><th scope=col>title</th><th scope=col>main_speaker</th><th scope=col>views</th><th scope=col>comments</th><th scope=col>dis_quo</th></tr>\n",
       "\t<tr><th scope=col>&lt;chr&gt;</th><th scope=col>&lt;chr&gt;</th><th scope=col>&lt;dbl&gt;</th><th scope=col>&lt;dbl&gt;</th><th scope=col>&lt;dbl&gt;</th></tr>\n",
       "</thead>\n",
       "<tbody>\n",
       "\t<tr><td>What it feels like to see Earth from space          </td><td>Benjamin Grant                       </td><td>  646174</td><td>  2</td><td>3.095142e-06</td></tr>\n",
       "\t<tr><td><span style=white-space:pre-wrap>The stories behind The New Yorker's iconic covers   </span></td><td><span style=white-space:pre-wrap>Fran&lt;U+00E7&gt;oise Mouly               </span></td><td><span style=white-space:pre-wrap>  839040</span></td><td><span style=white-space:pre-wrap>  3</span></td><td>3.575515e-06</td></tr>\n",
       "\t<tr><td>Living sculptures that stand for history's truths   </td><td>Sethembile Msezane                   </td><td>  542088</td><td>  3</td><td>5.534157e-06</td></tr>\n",
       "\t<tr><td>How your pictures can help reclaim lost history     </td><td>Chance Coughenour                    </td><td>  539207</td><td>  3</td><td>5.563726e-06</td></tr>\n",
       "\t<tr><td>A simple new blood test that can catch cancer early </td><td>Jimmy Lin                            </td><td> 1005506</td><td>  7</td><td>6.961669e-06</td></tr>\n",
       "\t<tr><td>\"St. James Infirmary Blues\"                         </td><td>Silk Road Ensemble + Rhiannon Giddens</td><td>  820295</td><td>  6</td><td>7.314442e-06</td></tr>\n",
       "\t<tr><td>This is what happens when you reply to spam email   </td><td>James Veitch                         </td><td>20475972</td><td>150</td><td>7.325660e-06</td></tr>\n",
       "\t<tr><td>\"Turceasca\"                                         </td><td>Silk Road Ensemble                   </td><td>  640734</td><td>  5</td><td>7.803550e-06</td></tr>\n",
       "\t<tr><td>Smelfies, and other experiments in synthetic biology</td><td>Ani Liu                              </td><td>  760537</td><td>  6</td><td>7.889163e-06</td></tr>\n",
       "\t<tr><td>The agony of trying to unsubscribe                  </td><td>James Veitch                         </td><td> 5711833</td><td> 46</td><td>8.053457e-06</td></tr>\n",
       "</tbody>\n",
       "</table>\n"
      ],
      "text/latex": [
       "A tibble: 10 × 5\n",
       "\\begin{tabular}{lllll}\n",
       " title & main\\_speaker & views & comments & dis\\_quo\\\\\n",
       " <chr> & <chr> & <dbl> & <dbl> & <dbl>\\\\\n",
       "\\hline\n",
       "\t What it feels like to see Earth from space           & Benjamin Grant                        &   646174 &   2 & 3.095142e-06\\\\\n",
       "\t The stories behind The New Yorker's iconic covers    & Fran<U+00E7>oise Mouly                &   839040 &   3 & 3.575515e-06\\\\\n",
       "\t Living sculptures that stand for history's truths    & Sethembile Msezane                    &   542088 &   3 & 5.534157e-06\\\\\n",
       "\t How your pictures can help reclaim lost history      & Chance Coughenour                     &   539207 &   3 & 5.563726e-06\\\\\n",
       "\t A simple new blood test that can catch cancer early  & Jimmy Lin                             &  1005506 &   7 & 6.961669e-06\\\\\n",
       "\t \"St. James Infirmary Blues\"                          & Silk Road Ensemble + Rhiannon Giddens &   820295 &   6 & 7.314442e-06\\\\\n",
       "\t This is what happens when you reply to spam email    & James Veitch                          & 20475972 & 150 & 7.325660e-06\\\\\n",
       "\t \"Turceasca\"                                          & Silk Road Ensemble                    &   640734 &   5 & 7.803550e-06\\\\\n",
       "\t Smelfies, and other experiments in synthetic biology & Ani Liu                               &   760537 &   6 & 7.889163e-06\\\\\n",
       "\t The agony of trying to unsubscribe                   & James Veitch                          &  5711833 &  46 & 8.053457e-06\\\\\n",
       "\\end{tabular}\n"
      ],
      "text/markdown": [
       "\n",
       "A tibble: 10 × 5\n",
       "\n",
       "| title &lt;chr&gt; | main_speaker &lt;chr&gt; | views &lt;dbl&gt; | comments &lt;dbl&gt; | dis_quo &lt;dbl&gt; |\n",
       "|---|---|---|---|---|\n",
       "| What it feels like to see Earth from space           | Benjamin Grant                        |   646174 |   2 | 3.095142e-06 |\n",
       "| The stories behind The New Yorker's iconic covers    | Fran&lt;U+00E7&gt;oise Mouly                |   839040 |   3 | 3.575515e-06 |\n",
       "| Living sculptures that stand for history's truths    | Sethembile Msezane                    |   542088 |   3 | 5.534157e-06 |\n",
       "| How your pictures can help reclaim lost history      | Chance Coughenour                     |   539207 |   3 | 5.563726e-06 |\n",
       "| A simple new blood test that can catch cancer early  | Jimmy Lin                             |  1005506 |   7 | 6.961669e-06 |\n",
       "| \"St. James Infirmary Blues\"                          | Silk Road Ensemble + Rhiannon Giddens |   820295 |   6 | 7.314442e-06 |\n",
       "| This is what happens when you reply to spam email    | James Veitch                          | 20475972 | 150 | 7.325660e-06 |\n",
       "| \"Turceasca\"                                          | Silk Road Ensemble                    |   640734 |   5 | 7.803550e-06 |\n",
       "| Smelfies, and other experiments in synthetic biology | Ani Liu                               |   760537 |   6 | 7.889163e-06 |\n",
       "| The agony of trying to unsubscribe                   | James Veitch                          |  5711833 |  46 | 8.053457e-06 |\n",
       "\n"
      ],
      "text/plain": [
       "   title                                               \n",
       "1  What it feels like to see Earth from space          \n",
       "2  The stories behind The New Yorker's iconic covers   \n",
       "3  Living sculptures that stand for history's truths   \n",
       "4  How your pictures can help reclaim lost history     \n",
       "5  A simple new blood test that can catch cancer early \n",
       "6  \"St. James Infirmary Blues\"                         \n",
       "7  This is what happens when you reply to spam email   \n",
       "8  \"Turceasca\"                                         \n",
       "9  Smelfies, and other experiments in synthetic biology\n",
       "10 The agony of trying to unsubscribe                  \n",
       "   main_speaker                          views    comments dis_quo     \n",
       "1  Benjamin Grant                          646174   2      3.095142e-06\n",
       "2  Fran<U+00E7>oise Mouly                  839040   3      3.575515e-06\n",
       "3  Sethembile Msezane                      542088   3      5.534157e-06\n",
       "4  Chance Coughenour                       539207   3      5.563726e-06\n",
       "5  Jimmy Lin                              1005506   7      6.961669e-06\n",
       "6  Silk Road Ensemble + Rhiannon Giddens   820295   6      7.314442e-06\n",
       "7  James Veitch                          20475972 150      7.325660e-06\n",
       "8  Silk Road Ensemble                      640734   5      7.803550e-06\n",
       "9  Ani Liu                                 760537   6      7.889163e-06\n",
       "10 James Veitch                           5711833  46      8.053457e-06"
      ]
     },
     "metadata": {},
     "output_type": "display_data"
    }
   ],
   "source": [
    "ted$dis_quo <- ted$comments / ted$views\n",
    "ten_talks <- arrange(ted, dis_quo)\n",
    "keeps <- c(\"title\", \"main_speaker\", \"views\", \"comments\", \"dis_quo\")\n",
    "ten_talks <- subset(ten_talks, select = keeps)\n",
    "last_10_talks <- ten_talks[0:10, ]\n",
    "last_10_talks"
   ]
  },
  {
   "cell_type": "code",
   "execution_count": 44,
   "metadata": {},
   "outputs": [
    {
     "data": {
      "text/html": [
       "<table>\n",
       "<caption>A tibble: 10 × 5</caption>\n",
       "<thead>\n",
       "\t<tr><th scope=col>title</th><th scope=col>main_speaker</th><th scope=col>views</th><th scope=col>comments</th><th scope=col>dis_quo</th></tr>\n",
       "\t<tr><th scope=col>&lt;chr&gt;</th><th scope=col>&lt;chr&gt;</th><th scope=col>&lt;dbl&gt;</th><th scope=col>&lt;dbl&gt;</th><th scope=col>&lt;dbl&gt;</th></tr>\n",
       "</thead>\n",
       "<tbody>\n",
       "\t<tr><td>The case for same-sex marriage     </td><td>Diane J. Savino      </td><td> 292395</td><td> 649</td><td>0.002219600</td></tr>\n",
       "\t<tr><td>E-voting without fraud             </td><td>David Bismark        </td><td> 543551</td><td> 834</td><td>0.001534355</td></tr>\n",
       "\t<tr><td>Militant atheism                   </td><td>Richard Dawkins      </td><td>4374792</td><td>6404</td><td>0.001463841</td></tr>\n",
       "\t<tr><td>Inside a school for suicide bombers</td><td>Sharmeen Obaid-Chinoy</td><td>1057238</td><td>1502</td><td>0.001420683</td></tr>\n",
       "\t<tr><td>Taking imagination seriously       </td><td>Janet Echelman       </td><td>1832930</td><td>2492</td><td>0.001359572</td></tr>\n",
       "\t<tr><td>On reading the Koran               </td><td>Lesley Hazleton      </td><td>1847256</td><td>2374</td><td>0.001285149</td></tr>\n",
       "\t<tr><td>Curating humanity's heritage       </td><td>Elizabeth Lindsey    </td><td> 439180</td><td> 555</td><td>0.001263719</td></tr>\n",
       "\t<tr><td>How do you explain consciousness?  </td><td>David Chalmers       </td><td>2162764</td><td>2673</td><td>0.001235918</td></tr>\n",
       "\t<tr><td>The danger of science denial       </td><td>Michael Specter      </td><td>1838628</td><td>2272</td><td>0.001235704</td></tr>\n",
       "\t<tr><td>Dance to change the world          </td><td>Mallika Sarabhai     </td><td> 481834</td><td> 595</td><td>0.001234865</td></tr>\n",
       "</tbody>\n",
       "</table>\n"
      ],
      "text/latex": [
       "A tibble: 10 × 5\n",
       "\\begin{tabular}{lllll}\n",
       " title & main\\_speaker & views & comments & dis\\_quo\\\\\n",
       " <chr> & <chr> & <dbl> & <dbl> & <dbl>\\\\\n",
       "\\hline\n",
       "\t The case for same-sex marriage      & Diane J. Savino       &  292395 &  649 & 0.002219600\\\\\n",
       "\t E-voting without fraud              & David Bismark         &  543551 &  834 & 0.001534355\\\\\n",
       "\t Militant atheism                    & Richard Dawkins       & 4374792 & 6404 & 0.001463841\\\\\n",
       "\t Inside a school for suicide bombers & Sharmeen Obaid-Chinoy & 1057238 & 1502 & 0.001420683\\\\\n",
       "\t Taking imagination seriously        & Janet Echelman        & 1832930 & 2492 & 0.001359572\\\\\n",
       "\t On reading the Koran                & Lesley Hazleton       & 1847256 & 2374 & 0.001285149\\\\\n",
       "\t Curating humanity's heritage        & Elizabeth Lindsey     &  439180 &  555 & 0.001263719\\\\\n",
       "\t How do you explain consciousness?   & David Chalmers        & 2162764 & 2673 & 0.001235918\\\\\n",
       "\t The danger of science denial        & Michael Specter       & 1838628 & 2272 & 0.001235704\\\\\n",
       "\t Dance to change the world           & Mallika Sarabhai      &  481834 &  595 & 0.001234865\\\\\n",
       "\\end{tabular}\n"
      ],
      "text/markdown": [
       "\n",
       "A tibble: 10 × 5\n",
       "\n",
       "| title &lt;chr&gt; | main_speaker &lt;chr&gt; | views &lt;dbl&gt; | comments &lt;dbl&gt; | dis_quo &lt;dbl&gt; |\n",
       "|---|---|---|---|---|\n",
       "| The case for same-sex marriage      | Diane J. Savino       |  292395 |  649 | 0.002219600 |\n",
       "| E-voting without fraud              | David Bismark         |  543551 |  834 | 0.001534355 |\n",
       "| Militant atheism                    | Richard Dawkins       | 4374792 | 6404 | 0.001463841 |\n",
       "| Inside a school for suicide bombers | Sharmeen Obaid-Chinoy | 1057238 | 1502 | 0.001420683 |\n",
       "| Taking imagination seriously        | Janet Echelman        | 1832930 | 2492 | 0.001359572 |\n",
       "| On reading the Koran                | Lesley Hazleton       | 1847256 | 2374 | 0.001285149 |\n",
       "| Curating humanity's heritage        | Elizabeth Lindsey     |  439180 |  555 | 0.001263719 |\n",
       "| How do you explain consciousness?   | David Chalmers        | 2162764 | 2673 | 0.001235918 |\n",
       "| The danger of science denial        | Michael Specter       | 1838628 | 2272 | 0.001235704 |\n",
       "| Dance to change the world           | Mallika Sarabhai      |  481834 |  595 | 0.001234865 |\n",
       "\n"
      ],
      "text/plain": [
       "   title                               main_speaker          views   comments\n",
       "1  The case for same-sex marriage      Diane J. Savino        292395  649    \n",
       "2  E-voting without fraud              David Bismark          543551  834    \n",
       "3  Militant atheism                    Richard Dawkins       4374792 6404    \n",
       "4  Inside a school for suicide bombers Sharmeen Obaid-Chinoy 1057238 1502    \n",
       "5  Taking imagination seriously        Janet Echelman        1832930 2492    \n",
       "6  On reading the Koran                Lesley Hazleton       1847256 2374    \n",
       "7  Curating humanity's heritage        Elizabeth Lindsey      439180  555    \n",
       "8  How do you explain consciousness?   David Chalmers        2162764 2673    \n",
       "9  The danger of science denial        Michael Specter       1838628 2272    \n",
       "10 Dance to change the world           Mallika Sarabhai       481834  595    \n",
       "   dis_quo    \n",
       "1  0.002219600\n",
       "2  0.001534355\n",
       "3  0.001463841\n",
       "4  0.001420683\n",
       "5  0.001359572\n",
       "6  0.001285149\n",
       "7  0.001263719\n",
       "8  0.001235918\n",
       "9  0.001235704\n",
       "10 0.001234865"
      ]
     },
     "metadata": {},
     "output_type": "display_data"
    }
   ],
   "source": [
    "ten_talks <- arrange(ted, desc(dis_quo))\n",
    "ten_talks <- subset(ten_talks, select = keeps)\n",
    "top_10_talks <- ten_talks[0:10, ]\n",
    "top_10_talks"
   ]
  },
  {
   "cell_type": "markdown",
   "metadata": {},
   "source": [
    "分析TED演讲的月份和年份"
   ]
  },
  {
   "cell_type": "code",
   "execution_count": 45,
   "metadata": {},
   "outputs": [],
   "source": [
    "ted$filming_month <- as.numeric(format(ted$film_date, format = \"%m\"))\n",
    "ted$filming_year <- as.numeric(format(ted$film_date, format = \"%Y\"))"
   ]
  },
  {
   "cell_type": "code",
   "execution_count": 46,
   "metadata": {},
   "outputs": [],
   "source": [
    "month_df <- as.data.frame(table(ted$filming_month))"
   ]
  },
  {
   "cell_type": "code",
   "execution_count": 47,
   "metadata": {},
   "outputs": [
    {
     "data": {
      "text/html": [
       "<table>\n",
       "<caption>A data.frame: 12 × 2</caption>\n",
       "<thead>\n",
       "\t<tr><th scope=col>Var1</th><th scope=col>Freq</th></tr>\n",
       "\t<tr><th scope=col>&lt;fct&gt;</th><th scope=col>&lt;int&gt;</th></tr>\n",
       "</thead>\n",
       "<tbody>\n",
       "\t<tr><td>1 </td><td> 33</td></tr>\n",
       "\t<tr><td>2 </td><td>601</td></tr>\n",
       "\t<tr><td>3 </td><td>397</td></tr>\n",
       "\t<tr><td>4 </td><td>173</td></tr>\n",
       "\t<tr><td>5 </td><td>123</td></tr>\n",
       "\t<tr><td>6 </td><td>270</td></tr>\n",
       "\t<tr><td>7 </td><td>253</td></tr>\n",
       "\t<tr><td>8 </td><td> 30</td></tr>\n",
       "\t<tr><td>9 </td><td>107</td></tr>\n",
       "\t<tr><td>10</td><td>208</td></tr>\n",
       "\t<tr><td>11</td><td>232</td></tr>\n",
       "\t<tr><td>12</td><td>123</td></tr>\n",
       "</tbody>\n",
       "</table>\n"
      ],
      "text/latex": [
       "A data.frame: 12 × 2\n",
       "\\begin{tabular}{ll}\n",
       " Var1 & Freq\\\\\n",
       " <fct> & <int>\\\\\n",
       "\\hline\n",
       "\t 1  &  33\\\\\n",
       "\t 2  & 601\\\\\n",
       "\t 3  & 397\\\\\n",
       "\t 4  & 173\\\\\n",
       "\t 5  & 123\\\\\n",
       "\t 6  & 270\\\\\n",
       "\t 7  & 253\\\\\n",
       "\t 8  &  30\\\\\n",
       "\t 9  & 107\\\\\n",
       "\t 10 & 208\\\\\n",
       "\t 11 & 232\\\\\n",
       "\t 12 & 123\\\\\n",
       "\\end{tabular}\n"
      ],
      "text/markdown": [
       "\n",
       "A data.frame: 12 × 2\n",
       "\n",
       "| Var1 &lt;fct&gt; | Freq &lt;int&gt; |\n",
       "|---|---|\n",
       "| 1  |  33 |\n",
       "| 2  | 601 |\n",
       "| 3  | 397 |\n",
       "| 4  | 173 |\n",
       "| 5  | 123 |\n",
       "| 6  | 270 |\n",
       "| 7  | 253 |\n",
       "| 8  |  30 |\n",
       "| 9  | 107 |\n",
       "| 10 | 208 |\n",
       "| 11 | 232 |\n",
       "| 12 | 123 |\n",
       "\n"
      ],
      "text/plain": [
       "   Var1 Freq\n",
       "1  1     33 \n",
       "2  2    601 \n",
       "3  3    397 \n",
       "4  4    173 \n",
       "5  5    123 \n",
       "6  6    270 \n",
       "7  7    253 \n",
       "8  8     30 \n",
       "9  9    107 \n",
       "10 10   208 \n",
       "11 11   232 \n",
       "12 12   123 "
      ]
     },
     "metadata": {},
     "output_type": "display_data"
    }
   ],
   "source": [
    "month_df"
   ]
  },
  {
   "cell_type": "code",
   "execution_count": 48,
   "metadata": {},
   "outputs": [],
   "source": [
    "colnames(month_df) <- c(\"Month\", \"Talks\")"
   ]
  },
  {
   "cell_type": "code",
   "execution_count": 49,
   "metadata": {},
   "outputs": [
    {
     "data": {
      "text/html": [
       "<table>\n",
       "<caption>A data.frame: 12 × 2</caption>\n",
       "<thead>\n",
       "\t<tr><th scope=col>Month</th><th scope=col>Talks</th></tr>\n",
       "\t<tr><th scope=col>&lt;fct&gt;</th><th scope=col>&lt;int&gt;</th></tr>\n",
       "</thead>\n",
       "<tbody>\n",
       "\t<tr><td>1 </td><td> 33</td></tr>\n",
       "\t<tr><td>2 </td><td>601</td></tr>\n",
       "\t<tr><td>3 </td><td>397</td></tr>\n",
       "\t<tr><td>4 </td><td>173</td></tr>\n",
       "\t<tr><td>5 </td><td>123</td></tr>\n",
       "\t<tr><td>6 </td><td>270</td></tr>\n",
       "\t<tr><td>7 </td><td>253</td></tr>\n",
       "\t<tr><td>8 </td><td> 30</td></tr>\n",
       "\t<tr><td>9 </td><td>107</td></tr>\n",
       "\t<tr><td>10</td><td>208</td></tr>\n",
       "\t<tr><td>11</td><td>232</td></tr>\n",
       "\t<tr><td>12</td><td>123</td></tr>\n",
       "</tbody>\n",
       "</table>\n"
      ],
      "text/latex": [
       "A data.frame: 12 × 2\n",
       "\\begin{tabular}{ll}\n",
       " Month & Talks\\\\\n",
       " <fct> & <int>\\\\\n",
       "\\hline\n",
       "\t 1  &  33\\\\\n",
       "\t 2  & 601\\\\\n",
       "\t 3  & 397\\\\\n",
       "\t 4  & 173\\\\\n",
       "\t 5  & 123\\\\\n",
       "\t 6  & 270\\\\\n",
       "\t 7  & 253\\\\\n",
       "\t 8  &  30\\\\\n",
       "\t 9  & 107\\\\\n",
       "\t 10 & 208\\\\\n",
       "\t 11 & 232\\\\\n",
       "\t 12 & 123\\\\\n",
       "\\end{tabular}\n"
      ],
      "text/markdown": [
       "\n",
       "A data.frame: 12 × 2\n",
       "\n",
       "| Month &lt;fct&gt; | Talks &lt;int&gt; |\n",
       "|---|---|\n",
       "| 1  |  33 |\n",
       "| 2  | 601 |\n",
       "| 3  | 397 |\n",
       "| 4  | 173 |\n",
       "| 5  | 123 |\n",
       "| 6  | 270 |\n",
       "| 7  | 253 |\n",
       "| 8  |  30 |\n",
       "| 9  | 107 |\n",
       "| 10 | 208 |\n",
       "| 11 | 232 |\n",
       "| 12 | 123 |\n",
       "\n"
      ],
      "text/plain": [
       "   Month Talks\n",
       "1  1      33  \n",
       "2  2     601  \n",
       "3  3     397  \n",
       "4  4     173  \n",
       "5  5     123  \n",
       "6  6     270  \n",
       "7  7     253  \n",
       "8  8      30  \n",
       "9  9     107  \n",
       "10 10    208  \n",
       "11 11    232  \n",
       "12 12    123  "
      ]
     },
     "metadata": {},
     "output_type": "display_data"
    }
   ],
   "source": [
    "month_df"
   ]
  },
  {
   "cell_type": "code",
   "execution_count": 50,
   "metadata": {},
   "outputs": [],
   "source": [
    "month_df$Month <- c(\"Jan\", \"Feb\", \"Mar\", \"Apr\", \"May\", \"Jun\", \"Jul\", \"Aug\",\n",
    "                   \"Sep\", \"Oct\", \"Nov\", \"Dec\")\n",
    "\n",
    "month_df$Month <- factor(month_df$Month, levels = unique(month_df$Month))"
   ]
  },
  {
   "cell_type": "code",
   "execution_count": 52,
   "metadata": {},
   "outputs": [
    {
     "data": {
      "image/png": "[encoded data removed]",
      "text/plain": [
       "plot without title"
      ]
     },
     "metadata": {
      "image/png": {
       "height": 240,
       "width": 300
      }
     },
     "output_type": "display_data"
    }
   ],
   "source": [
    "options(repr.plot.width = 5, repr.plot.height = 4)\n",
    "\n",
    "p8 <- ggplot(data = month_df, mapping = aes(Month, Talks, fill = Talks)) + \n",
    "    geom_bar(position = \"dodge\", stat = \"identity\") +\n",
    "    geom_text(mapping = aes(label = Talks), vjust = 1.6, color = \"white\", size = 3) +\n",
    "    ggtitle(\"Ted Talks on different months\")\n",
    "\n",
    "p8"
   ]
  },
  {
   "cell_type": "code",
   "execution_count": 74,
   "metadata": {},
   "outputs": [],
   "source": [
    "ted$film_weekday <- weekdays(as.Date(ted$film_date))"
   ]
  },
  {
   "cell_type": "code",
   "execution_count": 75,
   "metadata": {},
   "outputs": [],
   "source": [
    "weekday_df <- as.data.frame(table(ted$film_weekday))"
   ]
  },
  {
   "cell_type": "code",
   "execution_count": 76,
   "metadata": {},
   "outputs": [
    {
     "data": {
      "text/html": [
       "<table>\n",
       "<caption>A data.frame: 7 × 2</caption>\n",
       "<thead>\n",
       "\t<tr><th scope=col>Var1</th><th scope=col>Freq</th></tr>\n",
       "\t<tr><th scope=col>&lt;fct&gt;</th><th scope=col>&lt;int&gt;</th></tr>\n",
       "</thead>\n",
       "<tbody>\n",
       "\t<tr><td>星期二</td><td>327</td></tr>\n",
       "\t<tr><td>星期六</td><td>338</td></tr>\n",
       "\t<tr><td>星期日</td><td>110</td></tr>\n",
       "\t<tr><td>星期三</td><td>533</td></tr>\n",
       "\t<tr><td>星期四</td><td>552</td></tr>\n",
       "\t<tr><td>星期五</td><td>384</td></tr>\n",
       "\t<tr><td>星期一</td><td>306</td></tr>\n",
       "</tbody>\n",
       "</table>\n"
      ],
      "text/latex": [
       "A data.frame: 7 × 2\n",
       "\\begin{tabular}{ll}\n",
       " Var1 & Freq\\\\\n",
       " <fct> & <int>\\\\\n",
       "\\hline\n",
       "\t 星期二 & 327\\\\\n",
       "\t 星期六 & 338\\\\\n",
       "\t 星期日 & 110\\\\\n",
       "\t 星期三 & 533\\\\\n",
       "\t 星期四 & 552\\\\\n",
       "\t 星期五 & 384\\\\\n",
       "\t 星期一 & 306\\\\\n",
       "\\end{tabular}\n"
      ],
      "text/markdown": [
       "\n",
       "A data.frame: 7 × 2\n",
       "\n",
       "| Var1 &lt;fct&gt; | Freq &lt;int&gt; |\n",
       "|---|---|\n",
       "| 星期二 | 327 |\n",
       "| 星期六 | 338 |\n",
       "| 星期日 | 110 |\n",
       "| 星期三 | 533 |\n",
       "| 星期四 | 552 |\n",
       "| 星期五 | 384 |\n",
       "| 星期一 | 306 |\n",
       "\n"
      ],
      "text/plain": [
       "  Var1   Freq\n",
       "1 星期二 327 \n",
       "2 星期六 338 \n",
       "3 星期日 110 \n",
       "4 星期三 533 \n",
       "5 星期四 552 \n",
       "6 星期五 384 \n",
       "7 星期一 306 "
      ]
     },
     "metadata": {},
     "output_type": "display_data"
    }
   ],
   "source": [
    "weekday_df"
   ]
  },
  {
   "cell_type": "code",
   "execution_count": 77,
   "metadata": {},
   "outputs": [],
   "source": [
    "weekday_df <- weekday_df[c(3,7,1,4,5,6,2),]"
   ]
  },
  {
   "cell_type": "code",
   "execution_count": 78,
   "metadata": {},
   "outputs": [
    {
     "data": {
      "text/html": [
       "<table>\n",
       "<caption>A data.frame: 7 × 2</caption>\n",
       "<thead>\n",
       "\t<tr><th></th><th scope=col>Var1</th><th scope=col>Freq</th></tr>\n",
       "\t<tr><th></th><th scope=col>&lt;fct&gt;</th><th scope=col>&lt;int&gt;</th></tr>\n",
       "</thead>\n",
       "<tbody>\n",
       "\t<tr><th scope=row>3</th><td>星期日</td><td>110</td></tr>\n",
       "\t<tr><th scope=row>7</th><td>星期一</td><td>306</td></tr>\n",
       "\t<tr><th scope=row>1</th><td>星期二</td><td>327</td></tr>\n",
       "\t<tr><th scope=row>4</th><td>星期三</td><td>533</td></tr>\n",
       "\t<tr><th scope=row>5</th><td>星期四</td><td>552</td></tr>\n",
       "\t<tr><th scope=row>6</th><td>星期五</td><td>384</td></tr>\n",
       "\t<tr><th scope=row>2</th><td>星期六</td><td>338</td></tr>\n",
       "</tbody>\n",
       "</table>\n"
      ],
      "text/latex": [
       "A data.frame: 7 × 2\n",
       "\\begin{tabular}{r|ll}\n",
       "  & Var1 & Freq\\\\\n",
       "  & <fct> & <int>\\\\\n",
       "\\hline\n",
       "\t3 & 星期日 & 110\\\\\n",
       "\t7 & 星期一 & 306\\\\\n",
       "\t1 & 星期二 & 327\\\\\n",
       "\t4 & 星期三 & 533\\\\\n",
       "\t5 & 星期四 & 552\\\\\n",
       "\t6 & 星期五 & 384\\\\\n",
       "\t2 & 星期六 & 338\\\\\n",
       "\\end{tabular}\n"
      ],
      "text/markdown": [
       "\n",
       "A data.frame: 7 × 2\n",
       "\n",
       "| <!--/--> | Var1 &lt;fct&gt; | Freq &lt;int&gt; |\n",
       "|---|---|---|\n",
       "| 3 | 星期日 | 110 |\n",
       "| 7 | 星期一 | 306 |\n",
       "| 1 | 星期二 | 327 |\n",
       "| 4 | 星期三 | 533 |\n",
       "| 5 | 星期四 | 552 |\n",
       "| 6 | 星期五 | 384 |\n",
       "| 2 | 星期六 | 338 |\n",
       "\n"
      ],
      "text/plain": [
       "  Var1   Freq\n",
       "3 星期日 110 \n",
       "7 星期一 306 \n",
       "1 星期二 327 \n",
       "4 星期三 533 \n",
       "5 星期四 552 \n",
       "6 星期五 384 \n",
       "2 星期六 338 "
      ]
     },
     "metadata": {},
     "output_type": "display_data"
    }
   ],
   "source": [
    "weekday_df"
   ]
  },
  {
   "cell_type": "code",
   "execution_count": 81,
   "metadata": {},
   "outputs": [],
   "source": [
    "colnames(weekday_df) <- c(\"Weekday\", \"Talks\")"
   ]
  },
  {
   "cell_type": "code",
   "execution_count": 82,
   "metadata": {},
   "outputs": [],
   "source": [
    "weekday_df$Weekday <- as.character(weekday_df$Weekday)"
   ]
  },
  {
   "cell_type": "code",
   "execution_count": 83,
   "metadata": {},
   "outputs": [],
   "source": [
    "weekday_df$Weekday <- factor(weekday_df$Weekday, levels = unique(weekday_df$Weekday))"
   ]
  },
  {
   "cell_type": "code",
   "execution_count": 84,
   "metadata": {},
   "outputs": [
    {
     "data": {
      "text/html": [
       "<table>\n",
       "<caption>A data.frame: 7 × 2</caption>\n",
       "<thead>\n",
       "\t<tr><th></th><th scope=col>Weekday</th><th scope=col>Talks</th></tr>\n",
       "\t<tr><th></th><th scope=col>&lt;fct&gt;</th><th scope=col>&lt;int&gt;</th></tr>\n",
       "</thead>\n",
       "<tbody>\n",
       "\t<tr><th scope=row>3</th><td>星期日</td><td>110</td></tr>\n",
       "\t<tr><th scope=row>7</th><td>星期一</td><td>306</td></tr>\n",
       "\t<tr><th scope=row>1</th><td>星期二</td><td>327</td></tr>\n",
       "\t<tr><th scope=row>4</th><td>星期三</td><td>533</td></tr>\n",
       "\t<tr><th scope=row>5</th><td>星期四</td><td>552</td></tr>\n",
       "\t<tr><th scope=row>6</th><td>星期五</td><td>384</td></tr>\n",
       "\t<tr><th scope=row>2</th><td>星期六</td><td>338</td></tr>\n",
       "</tbody>\n",
       "</table>\n"
      ],
      "text/latex": [
       "A data.frame: 7 × 2\n",
       "\\begin{tabular}{r|ll}\n",
       "  & Weekday & Talks\\\\\n",
       "  & <fct> & <int>\\\\\n",
       "\\hline\n",
       "\t3 & 星期日 & 110\\\\\n",
       "\t7 & 星期一 & 306\\\\\n",
       "\t1 & 星期二 & 327\\\\\n",
       "\t4 & 星期三 & 533\\\\\n",
       "\t5 & 星期四 & 552\\\\\n",
       "\t6 & 星期五 & 384\\\\\n",
       "\t2 & 星期六 & 338\\\\\n",
       "\\end{tabular}\n"
      ],
      "text/markdown": [
       "\n",
       "A data.frame: 7 × 2\n",
       "\n",
       "| <!--/--> | Weekday &lt;fct&gt; | Talks &lt;int&gt; |\n",
       "|---|---|---|\n",
       "| 3 | 星期日 | 110 |\n",
       "| 7 | 星期一 | 306 |\n",
       "| 1 | 星期二 | 327 |\n",
       "| 4 | 星期三 | 533 |\n",
       "| 5 | 星期四 | 552 |\n",
       "| 6 | 星期五 | 384 |\n",
       "| 2 | 星期六 | 338 |\n",
       "\n"
      ],
      "text/plain": [
       "  Weekday Talks\n",
       "3 星期日  110  \n",
       "7 星期一  306  \n",
       "1 星期二  327  \n",
       "4 星期三  533  \n",
       "5 星期四  552  \n",
       "6 星期五  384  \n",
       "2 星期六  338  "
      ]
     },
     "metadata": {},
     "output_type": "display_data"
    }
   ],
   "source": [
    "weekday_df"
   ]
  },
  {
   "cell_type": "code",
   "execution_count": 85,
   "metadata": {},
   "outputs": [
    {
     "data": {
      "image/png": "[encoded data removed]",
      "text/plain": [
       "plot without title"
      ]
     },
     "metadata": {
      "image/png": {
       "height": 240,
       "width": 300
      }
     },
     "output_type": "display_data"
    }
   ],
   "source": [
    "p10 <- ggplot(data = weekday_df,\n",
    "             mapping = aes(x = factor(Weekday), y = Talks, \n",
    "                          fill = Talks)) + \n",
    "    geom_bar(position = \"dodge\", stat = \"identity\") + \n",
    "    geom_text(mapping = aes(label = Talks), vjust = 1.6, color = \"white\",\n",
    "             size = 3) +\n",
    "    tilt_theme + \n",
    "    ggtitle(\"Ted Talks on different days\")\n",
    "p10"
   ]
  },
  {
   "cell_type": "code",
   "execution_count": 86,
   "metadata": {},
   "outputs": [],
   "source": [
    "year_df <- as.data.frame(table(ted$filming_year))"
   ]
  },
  {
   "cell_type": "code",
   "execution_count": 87,
   "metadata": {},
   "outputs": [
    {
     "data": {
      "text/html": [
       "<table>\n",
       "<caption>A data.frame: 24 × 2</caption>\n",
       "<thead>\n",
       "\t<tr><th scope=col>Var1</th><th scope=col>Freq</th></tr>\n",
       "\t<tr><th scope=col>&lt;fct&gt;</th><th scope=col>&lt;int&gt;</th></tr>\n",
       "</thead>\n",
       "<tbody>\n",
       "\t<tr><td>1972</td><td>  1</td></tr>\n",
       "\t<tr><td>1983</td><td>  1</td></tr>\n",
       "\t<tr><td>1984</td><td>  1</td></tr>\n",
       "\t<tr><td>1990</td><td>  1</td></tr>\n",
       "\t<tr><td>1991</td><td>  1</td></tr>\n",
       "\t<tr><td>1994</td><td>  1</td></tr>\n",
       "\t<tr><td>1998</td><td>  6</td></tr>\n",
       "\t<tr><td>2001</td><td>  5</td></tr>\n",
       "\t<tr><td>2002</td><td> 27</td></tr>\n",
       "\t<tr><td>2003</td><td> 33</td></tr>\n",
       "\t<tr><td>2004</td><td> 33</td></tr>\n",
       "\t<tr><td>2005</td><td> 66</td></tr>\n",
       "\t<tr><td>2006</td><td> 50</td></tr>\n",
       "\t<tr><td>2007</td><td>114</td></tr>\n",
       "\t<tr><td>2008</td><td> 84</td></tr>\n",
       "\t<tr><td>2009</td><td>232</td></tr>\n",
       "\t<tr><td>2010</td><td>267</td></tr>\n",
       "\t<tr><td>2011</td><td>270</td></tr>\n",
       "\t<tr><td>2012</td><td>267</td></tr>\n",
       "\t<tr><td>2013</td><td>270</td></tr>\n",
       "\t<tr><td>2014</td><td>237</td></tr>\n",
       "\t<tr><td>2015</td><td>239</td></tr>\n",
       "\t<tr><td>2016</td><td>246</td></tr>\n",
       "\t<tr><td>2017</td><td> 98</td></tr>\n",
       "</tbody>\n",
       "</table>\n"
      ],
      "text/latex": [
       "A data.frame: 24 × 2\n",
       "\\begin{tabular}{ll}\n",
       " Var1 & Freq\\\\\n",
       " <fct> & <int>\\\\\n",
       "\\hline\n",
       "\t 1972 &   1\\\\\n",
       "\t 1983 &   1\\\\\n",
       "\t 1984 &   1\\\\\n",
       "\t 1990 &   1\\\\\n",
       "\t 1991 &   1\\\\\n",
       "\t 1994 &   1\\\\\n",
       "\t 1998 &   6\\\\\n",
       "\t 2001 &   5\\\\\n",
       "\t 2002 &  27\\\\\n",
       "\t 2003 &  33\\\\\n",
       "\t 2004 &  33\\\\\n",
       "\t 2005 &  66\\\\\n",
       "\t 2006 &  50\\\\\n",
       "\t 2007 & 114\\\\\n",
       "\t 2008 &  84\\\\\n",
       "\t 2009 & 232\\\\\n",
       "\t 2010 & 267\\\\\n",
       "\t 2011 & 270\\\\\n",
       "\t 2012 & 267\\\\\n",
       "\t 2013 & 270\\\\\n",
       "\t 2014 & 237\\\\\n",
       "\t 2015 & 239\\\\\n",
       "\t 2016 & 246\\\\\n",
       "\t 2017 &  98\\\\\n",
       "\\end{tabular}\n"
      ],
      "text/markdown": [
       "\n",
       "A data.frame: 24 × 2\n",
       "\n",
       "| Var1 &lt;fct&gt; | Freq &lt;int&gt; |\n",
       "|---|---|\n",
       "| 1972 |   1 |\n",
       "| 1983 |   1 |\n",
       "| 1984 |   1 |\n",
       "| 1990 |   1 |\n",
       "| 1991 |   1 |\n",
       "| 1994 |   1 |\n",
       "| 1998 |   6 |\n",
       "| 2001 |   5 |\n",
       "| 2002 |  27 |\n",
       "| 2003 |  33 |\n",
       "| 2004 |  33 |\n",
       "| 2005 |  66 |\n",
       "| 2006 |  50 |\n",
       "| 2007 | 114 |\n",
       "| 2008 |  84 |\n",
       "| 2009 | 232 |\n",
       "| 2010 | 267 |\n",
       "| 2011 | 270 |\n",
       "| 2012 | 267 |\n",
       "| 2013 | 270 |\n",
       "| 2014 | 237 |\n",
       "| 2015 | 239 |\n",
       "| 2016 | 246 |\n",
       "| 2017 |  98 |\n",
       "\n"
      ],
      "text/plain": [
       "   Var1 Freq\n",
       "1  1972   1 \n",
       "2  1983   1 \n",
       "3  1984   1 \n",
       "4  1990   1 \n",
       "5  1991   1 \n",
       "6  1994   1 \n",
       "7  1998   6 \n",
       "8  2001   5 \n",
       "9  2002  27 \n",
       "10 2003  33 \n",
       "11 2004  33 \n",
       "12 2005  66 \n",
       "13 2006  50 \n",
       "14 2007 114 \n",
       "15 2008  84 \n",
       "16 2009 232 \n",
       "17 2010 267 \n",
       "18 2011 270 \n",
       "19 2012 267 \n",
       "20 2013 270 \n",
       "21 2014 237 \n",
       "22 2015 239 \n",
       "23 2016 246 \n",
       "24 2017  98 "
      ]
     },
     "metadata": {},
     "output_type": "display_data"
    }
   ],
   "source": [
    "year_df"
   ]
  },
  {
   "cell_type": "code",
   "execution_count": 88,
   "metadata": {},
   "outputs": [],
   "source": [
    "colnames(year_df) <- c(\"Year\", \"Talks\")"
   ]
  },
  {
   "cell_type": "code",
   "execution_count": 91,
   "metadata": {},
   "outputs": [
    {
     "data": {
      "image/png": "[encoded data removed]",
      "text/plain": [
       "plot without title"
      ]
     },
     "metadata": {
      "image/png": {
       "height": 240,
       "width": 480
      }
     },
     "output_type": "display_data"
    }
   ],
   "source": [
    "options(repr.plot.width = 8, repr.plot.height = 4)\n",
    "p11 <- ggplot(data = year_df, mapping = aes(x = Year, y = Talks, group = 1)) + \n",
    "    geom_line(color = \"blue\") +\n",
    "    geom_point() +\n",
    "    geom_text(mapping = aes(label = Talks), vjust = 1.6, color = \"black\", size = 3) +\n",
    "    tilt_theme +\n",
    "    ggtitle(\"Ted Talks on different years\")\n",
    "p11"
   ]
  },
  {
   "cell_type": "code",
   "execution_count": 93,
   "metadata": {},
   "outputs": [],
   "source": [
    "keeps <- c(\"filming_month\", \"filming_year\")\n",
    "heatmap_df <- ted %>% subset(select = keeps) %>% arrange(filming_year)\n"
   ]
  },
  {
   "cell_type": "code",
   "execution_count": 95,
   "metadata": {},
   "outputs": [],
   "source": [
    "heatmap_df <- as.data.frame(table(heatmap_df))"
   ]
  },
  {
   "cell_type": "code",
   "execution_count": 97,
   "metadata": {},
   "outputs": [],
   "source": [
    "heatmap_df$filming_month <- month.abb[heatmap_df$filming_month]"
   ]
  },
  {
   "cell_type": "code",
   "execution_count": 100,
   "metadata": {},
   "outputs": [],
   "source": [
    "heatmap_df$filming_month <- as.character(heatmap_df$filming_month)"
   ]
  },
  {
   "cell_type": "code",
   "execution_count": 104,
   "metadata": {},
   "outputs": [],
   "source": [
    "heatmap_df$filming_month <- factor(heatmap_df$filming_month, levels = unique(month_df$Month))"
   ]
  },
  {
   "cell_type": "code",
   "execution_count": 109,
   "metadata": {},
   "outputs": [
    {
     "name": "stderr",
     "output_type": "stream",
     "text": [
      "Warning message:\n",
      "\"Ignoring unknown aesthetics: fill\"\n"
     ]
    },
    {
     "data": {
      "image/png": "[encoded data removed]",
      "text/plain": [
       "plot without title"
      ]
     },
     "metadata": {
      "image/png": {
       "height": 240,
       "width": 480
      }
     },
     "output_type": "display_data"
    }
   ],
   "source": [
    "ggplot(data = heatmap_df, mapping = aes(filming_year, factor(filming_month))) + \n",
    "    geom_tile(aes(fill = Freq), color = 'white') + \n",
    "    geom_text(aes(fill = Freq, label = Freq)) +\n",
    "    scale_fill_gradient2(low = \"darkred\", \n",
    "                       mid = \"white\", \n",
    "                       high = \"midnightblue\", \n",
    "                       midpoint = round(mean(heatmap_df$Freq))) +\n",
    "    ylab(\"Months\") +\n",
    "    xlab(\"Year\") +\n",
    "    ggtitle(\"Heatmap showing occurence of TED Talks\") +\n",
    "    theme(legend.title = element_text(size = 10),\n",
    "        legend.text = element_text(size = 12),\n",
    "        plot.title = element_text(size=16),\n",
    "        axis.title=element_text(size=14,face=\"bold\"),\n",
    "        axis.text.x = element_text(angle = 90, hjust = 1)) +\n",
    "    labs(fill = \"Freq\")"
   ]
  },
  {
   "cell_type": "code",
   "execution_count": 110,
   "metadata": {},
   "outputs": [],
   "source": [
    "speaker_df <- as.data.frame(table(ted$main_speaker))"
   ]
  },
  {
   "cell_type": "code",
   "execution_count": 112,
   "metadata": {},
   "outputs": [],
   "source": [
    "speaker_df <- arrange(speaker_df, desc(Freq))"
   ]
  },
  {
   "cell_type": "code",
   "execution_count": 113,
   "metadata": {},
   "outputs": [
    {
     "data": {
      "text/html": [
       "<table>\n",
       "<caption>A data.frame: 6 × 2</caption>\n",
       "<thead>\n",
       "\t<tr><th></th><th scope=col>Var1</th><th scope=col>Freq</th></tr>\n",
       "\t<tr><th></th><th scope=col>&lt;fct&gt;</th><th scope=col>&lt;int&gt;</th></tr>\n",
       "</thead>\n",
       "<tbody>\n",
       "\t<tr><th scope=row>1</th><td>Hans Rosling </td><td>9</td></tr>\n",
       "\t<tr><th scope=row>2</th><td>Juan Enriquez</td><td>7</td></tr>\n",
       "\t<tr><th scope=row>3</th><td>Marco Tempest</td><td>6</td></tr>\n",
       "\t<tr><th scope=row>4</th><td>Rives        </td><td>6</td></tr>\n",
       "\t<tr><th scope=row>5</th><td>Bill Gates   </td><td>5</td></tr>\n",
       "\t<tr><th scope=row>6</th><td>Clay Shirky  </td><td>5</td></tr>\n",
       "</tbody>\n",
       "</table>\n"
      ],
      "text/latex": [
       "A data.frame: 6 × 2\n",
       "\\begin{tabular}{r|ll}\n",
       "  & Var1 & Freq\\\\\n",
       "  & <fct> & <int>\\\\\n",
       "\\hline\n",
       "\t1 & Hans Rosling  & 9\\\\\n",
       "\t2 & Juan Enriquez & 7\\\\\n",
       "\t3 & Marco Tempest & 6\\\\\n",
       "\t4 & Rives         & 6\\\\\n",
       "\t5 & Bill Gates    & 5\\\\\n",
       "\t6 & Clay Shirky   & 5\\\\\n",
       "\\end{tabular}\n"
      ],
      "text/markdown": [
       "\n",
       "A data.frame: 6 × 2\n",
       "\n",
       "| <!--/--> | Var1 &lt;fct&gt; | Freq &lt;int&gt; |\n",
       "|---|---|---|\n",
       "| 1 | Hans Rosling  | 9 |\n",
       "| 2 | Juan Enriquez | 7 |\n",
       "| 3 | Marco Tempest | 6 |\n",
       "| 4 | Rives         | 6 |\n",
       "| 5 | Bill Gates    | 5 |\n",
       "| 6 | Clay Shirky   | 5 |\n",
       "\n"
      ],
      "text/plain": [
       "  Var1          Freq\n",
       "1 Hans Rosling  9   \n",
       "2 Juan Enriquez 7   \n",
       "3 Marco Tempest 6   \n",
       "4 Rives         6   \n",
       "5 Bill Gates    5   \n",
       "6 Clay Shirky   5   "
      ]
     },
     "metadata": {},
     "output_type": "display_data"
    }
   ],
   "source": [
    "head(speaker_df)"
   ]
  },
  {
   "cell_type": "code",
   "execution_count": 114,
   "metadata": {},
   "outputs": [],
   "source": [
    "occupation_df <- as.data.frame(table(ted$speaker_occupation))"
   ]
  },
  {
   "cell_type": "code",
   "execution_count": 115,
   "metadata": {},
   "outputs": [],
   "source": [
    "occupation_df <- arrange(occupation_df, desc(Freq))"
   ]
  },
  {
   "cell_type": "code",
   "execution_count": 117,
   "metadata": {},
   "outputs": [
    {
     "data": {
      "text/html": [
       "<table>\n",
       "<caption>A data.frame: 6 × 2</caption>\n",
       "<thead>\n",
       "\t<tr><th></th><th scope=col>Var1</th><th scope=col>Freq</th></tr>\n",
       "\t<tr><th></th><th scope=col>&lt;fct&gt;</th><th scope=col>&lt;int&gt;</th></tr>\n",
       "</thead>\n",
       "<tbody>\n",
       "\t<tr><th scope=row>1</th><td>Writer      </td><td>45</td></tr>\n",
       "\t<tr><th scope=row>2</th><td>Artist      </td><td>34</td></tr>\n",
       "\t<tr><th scope=row>3</th><td>Designer    </td><td>34</td></tr>\n",
       "\t<tr><th scope=row>4</th><td>Journalist  </td><td>33</td></tr>\n",
       "\t<tr><th scope=row>5</th><td>Entrepreneur</td><td>31</td></tr>\n",
       "\t<tr><th scope=row>6</th><td>Architect   </td><td>30</td></tr>\n",
       "</tbody>\n",
       "</table>\n"
      ],
      "text/latex": [
       "A data.frame: 6 × 2\n",
       "\\begin{tabular}{r|ll}\n",
       "  & Var1 & Freq\\\\\n",
       "  & <fct> & <int>\\\\\n",
       "\\hline\n",
       "\t1 & Writer       & 45\\\\\n",
       "\t2 & Artist       & 34\\\\\n",
       "\t3 & Designer     & 34\\\\\n",
       "\t4 & Journalist   & 33\\\\\n",
       "\t5 & Entrepreneur & 31\\\\\n",
       "\t6 & Architect    & 30\\\\\n",
       "\\end{tabular}\n"
      ],
      "text/markdown": [
       "\n",
       "A data.frame: 6 × 2\n",
       "\n",
       "| <!--/--> | Var1 &lt;fct&gt; | Freq &lt;int&gt; |\n",
       "|---|---|---|\n",
       "| 1 | Writer       | 45 |\n",
       "| 2 | Artist       | 34 |\n",
       "| 3 | Designer     | 34 |\n",
       "| 4 | Journalist   | 33 |\n",
       "| 5 | Entrepreneur | 31 |\n",
       "| 6 | Architect    | 30 |\n",
       "\n"
      ],
      "text/plain": [
       "  Var1         Freq\n",
       "1 Writer       45  \n",
       "2 Artist       34  \n",
       "3 Designer     34  \n",
       "4 Journalist   33  \n",
       "5 Entrepreneur 31  \n",
       "6 Architect    30  "
      ]
     },
     "metadata": {},
     "output_type": "display_data"
    }
   ],
   "source": [
    "head(occupation_df)"
   ]
  },
  {
   "cell_type": "code",
   "execution_count": 118,
   "metadata": {},
   "outputs": [],
   "source": [
    "occupation_df <- head(occupation_df, 10)"
   ]
  },
  {
   "cell_type": "code",
   "execution_count": 119,
   "metadata": {},
   "outputs": [],
   "source": [
    "colnames(occupation_df) <- c(\"Occupation\", \"Appearances\")"
   ]
  },
  {
   "cell_type": "code",
   "execution_count": 120,
   "metadata": {},
   "outputs": [
    {
     "data": {
      "image/png": "[encoded data removed]",
      "text/plain": [
       "plot without title"
      ]
     },
     "metadata": {
      "image/png": {
       "height": 240,
       "width": 300
      }
     },
     "output_type": "display_data"
    }
   ],
   "source": [
    "occupation_df$Occupation <- as.character(occupation_df$Occupation)\n",
    "occupation_df$Occupation <- factor(occupation_df$Occupation, levels=occupation_df$Occupation)\n",
    "options(repr.plot.width = 5, repr.plot.height = 4)\n",
    "p12 <- ggplot(data = occupation_df, aes(factor(Occupation), Appearances, fill  =Occupation)) +\n",
    "      geom_bar(position = \"dodge\", stat = \"identity\") +\n",
    "      geom_text(aes(label = Appearances), vjust = 1.6, color = \"white\", size = 3) +\n",
    "      ggtitle(\"Occupations of Ted Speakers vs their Appearances\") +\n",
    "      xlab(\"Occupation\") +\n",
    "      tilt_theme\n",
    "p12"
   ]
  },
  {
   "cell_type": "markdown",
   "metadata": {},
   "source": [
    "## 参考"
   ]
  },
  {
   "cell_type": "markdown",
   "metadata": {},
   "source": [
    "TED Talk Analysis in R: https://www.kaggle.com/kratisaxena/ted-talk-analysis-in-r"
   ]
  }
 ],
 "metadata": {
  "kernelspec": {
   "display_name": "R",
   "language": "R",
   "name": "ir"
  },
  "language_info": {
   "codemirror_mode": "r",
   "file_extension": ".r",
   "mimetype": "text/x-r-source",
   "name": "R",
   "pygments_lexer": "r",
   "version": "4.0.3"
  }
 },
 "nbformat": 4,
 "nbformat_minor": 4
}
