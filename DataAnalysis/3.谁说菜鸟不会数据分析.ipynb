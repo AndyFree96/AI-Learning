{
 "cells": [
  {
   "cell_type": "markdown",
   "metadata": {},
   "source": []
  },
  {
   "cell_type": "markdown",
   "metadata": {},
   "source": [
    "## 第2章 确定分析思路"
   ]
  },
  {
   "cell_type": "markdown",
   "metadata": {},
   "source": [
    "- PEST分析理论主要用于行业分析\n",
    "- 4P分析理论主要用于公司整体经营状况\n",
    "- 逻辑树分析理论可用于业务问题专题分析\n",
    "- 用户行为理论用于用户行为研究分析\n",
    "- 5W2H分析理论可用于用户行为分析、业务问题专题分析等"
   ]
  },
  {
   "cell_type": "markdown",
   "metadata": {},
   "source": [
    "补充：\n",
    "\n",
    "- [資料分析師需要掌握的35個商業模型（1）](https://allaboutdataanalysis.medium.com/%E8%B3%87%E6%96%99%E5%88%86%E6%9E%90%E5%B8%AB%E9%9C%80%E8%A6%81%E6%8E%8C%E6%8F%A1%E7%9A%8435%E5%80%8B%E5%95%86%E6%A5%AD%E6%A8%A1%E5%9E%8B-1-abc1c7c54e6e)\n",
    "- [資料分析師需要掌握的35個商業模型（2），可迅速套用！](https://allaboutdataanalysis.medium.com/%E8%B3%87%E6%96%99%E5%88%86%E6%9E%90%E5%B8%AB%E9%9C%80%E8%A6%81%E6%8E%8C%E6%8F%A1%E7%9A%8435%E5%80%8B%E5%95%86%E6%A5%AD%E6%A8%A1%E5%9E%8B-2-%E5%8F%AF%E8%BF%85%E9%80%9F%E5%A5%97%E7%94%A8-8db95cd66e00)"
   ]
  },
  {
   "cell_type": "code",
   "execution_count": null,
   "metadata": {},
   "outputs": [],
   "source": []
  }
 ],
 "metadata": {
  "kernelspec": {
   "display_name": "Python 3",
   "language": "python",
   "name": "python3"
  },
  "language_info": {
   "codemirror_mode": {
    "name": "ipython",
    "version": 3
   },
   "file_extension": ".py",
   "mimetype": "text/x-python",
   "name": "python",
   "nbconvert_exporter": "python",
   "pygments_lexer": "ipython3",
   "version": "3.8.2"
  }
 },
 "nbformat": 4,
 "nbformat_minor": 4
}
